{
 "cells": [
  {
   "cell_type": "code",
   "execution_count": 2,
   "metadata": {},
   "outputs": [],
   "source": [
    "import os\n",
    "import numpy as np\n",
    "import pandas as pd\n",
    "from tqdm import tqdm\n",
    "\n",
    "from sklearn.model_selection import train_test_split, cross_val_score, StratifiedKFold\n",
    "from sklearn.linear_model import LogisticRegression, Lasso, Ridge\n",
    "from sklearn.preprocessing import StandardScaler\n",
    "from sklearn.metrics import roc_auc_score"
   ]
  },
  {
   "cell_type": "code",
   "execution_count": 3,
   "metadata": {},
   "outputs": [],
   "source": [
    "def cross_valid_auc(X, y, C=1, cv=5):\n",
    "    ''' roc-auc на кросс-валидации'''\n",
    "    \n",
    "    clf = LogisticRegression(solver='liblinear', C=C, random_state=0, max_iter=500)\n",
    "    curr_cv = cross_val_score(clf, X, y, cv=cv, scoring='roc_auc')\n",
    "    print('{}-fold CV is : {} +/- {}'.format(cv, curr_cv.mean().round(4), curr_cv.std().round(4)))\n",
    "    # return(curr_cv.mean().round(4), curr_cv.std().round(4))"
   ]
  },
  {
   "cell_type": "code",
   "execution_count": 4,
   "metadata": {},
   "outputs": [],
   "source": [
    "skf = StratifiedKFold(n_splits=5, shuffle=True, random_state=17)\n",
    "clf = LogisticRegression(solver='liblinear', random_state=17)"
   ]
  },
  {
   "cell_type": "code",
   "execution_count": 5,
   "metadata": {},
   "outputs": [],
   "source": [
    "PATH = 'Churn_task/'\n",
    "train = pd.read_csv(PATH + 'TRAIN_PREPARED.csv')"
   ]
  },
  {
   "cell_type": "code",
   "execution_count": 6,
   "metadata": {},
   "outputs": [],
   "source": [
    "train_sorted = train.sort_values(by='email').reset_index().drop('index', axis=1)\n",
    "\n",
    "X = train_sorted[:153007].drop(['cut_date', 'first_date', 'last_date','email','label'], axis=1)\n",
    "y = train_sorted[:153007]['label']\n",
    "X_holdout = train_sorted[153007:].drop(['cut_date', 'first_date', 'last_date','email','label'], axis=1)\n",
    "y_holdout = train_sorted[153007:]['label']"
   ]
  },
  {
   "cell_type": "code",
   "execution_count": 7,
   "metadata": {},
   "outputs": [],
   "source": [
    "former_feats = []\n",
    "new_feats = train.drop(['cut_date', 'first_date', 'last_date','email','label'], axis=1).columns"
   ]
  },
  {
   "cell_type": "code",
   "execution_count": 17,
   "metadata": {},
   "outputs": [],
   "source": [
    "features_to_use = former_feats[:]"
   ]
  },
  {
   "cell_type": "code",
   "execution_count": 19,
   "metadata": {
    "scrolled": false
   },
   "outputs": [
    {
     "name": "stderr",
     "output_type": "stream",
     "text": [
      "\n",
      "  0%|                                          | 0/141 [00:00<?, ?it/s]"
     ]
    },
    {
     "name": "stdout",
     "output_type": "stream",
     "text": [
      "adding feature days_to_end\n",
      "performing CV with features: ['days_to_end']\n",
      "5-fold CV is : 0.5075 +/- 0.0049\n"
     ]
    },
    {
     "name": "stderr",
     "output_type": "stream",
     "text": [
      "\n",
      "  1%|▏                                 | 1/141 [00:00<01:13,  1.91it/s]"
     ]
    },
    {
     "name": "stdout",
     "output_type": "stream",
     "text": [
      "adding feature num_country_max_1days\n",
      "performing CV with features: ['days_to_end', 'num_country_max_1days']\n",
      "5-fold CV is : 0.5733 +/- 0.0025\n"
     ]
    },
    {
     "name": "stderr",
     "output_type": "stream",
     "text": [
      "\n",
      "  1%|▍                                 | 2/141 [00:01<01:16,  1.81it/s]"
     ]
    },
    {
     "name": "stdout",
     "output_type": "stream",
     "text": [
      "adding feature num_city_max_1days\n",
      "performing CV with features: ['days_to_end', 'num_country_max_1days', 'num_city_max_1days']\n",
      "5-fold CV is : 0.573 +/- 0.0021\n"
     ]
    },
    {
     "name": "stderr",
     "output_type": "stream",
     "text": [
      "\n",
      "  2%|▋                                 | 3/141 [00:02<01:31,  1.50it/s]"
     ]
    },
    {
     "name": "stdout",
     "output_type": "stream",
     "text": [
      "adding feature android_max_1days\n",
      "performing CV with features: ['days_to_end', 'num_country_max_1days', 'num_city_max_1days', 'android_max_1days']\n",
      "5-fold CV is : 0.573 +/- 0.0022\n"
     ]
    },
    {
     "name": "stderr",
     "output_type": "stream",
     "text": [
      "\n",
      "  3%|▉                                 | 4/141 [00:03<01:44,  1.31it/s]"
     ]
    },
    {
     "name": "stdout",
     "output_type": "stream",
     "text": [
      "adding feature smarttv_max_1days\n",
      "performing CV with features: ['days_to_end', 'num_country_max_1days', 'num_city_max_1days', 'android_max_1days', 'smarttv_max_1days']\n",
      "5-fold CV is : 0.573 +/- 0.0022\n"
     ]
    },
    {
     "name": "stderr",
     "output_type": "stream",
     "text": [
      "\n",
      "  4%|█▏                                | 5/141 [00:04<01:56,  1.17it/s]"
     ]
    },
    {
     "name": "stdout",
     "output_type": "stream",
     "text": [
      "adding feature iphone_max_1days\n",
      "performing CV with features: ['days_to_end', 'num_country_max_1days', 'num_city_max_1days', 'android_max_1days', 'smarttv_max_1days', 'iphone_max_1days']\n",
      "5-fold CV is : 0.574 +/- 0.0018\n"
     ]
    },
    {
     "name": "stderr",
     "output_type": "stream",
     "text": [
      "\n",
      "  4%|█▍                                | 6/141 [00:05<02:03,  1.09it/s]"
     ]
    },
    {
     "name": "stdout",
     "output_type": "stream",
     "text": [
      "adding feature ipad_max_1days\n",
      "performing CV with features: ['days_to_end', 'num_country_max_1days', 'num_city_max_1days', 'android_max_1days', 'smarttv_max_1days', 'iphone_max_1days', 'ipad_max_1days']\n",
      "5-fold CV is : 0.5742 +/- 0.0018\n"
     ]
    },
    {
     "name": "stderr",
     "output_type": "stream",
     "text": [
      "\n",
      "  5%|█▋                                | 7/141 [00:06<02:13,  1.01it/s]"
     ]
    },
    {
     "name": "stdout",
     "output_type": "stream",
     "text": [
      "adding feature apple_max_1days\n",
      "performing CV with features: ['days_to_end', 'num_country_max_1days', 'num_city_max_1days', 'android_max_1days', 'smarttv_max_1days', 'iphone_max_1days', 'ipad_max_1days', 'apple_max_1days']\n",
      "5-fold CV is : 0.5744 +/- 0.0018\n"
     ]
    },
    {
     "name": "stderr",
     "output_type": "stream",
     "text": [
      "\n",
      "  6%|█▉                                | 8/141 [00:07<02:19,  1.05s/it]"
     ]
    },
    {
     "name": "stdout",
     "output_type": "stream",
     "text": [
      "adding feature pc_max_1days\n",
      "performing CV with features: ['days_to_end', 'num_country_max_1days', 'num_city_max_1days', 'android_max_1days', 'smarttv_max_1days', 'iphone_max_1days', 'ipad_max_1days', 'apple_max_1days', 'pc_max_1days']\n",
      "5-fold CV is : 0.5743 +/- 0.0017\n"
     ]
    },
    {
     "name": "stderr",
     "output_type": "stream",
     "text": [
      "\n",
      "  6%|██▏                               | 9/141 [00:08<02:26,  1.11s/it]"
     ]
    },
    {
     "name": "stdout",
     "output_type": "stream",
     "text": [
      "adding feature time_spent_sum_3days\n",
      "performing CV with features: ['days_to_end', 'num_country_max_1days', 'num_city_max_1days', 'android_max_1days', 'smarttv_max_1days', 'iphone_max_1days', 'ipad_max_1days', 'apple_max_1days', 'pc_max_1days', 'time_spent_sum_3days']\n",
      "5-fold CV is : 0.5931 +/- 0.006\n"
     ]
    },
    {
     "name": "stderr",
     "output_type": "stream",
     "text": [
      "\n",
      "  7%|██▎                              | 10/141 [00:10<02:51,  1.31s/it]"
     ]
    },
    {
     "name": "stdout",
     "output_type": "stream",
     "text": [
      "adding feature time_spent_max_3days\n",
      "performing CV with features: ['days_to_end', 'num_country_max_1days', 'num_city_max_1days', 'android_max_1days', 'smarttv_max_1days', 'iphone_max_1days', 'ipad_max_1days', 'apple_max_1days', 'pc_max_1days', 'time_spent_sum_3days', 'time_spent_max_3days']\n",
      "5-fold CV is : 0.6016 +/- 0.0016\n"
     ]
    },
    {
     "name": "stderr",
     "output_type": "stream",
     "text": [
      "\n",
      "  8%|██▌                              | 11/141 [00:13<03:35,  1.66s/it]"
     ]
    },
    {
     "name": "stdout",
     "output_type": "stream",
     "text": [
      "adding feature num_title_ep_sum_3days\n",
      "performing CV with features: ['days_to_end', 'num_country_max_1days', 'num_city_max_1days', 'android_max_1days', 'smarttv_max_1days', 'iphone_max_1days', 'ipad_max_1days', 'apple_max_1days', 'pc_max_1days', 'time_spent_sum_3days', 'time_spent_max_3days', 'num_title_ep_sum_3days']\n",
      "5-fold CV is : 0.5998 +/- 0.0089\n"
     ]
    },
    {
     "name": "stderr",
     "output_type": "stream",
     "text": [
      "\n",
      "  9%|██▊                              | 12/141 [00:15<04:18,  2.01s/it]"
     ]
    },
    {
     "name": "stdout",
     "output_type": "stream",
     "text": [
      "adding feature num_title_ep_max_3days\n",
      "performing CV with features: ['days_to_end', 'num_country_max_1days', 'num_city_max_1days', 'android_max_1days', 'smarttv_max_1days', 'iphone_max_1days', 'ipad_max_1days', 'apple_max_1days', 'pc_max_1days', 'time_spent_sum_3days', 'time_spent_max_3days', 'num_title_ep_sum_3days', 'num_title_ep_max_3days']\n",
      "5-fold CV is : 0.6054 +/- 0.0032\n"
     ]
    },
    {
     "name": "stderr",
     "output_type": "stream",
     "text": [
      "\n",
      "  9%|███                              | 13/141 [00:19<05:18,  2.49s/it]"
     ]
    },
    {
     "name": "stdout",
     "output_type": "stream",
     "text": [
      "adding feature num_title_ru_sum_3days\n",
      "performing CV with features: ['days_to_end', 'num_country_max_1days', 'num_city_max_1days', 'android_max_1days', 'smarttv_max_1days', 'iphone_max_1days', 'ipad_max_1days', 'apple_max_1days', 'pc_max_1days', 'time_spent_sum_3days', 'time_spent_max_3days', 'num_title_ep_sum_3days', 'num_title_ep_max_3days', 'num_title_ru_sum_3days']\n",
      "5-fold CV is : 0.6084 +/- 0.0021\n"
     ]
    },
    {
     "name": "stderr",
     "output_type": "stream",
     "text": [
      "\n",
      " 10%|███▎                             | 14/141 [00:22<05:53,  2.78s/it]"
     ]
    },
    {
     "name": "stdout",
     "output_type": "stream",
     "text": [
      "adding feature num_title_ru_max_3days\n",
      "performing CV with features: ['days_to_end', 'num_country_max_1days', 'num_city_max_1days', 'android_max_1days', 'smarttv_max_1days', 'iphone_max_1days', 'ipad_max_1days', 'apple_max_1days', 'pc_max_1days', 'time_spent_sum_3days', 'time_spent_max_3days', 'num_title_ep_sum_3days', 'num_title_ep_max_3days', 'num_title_ru_sum_3days', 'num_title_ru_max_3days']\n",
      "5-fold CV is : 0.6086 +/- 0.0026\n"
     ]
    },
    {
     "name": "stderr",
     "output_type": "stream",
     "text": [
      "\n",
      " 11%|███▌                             | 15/141 [00:27<06:49,  3.25s/it]"
     ]
    },
    {
     "name": "stdout",
     "output_type": "stream",
     "text": [
      "adding feature num_country_max_3days\n",
      "performing CV with features: ['days_to_end', 'num_country_max_1days', 'num_city_max_1days', 'android_max_1days', 'smarttv_max_1days', 'iphone_max_1days', 'ipad_max_1days', 'apple_max_1days', 'pc_max_1days', 'time_spent_sum_3days', 'time_spent_max_3days', 'num_title_ep_sum_3days', 'num_title_ep_max_3days', 'num_title_ru_sum_3days', 'num_title_ru_max_3days', 'num_country_max_3days']\n",
      "5-fold CV is : 0.6073 +/- 0.0017\n"
     ]
    },
    {
     "name": "stderr",
     "output_type": "stream",
     "text": [
      "\n",
      " 11%|███▋                             | 16/141 [00:31<07:34,  3.64s/it]"
     ]
    },
    {
     "name": "stdout",
     "output_type": "stream",
     "text": [
      "adding feature num_city_max_3days\n",
      "performing CV with features: ['days_to_end', 'num_country_max_1days', 'num_city_max_1days', 'android_max_1days', 'smarttv_max_1days', 'iphone_max_1days', 'ipad_max_1days', 'apple_max_1days', 'pc_max_1days', 'time_spent_sum_3days', 'time_spent_max_3days', 'num_title_ep_sum_3days', 'num_title_ep_max_3days', 'num_title_ru_sum_3days', 'num_title_ru_max_3days', 'num_country_max_3days', 'num_city_max_3days']\n",
      "5-fold CV is : 0.6081 +/- 0.0025\n"
     ]
    },
    {
     "name": "stderr",
     "output_type": "stream",
     "text": [
      "\n",
      " 12%|███▉                             | 17/141 [00:36<07:59,  3.87s/it]"
     ]
    },
    {
     "name": "stdout",
     "output_type": "stream",
     "text": [
      "adding feature other_content_sum_3days\n",
      "performing CV with features: ['days_to_end', 'num_country_max_1days', 'num_city_max_1days', 'android_max_1days', 'smarttv_max_1days', 'iphone_max_1days', 'ipad_max_1days', 'apple_max_1days', 'pc_max_1days', 'time_spent_sum_3days', 'time_spent_max_3days', 'num_title_ep_sum_3days', 'num_title_ep_max_3days', 'num_title_ru_sum_3days', 'num_title_ru_max_3days', 'num_country_max_3days', 'num_city_max_3days', 'other_content_sum_3days']\n",
      "5-fold CV is : 0.608 +/- 0.0021\n"
     ]
    },
    {
     "name": "stderr",
     "output_type": "stream",
     "text": [
      "\n",
      " 13%|████▏                            | 18/141 [00:40<08:14,  4.02s/it]"
     ]
    },
    {
     "name": "stdout",
     "output_type": "stream",
     "text": [
      "adding feature top_1_sum_3days\n",
      "performing CV with features: ['days_to_end', 'num_country_max_1days', 'num_city_max_1days', 'android_max_1days', 'smarttv_max_1days', 'iphone_max_1days', 'ipad_max_1days', 'apple_max_1days', 'pc_max_1days', 'time_spent_sum_3days', 'time_spent_max_3days', 'num_title_ep_sum_3days', 'num_title_ep_max_3days', 'num_title_ru_sum_3days', 'num_title_ru_max_3days', 'num_country_max_3days', 'num_city_max_3days', 'other_content_sum_3days', 'top_1_sum_3days']\n",
      "5-fold CV is : 0.6084 +/- 0.0035\n"
     ]
    },
    {
     "name": "stderr",
     "output_type": "stream",
     "text": [
      "\n",
      " 13%|████▍                            | 19/141 [00:45<08:48,  4.33s/it]"
     ]
    },
    {
     "name": "stdout",
     "output_type": "stream",
     "text": [
      "adding feature top_2_sum_3days\n",
      "performing CV with features: ['days_to_end', 'num_country_max_1days', 'num_city_max_1days', 'android_max_1days', 'smarttv_max_1days', 'iphone_max_1days', 'ipad_max_1days', 'apple_max_1days', 'pc_max_1days', 'time_spent_sum_3days', 'time_spent_max_3days', 'num_title_ep_sum_3days', 'num_title_ep_max_3days', 'num_title_ru_sum_3days', 'num_title_ru_max_3days', 'num_country_max_3days', 'num_city_max_3days', 'other_content_sum_3days', 'top_1_sum_3days', 'top_2_sum_3days']\n",
      "5-fold CV is : 0.6091 +/- 0.0031\n"
     ]
    },
    {
     "name": "stderr",
     "output_type": "stream",
     "text": [
      "\n",
      " 14%|████▋                            | 20/141 [00:50<09:16,  4.60s/it]"
     ]
    },
    {
     "name": "stdout",
     "output_type": "stream",
     "text": [
      "adding feature top_3_sum_3days\n",
      "performing CV with features: ['days_to_end', 'num_country_max_1days', 'num_city_max_1days', 'android_max_1days', 'smarttv_max_1days', 'iphone_max_1days', 'ipad_max_1days', 'apple_max_1days', 'pc_max_1days', 'time_spent_sum_3days', 'time_spent_max_3days', 'num_title_ep_sum_3days', 'num_title_ep_max_3days', 'num_title_ru_sum_3days', 'num_title_ru_max_3days', 'num_country_max_3days', 'num_city_max_3days', 'other_content_sum_3days', 'top_1_sum_3days', 'top_2_sum_3days', 'top_3_sum_3days']\n",
      "5-fold CV is : 0.6084 +/- 0.005\n"
     ]
    },
    {
     "name": "stderr",
     "output_type": "stream",
     "text": [
      "\n",
      " 15%|████▉                            | 21/141 [00:56<09:30,  4.75s/it]"
     ]
    },
    {
     "name": "stdout",
     "output_type": "stream",
     "text": [
      "adding feature top_4_sum_3days\n",
      "performing CV with features: ['days_to_end', 'num_country_max_1days', 'num_city_max_1days', 'android_max_1days', 'smarttv_max_1days', 'iphone_max_1days', 'ipad_max_1days', 'apple_max_1days', 'pc_max_1days', 'time_spent_sum_3days', 'time_spent_max_3days', 'num_title_ep_sum_3days', 'num_title_ep_max_3days', 'num_title_ru_sum_3days', 'num_title_ru_max_3days', 'num_country_max_3days', 'num_city_max_3days', 'other_content_sum_3days', 'top_1_sum_3days', 'top_2_sum_3days', 'top_3_sum_3days', 'top_4_sum_3days']\n",
      "5-fold CV is : 0.6099 +/- 0.0029\n"
     ]
    },
    {
     "name": "stderr",
     "output_type": "stream",
     "text": [
      "\n",
      " 16%|█████▏                           | 22/141 [01:01<10:01,  5.06s/it]"
     ]
    },
    {
     "name": "stdout",
     "output_type": "stream",
     "text": [
      "adding feature top_5_sum_3days\n",
      "performing CV with features: ['days_to_end', 'num_country_max_1days', 'num_city_max_1days', 'android_max_1days', 'smarttv_max_1days', 'iphone_max_1days', 'ipad_max_1days', 'apple_max_1days', 'pc_max_1days', 'time_spent_sum_3days', 'time_spent_max_3days', 'num_title_ep_sum_3days', 'num_title_ep_max_3days', 'num_title_ru_sum_3days', 'num_title_ru_max_3days', 'num_country_max_3days', 'num_city_max_3days', 'other_content_sum_3days', 'top_1_sum_3days', 'top_2_sum_3days', 'top_3_sum_3days', 'top_4_sum_3days', 'top_5_sum_3days']\n",
      "5-fold CV is : 0.6089 +/- 0.0051\n"
     ]
    },
    {
     "name": "stderr",
     "output_type": "stream",
     "text": [
      "\n",
      " 16%|█████▍                           | 23/141 [01:06<09:48,  4.99s/it]"
     ]
    },
    {
     "name": "stdout",
     "output_type": "stream",
     "text": [
      "adding feature top_6_sum_3days\n",
      "performing CV with features: ['days_to_end', 'num_country_max_1days', 'num_city_max_1days', 'android_max_1days', 'smarttv_max_1days', 'iphone_max_1days', 'ipad_max_1days', 'apple_max_1days', 'pc_max_1days', 'time_spent_sum_3days', 'time_spent_max_3days', 'num_title_ep_sum_3days', 'num_title_ep_max_3days', 'num_title_ru_sum_3days', 'num_title_ru_max_3days', 'num_country_max_3days', 'num_city_max_3days', 'other_content_sum_3days', 'top_1_sum_3days', 'top_2_sum_3days', 'top_3_sum_3days', 'top_4_sum_3days', 'top_5_sum_3days', 'top_6_sum_3days']\n",
      "5-fold CV is : 0.609 +/- 0.0051\n"
     ]
    },
    {
     "name": "stderr",
     "output_type": "stream",
     "text": [
      "\n",
      " 17%|█████▌                           | 24/141 [01:11<09:49,  5.04s/it]"
     ]
    },
    {
     "name": "stdout",
     "output_type": "stream",
     "text": [
      "adding feature top_7_sum_3days\n",
      "performing CV with features: ['days_to_end', 'num_country_max_1days', 'num_city_max_1days', 'android_max_1days', 'smarttv_max_1days', 'iphone_max_1days', 'ipad_max_1days', 'apple_max_1days', 'pc_max_1days', 'time_spent_sum_3days', 'time_spent_max_3days', 'num_title_ep_sum_3days', 'num_title_ep_max_3days', 'num_title_ru_sum_3days', 'num_title_ru_max_3days', 'num_country_max_3days', 'num_city_max_3days', 'other_content_sum_3days', 'top_1_sum_3days', 'top_2_sum_3days', 'top_3_sum_3days', 'top_4_sum_3days', 'top_5_sum_3days', 'top_6_sum_3days', 'top_7_sum_3days']\n",
      "5-fold CV is : 0.6084 +/- 0.0048\n"
     ]
    },
    {
     "name": "stderr",
     "output_type": "stream",
     "text": [
      "\n",
      " 18%|█████▊                           | 25/141 [01:16<09:50,  5.09s/it]"
     ]
    },
    {
     "name": "stdout",
     "output_type": "stream",
     "text": [
      "adding feature top_8_sum_3days\n",
      "performing CV with features: ['days_to_end', 'num_country_max_1days', 'num_city_max_1days', 'android_max_1days', 'smarttv_max_1days', 'iphone_max_1days', 'ipad_max_1days', 'apple_max_1days', 'pc_max_1days', 'time_spent_sum_3days', 'time_spent_max_3days', 'num_title_ep_sum_3days', 'num_title_ep_max_3days', 'num_title_ru_sum_3days', 'num_title_ru_max_3days', 'num_country_max_3days', 'num_city_max_3days', 'other_content_sum_3days', 'top_1_sum_3days', 'top_2_sum_3days', 'top_3_sum_3days', 'top_4_sum_3days', 'top_5_sum_3days', 'top_6_sum_3days', 'top_7_sum_3days', 'top_8_sum_3days']\n",
      "5-fold CV is : 0.6108 +/- 0.0019\n"
     ]
    },
    {
     "name": "stderr",
     "output_type": "stream",
     "text": [
      "\n",
      " 18%|██████                           | 26/141 [01:22<09:59,  5.21s/it]"
     ]
    },
    {
     "name": "stdout",
     "output_type": "stream",
     "text": [
      "adding feature top_9_sum_3days\n",
      "performing CV with features: ['days_to_end', 'num_country_max_1days', 'num_city_max_1days', 'android_max_1days', 'smarttv_max_1days', 'iphone_max_1days', 'ipad_max_1days', 'apple_max_1days', 'pc_max_1days', 'time_spent_sum_3days', 'time_spent_max_3days', 'num_title_ep_sum_3days', 'num_title_ep_max_3days', 'num_title_ru_sum_3days', 'num_title_ru_max_3days', 'num_country_max_3days', 'num_city_max_3days', 'other_content_sum_3days', 'top_1_sum_3days', 'top_2_sum_3days', 'top_3_sum_3days', 'top_4_sum_3days', 'top_5_sum_3days', 'top_6_sum_3days', 'top_7_sum_3days', 'top_8_sum_3days', 'top_9_sum_3days']\n",
      "5-fold CV is : 0.609 +/- 0.005\n"
     ]
    },
    {
     "name": "stderr",
     "output_type": "stream",
     "text": [
      "\n",
      " 19%|██████▎                          | 27/141 [01:27<09:58,  5.25s/it]"
     ]
    },
    {
     "name": "stdout",
     "output_type": "stream",
     "text": [
      "adding feature top_10_sum_3days\n",
      "performing CV with features: ['days_to_end', 'num_country_max_1days', 'num_city_max_1days', 'android_max_1days', 'smarttv_max_1days', 'iphone_max_1days', 'ipad_max_1days', 'apple_max_1days', 'pc_max_1days', 'time_spent_sum_3days', 'time_spent_max_3days', 'num_title_ep_sum_3days', 'num_title_ep_max_3days', 'num_title_ru_sum_3days', 'num_title_ru_max_3days', 'num_country_max_3days', 'num_city_max_3days', 'other_content_sum_3days', 'top_1_sum_3days', 'top_2_sum_3days', 'top_3_sum_3days', 'top_4_sum_3days', 'top_5_sum_3days', 'top_6_sum_3days', 'top_7_sum_3days', 'top_8_sum_3days', 'top_9_sum_3days', 'top_10_sum_3days']\n",
      "5-fold CV is : 0.609 +/- 0.005\n"
     ]
    },
    {
     "name": "stderr",
     "output_type": "stream",
     "text": [
      "\n",
      " 20%|██████▌                          | 28/141 [01:33<09:53,  5.25s/it]"
     ]
    },
    {
     "name": "stdout",
     "output_type": "stream",
     "text": [
      "adding feature android_max_3days\n",
      "performing CV with features: ['days_to_end', 'num_country_max_1days', 'num_city_max_1days', 'android_max_1days', 'smarttv_max_1days', 'iphone_max_1days', 'ipad_max_1days', 'apple_max_1days', 'pc_max_1days', 'time_spent_sum_3days', 'time_spent_max_3days', 'num_title_ep_sum_3days', 'num_title_ep_max_3days', 'num_title_ru_sum_3days', 'num_title_ru_max_3days', 'num_country_max_3days', 'num_city_max_3days', 'other_content_sum_3days', 'top_1_sum_3days', 'top_2_sum_3days', 'top_3_sum_3days', 'top_4_sum_3days', 'top_5_sum_3days', 'top_6_sum_3days', 'top_7_sum_3days', 'top_8_sum_3days', 'top_9_sum_3days', 'top_10_sum_3days', 'android_max_3days']\n",
      "5-fold CV is : 0.6096 +/- 0.0018\n"
     ]
    },
    {
     "name": "stderr",
     "output_type": "stream",
     "text": [
      "\n",
      " 21%|██████▊                          | 29/141 [01:38<09:50,  5.27s/it]"
     ]
    },
    {
     "name": "stdout",
     "output_type": "stream",
     "text": [
      "adding feature smarttv_max_3days\n",
      "performing CV with features: ['days_to_end', 'num_country_max_1days', 'num_city_max_1days', 'android_max_1days', 'smarttv_max_1days', 'iphone_max_1days', 'ipad_max_1days', 'apple_max_1days', 'pc_max_1days', 'time_spent_sum_3days', 'time_spent_max_3days', 'num_title_ep_sum_3days', 'num_title_ep_max_3days', 'num_title_ru_sum_3days', 'num_title_ru_max_3days', 'num_country_max_3days', 'num_city_max_3days', 'other_content_sum_3days', 'top_1_sum_3days', 'top_2_sum_3days', 'top_3_sum_3days', 'top_4_sum_3days', 'top_5_sum_3days', 'top_6_sum_3days', 'top_7_sum_3days', 'top_8_sum_3days', 'top_9_sum_3days', 'top_10_sum_3days', 'android_max_3days', 'smarttv_max_3days']\n",
      "5-fold CV is : 0.6101 +/- 0.0022\n"
     ]
    },
    {
     "name": "stderr",
     "output_type": "stream",
     "text": [
      "\n",
      " 21%|███████                          | 30/141 [01:44<10:00,  5.41s/it]"
     ]
    },
    {
     "name": "stdout",
     "output_type": "stream",
     "text": [
      "adding feature iphone_max_3days\n",
      "performing CV with features: ['days_to_end', 'num_country_max_1days', 'num_city_max_1days', 'android_max_1days', 'smarttv_max_1days', 'iphone_max_1days', 'ipad_max_1days', 'apple_max_1days', 'pc_max_1days', 'time_spent_sum_3days', 'time_spent_max_3days', 'num_title_ep_sum_3days', 'num_title_ep_max_3days', 'num_title_ru_sum_3days', 'num_title_ru_max_3days', 'num_country_max_3days', 'num_city_max_3days', 'other_content_sum_3days', 'top_1_sum_3days', 'top_2_sum_3days', 'top_3_sum_3days', 'top_4_sum_3days', 'top_5_sum_3days', 'top_6_sum_3days', 'top_7_sum_3days', 'top_8_sum_3days', 'top_9_sum_3days', 'top_10_sum_3days', 'android_max_3days', 'smarttv_max_3days', 'iphone_max_3days']\n",
      "5-fold CV is : 0.6095 +/- 0.0023\n"
     ]
    },
    {
     "name": "stderr",
     "output_type": "stream",
     "text": [
      "\n",
      " 22%|███████▎                         | 31/141 [01:50<10:21,  5.65s/it]"
     ]
    },
    {
     "name": "stdout",
     "output_type": "stream",
     "text": [
      "adding feature ipad_max_3days\n",
      "performing CV with features: ['days_to_end', 'num_country_max_1days', 'num_city_max_1days', 'android_max_1days', 'smarttv_max_1days', 'iphone_max_1days', 'ipad_max_1days', 'apple_max_1days', 'pc_max_1days', 'time_spent_sum_3days', 'time_spent_max_3days', 'num_title_ep_sum_3days', 'num_title_ep_max_3days', 'num_title_ru_sum_3days', 'num_title_ru_max_3days', 'num_country_max_3days', 'num_city_max_3days', 'other_content_sum_3days', 'top_1_sum_3days', 'top_2_sum_3days', 'top_3_sum_3days', 'top_4_sum_3days', 'top_5_sum_3days', 'top_6_sum_3days', 'top_7_sum_3days', 'top_8_sum_3days', 'top_9_sum_3days', 'top_10_sum_3days', 'android_max_3days', 'smarttv_max_3days', 'iphone_max_3days', 'ipad_max_3days']\n",
      "5-fold CV is : 0.6098 +/- 0.0026\n"
     ]
    },
    {
     "name": "stderr",
     "output_type": "stream",
     "text": [
      "\n",
      " 23%|███████▍                         | 32/141 [01:56<10:25,  5.74s/it]"
     ]
    },
    {
     "name": "stdout",
     "output_type": "stream",
     "text": [
      "adding feature apple_max_3days\n",
      "performing CV with features: ['days_to_end', 'num_country_max_1days', 'num_city_max_1days', 'android_max_1days', 'smarttv_max_1days', 'iphone_max_1days', 'ipad_max_1days', 'apple_max_1days', 'pc_max_1days', 'time_spent_sum_3days', 'time_spent_max_3days', 'num_title_ep_sum_3days', 'num_title_ep_max_3days', 'num_title_ru_sum_3days', 'num_title_ru_max_3days', 'num_country_max_3days', 'num_city_max_3days', 'other_content_sum_3days', 'top_1_sum_3days', 'top_2_sum_3days', 'top_3_sum_3days', 'top_4_sum_3days', 'top_5_sum_3days', 'top_6_sum_3days', 'top_7_sum_3days', 'top_8_sum_3days', 'top_9_sum_3days', 'top_10_sum_3days', 'android_max_3days', 'smarttv_max_3days', 'iphone_max_3days', 'ipad_max_3days', 'apple_max_3days']\n",
      "5-fold CV is : 0.6106 +/- 0.0029\n"
     ]
    },
    {
     "name": "stderr",
     "output_type": "stream",
     "text": [
      "\n",
      " 23%|███████▋                         | 33/141 [02:02<10:36,  5.89s/it]"
     ]
    },
    {
     "name": "stdout",
     "output_type": "stream",
     "text": [
      "adding feature pc_max_3days\n",
      "performing CV with features: ['days_to_end', 'num_country_max_1days', 'num_city_max_1days', 'android_max_1days', 'smarttv_max_1days', 'iphone_max_1days', 'ipad_max_1days', 'apple_max_1days', 'pc_max_1days', 'time_spent_sum_3days', 'time_spent_max_3days', 'num_title_ep_sum_3days', 'num_title_ep_max_3days', 'num_title_ru_sum_3days', 'num_title_ru_max_3days', 'num_country_max_3days', 'num_city_max_3days', 'other_content_sum_3days', 'top_1_sum_3days', 'top_2_sum_3days', 'top_3_sum_3days', 'top_4_sum_3days', 'top_5_sum_3days', 'top_6_sum_3days', 'top_7_sum_3days', 'top_8_sum_3days', 'top_9_sum_3days', 'top_10_sum_3days', 'android_max_3days', 'smarttv_max_3days', 'iphone_max_3days', 'ipad_max_3days', 'apple_max_3days', 'pc_max_3days']\n",
      "5-fold CV is : 0.6089 +/- 0.0042\n"
     ]
    },
    {
     "name": "stderr",
     "output_type": "stream",
     "text": [
      "\n",
      " 24%|███████▉                         | 34/141 [02:08<10:42,  6.00s/it]"
     ]
    },
    {
     "name": "stdout",
     "output_type": "stream",
     "text": [
      "adding feature time_spent_sum_7days\n",
      "performing CV with features: ['days_to_end', 'num_country_max_1days', 'num_city_max_1days', 'android_max_1days', 'smarttv_max_1days', 'iphone_max_1days', 'ipad_max_1days', 'apple_max_1days', 'pc_max_1days', 'time_spent_sum_3days', 'time_spent_max_3days', 'num_title_ep_sum_3days', 'num_title_ep_max_3days', 'num_title_ru_sum_3days', 'num_title_ru_max_3days', 'num_country_max_3days', 'num_city_max_3days', 'other_content_sum_3days', 'top_1_sum_3days', 'top_2_sum_3days', 'top_3_sum_3days', 'top_4_sum_3days', 'top_5_sum_3days', 'top_6_sum_3days', 'top_7_sum_3days', 'top_8_sum_3days', 'top_9_sum_3days', 'top_10_sum_3days', 'android_max_3days', 'smarttv_max_3days', 'iphone_max_3days', 'ipad_max_3days', 'apple_max_3days', 'pc_max_3days', 'time_spent_sum_7days']\n",
      "5-fold CV is : 0.6112 +/- 0.0119\n"
     ]
    },
    {
     "name": "stderr",
     "output_type": "stream",
     "text": [
      "\n",
      " 25%|████████▏                        | 35/141 [02:15<11:05,  6.28s/it]"
     ]
    },
    {
     "name": "stdout",
     "output_type": "stream",
     "text": [
      "adding feature time_spent_max_7days\n",
      "performing CV with features: ['days_to_end', 'num_country_max_1days', 'num_city_max_1days', 'android_max_1days', 'smarttv_max_1days', 'iphone_max_1days', 'ipad_max_1days', 'apple_max_1days', 'pc_max_1days', 'time_spent_sum_3days', 'time_spent_max_3days', 'num_title_ep_sum_3days', 'num_title_ep_max_3days', 'num_title_ru_sum_3days', 'num_title_ru_max_3days', 'num_country_max_3days', 'num_city_max_3days', 'other_content_sum_3days', 'top_1_sum_3days', 'top_2_sum_3days', 'top_3_sum_3days', 'top_4_sum_3days', 'top_5_sum_3days', 'top_6_sum_3days', 'top_7_sum_3days', 'top_8_sum_3days', 'top_9_sum_3days', 'top_10_sum_3days', 'android_max_3days', 'smarttv_max_3days', 'iphone_max_3days', 'ipad_max_3days', 'apple_max_3days', 'pc_max_3days', 'time_spent_sum_7days', 'time_spent_max_7days']\n",
      "5-fold CV is : 0.6067 +/- 0.0082\n"
     ]
    },
    {
     "name": "stderr",
     "output_type": "stream",
     "text": [
      "\n",
      " 26%|████████▍                        | 36/141 [02:22<11:18,  6.46s/it]"
     ]
    },
    {
     "name": "stdout",
     "output_type": "stream",
     "text": [
      "adding feature num_title_ep_sum_7days\n",
      "performing CV with features: ['days_to_end', 'num_country_max_1days', 'num_city_max_1days', 'android_max_1days', 'smarttv_max_1days', 'iphone_max_1days', 'ipad_max_1days', 'apple_max_1days', 'pc_max_1days', 'time_spent_sum_3days', 'time_spent_max_3days', 'num_title_ep_sum_3days', 'num_title_ep_max_3days', 'num_title_ru_sum_3days', 'num_title_ru_max_3days', 'num_country_max_3days', 'num_city_max_3days', 'other_content_sum_3days', 'top_1_sum_3days', 'top_2_sum_3days', 'top_3_sum_3days', 'top_4_sum_3days', 'top_5_sum_3days', 'top_6_sum_3days', 'top_7_sum_3days', 'top_8_sum_3days', 'top_9_sum_3days', 'top_10_sum_3days', 'android_max_3days', 'smarttv_max_3days', 'iphone_max_3days', 'ipad_max_3days', 'apple_max_3days', 'pc_max_3days', 'time_spent_sum_7days', 'time_spent_max_7days', 'num_title_ep_sum_7days']\n",
      "5-fold CV is : 0.6069 +/- 0.0089\n"
     ]
    },
    {
     "name": "stderr",
     "output_type": "stream",
     "text": [
      "\n",
      " 26%|████████▋                        | 37/141 [02:29<11:24,  6.58s/it]"
     ]
    },
    {
     "name": "stdout",
     "output_type": "stream",
     "text": [
      "adding feature num_title_ep_max_7days\n",
      "performing CV with features: ['days_to_end', 'num_country_max_1days', 'num_city_max_1days', 'android_max_1days', 'smarttv_max_1days', 'iphone_max_1days', 'ipad_max_1days', 'apple_max_1days', 'pc_max_1days', 'time_spent_sum_3days', 'time_spent_max_3days', 'num_title_ep_sum_3days', 'num_title_ep_max_3days', 'num_title_ru_sum_3days', 'num_title_ru_max_3days', 'num_country_max_3days', 'num_city_max_3days', 'other_content_sum_3days', 'top_1_sum_3days', 'top_2_sum_3days', 'top_3_sum_3days', 'top_4_sum_3days', 'top_5_sum_3days', 'top_6_sum_3days', 'top_7_sum_3days', 'top_8_sum_3days', 'top_9_sum_3days', 'top_10_sum_3days', 'android_max_3days', 'smarttv_max_3days', 'iphone_max_3days', 'ipad_max_3days', 'apple_max_3days', 'pc_max_3days', 'time_spent_sum_7days', 'time_spent_max_7days', 'num_title_ep_sum_7days', 'num_title_ep_max_7days']\n",
      "5-fold CV is : 0.6143 +/- 0.0111\n"
     ]
    },
    {
     "name": "stderr",
     "output_type": "stream",
     "text": [
      "\n",
      " 27%|████████▉                        | 38/141 [02:37<12:06,  7.05s/it]"
     ]
    },
    {
     "name": "stdout",
     "output_type": "stream",
     "text": [
      "adding feature num_title_ru_sum_7days\n",
      "performing CV with features: ['days_to_end', 'num_country_max_1days', 'num_city_max_1days', 'android_max_1days', 'smarttv_max_1days', 'iphone_max_1days', 'ipad_max_1days', 'apple_max_1days', 'pc_max_1days', 'time_spent_sum_3days', 'time_spent_max_3days', 'num_title_ep_sum_3days', 'num_title_ep_max_3days', 'num_title_ru_sum_3days', 'num_title_ru_max_3days', 'num_country_max_3days', 'num_city_max_3days', 'other_content_sum_3days', 'top_1_sum_3days', 'top_2_sum_3days', 'top_3_sum_3days', 'top_4_sum_3days', 'top_5_sum_3days', 'top_6_sum_3days', 'top_7_sum_3days', 'top_8_sum_3days', 'top_9_sum_3days', 'top_10_sum_3days', 'android_max_3days', 'smarttv_max_3days', 'iphone_max_3days', 'ipad_max_3days', 'apple_max_3days', 'pc_max_3days', 'time_spent_sum_7days', 'time_spent_max_7days', 'num_title_ep_sum_7days', 'num_title_ep_max_7days', 'num_title_ru_sum_7days']\n",
      "5-fold CV is : 0.6267 +/- 0.0029\n"
     ]
    },
    {
     "name": "stderr",
     "output_type": "stream",
     "text": [
      "\n",
      " 28%|█████████▏                       | 39/141 [02:47<13:18,  7.83s/it]"
     ]
    },
    {
     "name": "stdout",
     "output_type": "stream",
     "text": [
      "adding feature num_title_ru_max_7days\n",
      "performing CV with features: ['days_to_end', 'num_country_max_1days', 'num_city_max_1days', 'android_max_1days', 'smarttv_max_1days', 'iphone_max_1days', 'ipad_max_1days', 'apple_max_1days', 'pc_max_1days', 'time_spent_sum_3days', 'time_spent_max_3days', 'num_title_ep_sum_3days', 'num_title_ep_max_3days', 'num_title_ru_sum_3days', 'num_title_ru_max_3days', 'num_country_max_3days', 'num_city_max_3days', 'other_content_sum_3days', 'top_1_sum_3days', 'top_2_sum_3days', 'top_3_sum_3days', 'top_4_sum_3days', 'top_5_sum_3days', 'top_6_sum_3days', 'top_7_sum_3days', 'top_8_sum_3days', 'top_9_sum_3days', 'top_10_sum_3days', 'android_max_3days', 'smarttv_max_3days', 'iphone_max_3days', 'ipad_max_3days', 'apple_max_3days', 'pc_max_3days', 'time_spent_sum_7days', 'time_spent_max_7days', 'num_title_ep_sum_7days', 'num_title_ep_max_7days', 'num_title_ru_sum_7days', 'num_title_ru_max_7days']\n",
      "5-fold CV is : 0.629 +/- 0.0023\n"
     ]
    },
    {
     "name": "stderr",
     "output_type": "stream",
     "text": [
      "\n",
      " 28%|█████████▎                       | 40/141 [02:57<14:38,  8.70s/it]"
     ]
    },
    {
     "name": "stdout",
     "output_type": "stream",
     "text": [
      "adding feature num_country_max_7days\n",
      "performing CV with features: ['days_to_end', 'num_country_max_1days', 'num_city_max_1days', 'android_max_1days', 'smarttv_max_1days', 'iphone_max_1days', 'ipad_max_1days', 'apple_max_1days', 'pc_max_1days', 'time_spent_sum_3days', 'time_spent_max_3days', 'num_title_ep_sum_3days', 'num_title_ep_max_3days', 'num_title_ru_sum_3days', 'num_title_ru_max_3days', 'num_country_max_3days', 'num_city_max_3days', 'other_content_sum_3days', 'top_1_sum_3days', 'top_2_sum_3days', 'top_3_sum_3days', 'top_4_sum_3days', 'top_5_sum_3days', 'top_6_sum_3days', 'top_7_sum_3days', 'top_8_sum_3days', 'top_9_sum_3days', 'top_10_sum_3days', 'android_max_3days', 'smarttv_max_3days', 'iphone_max_3days', 'ipad_max_3days', 'apple_max_3days', 'pc_max_3days', 'time_spent_sum_7days', 'time_spent_max_7days', 'num_title_ep_sum_7days', 'num_title_ep_max_7days', 'num_title_ru_sum_7days', 'num_title_ru_max_7days', 'num_country_max_7days']\n",
      "5-fold CV is : 0.6279 +/- 0.0052\n"
     ]
    },
    {
     "name": "stderr",
     "output_type": "stream",
     "text": [
      "\n",
      " 29%|█████████▌                       | 41/141 [03:08<15:10,  9.11s/it]"
     ]
    },
    {
     "name": "stdout",
     "output_type": "stream",
     "text": [
      "adding feature num_city_max_7days\n",
      "performing CV with features: ['days_to_end', 'num_country_max_1days', 'num_city_max_1days', 'android_max_1days', 'smarttv_max_1days', 'iphone_max_1days', 'ipad_max_1days', 'apple_max_1days', 'pc_max_1days', 'time_spent_sum_3days', 'time_spent_max_3days', 'num_title_ep_sum_3days', 'num_title_ep_max_3days', 'num_title_ru_sum_3days', 'num_title_ru_max_3days', 'num_country_max_3days', 'num_city_max_3days', 'other_content_sum_3days', 'top_1_sum_3days', 'top_2_sum_3days', 'top_3_sum_3days', 'top_4_sum_3days', 'top_5_sum_3days', 'top_6_sum_3days', 'top_7_sum_3days', 'top_8_sum_3days', 'top_9_sum_3days', 'top_10_sum_3days', 'android_max_3days', 'smarttv_max_3days', 'iphone_max_3days', 'ipad_max_3days', 'apple_max_3days', 'pc_max_3days', 'time_spent_sum_7days', 'time_spent_max_7days', 'num_title_ep_sum_7days', 'num_title_ep_max_7days', 'num_title_ru_sum_7days', 'num_title_ru_max_7days', 'num_country_max_7days', 'num_city_max_7days']\n",
      "5-fold CV is : 0.63 +/- 0.0036\n"
     ]
    },
    {
     "name": "stderr",
     "output_type": "stream",
     "text": [
      "\n",
      " 30%|█████████▊                       | 42/141 [03:18<15:27,  9.37s/it]"
     ]
    },
    {
     "name": "stdout",
     "output_type": "stream",
     "text": [
      "adding feature other_content_sum_7days\n",
      "performing CV with features: ['days_to_end', 'num_country_max_1days', 'num_city_max_1days', 'android_max_1days', 'smarttv_max_1days', 'iphone_max_1days', 'ipad_max_1days', 'apple_max_1days', 'pc_max_1days', 'time_spent_sum_3days', 'time_spent_max_3days', 'num_title_ep_sum_3days', 'num_title_ep_max_3days', 'num_title_ru_sum_3days', 'num_title_ru_max_3days', 'num_country_max_3days', 'num_city_max_3days', 'other_content_sum_3days', 'top_1_sum_3days', 'top_2_sum_3days', 'top_3_sum_3days', 'top_4_sum_3days', 'top_5_sum_3days', 'top_6_sum_3days', 'top_7_sum_3days', 'top_8_sum_3days', 'top_9_sum_3days', 'top_10_sum_3days', 'android_max_3days', 'smarttv_max_3days', 'iphone_max_3days', 'ipad_max_3days', 'apple_max_3days', 'pc_max_3days', 'time_spent_sum_7days', 'time_spent_max_7days', 'num_title_ep_sum_7days', 'num_title_ep_max_7days', 'num_title_ru_sum_7days', 'num_title_ru_max_7days', 'num_country_max_7days', 'num_city_max_7days', 'other_content_sum_7days']\n",
      "5-fold CV is : 0.627 +/- 0.007\n"
     ]
    },
    {
     "name": "stderr",
     "output_type": "stream",
     "text": [
      "\n",
      " 30%|██████████                       | 43/141 [03:29<16:19,  9.99s/it]"
     ]
    },
    {
     "name": "stdout",
     "output_type": "stream",
     "text": [
      "adding feature top_1_sum_7days\n",
      "performing CV with features: ['days_to_end', 'num_country_max_1days', 'num_city_max_1days', 'android_max_1days', 'smarttv_max_1days', 'iphone_max_1days', 'ipad_max_1days', 'apple_max_1days', 'pc_max_1days', 'time_spent_sum_3days', 'time_spent_max_3days', 'num_title_ep_sum_3days', 'num_title_ep_max_3days', 'num_title_ru_sum_3days', 'num_title_ru_max_3days', 'num_country_max_3days', 'num_city_max_3days', 'other_content_sum_3days', 'top_1_sum_3days', 'top_2_sum_3days', 'top_3_sum_3days', 'top_4_sum_3days', 'top_5_sum_3days', 'top_6_sum_3days', 'top_7_sum_3days', 'top_8_sum_3days', 'top_9_sum_3days', 'top_10_sum_3days', 'android_max_3days', 'smarttv_max_3days', 'iphone_max_3days', 'ipad_max_3days', 'apple_max_3days', 'pc_max_3days', 'time_spent_sum_7days', 'time_spent_max_7days', 'num_title_ep_sum_7days', 'num_title_ep_max_7days', 'num_title_ru_sum_7days', 'num_title_ru_max_7days', 'num_country_max_7days', 'num_city_max_7days', 'other_content_sum_7days', 'top_1_sum_7days']\n",
      "5-fold CV is : 0.6317 +/- 0.0031\n"
     ]
    },
    {
     "name": "stderr",
     "output_type": "stream",
     "text": [
      "\n",
      " 31%|██████████▎                      | 44/141 [03:42<17:51, 11.05s/it]"
     ]
    },
    {
     "name": "stdout",
     "output_type": "stream",
     "text": [
      "adding feature top_2_sum_7days\n",
      "performing CV with features: ['days_to_end', 'num_country_max_1days', 'num_city_max_1days', 'android_max_1days', 'smarttv_max_1days', 'iphone_max_1days', 'ipad_max_1days', 'apple_max_1days', 'pc_max_1days', 'time_spent_sum_3days', 'time_spent_max_3days', 'num_title_ep_sum_3days', 'num_title_ep_max_3days', 'num_title_ru_sum_3days', 'num_title_ru_max_3days', 'num_country_max_3days', 'num_city_max_3days', 'other_content_sum_3days', 'top_1_sum_3days', 'top_2_sum_3days', 'top_3_sum_3days', 'top_4_sum_3days', 'top_5_sum_3days', 'top_6_sum_3days', 'top_7_sum_3days', 'top_8_sum_3days', 'top_9_sum_3days', 'top_10_sum_3days', 'android_max_3days', 'smarttv_max_3days', 'iphone_max_3days', 'ipad_max_3days', 'apple_max_3days', 'pc_max_3days', 'time_spent_sum_7days', 'time_spent_max_7days', 'num_title_ep_sum_7days', 'num_title_ep_max_7days', 'num_title_ru_sum_7days', 'num_title_ru_max_7days', 'num_country_max_7days', 'num_city_max_7days', 'other_content_sum_7days', 'top_1_sum_7days', 'top_2_sum_7days']\n",
      "5-fold CV is : 0.6283 +/- 0.0061\n"
     ]
    },
    {
     "name": "stderr",
     "output_type": "stream",
     "text": [
      "\n",
      " 32%|██████████▌                      | 45/141 [03:54<18:07, 11.33s/it]"
     ]
    },
    {
     "name": "stdout",
     "output_type": "stream",
     "text": [
      "adding feature top_3_sum_7days\n",
      "performing CV with features: ['days_to_end', 'num_country_max_1days', 'num_city_max_1days', 'android_max_1days', 'smarttv_max_1days', 'iphone_max_1days', 'ipad_max_1days', 'apple_max_1days', 'pc_max_1days', 'time_spent_sum_3days', 'time_spent_max_3days', 'num_title_ep_sum_3days', 'num_title_ep_max_3days', 'num_title_ru_sum_3days', 'num_title_ru_max_3days', 'num_country_max_3days', 'num_city_max_3days', 'other_content_sum_3days', 'top_1_sum_3days', 'top_2_sum_3days', 'top_3_sum_3days', 'top_4_sum_3days', 'top_5_sum_3days', 'top_6_sum_3days', 'top_7_sum_3days', 'top_8_sum_3days', 'top_9_sum_3days', 'top_10_sum_3days', 'android_max_3days', 'smarttv_max_3days', 'iphone_max_3days', 'ipad_max_3days', 'apple_max_3days', 'pc_max_3days', 'time_spent_sum_7days', 'time_spent_max_7days', 'num_title_ep_sum_7days', 'num_title_ep_max_7days', 'num_title_ru_sum_7days', 'num_title_ru_max_7days', 'num_country_max_7days', 'num_city_max_7days', 'other_content_sum_7days', 'top_1_sum_7days', 'top_2_sum_7days', 'top_3_sum_7days']\n",
      "5-fold CV is : 0.6255 +/- 0.0047\n"
     ]
    },
    {
     "name": "stderr",
     "output_type": "stream",
     "text": [
      "\n",
      " 33%|██████████▊                      | 46/141 [04:05<17:40, 11.16s/it]"
     ]
    },
    {
     "name": "stdout",
     "output_type": "stream",
     "text": [
      "adding feature top_4_sum_7days\n",
      "performing CV with features: ['days_to_end', 'num_country_max_1days', 'num_city_max_1days', 'android_max_1days', 'smarttv_max_1days', 'iphone_max_1days', 'ipad_max_1days', 'apple_max_1days', 'pc_max_1days', 'time_spent_sum_3days', 'time_spent_max_3days', 'num_title_ep_sum_3days', 'num_title_ep_max_3days', 'num_title_ru_sum_3days', 'num_title_ru_max_3days', 'num_country_max_3days', 'num_city_max_3days', 'other_content_sum_3days', 'top_1_sum_3days', 'top_2_sum_3days', 'top_3_sum_3days', 'top_4_sum_3days', 'top_5_sum_3days', 'top_6_sum_3days', 'top_7_sum_3days', 'top_8_sum_3days', 'top_9_sum_3days', 'top_10_sum_3days', 'android_max_3days', 'smarttv_max_3days', 'iphone_max_3days', 'ipad_max_3days', 'apple_max_3days', 'pc_max_3days', 'time_spent_sum_7days', 'time_spent_max_7days', 'num_title_ep_sum_7days', 'num_title_ep_max_7days', 'num_title_ru_sum_7days', 'num_title_ru_max_7days', 'num_country_max_7days', 'num_city_max_7days', 'other_content_sum_7days', 'top_1_sum_7days', 'top_2_sum_7days', 'top_3_sum_7days', 'top_4_sum_7days']\n",
      "5-fold CV is : 0.624 +/- 0.0055\n"
     ]
    },
    {
     "name": "stderr",
     "output_type": "stream",
     "text": [
      "\n",
      " 33%|███████████                      | 47/141 [04:15<16:56, 10.81s/it]"
     ]
    },
    {
     "name": "stdout",
     "output_type": "stream",
     "text": [
      "adding feature top_5_sum_7days\n",
      "performing CV with features: ['days_to_end', 'num_country_max_1days', 'num_city_max_1days', 'android_max_1days', 'smarttv_max_1days', 'iphone_max_1days', 'ipad_max_1days', 'apple_max_1days', 'pc_max_1days', 'time_spent_sum_3days', 'time_spent_max_3days', 'num_title_ep_sum_3days', 'num_title_ep_max_3days', 'num_title_ru_sum_3days', 'num_title_ru_max_3days', 'num_country_max_3days', 'num_city_max_3days', 'other_content_sum_3days', 'top_1_sum_3days', 'top_2_sum_3days', 'top_3_sum_3days', 'top_4_sum_3days', 'top_5_sum_3days', 'top_6_sum_3days', 'top_7_sum_3days', 'top_8_sum_3days', 'top_9_sum_3days', 'top_10_sum_3days', 'android_max_3days', 'smarttv_max_3days', 'iphone_max_3days', 'ipad_max_3days', 'apple_max_3days', 'pc_max_3days', 'time_spent_sum_7days', 'time_spent_max_7days', 'num_title_ep_sum_7days', 'num_title_ep_max_7days', 'num_title_ru_sum_7days', 'num_title_ru_max_7days', 'num_country_max_7days', 'num_city_max_7days', 'other_content_sum_7days', 'top_1_sum_7days', 'top_2_sum_7days', 'top_3_sum_7days', 'top_4_sum_7days', 'top_5_sum_7days']\n",
      "5-fold CV is : 0.6281 +/- 0.0022\n"
     ]
    },
    {
     "name": "stderr",
     "output_type": "stream",
     "text": [
      "\n",
      " 34%|███████████▏                     | 48/141 [04:27<17:02, 10.99s/it]"
     ]
    },
    {
     "name": "stdout",
     "output_type": "stream",
     "text": [
      "adding feature top_6_sum_7days\n",
      "performing CV with features: ['days_to_end', 'num_country_max_1days', 'num_city_max_1days', 'android_max_1days', 'smarttv_max_1days', 'iphone_max_1days', 'ipad_max_1days', 'apple_max_1days', 'pc_max_1days', 'time_spent_sum_3days', 'time_spent_max_3days', 'num_title_ep_sum_3days', 'num_title_ep_max_3days', 'num_title_ru_sum_3days', 'num_title_ru_max_3days', 'num_country_max_3days', 'num_city_max_3days', 'other_content_sum_3days', 'top_1_sum_3days', 'top_2_sum_3days', 'top_3_sum_3days', 'top_4_sum_3days', 'top_5_sum_3days', 'top_6_sum_3days', 'top_7_sum_3days', 'top_8_sum_3days', 'top_9_sum_3days', 'top_10_sum_3days', 'android_max_3days', 'smarttv_max_3days', 'iphone_max_3days', 'ipad_max_3days', 'apple_max_3days', 'pc_max_3days', 'time_spent_sum_7days', 'time_spent_max_7days', 'num_title_ep_sum_7days', 'num_title_ep_max_7days', 'num_title_ru_sum_7days', 'num_title_ru_max_7days', 'num_country_max_7days', 'num_city_max_7days', 'other_content_sum_7days', 'top_1_sum_7days', 'top_2_sum_7days', 'top_3_sum_7days', 'top_4_sum_7days', 'top_5_sum_7days', 'top_6_sum_7days']\n",
      "5-fold CV is : 0.6271 +/- 0.0054\n"
     ]
    },
    {
     "name": "stderr",
     "output_type": "stream",
     "text": [
      "\n",
      " 35%|███████████▍                     | 49/141 [04:38<16:58, 11.07s/it]"
     ]
    },
    {
     "name": "stdout",
     "output_type": "stream",
     "text": [
      "adding feature top_7_sum_7days\n",
      "performing CV with features: ['days_to_end', 'num_country_max_1days', 'num_city_max_1days', 'android_max_1days', 'smarttv_max_1days', 'iphone_max_1days', 'ipad_max_1days', 'apple_max_1days', 'pc_max_1days', 'time_spent_sum_3days', 'time_spent_max_3days', 'num_title_ep_sum_3days', 'num_title_ep_max_3days', 'num_title_ru_sum_3days', 'num_title_ru_max_3days', 'num_country_max_3days', 'num_city_max_3days', 'other_content_sum_3days', 'top_1_sum_3days', 'top_2_sum_3days', 'top_3_sum_3days', 'top_4_sum_3days', 'top_5_sum_3days', 'top_6_sum_3days', 'top_7_sum_3days', 'top_8_sum_3days', 'top_9_sum_3days', 'top_10_sum_3days', 'android_max_3days', 'smarttv_max_3days', 'iphone_max_3days', 'ipad_max_3days', 'apple_max_3days', 'pc_max_3days', 'time_spent_sum_7days', 'time_spent_max_7days', 'num_title_ep_sum_7days', 'num_title_ep_max_7days', 'num_title_ru_sum_7days', 'num_title_ru_max_7days', 'num_country_max_7days', 'num_city_max_7days', 'other_content_sum_7days', 'top_1_sum_7days', 'top_2_sum_7days', 'top_3_sum_7days', 'top_4_sum_7days', 'top_5_sum_7days', 'top_6_sum_7days', 'top_7_sum_7days']\n",
      "5-fold CV is : 0.626 +/- 0.0062\n"
     ]
    },
    {
     "name": "stderr",
     "output_type": "stream",
     "text": [
      "\n",
      " 35%|███████████▋                     | 50/141 [04:49<17:00, 11.21s/it]"
     ]
    },
    {
     "name": "stdout",
     "output_type": "stream",
     "text": [
      "adding feature top_8_sum_7days\n",
      "performing CV with features: ['days_to_end', 'num_country_max_1days', 'num_city_max_1days', 'android_max_1days', 'smarttv_max_1days', 'iphone_max_1days', 'ipad_max_1days', 'apple_max_1days', 'pc_max_1days', 'time_spent_sum_3days', 'time_spent_max_3days', 'num_title_ep_sum_3days', 'num_title_ep_max_3days', 'num_title_ru_sum_3days', 'num_title_ru_max_3days', 'num_country_max_3days', 'num_city_max_3days', 'other_content_sum_3days', 'top_1_sum_3days', 'top_2_sum_3days', 'top_3_sum_3days', 'top_4_sum_3days', 'top_5_sum_3days', 'top_6_sum_3days', 'top_7_sum_3days', 'top_8_sum_3days', 'top_9_sum_3days', 'top_10_sum_3days', 'android_max_3days', 'smarttv_max_3days', 'iphone_max_3days', 'ipad_max_3days', 'apple_max_3days', 'pc_max_3days', 'time_spent_sum_7days', 'time_spent_max_7days', 'num_title_ep_sum_7days', 'num_title_ep_max_7days', 'num_title_ru_sum_7days', 'num_title_ru_max_7days', 'num_country_max_7days', 'num_city_max_7days', 'other_content_sum_7days', 'top_1_sum_7days', 'top_2_sum_7days', 'top_3_sum_7days', 'top_4_sum_7days', 'top_5_sum_7days', 'top_6_sum_7days', 'top_7_sum_7days', 'top_8_sum_7days']\n",
      "5-fold CV is : 0.6249 +/- 0.0057\n"
     ]
    },
    {
     "name": "stderr",
     "output_type": "stream",
     "text": [
      "\n",
      " 36%|███████████▉                     | 51/141 [05:01<16:51, 11.24s/it]"
     ]
    },
    {
     "name": "stdout",
     "output_type": "stream",
     "text": [
      "adding feature top_9_sum_7days\n",
      "performing CV with features: ['days_to_end', 'num_country_max_1days', 'num_city_max_1days', 'android_max_1days', 'smarttv_max_1days', 'iphone_max_1days', 'ipad_max_1days', 'apple_max_1days', 'pc_max_1days', 'time_spent_sum_3days', 'time_spent_max_3days', 'num_title_ep_sum_3days', 'num_title_ep_max_3days', 'num_title_ru_sum_3days', 'num_title_ru_max_3days', 'num_country_max_3days', 'num_city_max_3days', 'other_content_sum_3days', 'top_1_sum_3days', 'top_2_sum_3days', 'top_3_sum_3days', 'top_4_sum_3days', 'top_5_sum_3days', 'top_6_sum_3days', 'top_7_sum_3days', 'top_8_sum_3days', 'top_9_sum_3days', 'top_10_sum_3days', 'android_max_3days', 'smarttv_max_3days', 'iphone_max_3days', 'ipad_max_3days', 'apple_max_3days', 'pc_max_3days', 'time_spent_sum_7days', 'time_spent_max_7days', 'num_title_ep_sum_7days', 'num_title_ep_max_7days', 'num_title_ru_sum_7days', 'num_title_ru_max_7days', 'num_country_max_7days', 'num_city_max_7days', 'other_content_sum_7days', 'top_1_sum_7days', 'top_2_sum_7days', 'top_3_sum_7days', 'top_4_sum_7days', 'top_5_sum_7days', 'top_6_sum_7days', 'top_7_sum_7days', 'top_8_sum_7days', 'top_9_sum_7days']\n",
      "5-fold CV is : 0.6267 +/- 0.0043\n"
     ]
    },
    {
     "name": "stderr",
     "output_type": "stream",
     "text": [
      "\n",
      " 37%|████████████▏                    | 52/141 [05:12<16:39, 11.23s/it]"
     ]
    },
    {
     "name": "stdout",
     "output_type": "stream",
     "text": [
      "adding feature top_10_sum_7days\n",
      "performing CV with features: ['days_to_end', 'num_country_max_1days', 'num_city_max_1days', 'android_max_1days', 'smarttv_max_1days', 'iphone_max_1days', 'ipad_max_1days', 'apple_max_1days', 'pc_max_1days', 'time_spent_sum_3days', 'time_spent_max_3days', 'num_title_ep_sum_3days', 'num_title_ep_max_3days', 'num_title_ru_sum_3days', 'num_title_ru_max_3days', 'num_country_max_3days', 'num_city_max_3days', 'other_content_sum_3days', 'top_1_sum_3days', 'top_2_sum_3days', 'top_3_sum_3days', 'top_4_sum_3days', 'top_5_sum_3days', 'top_6_sum_3days', 'top_7_sum_3days', 'top_8_sum_3days', 'top_9_sum_3days', 'top_10_sum_3days', 'android_max_3days', 'smarttv_max_3days', 'iphone_max_3days', 'ipad_max_3days', 'apple_max_3days', 'pc_max_3days', 'time_spent_sum_7days', 'time_spent_max_7days', 'num_title_ep_sum_7days', 'num_title_ep_max_7days', 'num_title_ru_sum_7days', 'num_title_ru_max_7days', 'num_country_max_7days', 'num_city_max_7days', 'other_content_sum_7days', 'top_1_sum_7days', 'top_2_sum_7days', 'top_3_sum_7days', 'top_4_sum_7days', 'top_5_sum_7days', 'top_6_sum_7days', 'top_7_sum_7days', 'top_8_sum_7days', 'top_9_sum_7days', 'top_10_sum_7days']\n",
      "5-fold CV is : 0.6279 +/- 0.0047\n"
     ]
    },
    {
     "name": "stderr",
     "output_type": "stream",
     "text": [
      "\n",
      " 38%|████████████▍                    | 53/141 [05:23<16:26, 11.21s/it]"
     ]
    },
    {
     "name": "stdout",
     "output_type": "stream",
     "text": [
      "adding feature android_max_7days\n",
      "performing CV with features: ['days_to_end', 'num_country_max_1days', 'num_city_max_1days', 'android_max_1days', 'smarttv_max_1days', 'iphone_max_1days', 'ipad_max_1days', 'apple_max_1days', 'pc_max_1days', 'time_spent_sum_3days', 'time_spent_max_3days', 'num_title_ep_sum_3days', 'num_title_ep_max_3days', 'num_title_ru_sum_3days', 'num_title_ru_max_3days', 'num_country_max_3days', 'num_city_max_3days', 'other_content_sum_3days', 'top_1_sum_3days', 'top_2_sum_3days', 'top_3_sum_3days', 'top_4_sum_3days', 'top_5_sum_3days', 'top_6_sum_3days', 'top_7_sum_3days', 'top_8_sum_3days', 'top_9_sum_3days', 'top_10_sum_3days', 'android_max_3days', 'smarttv_max_3days', 'iphone_max_3days', 'ipad_max_3days', 'apple_max_3days', 'pc_max_3days', 'time_spent_sum_7days', 'time_spent_max_7days', 'num_title_ep_sum_7days', 'num_title_ep_max_7days', 'num_title_ru_sum_7days', 'num_title_ru_max_7days', 'num_country_max_7days', 'num_city_max_7days', 'other_content_sum_7days', 'top_1_sum_7days', 'top_2_sum_7days', 'top_3_sum_7days', 'top_4_sum_7days', 'top_5_sum_7days', 'top_6_sum_7days', 'top_7_sum_7days', 'top_8_sum_7days', 'top_9_sum_7days', 'top_10_sum_7days', 'android_max_7days']\n",
      "5-fold CV is : 0.6285 +/- 0.0051\n"
     ]
    },
    {
     "name": "stderr",
     "output_type": "stream",
     "text": [
      "\n",
      " 38%|████████████▋                    | 54/141 [05:35<16:33, 11.41s/it]"
     ]
    },
    {
     "name": "stdout",
     "output_type": "stream",
     "text": [
      "adding feature smarttv_max_7days\n",
      "performing CV with features: ['days_to_end', 'num_country_max_1days', 'num_city_max_1days', 'android_max_1days', 'smarttv_max_1days', 'iphone_max_1days', 'ipad_max_1days', 'apple_max_1days', 'pc_max_1days', 'time_spent_sum_3days', 'time_spent_max_3days', 'num_title_ep_sum_3days', 'num_title_ep_max_3days', 'num_title_ru_sum_3days', 'num_title_ru_max_3days', 'num_country_max_3days', 'num_city_max_3days', 'other_content_sum_3days', 'top_1_sum_3days', 'top_2_sum_3days', 'top_3_sum_3days', 'top_4_sum_3days', 'top_5_sum_3days', 'top_6_sum_3days', 'top_7_sum_3days', 'top_8_sum_3days', 'top_9_sum_3days', 'top_10_sum_3days', 'android_max_3days', 'smarttv_max_3days', 'iphone_max_3days', 'ipad_max_3days', 'apple_max_3days', 'pc_max_3days', 'time_spent_sum_7days', 'time_spent_max_7days', 'num_title_ep_sum_7days', 'num_title_ep_max_7days', 'num_title_ru_sum_7days', 'num_title_ru_max_7days', 'num_country_max_7days', 'num_city_max_7days', 'other_content_sum_7days', 'top_1_sum_7days', 'top_2_sum_7days', 'top_3_sum_7days', 'top_4_sum_7days', 'top_5_sum_7days', 'top_6_sum_7days', 'top_7_sum_7days', 'top_8_sum_7days', 'top_9_sum_7days', 'top_10_sum_7days', 'android_max_7days', 'smarttv_max_7days']\n",
      "5-fold CV is : 0.6266 +/- 0.0036\n"
     ]
    },
    {
     "name": "stderr",
     "output_type": "stream",
     "text": [
      "\n",
      " 39%|████████████▊                    | 55/141 [05:46<16:06, 11.23s/it]"
     ]
    },
    {
     "name": "stdout",
     "output_type": "stream",
     "text": [
      "adding feature iphone_max_7days\n",
      "performing CV with features: ['days_to_end', 'num_country_max_1days', 'num_city_max_1days', 'android_max_1days', 'smarttv_max_1days', 'iphone_max_1days', 'ipad_max_1days', 'apple_max_1days', 'pc_max_1days', 'time_spent_sum_3days', 'time_spent_max_3days', 'num_title_ep_sum_3days', 'num_title_ep_max_3days', 'num_title_ru_sum_3days', 'num_title_ru_max_3days', 'num_country_max_3days', 'num_city_max_3days', 'other_content_sum_3days', 'top_1_sum_3days', 'top_2_sum_3days', 'top_3_sum_3days', 'top_4_sum_3days', 'top_5_sum_3days', 'top_6_sum_3days', 'top_7_sum_3days', 'top_8_sum_3days', 'top_9_sum_3days', 'top_10_sum_3days', 'android_max_3days', 'smarttv_max_3days', 'iphone_max_3days', 'ipad_max_3days', 'apple_max_3days', 'pc_max_3days', 'time_spent_sum_7days', 'time_spent_max_7days', 'num_title_ep_sum_7days', 'num_title_ep_max_7days', 'num_title_ru_sum_7days', 'num_title_ru_max_7days', 'num_country_max_7days', 'num_city_max_7days', 'other_content_sum_7days', 'top_1_sum_7days', 'top_2_sum_7days', 'top_3_sum_7days', 'top_4_sum_7days', 'top_5_sum_7days', 'top_6_sum_7days', 'top_7_sum_7days', 'top_8_sum_7days', 'top_9_sum_7days', 'top_10_sum_7days', 'android_max_7days', 'smarttv_max_7days', 'iphone_max_7days']\n",
      "5-fold CV is : 0.6307 +/- 0.0054\n"
     ]
    },
    {
     "name": "stderr",
     "output_type": "stream",
     "text": [
      "\n",
      " 40%|█████████████                    | 56/141 [05:59<16:43, 11.81s/it]"
     ]
    },
    {
     "name": "stdout",
     "output_type": "stream",
     "text": [
      "adding feature ipad_max_7days\n",
      "performing CV with features: ['days_to_end', 'num_country_max_1days', 'num_city_max_1days', 'android_max_1days', 'smarttv_max_1days', 'iphone_max_1days', 'ipad_max_1days', 'apple_max_1days', 'pc_max_1days', 'time_spent_sum_3days', 'time_spent_max_3days', 'num_title_ep_sum_3days', 'num_title_ep_max_3days', 'num_title_ru_sum_3days', 'num_title_ru_max_3days', 'num_country_max_3days', 'num_city_max_3days', 'other_content_sum_3days', 'top_1_sum_3days', 'top_2_sum_3days', 'top_3_sum_3days', 'top_4_sum_3days', 'top_5_sum_3days', 'top_6_sum_3days', 'top_7_sum_3days', 'top_8_sum_3days', 'top_9_sum_3days', 'top_10_sum_3days', 'android_max_3days', 'smarttv_max_3days', 'iphone_max_3days', 'ipad_max_3days', 'apple_max_3days', 'pc_max_3days', 'time_spent_sum_7days', 'time_spent_max_7days', 'num_title_ep_sum_7days', 'num_title_ep_max_7days', 'num_title_ru_sum_7days', 'num_title_ru_max_7days', 'num_country_max_7days', 'num_city_max_7days', 'other_content_sum_7days', 'top_1_sum_7days', 'top_2_sum_7days', 'top_3_sum_7days', 'top_4_sum_7days', 'top_5_sum_7days', 'top_6_sum_7days', 'top_7_sum_7days', 'top_8_sum_7days', 'top_9_sum_7days', 'top_10_sum_7days', 'android_max_7days', 'smarttv_max_7days', 'iphone_max_7days', 'ipad_max_7days']\n",
      "5-fold CV is : 0.6325 +/- 0.0017\n"
     ]
    },
    {
     "name": "stderr",
     "output_type": "stream",
     "text": [
      "\n",
      " 40%|█████████████▎                   | 57/141 [06:12<17:11, 12.28s/it]"
     ]
    },
    {
     "name": "stdout",
     "output_type": "stream",
     "text": [
      "adding feature apple_max_7days\n",
      "performing CV with features: ['days_to_end', 'num_country_max_1days', 'num_city_max_1days', 'android_max_1days', 'smarttv_max_1days', 'iphone_max_1days', 'ipad_max_1days', 'apple_max_1days', 'pc_max_1days', 'time_spent_sum_3days', 'time_spent_max_3days', 'num_title_ep_sum_3days', 'num_title_ep_max_3days', 'num_title_ru_sum_3days', 'num_title_ru_max_3days', 'num_country_max_3days', 'num_city_max_3days', 'other_content_sum_3days', 'top_1_sum_3days', 'top_2_sum_3days', 'top_3_sum_3days', 'top_4_sum_3days', 'top_5_sum_3days', 'top_6_sum_3days', 'top_7_sum_3days', 'top_8_sum_3days', 'top_9_sum_3days', 'top_10_sum_3days', 'android_max_3days', 'smarttv_max_3days', 'iphone_max_3days', 'ipad_max_3days', 'apple_max_3days', 'pc_max_3days', 'time_spent_sum_7days', 'time_spent_max_7days', 'num_title_ep_sum_7days', 'num_title_ep_max_7days', 'num_title_ru_sum_7days', 'num_title_ru_max_7days', 'num_country_max_7days', 'num_city_max_7days', 'other_content_sum_7days', 'top_1_sum_7days', 'top_2_sum_7days', 'top_3_sum_7days', 'top_4_sum_7days', 'top_5_sum_7days', 'top_6_sum_7days', 'top_7_sum_7days', 'top_8_sum_7days', 'top_9_sum_7days', 'top_10_sum_7days', 'android_max_7days', 'smarttv_max_7days', 'iphone_max_7days', 'ipad_max_7days', 'apple_max_7days']\n",
      "5-fold CV is : 0.6257 +/- 0.0046\n"
     ]
    },
    {
     "name": "stderr",
     "output_type": "stream",
     "text": [
      "\n",
      " 41%|█████████████▌                   | 58/141 [06:23<16:17, 11.78s/it]"
     ]
    },
    {
     "name": "stdout",
     "output_type": "stream",
     "text": [
      "adding feature pc_max_7days\n",
      "performing CV with features: ['days_to_end', 'num_country_max_1days', 'num_city_max_1days', 'android_max_1days', 'smarttv_max_1days', 'iphone_max_1days', 'ipad_max_1days', 'apple_max_1days', 'pc_max_1days', 'time_spent_sum_3days', 'time_spent_max_3days', 'num_title_ep_sum_3days', 'num_title_ep_max_3days', 'num_title_ru_sum_3days', 'num_title_ru_max_3days', 'num_country_max_3days', 'num_city_max_3days', 'other_content_sum_3days', 'top_1_sum_3days', 'top_2_sum_3days', 'top_3_sum_3days', 'top_4_sum_3days', 'top_5_sum_3days', 'top_6_sum_3days', 'top_7_sum_3days', 'top_8_sum_3days', 'top_9_sum_3days', 'top_10_sum_3days', 'android_max_3days', 'smarttv_max_3days', 'iphone_max_3days', 'ipad_max_3days', 'apple_max_3days', 'pc_max_3days', 'time_spent_sum_7days', 'time_spent_max_7days', 'num_title_ep_sum_7days', 'num_title_ep_max_7days', 'num_title_ru_sum_7days', 'num_title_ru_max_7days', 'num_country_max_7days', 'num_city_max_7days', 'other_content_sum_7days', 'top_1_sum_7days', 'top_2_sum_7days', 'top_3_sum_7days', 'top_4_sum_7days', 'top_5_sum_7days', 'top_6_sum_7days', 'top_7_sum_7days', 'top_8_sum_7days', 'top_9_sum_7days', 'top_10_sum_7days', 'android_max_7days', 'smarttv_max_7days', 'iphone_max_7days', 'ipad_max_7days', 'apple_max_7days', 'pc_max_7days']\n",
      "5-fold CV is : 0.6261 +/- 0.0051\n"
     ]
    },
    {
     "name": "stderr",
     "output_type": "stream",
     "text": [
      "\n",
      " 42%|█████████████▊                   | 59/141 [06:34<15:37, 11.43s/it]"
     ]
    },
    {
     "name": "stdout",
     "output_type": "stream",
     "text": [
      "adding feature time_spent_sum_14days\n",
      "performing CV with features: ['days_to_end', 'num_country_max_1days', 'num_city_max_1days', 'android_max_1days', 'smarttv_max_1days', 'iphone_max_1days', 'ipad_max_1days', 'apple_max_1days', 'pc_max_1days', 'time_spent_sum_3days', 'time_spent_max_3days', 'num_title_ep_sum_3days', 'num_title_ep_max_3days', 'num_title_ru_sum_3days', 'num_title_ru_max_3days', 'num_country_max_3days', 'num_city_max_3days', 'other_content_sum_3days', 'top_1_sum_3days', 'top_2_sum_3days', 'top_3_sum_3days', 'top_4_sum_3days', 'top_5_sum_3days', 'top_6_sum_3days', 'top_7_sum_3days', 'top_8_sum_3days', 'top_9_sum_3days', 'top_10_sum_3days', 'android_max_3days', 'smarttv_max_3days', 'iphone_max_3days', 'ipad_max_3days', 'apple_max_3days', 'pc_max_3days', 'time_spent_sum_7days', 'time_spent_max_7days', 'num_title_ep_sum_7days', 'num_title_ep_max_7days', 'num_title_ru_sum_7days', 'num_title_ru_max_7days', 'num_country_max_7days', 'num_city_max_7days', 'other_content_sum_7days', 'top_1_sum_7days', 'top_2_sum_7days', 'top_3_sum_7days', 'top_4_sum_7days', 'top_5_sum_7days', 'top_6_sum_7days', 'top_7_sum_7days', 'top_8_sum_7days', 'top_9_sum_7days', 'top_10_sum_7days', 'android_max_7days', 'smarttv_max_7days', 'iphone_max_7days', 'ipad_max_7days', 'apple_max_7days', 'pc_max_7days', 'time_spent_sum_14days']\n",
      "5-fold CV is : 0.6161 +/- 0.0117\n"
     ]
    },
    {
     "name": "stderr",
     "output_type": "stream",
     "text": [
      "\n",
      " 43%|██████████████                   | 60/141 [06:44<15:00, 11.12s/it]"
     ]
    },
    {
     "name": "stdout",
     "output_type": "stream",
     "text": [
      "adding feature time_spent_max_14days\n",
      "performing CV with features: ['days_to_end', 'num_country_max_1days', 'num_city_max_1days', 'android_max_1days', 'smarttv_max_1days', 'iphone_max_1days', 'ipad_max_1days', 'apple_max_1days', 'pc_max_1days', 'time_spent_sum_3days', 'time_spent_max_3days', 'num_title_ep_sum_3days', 'num_title_ep_max_3days', 'num_title_ru_sum_3days', 'num_title_ru_max_3days', 'num_country_max_3days', 'num_city_max_3days', 'other_content_sum_3days', 'top_1_sum_3days', 'top_2_sum_3days', 'top_3_sum_3days', 'top_4_sum_3days', 'top_5_sum_3days', 'top_6_sum_3days', 'top_7_sum_3days', 'top_8_sum_3days', 'top_9_sum_3days', 'top_10_sum_3days', 'android_max_3days', 'smarttv_max_3days', 'iphone_max_3days', 'ipad_max_3days', 'apple_max_3days', 'pc_max_3days', 'time_spent_sum_7days', 'time_spent_max_7days', 'num_title_ep_sum_7days', 'num_title_ep_max_7days', 'num_title_ru_sum_7days', 'num_title_ru_max_7days', 'num_country_max_7days', 'num_city_max_7days', 'other_content_sum_7days', 'top_1_sum_7days', 'top_2_sum_7days', 'top_3_sum_7days', 'top_4_sum_7days', 'top_5_sum_7days', 'top_6_sum_7days', 'top_7_sum_7days', 'top_8_sum_7days', 'top_9_sum_7days', 'top_10_sum_7days', 'android_max_7days', 'smarttv_max_7days', 'iphone_max_7days', 'ipad_max_7days', 'apple_max_7days', 'pc_max_7days', 'time_spent_sum_14days', 'time_spent_max_14days']\n",
      "5-fold CV is : 0.6202 +/- 0.0076\n"
     ]
    },
    {
     "name": "stderr",
     "output_type": "stream",
     "text": [
      "\n",
      " 43%|██████████████▎                  | 61/141 [06:58<15:53, 11.91s/it]"
     ]
    },
    {
     "name": "stdout",
     "output_type": "stream",
     "text": [
      "adding feature num_title_ep_sum_14days\n",
      "performing CV with features: ['days_to_end', 'num_country_max_1days', 'num_city_max_1days', 'android_max_1days', 'smarttv_max_1days', 'iphone_max_1days', 'ipad_max_1days', 'apple_max_1days', 'pc_max_1days', 'time_spent_sum_3days', 'time_spent_max_3days', 'num_title_ep_sum_3days', 'num_title_ep_max_3days', 'num_title_ru_sum_3days', 'num_title_ru_max_3days', 'num_country_max_3days', 'num_city_max_3days', 'other_content_sum_3days', 'top_1_sum_3days', 'top_2_sum_3days', 'top_3_sum_3days', 'top_4_sum_3days', 'top_5_sum_3days', 'top_6_sum_3days', 'top_7_sum_3days', 'top_8_sum_3days', 'top_9_sum_3days', 'top_10_sum_3days', 'android_max_3days', 'smarttv_max_3days', 'iphone_max_3days', 'ipad_max_3days', 'apple_max_3days', 'pc_max_3days', 'time_spent_sum_7days', 'time_spent_max_7days', 'num_title_ep_sum_7days', 'num_title_ep_max_7days', 'num_title_ru_sum_7days', 'num_title_ru_max_7days', 'num_country_max_7days', 'num_city_max_7days', 'other_content_sum_7days', 'top_1_sum_7days', 'top_2_sum_7days', 'top_3_sum_7days', 'top_4_sum_7days', 'top_5_sum_7days', 'top_6_sum_7days', 'top_7_sum_7days', 'top_8_sum_7days', 'top_9_sum_7days', 'top_10_sum_7days', 'android_max_7days', 'smarttv_max_7days', 'iphone_max_7days', 'ipad_max_7days', 'apple_max_7days', 'pc_max_7days', 'time_spent_sum_14days', 'time_spent_max_14days', 'num_title_ep_sum_14days']\n",
      "5-fold CV is : 0.6164 +/- 0.0061\n"
     ]
    },
    {
     "name": "stderr",
     "output_type": "stream",
     "text": [
      "\n",
      " 44%|██████████████▌                  | 62/141 [07:12<16:43, 12.71s/it]"
     ]
    },
    {
     "name": "stdout",
     "output_type": "stream",
     "text": [
      "adding feature num_title_ep_max_14days\n",
      "performing CV with features: ['days_to_end', 'num_country_max_1days', 'num_city_max_1days', 'android_max_1days', 'smarttv_max_1days', 'iphone_max_1days', 'ipad_max_1days', 'apple_max_1days', 'pc_max_1days', 'time_spent_sum_3days', 'time_spent_max_3days', 'num_title_ep_sum_3days', 'num_title_ep_max_3days', 'num_title_ru_sum_3days', 'num_title_ru_max_3days', 'num_country_max_3days', 'num_city_max_3days', 'other_content_sum_3days', 'top_1_sum_3days', 'top_2_sum_3days', 'top_3_sum_3days', 'top_4_sum_3days', 'top_5_sum_3days', 'top_6_sum_3days', 'top_7_sum_3days', 'top_8_sum_3days', 'top_9_sum_3days', 'top_10_sum_3days', 'android_max_3days', 'smarttv_max_3days', 'iphone_max_3days', 'ipad_max_3days', 'apple_max_3days', 'pc_max_3days', 'time_spent_sum_7days', 'time_spent_max_7days', 'num_title_ep_sum_7days', 'num_title_ep_max_7days', 'num_title_ru_sum_7days', 'num_title_ru_max_7days', 'num_country_max_7days', 'num_city_max_7days', 'other_content_sum_7days', 'top_1_sum_7days', 'top_2_sum_7days', 'top_3_sum_7days', 'top_4_sum_7days', 'top_5_sum_7days', 'top_6_sum_7days', 'top_7_sum_7days', 'top_8_sum_7days', 'top_9_sum_7days', 'top_10_sum_7days', 'android_max_7days', 'smarttv_max_7days', 'iphone_max_7days', 'ipad_max_7days', 'apple_max_7days', 'pc_max_7days', 'time_spent_sum_14days', 'time_spent_max_14days', 'num_title_ep_sum_14days', 'num_title_ep_max_14days']\n",
      "5-fold CV is : 0.6215 +/- 0.0055\n"
     ]
    },
    {
     "name": "stderr",
     "output_type": "stream",
     "text": [
      "\n",
      " 45%|██████████████▋                  | 63/141 [07:28<17:35, 13.53s/it]"
     ]
    },
    {
     "name": "stdout",
     "output_type": "stream",
     "text": [
      "adding feature num_title_ru_sum_14days\n",
      "performing CV with features: ['days_to_end', 'num_country_max_1days', 'num_city_max_1days', 'android_max_1days', 'smarttv_max_1days', 'iphone_max_1days', 'ipad_max_1days', 'apple_max_1days', 'pc_max_1days', 'time_spent_sum_3days', 'time_spent_max_3days', 'num_title_ep_sum_3days', 'num_title_ep_max_3days', 'num_title_ru_sum_3days', 'num_title_ru_max_3days', 'num_country_max_3days', 'num_city_max_3days', 'other_content_sum_3days', 'top_1_sum_3days', 'top_2_sum_3days', 'top_3_sum_3days', 'top_4_sum_3days', 'top_5_sum_3days', 'top_6_sum_3days', 'top_7_sum_3days', 'top_8_sum_3days', 'top_9_sum_3days', 'top_10_sum_3days', 'android_max_3days', 'smarttv_max_3days', 'iphone_max_3days', 'ipad_max_3days', 'apple_max_3days', 'pc_max_3days', 'time_spent_sum_7days', 'time_spent_max_7days', 'num_title_ep_sum_7days', 'num_title_ep_max_7days', 'num_title_ru_sum_7days', 'num_title_ru_max_7days', 'num_country_max_7days', 'num_city_max_7days', 'other_content_sum_7days', 'top_1_sum_7days', 'top_2_sum_7days', 'top_3_sum_7days', 'top_4_sum_7days', 'top_5_sum_7days', 'top_6_sum_7days', 'top_7_sum_7days', 'top_8_sum_7days', 'top_9_sum_7days', 'top_10_sum_7days', 'android_max_7days', 'smarttv_max_7days', 'iphone_max_7days', 'ipad_max_7days', 'apple_max_7days', 'pc_max_7days', 'time_spent_sum_14days', 'time_spent_max_14days', 'num_title_ep_sum_14days', 'num_title_ep_max_14days', 'num_title_ru_sum_14days']\n",
      "5-fold CV is : 0.6248 +/- 0.0063\n"
     ]
    },
    {
     "name": "stderr",
     "output_type": "stream",
     "text": [
      "\n",
      " 45%|██████████████▉                  | 64/141 [07:44<18:18, 14.26s/it]"
     ]
    },
    {
     "name": "stdout",
     "output_type": "stream",
     "text": [
      "adding feature num_title_ru_max_14days\n",
      "performing CV with features: ['days_to_end', 'num_country_max_1days', 'num_city_max_1days', 'android_max_1days', 'smarttv_max_1days', 'iphone_max_1days', 'ipad_max_1days', 'apple_max_1days', 'pc_max_1days', 'time_spent_sum_3days', 'time_spent_max_3days', 'num_title_ep_sum_3days', 'num_title_ep_max_3days', 'num_title_ru_sum_3days', 'num_title_ru_max_3days', 'num_country_max_3days', 'num_city_max_3days', 'other_content_sum_3days', 'top_1_sum_3days', 'top_2_sum_3days', 'top_3_sum_3days', 'top_4_sum_3days', 'top_5_sum_3days', 'top_6_sum_3days', 'top_7_sum_3days', 'top_8_sum_3days', 'top_9_sum_3days', 'top_10_sum_3days', 'android_max_3days', 'smarttv_max_3days', 'iphone_max_3days', 'ipad_max_3days', 'apple_max_3days', 'pc_max_3days', 'time_spent_sum_7days', 'time_spent_max_7days', 'num_title_ep_sum_7days', 'num_title_ep_max_7days', 'num_title_ru_sum_7days', 'num_title_ru_max_7days', 'num_country_max_7days', 'num_city_max_7days', 'other_content_sum_7days', 'top_1_sum_7days', 'top_2_sum_7days', 'top_3_sum_7days', 'top_4_sum_7days', 'top_5_sum_7days', 'top_6_sum_7days', 'top_7_sum_7days', 'top_8_sum_7days', 'top_9_sum_7days', 'top_10_sum_7days', 'android_max_7days', 'smarttv_max_7days', 'iphone_max_7days', 'ipad_max_7days', 'apple_max_7days', 'pc_max_7days', 'time_spent_sum_14days', 'time_spent_max_14days', 'num_title_ep_sum_14days', 'num_title_ep_max_14days', 'num_title_ru_sum_14days', 'num_title_ru_max_14days']\n",
      "5-fold CV is : 0.6276 +/- 0.0064\n"
     ]
    },
    {
     "name": "stderr",
     "output_type": "stream",
     "text": [
      "\n",
      " 46%|███████████████▏                 | 65/141 [08:00<18:44, 14.79s/it]"
     ]
    },
    {
     "name": "stdout",
     "output_type": "stream",
     "text": [
      "adding feature num_country_max_14days\n",
      "performing CV with features: ['days_to_end', 'num_country_max_1days', 'num_city_max_1days', 'android_max_1days', 'smarttv_max_1days', 'iphone_max_1days', 'ipad_max_1days', 'apple_max_1days', 'pc_max_1days', 'time_spent_sum_3days', 'time_spent_max_3days', 'num_title_ep_sum_3days', 'num_title_ep_max_3days', 'num_title_ru_sum_3days', 'num_title_ru_max_3days', 'num_country_max_3days', 'num_city_max_3days', 'other_content_sum_3days', 'top_1_sum_3days', 'top_2_sum_3days', 'top_3_sum_3days', 'top_4_sum_3days', 'top_5_sum_3days', 'top_6_sum_3days', 'top_7_sum_3days', 'top_8_sum_3days', 'top_9_sum_3days', 'top_10_sum_3days', 'android_max_3days', 'smarttv_max_3days', 'iphone_max_3days', 'ipad_max_3days', 'apple_max_3days', 'pc_max_3days', 'time_spent_sum_7days', 'time_spent_max_7days', 'num_title_ep_sum_7days', 'num_title_ep_max_7days', 'num_title_ru_sum_7days', 'num_title_ru_max_7days', 'num_country_max_7days', 'num_city_max_7days', 'other_content_sum_7days', 'top_1_sum_7days', 'top_2_sum_7days', 'top_3_sum_7days', 'top_4_sum_7days', 'top_5_sum_7days', 'top_6_sum_7days', 'top_7_sum_7days', 'top_8_sum_7days', 'top_9_sum_7days', 'top_10_sum_7days', 'android_max_7days', 'smarttv_max_7days', 'iphone_max_7days', 'ipad_max_7days', 'apple_max_7days', 'pc_max_7days', 'time_spent_sum_14days', 'time_spent_max_14days', 'num_title_ep_sum_14days', 'num_title_ep_max_14days', 'num_title_ru_sum_14days', 'num_title_ru_max_14days', 'num_country_max_14days']\n",
      "5-fold CV is : 0.6292 +/- 0.0051\n"
     ]
    },
    {
     "name": "stderr",
     "output_type": "stream",
     "text": [
      "\n",
      " 47%|███████████████▍                 | 66/141 [08:17<19:17, 15.43s/it]"
     ]
    },
    {
     "name": "stdout",
     "output_type": "stream",
     "text": [
      "adding feature num_city_max_14days\n",
      "performing CV with features: ['days_to_end', 'num_country_max_1days', 'num_city_max_1days', 'android_max_1days', 'smarttv_max_1days', 'iphone_max_1days', 'ipad_max_1days', 'apple_max_1days', 'pc_max_1days', 'time_spent_sum_3days', 'time_spent_max_3days', 'num_title_ep_sum_3days', 'num_title_ep_max_3days', 'num_title_ru_sum_3days', 'num_title_ru_max_3days', 'num_country_max_3days', 'num_city_max_3days', 'other_content_sum_3days', 'top_1_sum_3days', 'top_2_sum_3days', 'top_3_sum_3days', 'top_4_sum_3days', 'top_5_sum_3days', 'top_6_sum_3days', 'top_7_sum_3days', 'top_8_sum_3days', 'top_9_sum_3days', 'top_10_sum_3days', 'android_max_3days', 'smarttv_max_3days', 'iphone_max_3days', 'ipad_max_3days', 'apple_max_3days', 'pc_max_3days', 'time_spent_sum_7days', 'time_spent_max_7days', 'num_title_ep_sum_7days', 'num_title_ep_max_7days', 'num_title_ru_sum_7days', 'num_title_ru_max_7days', 'num_country_max_7days', 'num_city_max_7days', 'other_content_sum_7days', 'top_1_sum_7days', 'top_2_sum_7days', 'top_3_sum_7days', 'top_4_sum_7days', 'top_5_sum_7days', 'top_6_sum_7days', 'top_7_sum_7days', 'top_8_sum_7days', 'top_9_sum_7days', 'top_10_sum_7days', 'android_max_7days', 'smarttv_max_7days', 'iphone_max_7days', 'ipad_max_7days', 'apple_max_7days', 'pc_max_7days', 'time_spent_sum_14days', 'time_spent_max_14days', 'num_title_ep_sum_14days', 'num_title_ep_max_14days', 'num_title_ru_sum_14days', 'num_title_ru_max_14days', 'num_country_max_14days', 'num_city_max_14days']\n",
      "5-fold CV is : 0.6276 +/- 0.0049\n"
     ]
    },
    {
     "name": "stderr",
     "output_type": "stream",
     "text": [
      "\n",
      " 48%|███████████████▋                 | 67/141 [08:34<19:55, 16.16s/it]"
     ]
    },
    {
     "name": "stdout",
     "output_type": "stream",
     "text": [
      "adding feature other_content_sum_14days\n",
      "performing CV with features: ['days_to_end', 'num_country_max_1days', 'num_city_max_1days', 'android_max_1days', 'smarttv_max_1days', 'iphone_max_1days', 'ipad_max_1days', 'apple_max_1days', 'pc_max_1days', 'time_spent_sum_3days', 'time_spent_max_3days', 'num_title_ep_sum_3days', 'num_title_ep_max_3days', 'num_title_ru_sum_3days', 'num_title_ru_max_3days', 'num_country_max_3days', 'num_city_max_3days', 'other_content_sum_3days', 'top_1_sum_3days', 'top_2_sum_3days', 'top_3_sum_3days', 'top_4_sum_3days', 'top_5_sum_3days', 'top_6_sum_3days', 'top_7_sum_3days', 'top_8_sum_3days', 'top_9_sum_3days', 'top_10_sum_3days', 'android_max_3days', 'smarttv_max_3days', 'iphone_max_3days', 'ipad_max_3days', 'apple_max_3days', 'pc_max_3days', 'time_spent_sum_7days', 'time_spent_max_7days', 'num_title_ep_sum_7days', 'num_title_ep_max_7days', 'num_title_ru_sum_7days', 'num_title_ru_max_7days', 'num_country_max_7days', 'num_city_max_7days', 'other_content_sum_7days', 'top_1_sum_7days', 'top_2_sum_7days', 'top_3_sum_7days', 'top_4_sum_7days', 'top_5_sum_7days', 'top_6_sum_7days', 'top_7_sum_7days', 'top_8_sum_7days', 'top_9_sum_7days', 'top_10_sum_7days', 'android_max_7days', 'smarttv_max_7days', 'iphone_max_7days', 'ipad_max_7days', 'apple_max_7days', 'pc_max_7days', 'time_spent_sum_14days', 'time_spent_max_14days', 'num_title_ep_sum_14days', 'num_title_ep_max_14days', 'num_title_ru_sum_14days', 'num_title_ru_max_14days', 'num_country_max_14days', 'num_city_max_14days', 'other_content_sum_14days']\n",
      "5-fold CV is : 0.623 +/- 0.0046\n"
     ]
    },
    {
     "name": "stderr",
     "output_type": "stream",
     "text": [
      "\n",
      " 48%|███████████████▉                 | 68/141 [08:51<19:52, 16.33s/it]"
     ]
    },
    {
     "name": "stdout",
     "output_type": "stream",
     "text": [
      "adding feature top_1_sum_14days\n",
      "performing CV with features: ['days_to_end', 'num_country_max_1days', 'num_city_max_1days', 'android_max_1days', 'smarttv_max_1days', 'iphone_max_1days', 'ipad_max_1days', 'apple_max_1days', 'pc_max_1days', 'time_spent_sum_3days', 'time_spent_max_3days', 'num_title_ep_sum_3days', 'num_title_ep_max_3days', 'num_title_ru_sum_3days', 'num_title_ru_max_3days', 'num_country_max_3days', 'num_city_max_3days', 'other_content_sum_3days', 'top_1_sum_3days', 'top_2_sum_3days', 'top_3_sum_3days', 'top_4_sum_3days', 'top_5_sum_3days', 'top_6_sum_3days', 'top_7_sum_3days', 'top_8_sum_3days', 'top_9_sum_3days', 'top_10_sum_3days', 'android_max_3days', 'smarttv_max_3days', 'iphone_max_3days', 'ipad_max_3days', 'apple_max_3days', 'pc_max_3days', 'time_spent_sum_7days', 'time_spent_max_7days', 'num_title_ep_sum_7days', 'num_title_ep_max_7days', 'num_title_ru_sum_7days', 'num_title_ru_max_7days', 'num_country_max_7days', 'num_city_max_7days', 'other_content_sum_7days', 'top_1_sum_7days', 'top_2_sum_7days', 'top_3_sum_7days', 'top_4_sum_7days', 'top_5_sum_7days', 'top_6_sum_7days', 'top_7_sum_7days', 'top_8_sum_7days', 'top_9_sum_7days', 'top_10_sum_7days', 'android_max_7days', 'smarttv_max_7days', 'iphone_max_7days', 'ipad_max_7days', 'apple_max_7days', 'pc_max_7days', 'time_spent_sum_14days', 'time_spent_max_14days', 'num_title_ep_sum_14days', 'num_title_ep_max_14days', 'num_title_ru_sum_14days', 'num_title_ru_max_14days', 'num_country_max_14days', 'num_city_max_14days', 'other_content_sum_14days', 'top_1_sum_14days']\n",
      "5-fold CV is : 0.6348 +/- 0.0057\n"
     ]
    },
    {
     "name": "stderr",
     "output_type": "stream",
     "text": [
      "\n",
      " 49%|████████████████▏                | 69/141 [09:15<22:21, 18.63s/it]"
     ]
    },
    {
     "name": "stdout",
     "output_type": "stream",
     "text": [
      "adding feature top_2_sum_14days\n",
      "performing CV with features: ['days_to_end', 'num_country_max_1days', 'num_city_max_1days', 'android_max_1days', 'smarttv_max_1days', 'iphone_max_1days', 'ipad_max_1days', 'apple_max_1days', 'pc_max_1days', 'time_spent_sum_3days', 'time_spent_max_3days', 'num_title_ep_sum_3days', 'num_title_ep_max_3days', 'num_title_ru_sum_3days', 'num_title_ru_max_3days', 'num_country_max_3days', 'num_city_max_3days', 'other_content_sum_3days', 'top_1_sum_3days', 'top_2_sum_3days', 'top_3_sum_3days', 'top_4_sum_3days', 'top_5_sum_3days', 'top_6_sum_3days', 'top_7_sum_3days', 'top_8_sum_3days', 'top_9_sum_3days', 'top_10_sum_3days', 'android_max_3days', 'smarttv_max_3days', 'iphone_max_3days', 'ipad_max_3days', 'apple_max_3days', 'pc_max_3days', 'time_spent_sum_7days', 'time_spent_max_7days', 'num_title_ep_sum_7days', 'num_title_ep_max_7days', 'num_title_ru_sum_7days', 'num_title_ru_max_7days', 'num_country_max_7days', 'num_city_max_7days', 'other_content_sum_7days', 'top_1_sum_7days', 'top_2_sum_7days', 'top_3_sum_7days', 'top_4_sum_7days', 'top_5_sum_7days', 'top_6_sum_7days', 'top_7_sum_7days', 'top_8_sum_7days', 'top_9_sum_7days', 'top_10_sum_7days', 'android_max_7days', 'smarttv_max_7days', 'iphone_max_7days', 'ipad_max_7days', 'apple_max_7days', 'pc_max_7days', 'time_spent_sum_14days', 'time_spent_max_14days', 'num_title_ep_sum_14days', 'num_title_ep_max_14days', 'num_title_ru_sum_14days', 'num_title_ru_max_14days', 'num_country_max_14days', 'num_city_max_14days', 'other_content_sum_14days', 'top_1_sum_14days', 'top_2_sum_14days']\n",
      "5-fold CV is : 0.6292 +/- 0.0069\n"
     ]
    },
    {
     "name": "stderr",
     "output_type": "stream",
     "text": [
      "\n",
      " 50%|████████████████▍                | 70/141 [09:36<22:54, 19.36s/it]"
     ]
    },
    {
     "name": "stdout",
     "output_type": "stream",
     "text": [
      "adding feature top_3_sum_14days\n",
      "performing CV with features: ['days_to_end', 'num_country_max_1days', 'num_city_max_1days', 'android_max_1days', 'smarttv_max_1days', 'iphone_max_1days', 'ipad_max_1days', 'apple_max_1days', 'pc_max_1days', 'time_spent_sum_3days', 'time_spent_max_3days', 'num_title_ep_sum_3days', 'num_title_ep_max_3days', 'num_title_ru_sum_3days', 'num_title_ru_max_3days', 'num_country_max_3days', 'num_city_max_3days', 'other_content_sum_3days', 'top_1_sum_3days', 'top_2_sum_3days', 'top_3_sum_3days', 'top_4_sum_3days', 'top_5_sum_3days', 'top_6_sum_3days', 'top_7_sum_3days', 'top_8_sum_3days', 'top_9_sum_3days', 'top_10_sum_3days', 'android_max_3days', 'smarttv_max_3days', 'iphone_max_3days', 'ipad_max_3days', 'apple_max_3days', 'pc_max_3days', 'time_spent_sum_7days', 'time_spent_max_7days', 'num_title_ep_sum_7days', 'num_title_ep_max_7days', 'num_title_ru_sum_7days', 'num_title_ru_max_7days', 'num_country_max_7days', 'num_city_max_7days', 'other_content_sum_7days', 'top_1_sum_7days', 'top_2_sum_7days', 'top_3_sum_7days', 'top_4_sum_7days', 'top_5_sum_7days', 'top_6_sum_7days', 'top_7_sum_7days', 'top_8_sum_7days', 'top_9_sum_7days', 'top_10_sum_7days', 'android_max_7days', 'smarttv_max_7days', 'iphone_max_7days', 'ipad_max_7days', 'apple_max_7days', 'pc_max_7days', 'time_spent_sum_14days', 'time_spent_max_14days', 'num_title_ep_sum_14days', 'num_title_ep_max_14days', 'num_title_ru_sum_14days', 'num_title_ru_max_14days', 'num_country_max_14days', 'num_city_max_14days', 'other_content_sum_14days', 'top_1_sum_14days', 'top_2_sum_14days', 'top_3_sum_14days']\n",
      "5-fold CV is : 0.6242 +/- 0.0032\n"
     ]
    },
    {
     "name": "stderr",
     "output_type": "stream",
     "text": [
      "\n",
      " 50%|████████████████▌                | 71/141 [09:54<22:05, 18.94s/it]"
     ]
    },
    {
     "name": "stdout",
     "output_type": "stream",
     "text": [
      "adding feature top_4_sum_14days\n",
      "performing CV with features: ['days_to_end', 'num_country_max_1days', 'num_city_max_1days', 'android_max_1days', 'smarttv_max_1days', 'iphone_max_1days', 'ipad_max_1days', 'apple_max_1days', 'pc_max_1days', 'time_spent_sum_3days', 'time_spent_max_3days', 'num_title_ep_sum_3days', 'num_title_ep_max_3days', 'num_title_ru_sum_3days', 'num_title_ru_max_3days', 'num_country_max_3days', 'num_city_max_3days', 'other_content_sum_3days', 'top_1_sum_3days', 'top_2_sum_3days', 'top_3_sum_3days', 'top_4_sum_3days', 'top_5_sum_3days', 'top_6_sum_3days', 'top_7_sum_3days', 'top_8_sum_3days', 'top_9_sum_3days', 'top_10_sum_3days', 'android_max_3days', 'smarttv_max_3days', 'iphone_max_3days', 'ipad_max_3days', 'apple_max_3days', 'pc_max_3days', 'time_spent_sum_7days', 'time_spent_max_7days', 'num_title_ep_sum_7days', 'num_title_ep_max_7days', 'num_title_ru_sum_7days', 'num_title_ru_max_7days', 'num_country_max_7days', 'num_city_max_7days', 'other_content_sum_7days', 'top_1_sum_7days', 'top_2_sum_7days', 'top_3_sum_7days', 'top_4_sum_7days', 'top_5_sum_7days', 'top_6_sum_7days', 'top_7_sum_7days', 'top_8_sum_7days', 'top_9_sum_7days', 'top_10_sum_7days', 'android_max_7days', 'smarttv_max_7days', 'iphone_max_7days', 'ipad_max_7days', 'apple_max_7days', 'pc_max_7days', 'time_spent_sum_14days', 'time_spent_max_14days', 'num_title_ep_sum_14days', 'num_title_ep_max_14days', 'num_title_ru_sum_14days', 'num_title_ru_max_14days', 'num_country_max_14days', 'num_city_max_14days', 'other_content_sum_14days', 'top_1_sum_14days', 'top_2_sum_14days', 'top_3_sum_14days', 'top_4_sum_14days']\n",
      "5-fold CV is : 0.6303 +/- 0.0033\n"
     ]
    },
    {
     "name": "stderr",
     "output_type": "stream",
     "text": [
      "\n",
      " 51%|████████████████▊                | 72/141 [10:15<22:21, 19.44s/it]"
     ]
    },
    {
     "name": "stdout",
     "output_type": "stream",
     "text": [
      "adding feature top_5_sum_14days\n",
      "performing CV with features: ['days_to_end', 'num_country_max_1days', 'num_city_max_1days', 'android_max_1days', 'smarttv_max_1days', 'iphone_max_1days', 'ipad_max_1days', 'apple_max_1days', 'pc_max_1days', 'time_spent_sum_3days', 'time_spent_max_3days', 'num_title_ep_sum_3days', 'num_title_ep_max_3days', 'num_title_ru_sum_3days', 'num_title_ru_max_3days', 'num_country_max_3days', 'num_city_max_3days', 'other_content_sum_3days', 'top_1_sum_3days', 'top_2_sum_3days', 'top_3_sum_3days', 'top_4_sum_3days', 'top_5_sum_3days', 'top_6_sum_3days', 'top_7_sum_3days', 'top_8_sum_3days', 'top_9_sum_3days', 'top_10_sum_3days', 'android_max_3days', 'smarttv_max_3days', 'iphone_max_3days', 'ipad_max_3days', 'apple_max_3days', 'pc_max_3days', 'time_spent_sum_7days', 'time_spent_max_7days', 'num_title_ep_sum_7days', 'num_title_ep_max_7days', 'num_title_ru_sum_7days', 'num_title_ru_max_7days', 'num_country_max_7days', 'num_city_max_7days', 'other_content_sum_7days', 'top_1_sum_7days', 'top_2_sum_7days', 'top_3_sum_7days', 'top_4_sum_7days', 'top_5_sum_7days', 'top_6_sum_7days', 'top_7_sum_7days', 'top_8_sum_7days', 'top_9_sum_7days', 'top_10_sum_7days', 'android_max_7days', 'smarttv_max_7days', 'iphone_max_7days', 'ipad_max_7days', 'apple_max_7days', 'pc_max_7days', 'time_spent_sum_14days', 'time_spent_max_14days', 'num_title_ep_sum_14days', 'num_title_ep_max_14days', 'num_title_ru_sum_14days', 'num_title_ru_max_14days', 'num_country_max_14days', 'num_city_max_14days', 'other_content_sum_14days', 'top_1_sum_14days', 'top_2_sum_14days', 'top_3_sum_14days', 'top_4_sum_14days', 'top_5_sum_14days']\n",
      "5-fold CV is : 0.6323 +/- 0.0032\n"
     ]
    },
    {
     "name": "stderr",
     "output_type": "stream",
     "text": [
      "\n",
      " 52%|█████████████████                | 73/141 [10:36<22:36, 19.95s/it]"
     ]
    },
    {
     "name": "stdout",
     "output_type": "stream",
     "text": [
      "adding feature top_6_sum_14days\n",
      "performing CV with features: ['days_to_end', 'num_country_max_1days', 'num_city_max_1days', 'android_max_1days', 'smarttv_max_1days', 'iphone_max_1days', 'ipad_max_1days', 'apple_max_1days', 'pc_max_1days', 'time_spent_sum_3days', 'time_spent_max_3days', 'num_title_ep_sum_3days', 'num_title_ep_max_3days', 'num_title_ru_sum_3days', 'num_title_ru_max_3days', 'num_country_max_3days', 'num_city_max_3days', 'other_content_sum_3days', 'top_1_sum_3days', 'top_2_sum_3days', 'top_3_sum_3days', 'top_4_sum_3days', 'top_5_sum_3days', 'top_6_sum_3days', 'top_7_sum_3days', 'top_8_sum_3days', 'top_9_sum_3days', 'top_10_sum_3days', 'android_max_3days', 'smarttv_max_3days', 'iphone_max_3days', 'ipad_max_3days', 'apple_max_3days', 'pc_max_3days', 'time_spent_sum_7days', 'time_spent_max_7days', 'num_title_ep_sum_7days', 'num_title_ep_max_7days', 'num_title_ru_sum_7days', 'num_title_ru_max_7days', 'num_country_max_7days', 'num_city_max_7days', 'other_content_sum_7days', 'top_1_sum_7days', 'top_2_sum_7days', 'top_3_sum_7days', 'top_4_sum_7days', 'top_5_sum_7days', 'top_6_sum_7days', 'top_7_sum_7days', 'top_8_sum_7days', 'top_9_sum_7days', 'top_10_sum_7days', 'android_max_7days', 'smarttv_max_7days', 'iphone_max_7days', 'ipad_max_7days', 'apple_max_7days', 'pc_max_7days', 'time_spent_sum_14days', 'time_spent_max_14days', 'num_title_ep_sum_14days', 'num_title_ep_max_14days', 'num_title_ru_sum_14days', 'num_title_ru_max_14days', 'num_country_max_14days', 'num_city_max_14days', 'other_content_sum_14days', 'top_1_sum_14days', 'top_2_sum_14days', 'top_3_sum_14days', 'top_4_sum_14days', 'top_5_sum_14days', 'top_6_sum_14days']\n",
      "5-fold CV is : 0.6333 +/- 0.0059\n"
     ]
    },
    {
     "name": "stderr",
     "output_type": "stream",
     "text": [
      "\n",
      " 52%|█████████████████▎               | 74/141 [11:00<23:45, 21.28s/it]"
     ]
    },
    {
     "name": "stdout",
     "output_type": "stream",
     "text": [
      "adding feature top_7_sum_14days\n",
      "performing CV with features: ['days_to_end', 'num_country_max_1days', 'num_city_max_1days', 'android_max_1days', 'smarttv_max_1days', 'iphone_max_1days', 'ipad_max_1days', 'apple_max_1days', 'pc_max_1days', 'time_spent_sum_3days', 'time_spent_max_3days', 'num_title_ep_sum_3days', 'num_title_ep_max_3days', 'num_title_ru_sum_3days', 'num_title_ru_max_3days', 'num_country_max_3days', 'num_city_max_3days', 'other_content_sum_3days', 'top_1_sum_3days', 'top_2_sum_3days', 'top_3_sum_3days', 'top_4_sum_3days', 'top_5_sum_3days', 'top_6_sum_3days', 'top_7_sum_3days', 'top_8_sum_3days', 'top_9_sum_3days', 'top_10_sum_3days', 'android_max_3days', 'smarttv_max_3days', 'iphone_max_3days', 'ipad_max_3days', 'apple_max_3days', 'pc_max_3days', 'time_spent_sum_7days', 'time_spent_max_7days', 'num_title_ep_sum_7days', 'num_title_ep_max_7days', 'num_title_ru_sum_7days', 'num_title_ru_max_7days', 'num_country_max_7days', 'num_city_max_7days', 'other_content_sum_7days', 'top_1_sum_7days', 'top_2_sum_7days', 'top_3_sum_7days', 'top_4_sum_7days', 'top_5_sum_7days', 'top_6_sum_7days', 'top_7_sum_7days', 'top_8_sum_7days', 'top_9_sum_7days', 'top_10_sum_7days', 'android_max_7days', 'smarttv_max_7days', 'iphone_max_7days', 'ipad_max_7days', 'apple_max_7days', 'pc_max_7days', 'time_spent_sum_14days', 'time_spent_max_14days', 'num_title_ep_sum_14days', 'num_title_ep_max_14days', 'num_title_ru_sum_14days', 'num_title_ru_max_14days', 'num_country_max_14days', 'num_city_max_14days', 'other_content_sum_14days', 'top_1_sum_14days', 'top_2_sum_14days', 'top_3_sum_14days', 'top_4_sum_14days', 'top_5_sum_14days', 'top_6_sum_14days', 'top_7_sum_14days']\n",
      "5-fold CV is : 0.6341 +/- 0.0036\n"
     ]
    },
    {
     "name": "stderr",
     "output_type": "stream",
     "text": [
      "\n",
      " 53%|█████████████████▌               | 75/141 [11:25<24:29, 22.26s/it]"
     ]
    },
    {
     "name": "stdout",
     "output_type": "stream",
     "text": [
      "adding feature top_8_sum_14days\n",
      "performing CV with features: ['days_to_end', 'num_country_max_1days', 'num_city_max_1days', 'android_max_1days', 'smarttv_max_1days', 'iphone_max_1days', 'ipad_max_1days', 'apple_max_1days', 'pc_max_1days', 'time_spent_sum_3days', 'time_spent_max_3days', 'num_title_ep_sum_3days', 'num_title_ep_max_3days', 'num_title_ru_sum_3days', 'num_title_ru_max_3days', 'num_country_max_3days', 'num_city_max_3days', 'other_content_sum_3days', 'top_1_sum_3days', 'top_2_sum_3days', 'top_3_sum_3days', 'top_4_sum_3days', 'top_5_sum_3days', 'top_6_sum_3days', 'top_7_sum_3days', 'top_8_sum_3days', 'top_9_sum_3days', 'top_10_sum_3days', 'android_max_3days', 'smarttv_max_3days', 'iphone_max_3days', 'ipad_max_3days', 'apple_max_3days', 'pc_max_3days', 'time_spent_sum_7days', 'time_spent_max_7days', 'num_title_ep_sum_7days', 'num_title_ep_max_7days', 'num_title_ru_sum_7days', 'num_title_ru_max_7days', 'num_country_max_7days', 'num_city_max_7days', 'other_content_sum_7days', 'top_1_sum_7days', 'top_2_sum_7days', 'top_3_sum_7days', 'top_4_sum_7days', 'top_5_sum_7days', 'top_6_sum_7days', 'top_7_sum_7days', 'top_8_sum_7days', 'top_9_sum_7days', 'top_10_sum_7days', 'android_max_7days', 'smarttv_max_7days', 'iphone_max_7days', 'ipad_max_7days', 'apple_max_7days', 'pc_max_7days', 'time_spent_sum_14days', 'time_spent_max_14days', 'num_title_ep_sum_14days', 'num_title_ep_max_14days', 'num_title_ru_sum_14days', 'num_title_ru_max_14days', 'num_country_max_14days', 'num_city_max_14days', 'other_content_sum_14days', 'top_1_sum_14days', 'top_2_sum_14days', 'top_3_sum_14days', 'top_4_sum_14days', 'top_5_sum_14days', 'top_6_sum_14days', 'top_7_sum_14days', 'top_8_sum_14days']\n",
      "5-fold CV is : 0.6301 +/- 0.0063\n"
     ]
    },
    {
     "name": "stderr",
     "output_type": "stream",
     "text": [
      "\n",
      " 54%|█████████████████▊               | 76/141 [11:47<24:12, 22.35s/it]"
     ]
    },
    {
     "name": "stdout",
     "output_type": "stream",
     "text": [
      "adding feature top_9_sum_14days\n",
      "performing CV with features: ['days_to_end', 'num_country_max_1days', 'num_city_max_1days', 'android_max_1days', 'smarttv_max_1days', 'iphone_max_1days', 'ipad_max_1days', 'apple_max_1days', 'pc_max_1days', 'time_spent_sum_3days', 'time_spent_max_3days', 'num_title_ep_sum_3days', 'num_title_ep_max_3days', 'num_title_ru_sum_3days', 'num_title_ru_max_3days', 'num_country_max_3days', 'num_city_max_3days', 'other_content_sum_3days', 'top_1_sum_3days', 'top_2_sum_3days', 'top_3_sum_3days', 'top_4_sum_3days', 'top_5_sum_3days', 'top_6_sum_3days', 'top_7_sum_3days', 'top_8_sum_3days', 'top_9_sum_3days', 'top_10_sum_3days', 'android_max_3days', 'smarttv_max_3days', 'iphone_max_3days', 'ipad_max_3days', 'apple_max_3days', 'pc_max_3days', 'time_spent_sum_7days', 'time_spent_max_7days', 'num_title_ep_sum_7days', 'num_title_ep_max_7days', 'num_title_ru_sum_7days', 'num_title_ru_max_7days', 'num_country_max_7days', 'num_city_max_7days', 'other_content_sum_7days', 'top_1_sum_7days', 'top_2_sum_7days', 'top_3_sum_7days', 'top_4_sum_7days', 'top_5_sum_7days', 'top_6_sum_7days', 'top_7_sum_7days', 'top_8_sum_7days', 'top_9_sum_7days', 'top_10_sum_7days', 'android_max_7days', 'smarttv_max_7days', 'iphone_max_7days', 'ipad_max_7days', 'apple_max_7days', 'pc_max_7days', 'time_spent_sum_14days', 'time_spent_max_14days', 'num_title_ep_sum_14days', 'num_title_ep_max_14days', 'num_title_ru_sum_14days', 'num_title_ru_max_14days', 'num_country_max_14days', 'num_city_max_14days', 'other_content_sum_14days', 'top_1_sum_14days', 'top_2_sum_14days', 'top_3_sum_14days', 'top_4_sum_14days', 'top_5_sum_14days', 'top_6_sum_14days', 'top_7_sum_14days', 'top_8_sum_14days', 'top_9_sum_14days']\n",
      "5-fold CV is : 0.6313 +/- 0.0066\n"
     ]
    },
    {
     "name": "stderr",
     "output_type": "stream",
     "text": [
      "\n",
      " 55%|██████████████████               | 77/141 [12:10<24:01, 22.52s/it]"
     ]
    },
    {
     "name": "stdout",
     "output_type": "stream",
     "text": [
      "adding feature top_10_sum_14days\n",
      "performing CV with features: ['days_to_end', 'num_country_max_1days', 'num_city_max_1days', 'android_max_1days', 'smarttv_max_1days', 'iphone_max_1days', 'ipad_max_1days', 'apple_max_1days', 'pc_max_1days', 'time_spent_sum_3days', 'time_spent_max_3days', 'num_title_ep_sum_3days', 'num_title_ep_max_3days', 'num_title_ru_sum_3days', 'num_title_ru_max_3days', 'num_country_max_3days', 'num_city_max_3days', 'other_content_sum_3days', 'top_1_sum_3days', 'top_2_sum_3days', 'top_3_sum_3days', 'top_4_sum_3days', 'top_5_sum_3days', 'top_6_sum_3days', 'top_7_sum_3days', 'top_8_sum_3days', 'top_9_sum_3days', 'top_10_sum_3days', 'android_max_3days', 'smarttv_max_3days', 'iphone_max_3days', 'ipad_max_3days', 'apple_max_3days', 'pc_max_3days', 'time_spent_sum_7days', 'time_spent_max_7days', 'num_title_ep_sum_7days', 'num_title_ep_max_7days', 'num_title_ru_sum_7days', 'num_title_ru_max_7days', 'num_country_max_7days', 'num_city_max_7days', 'other_content_sum_7days', 'top_1_sum_7days', 'top_2_sum_7days', 'top_3_sum_7days', 'top_4_sum_7days', 'top_5_sum_7days', 'top_6_sum_7days', 'top_7_sum_7days', 'top_8_sum_7days', 'top_9_sum_7days', 'top_10_sum_7days', 'android_max_7days', 'smarttv_max_7days', 'iphone_max_7days', 'ipad_max_7days', 'apple_max_7days', 'pc_max_7days', 'time_spent_sum_14days', 'time_spent_max_14days', 'num_title_ep_sum_14days', 'num_title_ep_max_14days', 'num_title_ru_sum_14days', 'num_title_ru_max_14days', 'num_country_max_14days', 'num_city_max_14days', 'other_content_sum_14days', 'top_1_sum_14days', 'top_2_sum_14days', 'top_3_sum_14days', 'top_4_sum_14days', 'top_5_sum_14days', 'top_6_sum_14days', 'top_7_sum_14days', 'top_8_sum_14days', 'top_9_sum_14days', 'top_10_sum_14days']\n",
      "5-fold CV is : 0.6308 +/- 0.0072\n"
     ]
    },
    {
     "name": "stderr",
     "output_type": "stream",
     "text": [
      "\n",
      " 55%|██████████████████▎              | 78/141 [12:32<23:21, 22.24s/it]"
     ]
    },
    {
     "name": "stdout",
     "output_type": "stream",
     "text": [
      "adding feature android_max_14days\n",
      "performing CV with features: ['days_to_end', 'num_country_max_1days', 'num_city_max_1days', 'android_max_1days', 'smarttv_max_1days', 'iphone_max_1days', 'ipad_max_1days', 'apple_max_1days', 'pc_max_1days', 'time_spent_sum_3days', 'time_spent_max_3days', 'num_title_ep_sum_3days', 'num_title_ep_max_3days', 'num_title_ru_sum_3days', 'num_title_ru_max_3days', 'num_country_max_3days', 'num_city_max_3days', 'other_content_sum_3days', 'top_1_sum_3days', 'top_2_sum_3days', 'top_3_sum_3days', 'top_4_sum_3days', 'top_5_sum_3days', 'top_6_sum_3days', 'top_7_sum_3days', 'top_8_sum_3days', 'top_9_sum_3days', 'top_10_sum_3days', 'android_max_3days', 'smarttv_max_3days', 'iphone_max_3days', 'ipad_max_3days', 'apple_max_3days', 'pc_max_3days', 'time_spent_sum_7days', 'time_spent_max_7days', 'num_title_ep_sum_7days', 'num_title_ep_max_7days', 'num_title_ru_sum_7days', 'num_title_ru_max_7days', 'num_country_max_7days', 'num_city_max_7days', 'other_content_sum_7days', 'top_1_sum_7days', 'top_2_sum_7days', 'top_3_sum_7days', 'top_4_sum_7days', 'top_5_sum_7days', 'top_6_sum_7days', 'top_7_sum_7days', 'top_8_sum_7days', 'top_9_sum_7days', 'top_10_sum_7days', 'android_max_7days', 'smarttv_max_7days', 'iphone_max_7days', 'ipad_max_7days', 'apple_max_7days', 'pc_max_7days', 'time_spent_sum_14days', 'time_spent_max_14days', 'num_title_ep_sum_14days', 'num_title_ep_max_14days', 'num_title_ru_sum_14days', 'num_title_ru_max_14days', 'num_country_max_14days', 'num_city_max_14days', 'other_content_sum_14days', 'top_1_sum_14days', 'top_2_sum_14days', 'top_3_sum_14days', 'top_4_sum_14days', 'top_5_sum_14days', 'top_6_sum_14days', 'top_7_sum_14days', 'top_8_sum_14days', 'top_9_sum_14days', 'top_10_sum_14days', 'android_max_14days']\n",
      "5-fold CV is : 0.6294 +/- 0.0047\n"
     ]
    },
    {
     "name": "stderr",
     "output_type": "stream",
     "text": [
      "\n",
      " 56%|██████████████████▍              | 79/141 [12:53<22:32, 21.82s/it]"
     ]
    },
    {
     "name": "stdout",
     "output_type": "stream",
     "text": [
      "adding feature smarttv_max_14days\n",
      "performing CV with features: ['days_to_end', 'num_country_max_1days', 'num_city_max_1days', 'android_max_1days', 'smarttv_max_1days', 'iphone_max_1days', 'ipad_max_1days', 'apple_max_1days', 'pc_max_1days', 'time_spent_sum_3days', 'time_spent_max_3days', 'num_title_ep_sum_3days', 'num_title_ep_max_3days', 'num_title_ru_sum_3days', 'num_title_ru_max_3days', 'num_country_max_3days', 'num_city_max_3days', 'other_content_sum_3days', 'top_1_sum_3days', 'top_2_sum_3days', 'top_3_sum_3days', 'top_4_sum_3days', 'top_5_sum_3days', 'top_6_sum_3days', 'top_7_sum_3days', 'top_8_sum_3days', 'top_9_sum_3days', 'top_10_sum_3days', 'android_max_3days', 'smarttv_max_3days', 'iphone_max_3days', 'ipad_max_3days', 'apple_max_3days', 'pc_max_3days', 'time_spent_sum_7days', 'time_spent_max_7days', 'num_title_ep_sum_7days', 'num_title_ep_max_7days', 'num_title_ru_sum_7days', 'num_title_ru_max_7days', 'num_country_max_7days', 'num_city_max_7days', 'other_content_sum_7days', 'top_1_sum_7days', 'top_2_sum_7days', 'top_3_sum_7days', 'top_4_sum_7days', 'top_5_sum_7days', 'top_6_sum_7days', 'top_7_sum_7days', 'top_8_sum_7days', 'top_9_sum_7days', 'top_10_sum_7days', 'android_max_7days', 'smarttv_max_7days', 'iphone_max_7days', 'ipad_max_7days', 'apple_max_7days', 'pc_max_7days', 'time_spent_sum_14days', 'time_spent_max_14days', 'num_title_ep_sum_14days', 'num_title_ep_max_14days', 'num_title_ru_sum_14days', 'num_title_ru_max_14days', 'num_country_max_14days', 'num_city_max_14days', 'other_content_sum_14days', 'top_1_sum_14days', 'top_2_sum_14days', 'top_3_sum_14days', 'top_4_sum_14days', 'top_5_sum_14days', 'top_6_sum_14days', 'top_7_sum_14days', 'top_8_sum_14days', 'top_9_sum_14days', 'top_10_sum_14days', 'android_max_14days', 'smarttv_max_14days']\n",
      "5-fold CV is : 0.6344 +/- 0.0012\n"
     ]
    },
    {
     "name": "stderr",
     "output_type": "stream",
     "text": [
      "\n",
      " 57%|██████████████████▋              | 80/141 [13:17<22:59, 22.62s/it]"
     ]
    },
    {
     "name": "stdout",
     "output_type": "stream",
     "text": [
      "adding feature iphone_max_14days\n",
      "performing CV with features: ['days_to_end', 'num_country_max_1days', 'num_city_max_1days', 'android_max_1days', 'smarttv_max_1days', 'iphone_max_1days', 'ipad_max_1days', 'apple_max_1days', 'pc_max_1days', 'time_spent_sum_3days', 'time_spent_max_3days', 'num_title_ep_sum_3days', 'num_title_ep_max_3days', 'num_title_ru_sum_3days', 'num_title_ru_max_3days', 'num_country_max_3days', 'num_city_max_3days', 'other_content_sum_3days', 'top_1_sum_3days', 'top_2_sum_3days', 'top_3_sum_3days', 'top_4_sum_3days', 'top_5_sum_3days', 'top_6_sum_3days', 'top_7_sum_3days', 'top_8_sum_3days', 'top_9_sum_3days', 'top_10_sum_3days', 'android_max_3days', 'smarttv_max_3days', 'iphone_max_3days', 'ipad_max_3days', 'apple_max_3days', 'pc_max_3days', 'time_spent_sum_7days', 'time_spent_max_7days', 'num_title_ep_sum_7days', 'num_title_ep_max_7days', 'num_title_ru_sum_7days', 'num_title_ru_max_7days', 'num_country_max_7days', 'num_city_max_7days', 'other_content_sum_7days', 'top_1_sum_7days', 'top_2_sum_7days', 'top_3_sum_7days', 'top_4_sum_7days', 'top_5_sum_7days', 'top_6_sum_7days', 'top_7_sum_7days', 'top_8_sum_7days', 'top_9_sum_7days', 'top_10_sum_7days', 'android_max_7days', 'smarttv_max_7days', 'iphone_max_7days', 'ipad_max_7days', 'apple_max_7days', 'pc_max_7days', 'time_spent_sum_14days', 'time_spent_max_14days', 'num_title_ep_sum_14days', 'num_title_ep_max_14days', 'num_title_ru_sum_14days', 'num_title_ru_max_14days', 'num_country_max_14days', 'num_city_max_14days', 'other_content_sum_14days', 'top_1_sum_14days', 'top_2_sum_14days', 'top_3_sum_14days', 'top_4_sum_14days', 'top_5_sum_14days', 'top_6_sum_14days', 'top_7_sum_14days', 'top_8_sum_14days', 'top_9_sum_14days', 'top_10_sum_14days', 'android_max_14days', 'smarttv_max_14days', 'iphone_max_14days']\n",
      "5-fold CV is : 0.6315 +/- 0.0053\n"
     ]
    },
    {
     "name": "stderr",
     "output_type": "stream",
     "text": [
      "\n",
      " 57%|██████████████████▉              | 81/141 [13:41<23:00, 23.01s/it]"
     ]
    },
    {
     "name": "stdout",
     "output_type": "stream",
     "text": [
      "adding feature ipad_max_14days\n",
      "performing CV with features: ['days_to_end', 'num_country_max_1days', 'num_city_max_1days', 'android_max_1days', 'smarttv_max_1days', 'iphone_max_1days', 'ipad_max_1days', 'apple_max_1days', 'pc_max_1days', 'time_spent_sum_3days', 'time_spent_max_3days', 'num_title_ep_sum_3days', 'num_title_ep_max_3days', 'num_title_ru_sum_3days', 'num_title_ru_max_3days', 'num_country_max_3days', 'num_city_max_3days', 'other_content_sum_3days', 'top_1_sum_3days', 'top_2_sum_3days', 'top_3_sum_3days', 'top_4_sum_3days', 'top_5_sum_3days', 'top_6_sum_3days', 'top_7_sum_3days', 'top_8_sum_3days', 'top_9_sum_3days', 'top_10_sum_3days', 'android_max_3days', 'smarttv_max_3days', 'iphone_max_3days', 'ipad_max_3days', 'apple_max_3days', 'pc_max_3days', 'time_spent_sum_7days', 'time_spent_max_7days', 'num_title_ep_sum_7days', 'num_title_ep_max_7days', 'num_title_ru_sum_7days', 'num_title_ru_max_7days', 'num_country_max_7days', 'num_city_max_7days', 'other_content_sum_7days', 'top_1_sum_7days', 'top_2_sum_7days', 'top_3_sum_7days', 'top_4_sum_7days', 'top_5_sum_7days', 'top_6_sum_7days', 'top_7_sum_7days', 'top_8_sum_7days', 'top_9_sum_7days', 'top_10_sum_7days', 'android_max_7days', 'smarttv_max_7days', 'iphone_max_7days', 'ipad_max_7days', 'apple_max_7days', 'pc_max_7days', 'time_spent_sum_14days', 'time_spent_max_14days', 'num_title_ep_sum_14days', 'num_title_ep_max_14days', 'num_title_ru_sum_14days', 'num_title_ru_max_14days', 'num_country_max_14days', 'num_city_max_14days', 'other_content_sum_14days', 'top_1_sum_14days', 'top_2_sum_14days', 'top_3_sum_14days', 'top_4_sum_14days', 'top_5_sum_14days', 'top_6_sum_14days', 'top_7_sum_14days', 'top_8_sum_14days', 'top_9_sum_14days', 'top_10_sum_14days', 'android_max_14days', 'smarttv_max_14days', 'iphone_max_14days', 'ipad_max_14days']\n",
      "5-fold CV is : 0.6369 +/- 0.0051\n"
     ]
    },
    {
     "name": "stderr",
     "output_type": "stream",
     "text": [
      "\n",
      " 58%|███████████████████▏             | 82/141 [14:08<23:37, 24.02s/it]"
     ]
    },
    {
     "name": "stdout",
     "output_type": "stream",
     "text": [
      "adding feature apple_max_14days\n",
      "performing CV with features: ['days_to_end', 'num_country_max_1days', 'num_city_max_1days', 'android_max_1days', 'smarttv_max_1days', 'iphone_max_1days', 'ipad_max_1days', 'apple_max_1days', 'pc_max_1days', 'time_spent_sum_3days', 'time_spent_max_3days', 'num_title_ep_sum_3days', 'num_title_ep_max_3days', 'num_title_ru_sum_3days', 'num_title_ru_max_3days', 'num_country_max_3days', 'num_city_max_3days', 'other_content_sum_3days', 'top_1_sum_3days', 'top_2_sum_3days', 'top_3_sum_3days', 'top_4_sum_3days', 'top_5_sum_3days', 'top_6_sum_3days', 'top_7_sum_3days', 'top_8_sum_3days', 'top_9_sum_3days', 'top_10_sum_3days', 'android_max_3days', 'smarttv_max_3days', 'iphone_max_3days', 'ipad_max_3days', 'apple_max_3days', 'pc_max_3days', 'time_spent_sum_7days', 'time_spent_max_7days', 'num_title_ep_sum_7days', 'num_title_ep_max_7days', 'num_title_ru_sum_7days', 'num_title_ru_max_7days', 'num_country_max_7days', 'num_city_max_7days', 'other_content_sum_7days', 'top_1_sum_7days', 'top_2_sum_7days', 'top_3_sum_7days', 'top_4_sum_7days', 'top_5_sum_7days', 'top_6_sum_7days', 'top_7_sum_7days', 'top_8_sum_7days', 'top_9_sum_7days', 'top_10_sum_7days', 'android_max_7days', 'smarttv_max_7days', 'iphone_max_7days', 'ipad_max_7days', 'apple_max_7days', 'pc_max_7days', 'time_spent_sum_14days', 'time_spent_max_14days', 'num_title_ep_sum_14days', 'num_title_ep_max_14days', 'num_title_ru_sum_14days', 'num_title_ru_max_14days', 'num_country_max_14days', 'num_city_max_14days', 'other_content_sum_14days', 'top_1_sum_14days', 'top_2_sum_14days', 'top_3_sum_14days', 'top_4_sum_14days', 'top_5_sum_14days', 'top_6_sum_14days', 'top_7_sum_14days', 'top_8_sum_14days', 'top_9_sum_14days', 'top_10_sum_14days', 'android_max_14days', 'smarttv_max_14days', 'iphone_max_14days', 'ipad_max_14days', 'apple_max_14days']\n",
      "5-fold CV is : 0.6349 +/- 0.0047\n"
     ]
    },
    {
     "name": "stderr",
     "output_type": "stream",
     "text": [
      "\n",
      " 59%|███████████████████▍             | 83/141 [14:31<23:10, 23.97s/it]"
     ]
    },
    {
     "name": "stdout",
     "output_type": "stream",
     "text": [
      "adding feature pc_max_14days\n",
      "performing CV with features: ['days_to_end', 'num_country_max_1days', 'num_city_max_1days', 'android_max_1days', 'smarttv_max_1days', 'iphone_max_1days', 'ipad_max_1days', 'apple_max_1days', 'pc_max_1days', 'time_spent_sum_3days', 'time_spent_max_3days', 'num_title_ep_sum_3days', 'num_title_ep_max_3days', 'num_title_ru_sum_3days', 'num_title_ru_max_3days', 'num_country_max_3days', 'num_city_max_3days', 'other_content_sum_3days', 'top_1_sum_3days', 'top_2_sum_3days', 'top_3_sum_3days', 'top_4_sum_3days', 'top_5_sum_3days', 'top_6_sum_3days', 'top_7_sum_3days', 'top_8_sum_3days', 'top_9_sum_3days', 'top_10_sum_3days', 'android_max_3days', 'smarttv_max_3days', 'iphone_max_3days', 'ipad_max_3days', 'apple_max_3days', 'pc_max_3days', 'time_spent_sum_7days', 'time_spent_max_7days', 'num_title_ep_sum_7days', 'num_title_ep_max_7days', 'num_title_ru_sum_7days', 'num_title_ru_max_7days', 'num_country_max_7days', 'num_city_max_7days', 'other_content_sum_7days', 'top_1_sum_7days', 'top_2_sum_7days', 'top_3_sum_7days', 'top_4_sum_7days', 'top_5_sum_7days', 'top_6_sum_7days', 'top_7_sum_7days', 'top_8_sum_7days', 'top_9_sum_7days', 'top_10_sum_7days', 'android_max_7days', 'smarttv_max_7days', 'iphone_max_7days', 'ipad_max_7days', 'apple_max_7days', 'pc_max_7days', 'time_spent_sum_14days', 'time_spent_max_14days', 'num_title_ep_sum_14days', 'num_title_ep_max_14days', 'num_title_ru_sum_14days', 'num_title_ru_max_14days', 'num_country_max_14days', 'num_city_max_14days', 'other_content_sum_14days', 'top_1_sum_14days', 'top_2_sum_14days', 'top_3_sum_14days', 'top_4_sum_14days', 'top_5_sum_14days', 'top_6_sum_14days', 'top_7_sum_14days', 'top_8_sum_14days', 'top_9_sum_14days', 'top_10_sum_14days', 'android_max_14days', 'smarttv_max_14days', 'iphone_max_14days', 'ipad_max_14days', 'apple_max_14days', 'pc_max_14days']\n",
      "5-fold CV is : 0.6295 +/- 0.0081\n"
     ]
    },
    {
     "name": "stderr",
     "output_type": "stream",
     "text": [
      "\n",
      " 60%|███████████████████▋             | 84/141 [14:53<22:04, 23.23s/it]"
     ]
    },
    {
     "name": "stdout",
     "output_type": "stream",
     "text": [
      "adding feature time_spent_sum_21days\n",
      "performing CV with features: ['days_to_end', 'num_country_max_1days', 'num_city_max_1days', 'android_max_1days', 'smarttv_max_1days', 'iphone_max_1days', 'ipad_max_1days', 'apple_max_1days', 'pc_max_1days', 'time_spent_sum_3days', 'time_spent_max_3days', 'num_title_ep_sum_3days', 'num_title_ep_max_3days', 'num_title_ru_sum_3days', 'num_title_ru_max_3days', 'num_country_max_3days', 'num_city_max_3days', 'other_content_sum_3days', 'top_1_sum_3days', 'top_2_sum_3days', 'top_3_sum_3days', 'top_4_sum_3days', 'top_5_sum_3days', 'top_6_sum_3days', 'top_7_sum_3days', 'top_8_sum_3days', 'top_9_sum_3days', 'top_10_sum_3days', 'android_max_3days', 'smarttv_max_3days', 'iphone_max_3days', 'ipad_max_3days', 'apple_max_3days', 'pc_max_3days', 'time_spent_sum_7days', 'time_spent_max_7days', 'num_title_ep_sum_7days', 'num_title_ep_max_7days', 'num_title_ru_sum_7days', 'num_title_ru_max_7days', 'num_country_max_7days', 'num_city_max_7days', 'other_content_sum_7days', 'top_1_sum_7days', 'top_2_sum_7days', 'top_3_sum_7days', 'top_4_sum_7days', 'top_5_sum_7days', 'top_6_sum_7days', 'top_7_sum_7days', 'top_8_sum_7days', 'top_9_sum_7days', 'top_10_sum_7days', 'android_max_7days', 'smarttv_max_7days', 'iphone_max_7days', 'ipad_max_7days', 'apple_max_7days', 'pc_max_7days', 'time_spent_sum_14days', 'time_spent_max_14days', 'num_title_ep_sum_14days', 'num_title_ep_max_14days', 'num_title_ru_sum_14days', 'num_title_ru_max_14days', 'num_country_max_14days', 'num_city_max_14days', 'other_content_sum_14days', 'top_1_sum_14days', 'top_2_sum_14days', 'top_3_sum_14days', 'top_4_sum_14days', 'top_5_sum_14days', 'top_6_sum_14days', 'top_7_sum_14days', 'top_8_sum_14days', 'top_9_sum_14days', 'top_10_sum_14days', 'android_max_14days', 'smarttv_max_14days', 'iphone_max_14days', 'ipad_max_14days', 'apple_max_14days', 'pc_max_14days', 'time_spent_sum_21days']\n",
      "5-fold CV is : 0.632 +/- 0.005\n"
     ]
    },
    {
     "name": "stderr",
     "output_type": "stream",
     "text": [
      "\n",
      " 60%|███████████████████▉             | 85/141 [15:16<21:30, 23.05s/it]"
     ]
    },
    {
     "name": "stdout",
     "output_type": "stream",
     "text": [
      "adding feature time_spent_max_21days\n",
      "performing CV with features: ['days_to_end', 'num_country_max_1days', 'num_city_max_1days', 'android_max_1days', 'smarttv_max_1days', 'iphone_max_1days', 'ipad_max_1days', 'apple_max_1days', 'pc_max_1days', 'time_spent_sum_3days', 'time_spent_max_3days', 'num_title_ep_sum_3days', 'num_title_ep_max_3days', 'num_title_ru_sum_3days', 'num_title_ru_max_3days', 'num_country_max_3days', 'num_city_max_3days', 'other_content_sum_3days', 'top_1_sum_3days', 'top_2_sum_3days', 'top_3_sum_3days', 'top_4_sum_3days', 'top_5_sum_3days', 'top_6_sum_3days', 'top_7_sum_3days', 'top_8_sum_3days', 'top_9_sum_3days', 'top_10_sum_3days', 'android_max_3days', 'smarttv_max_3days', 'iphone_max_3days', 'ipad_max_3days', 'apple_max_3days', 'pc_max_3days', 'time_spent_sum_7days', 'time_spent_max_7days', 'num_title_ep_sum_7days', 'num_title_ep_max_7days', 'num_title_ru_sum_7days', 'num_title_ru_max_7days', 'num_country_max_7days', 'num_city_max_7days', 'other_content_sum_7days', 'top_1_sum_7days', 'top_2_sum_7days', 'top_3_sum_7days', 'top_4_sum_7days', 'top_5_sum_7days', 'top_6_sum_7days', 'top_7_sum_7days', 'top_8_sum_7days', 'top_9_sum_7days', 'top_10_sum_7days', 'android_max_7days', 'smarttv_max_7days', 'iphone_max_7days', 'ipad_max_7days', 'apple_max_7days', 'pc_max_7days', 'time_spent_sum_14days', 'time_spent_max_14days', 'num_title_ep_sum_14days', 'num_title_ep_max_14days', 'num_title_ru_sum_14days', 'num_title_ru_max_14days', 'num_country_max_14days', 'num_city_max_14days', 'other_content_sum_14days', 'top_1_sum_14days', 'top_2_sum_14days', 'top_3_sum_14days', 'top_4_sum_14days', 'top_5_sum_14days', 'top_6_sum_14days', 'top_7_sum_14days', 'top_8_sum_14days', 'top_9_sum_14days', 'top_10_sum_14days', 'android_max_14days', 'smarttv_max_14days', 'iphone_max_14days', 'ipad_max_14days', 'apple_max_14days', 'pc_max_14days', 'time_spent_sum_21days', 'time_spent_max_21days']\n",
      "5-fold CV is : 0.6299 +/- 0.0021\n"
     ]
    },
    {
     "name": "stderr",
     "output_type": "stream",
     "text": [
      "\n",
      " 61%|████████████████████▏            | 86/141 [15:41<21:41, 23.66s/it]"
     ]
    },
    {
     "name": "stdout",
     "output_type": "stream",
     "text": [
      "adding feature num_title_ep_sum_21days\n",
      "performing CV with features: ['days_to_end', 'num_country_max_1days', 'num_city_max_1days', 'android_max_1days', 'smarttv_max_1days', 'iphone_max_1days', 'ipad_max_1days', 'apple_max_1days', 'pc_max_1days', 'time_spent_sum_3days', 'time_spent_max_3days', 'num_title_ep_sum_3days', 'num_title_ep_max_3days', 'num_title_ru_sum_3days', 'num_title_ru_max_3days', 'num_country_max_3days', 'num_city_max_3days', 'other_content_sum_3days', 'top_1_sum_3days', 'top_2_sum_3days', 'top_3_sum_3days', 'top_4_sum_3days', 'top_5_sum_3days', 'top_6_sum_3days', 'top_7_sum_3days', 'top_8_sum_3days', 'top_9_sum_3days', 'top_10_sum_3days', 'android_max_3days', 'smarttv_max_3days', 'iphone_max_3days', 'ipad_max_3days', 'apple_max_3days', 'pc_max_3days', 'time_spent_sum_7days', 'time_spent_max_7days', 'num_title_ep_sum_7days', 'num_title_ep_max_7days', 'num_title_ru_sum_7days', 'num_title_ru_max_7days', 'num_country_max_7days', 'num_city_max_7days', 'other_content_sum_7days', 'top_1_sum_7days', 'top_2_sum_7days', 'top_3_sum_7days', 'top_4_sum_7days', 'top_5_sum_7days', 'top_6_sum_7days', 'top_7_sum_7days', 'top_8_sum_7days', 'top_9_sum_7days', 'top_10_sum_7days', 'android_max_7days', 'smarttv_max_7days', 'iphone_max_7days', 'ipad_max_7days', 'apple_max_7days', 'pc_max_7days', 'time_spent_sum_14days', 'time_spent_max_14days', 'num_title_ep_sum_14days', 'num_title_ep_max_14days', 'num_title_ru_sum_14days', 'num_title_ru_max_14days', 'num_country_max_14days', 'num_city_max_14days', 'other_content_sum_14days', 'top_1_sum_14days', 'top_2_sum_14days', 'top_3_sum_14days', 'top_4_sum_14days', 'top_5_sum_14days', 'top_6_sum_14days', 'top_7_sum_14days', 'top_8_sum_14days', 'top_9_sum_14days', 'top_10_sum_14days', 'android_max_14days', 'smarttv_max_14days', 'iphone_max_14days', 'ipad_max_14days', 'apple_max_14days', 'pc_max_14days', 'time_spent_sum_21days', 'time_spent_max_21days', 'num_title_ep_sum_21days']\n",
      "5-fold CV is : 0.6268 +/- 0.0048\n"
     ]
    },
    {
     "name": "stderr",
     "output_type": "stream",
     "text": [
      "\n",
      " 62%|████████████████████▎            | 87/141 [16:09<22:36, 25.11s/it]"
     ]
    },
    {
     "name": "stdout",
     "output_type": "stream",
     "text": [
      "adding feature num_title_ep_max_21days\n",
      "performing CV with features: ['days_to_end', 'num_country_max_1days', 'num_city_max_1days', 'android_max_1days', 'smarttv_max_1days', 'iphone_max_1days', 'ipad_max_1days', 'apple_max_1days', 'pc_max_1days', 'time_spent_sum_3days', 'time_spent_max_3days', 'num_title_ep_sum_3days', 'num_title_ep_max_3days', 'num_title_ru_sum_3days', 'num_title_ru_max_3days', 'num_country_max_3days', 'num_city_max_3days', 'other_content_sum_3days', 'top_1_sum_3days', 'top_2_sum_3days', 'top_3_sum_3days', 'top_4_sum_3days', 'top_5_sum_3days', 'top_6_sum_3days', 'top_7_sum_3days', 'top_8_sum_3days', 'top_9_sum_3days', 'top_10_sum_3days', 'android_max_3days', 'smarttv_max_3days', 'iphone_max_3days', 'ipad_max_3days', 'apple_max_3days', 'pc_max_3days', 'time_spent_sum_7days', 'time_spent_max_7days', 'num_title_ep_sum_7days', 'num_title_ep_max_7days', 'num_title_ru_sum_7days', 'num_title_ru_max_7days', 'num_country_max_7days', 'num_city_max_7days', 'other_content_sum_7days', 'top_1_sum_7days', 'top_2_sum_7days', 'top_3_sum_7days', 'top_4_sum_7days', 'top_5_sum_7days', 'top_6_sum_7days', 'top_7_sum_7days', 'top_8_sum_7days', 'top_9_sum_7days', 'top_10_sum_7days', 'android_max_7days', 'smarttv_max_7days', 'iphone_max_7days', 'ipad_max_7days', 'apple_max_7days', 'pc_max_7days', 'time_spent_sum_14days', 'time_spent_max_14days', 'num_title_ep_sum_14days', 'num_title_ep_max_14days', 'num_title_ru_sum_14days', 'num_title_ru_max_14days', 'num_country_max_14days', 'num_city_max_14days', 'other_content_sum_14days', 'top_1_sum_14days', 'top_2_sum_14days', 'top_3_sum_14days', 'top_4_sum_14days', 'top_5_sum_14days', 'top_6_sum_14days', 'top_7_sum_14days', 'top_8_sum_14days', 'top_9_sum_14days', 'top_10_sum_14days', 'android_max_14days', 'smarttv_max_14days', 'iphone_max_14days', 'ipad_max_14days', 'apple_max_14days', 'pc_max_14days', 'time_spent_sum_21days', 'time_spent_max_21days', 'num_title_ep_sum_21days', 'num_title_ep_max_21days']\n",
      "5-fold CV is : 0.6267 +/- 0.0051\n"
     ]
    },
    {
     "name": "stderr",
     "output_type": "stream",
     "text": [
      "\n",
      " 62%|████████████████████▌            | 88/141 [16:38<23:10, 26.23s/it]"
     ]
    },
    {
     "name": "stdout",
     "output_type": "stream",
     "text": [
      "adding feature num_title_ru_sum_21days\n",
      "performing CV with features: ['days_to_end', 'num_country_max_1days', 'num_city_max_1days', 'android_max_1days', 'smarttv_max_1days', 'iphone_max_1days', 'ipad_max_1days', 'apple_max_1days', 'pc_max_1days', 'time_spent_sum_3days', 'time_spent_max_3days', 'num_title_ep_sum_3days', 'num_title_ep_max_3days', 'num_title_ru_sum_3days', 'num_title_ru_max_3days', 'num_country_max_3days', 'num_city_max_3days', 'other_content_sum_3days', 'top_1_sum_3days', 'top_2_sum_3days', 'top_3_sum_3days', 'top_4_sum_3days', 'top_5_sum_3days', 'top_6_sum_3days', 'top_7_sum_3days', 'top_8_sum_3days', 'top_9_sum_3days', 'top_10_sum_3days', 'android_max_3days', 'smarttv_max_3days', 'iphone_max_3days', 'ipad_max_3days', 'apple_max_3days', 'pc_max_3days', 'time_spent_sum_7days', 'time_spent_max_7days', 'num_title_ep_sum_7days', 'num_title_ep_max_7days', 'num_title_ru_sum_7days', 'num_title_ru_max_7days', 'num_country_max_7days', 'num_city_max_7days', 'other_content_sum_7days', 'top_1_sum_7days', 'top_2_sum_7days', 'top_3_sum_7days', 'top_4_sum_7days', 'top_5_sum_7days', 'top_6_sum_7days', 'top_7_sum_7days', 'top_8_sum_7days', 'top_9_sum_7days', 'top_10_sum_7days', 'android_max_7days', 'smarttv_max_7days', 'iphone_max_7days', 'ipad_max_7days', 'apple_max_7days', 'pc_max_7days', 'time_spent_sum_14days', 'time_spent_max_14days', 'num_title_ep_sum_14days', 'num_title_ep_max_14days', 'num_title_ru_sum_14days', 'num_title_ru_max_14days', 'num_country_max_14days', 'num_city_max_14days', 'other_content_sum_14days', 'top_1_sum_14days', 'top_2_sum_14days', 'top_3_sum_14days', 'top_4_sum_14days', 'top_5_sum_14days', 'top_6_sum_14days', 'top_7_sum_14days', 'top_8_sum_14days', 'top_9_sum_14days', 'top_10_sum_14days', 'android_max_14days', 'smarttv_max_14days', 'iphone_max_14days', 'ipad_max_14days', 'apple_max_14days', 'pc_max_14days', 'time_spent_sum_21days', 'time_spent_max_21days', 'num_title_ep_sum_21days', 'num_title_ep_max_21days', 'num_title_ru_sum_21days']\n",
      "5-fold CV is : 0.6286 +/- 0.0051\n"
     ]
    },
    {
     "name": "stderr",
     "output_type": "stream",
     "text": [
      "\n",
      " 63%|████████████████████▊            | 89/141 [17:10<24:07, 27.84s/it]"
     ]
    },
    {
     "name": "stdout",
     "output_type": "stream",
     "text": [
      "adding feature num_title_ru_max_21days\n",
      "performing CV with features: ['days_to_end', 'num_country_max_1days', 'num_city_max_1days', 'android_max_1days', 'smarttv_max_1days', 'iphone_max_1days', 'ipad_max_1days', 'apple_max_1days', 'pc_max_1days', 'time_spent_sum_3days', 'time_spent_max_3days', 'num_title_ep_sum_3days', 'num_title_ep_max_3days', 'num_title_ru_sum_3days', 'num_title_ru_max_3days', 'num_country_max_3days', 'num_city_max_3days', 'other_content_sum_3days', 'top_1_sum_3days', 'top_2_sum_3days', 'top_3_sum_3days', 'top_4_sum_3days', 'top_5_sum_3days', 'top_6_sum_3days', 'top_7_sum_3days', 'top_8_sum_3days', 'top_9_sum_3days', 'top_10_sum_3days', 'android_max_3days', 'smarttv_max_3days', 'iphone_max_3days', 'ipad_max_3days', 'apple_max_3days', 'pc_max_3days', 'time_spent_sum_7days', 'time_spent_max_7days', 'num_title_ep_sum_7days', 'num_title_ep_max_7days', 'num_title_ru_sum_7days', 'num_title_ru_max_7days', 'num_country_max_7days', 'num_city_max_7days', 'other_content_sum_7days', 'top_1_sum_7days', 'top_2_sum_7days', 'top_3_sum_7days', 'top_4_sum_7days', 'top_5_sum_7days', 'top_6_sum_7days', 'top_7_sum_7days', 'top_8_sum_7days', 'top_9_sum_7days', 'top_10_sum_7days', 'android_max_7days', 'smarttv_max_7days', 'iphone_max_7days', 'ipad_max_7days', 'apple_max_7days', 'pc_max_7days', 'time_spent_sum_14days', 'time_spent_max_14days', 'num_title_ep_sum_14days', 'num_title_ep_max_14days', 'num_title_ru_sum_14days', 'num_title_ru_max_14days', 'num_country_max_14days', 'num_city_max_14days', 'other_content_sum_14days', 'top_1_sum_14days', 'top_2_sum_14days', 'top_3_sum_14days', 'top_4_sum_14days', 'top_5_sum_14days', 'top_6_sum_14days', 'top_7_sum_14days', 'top_8_sum_14days', 'top_9_sum_14days', 'top_10_sum_14days', 'android_max_14days', 'smarttv_max_14days', 'iphone_max_14days', 'ipad_max_14days', 'apple_max_14days', 'pc_max_14days', 'time_spent_sum_21days', 'time_spent_max_21days', 'num_title_ep_sum_21days', 'num_title_ep_max_21days', 'num_title_ru_sum_21days', 'num_title_ru_max_21days']\n",
      "5-fold CV is : 0.6322 +/- 0.008\n"
     ]
    },
    {
     "name": "stderr",
     "output_type": "stream",
     "text": [
      "\n",
      " 64%|█████████████████████            | 90/141 [17:47<26:00, 30.60s/it]"
     ]
    },
    {
     "name": "stdout",
     "output_type": "stream",
     "text": [
      "adding feature num_country_max_21days\n",
      "performing CV with features: ['days_to_end', 'num_country_max_1days', 'num_city_max_1days', 'android_max_1days', 'smarttv_max_1days', 'iphone_max_1days', 'ipad_max_1days', 'apple_max_1days', 'pc_max_1days', 'time_spent_sum_3days', 'time_spent_max_3days', 'num_title_ep_sum_3days', 'num_title_ep_max_3days', 'num_title_ru_sum_3days', 'num_title_ru_max_3days', 'num_country_max_3days', 'num_city_max_3days', 'other_content_sum_3days', 'top_1_sum_3days', 'top_2_sum_3days', 'top_3_sum_3days', 'top_4_sum_3days', 'top_5_sum_3days', 'top_6_sum_3days', 'top_7_sum_3days', 'top_8_sum_3days', 'top_9_sum_3days', 'top_10_sum_3days', 'android_max_3days', 'smarttv_max_3days', 'iphone_max_3days', 'ipad_max_3days', 'apple_max_3days', 'pc_max_3days', 'time_spent_sum_7days', 'time_spent_max_7days', 'num_title_ep_sum_7days', 'num_title_ep_max_7days', 'num_title_ru_sum_7days', 'num_title_ru_max_7days', 'num_country_max_7days', 'num_city_max_7days', 'other_content_sum_7days', 'top_1_sum_7days', 'top_2_sum_7days', 'top_3_sum_7days', 'top_4_sum_7days', 'top_5_sum_7days', 'top_6_sum_7days', 'top_7_sum_7days', 'top_8_sum_7days', 'top_9_sum_7days', 'top_10_sum_7days', 'android_max_7days', 'smarttv_max_7days', 'iphone_max_7days', 'ipad_max_7days', 'apple_max_7days', 'pc_max_7days', 'time_spent_sum_14days', 'time_spent_max_14days', 'num_title_ep_sum_14days', 'num_title_ep_max_14days', 'num_title_ru_sum_14days', 'num_title_ru_max_14days', 'num_country_max_14days', 'num_city_max_14days', 'other_content_sum_14days', 'top_1_sum_14days', 'top_2_sum_14days', 'top_3_sum_14days', 'top_4_sum_14days', 'top_5_sum_14days', 'top_6_sum_14days', 'top_7_sum_14days', 'top_8_sum_14days', 'top_9_sum_14days', 'top_10_sum_14days', 'android_max_14days', 'smarttv_max_14days', 'iphone_max_14days', 'ipad_max_14days', 'apple_max_14days', 'pc_max_14days', 'time_spent_sum_21days', 'time_spent_max_21days', 'num_title_ep_sum_21days', 'num_title_ep_max_21days', 'num_title_ru_sum_21days', 'num_title_ru_max_21days', 'num_country_max_21days']\n",
      "5-fold CV is : 0.6299 +/- 0.0045\n"
     ]
    },
    {
     "name": "stderr",
     "output_type": "stream",
     "text": [
      "\n",
      " 65%|█████████████████████▎           | 91/141 [18:19<26:01, 31.23s/it]"
     ]
    },
    {
     "name": "stdout",
     "output_type": "stream",
     "text": [
      "adding feature num_city_max_21days\n",
      "performing CV with features: ['days_to_end', 'num_country_max_1days', 'num_city_max_1days', 'android_max_1days', 'smarttv_max_1days', 'iphone_max_1days', 'ipad_max_1days', 'apple_max_1days', 'pc_max_1days', 'time_spent_sum_3days', 'time_spent_max_3days', 'num_title_ep_sum_3days', 'num_title_ep_max_3days', 'num_title_ru_sum_3days', 'num_title_ru_max_3days', 'num_country_max_3days', 'num_city_max_3days', 'other_content_sum_3days', 'top_1_sum_3days', 'top_2_sum_3days', 'top_3_sum_3days', 'top_4_sum_3days', 'top_5_sum_3days', 'top_6_sum_3days', 'top_7_sum_3days', 'top_8_sum_3days', 'top_9_sum_3days', 'top_10_sum_3days', 'android_max_3days', 'smarttv_max_3days', 'iphone_max_3days', 'ipad_max_3days', 'apple_max_3days', 'pc_max_3days', 'time_spent_sum_7days', 'time_spent_max_7days', 'num_title_ep_sum_7days', 'num_title_ep_max_7days', 'num_title_ru_sum_7days', 'num_title_ru_max_7days', 'num_country_max_7days', 'num_city_max_7days', 'other_content_sum_7days', 'top_1_sum_7days', 'top_2_sum_7days', 'top_3_sum_7days', 'top_4_sum_7days', 'top_5_sum_7days', 'top_6_sum_7days', 'top_7_sum_7days', 'top_8_sum_7days', 'top_9_sum_7days', 'top_10_sum_7days', 'android_max_7days', 'smarttv_max_7days', 'iphone_max_7days', 'ipad_max_7days', 'apple_max_7days', 'pc_max_7days', 'time_spent_sum_14days', 'time_spent_max_14days', 'num_title_ep_sum_14days', 'num_title_ep_max_14days', 'num_title_ru_sum_14days', 'num_title_ru_max_14days', 'num_country_max_14days', 'num_city_max_14days', 'other_content_sum_14days', 'top_1_sum_14days', 'top_2_sum_14days', 'top_3_sum_14days', 'top_4_sum_14days', 'top_5_sum_14days', 'top_6_sum_14days', 'top_7_sum_14days', 'top_8_sum_14days', 'top_9_sum_14days', 'top_10_sum_14days', 'android_max_14days', 'smarttv_max_14days', 'iphone_max_14days', 'ipad_max_14days', 'apple_max_14days', 'pc_max_14days', 'time_spent_sum_21days', 'time_spent_max_21days', 'num_title_ep_sum_21days', 'num_title_ep_max_21days', 'num_title_ru_sum_21days', 'num_title_ru_max_21days', 'num_country_max_21days', 'num_city_max_21days']\n",
      "5-fold CV is : 0.6324 +/- 0.0055\n"
     ]
    },
    {
     "name": "stderr",
     "output_type": "stream",
     "text": [
      "\n",
      " 65%|█████████████████████▌           | 92/141 [18:53<26:06, 31.97s/it]"
     ]
    },
    {
     "name": "stdout",
     "output_type": "stream",
     "text": [
      "adding feature other_content_sum_21days\n",
      "performing CV with features: ['days_to_end', 'num_country_max_1days', 'num_city_max_1days', 'android_max_1days', 'smarttv_max_1days', 'iphone_max_1days', 'ipad_max_1days', 'apple_max_1days', 'pc_max_1days', 'time_spent_sum_3days', 'time_spent_max_3days', 'num_title_ep_sum_3days', 'num_title_ep_max_3days', 'num_title_ru_sum_3days', 'num_title_ru_max_3days', 'num_country_max_3days', 'num_city_max_3days', 'other_content_sum_3days', 'top_1_sum_3days', 'top_2_sum_3days', 'top_3_sum_3days', 'top_4_sum_3days', 'top_5_sum_3days', 'top_6_sum_3days', 'top_7_sum_3days', 'top_8_sum_3days', 'top_9_sum_3days', 'top_10_sum_3days', 'android_max_3days', 'smarttv_max_3days', 'iphone_max_3days', 'ipad_max_3days', 'apple_max_3days', 'pc_max_3days', 'time_spent_sum_7days', 'time_spent_max_7days', 'num_title_ep_sum_7days', 'num_title_ep_max_7days', 'num_title_ru_sum_7days', 'num_title_ru_max_7days', 'num_country_max_7days', 'num_city_max_7days', 'other_content_sum_7days', 'top_1_sum_7days', 'top_2_sum_7days', 'top_3_sum_7days', 'top_4_sum_7days', 'top_5_sum_7days', 'top_6_sum_7days', 'top_7_sum_7days', 'top_8_sum_7days', 'top_9_sum_7days', 'top_10_sum_7days', 'android_max_7days', 'smarttv_max_7days', 'iphone_max_7days', 'ipad_max_7days', 'apple_max_7days', 'pc_max_7days', 'time_spent_sum_14days', 'time_spent_max_14days', 'num_title_ep_sum_14days', 'num_title_ep_max_14days', 'num_title_ru_sum_14days', 'num_title_ru_max_14days', 'num_country_max_14days', 'num_city_max_14days', 'other_content_sum_14days', 'top_1_sum_14days', 'top_2_sum_14days', 'top_3_sum_14days', 'top_4_sum_14days', 'top_5_sum_14days', 'top_6_sum_14days', 'top_7_sum_14days', 'top_8_sum_14days', 'top_9_sum_14days', 'top_10_sum_14days', 'android_max_14days', 'smarttv_max_14days', 'iphone_max_14days', 'ipad_max_14days', 'apple_max_14days', 'pc_max_14days', 'time_spent_sum_21days', 'time_spent_max_21days', 'num_title_ep_sum_21days', 'num_title_ep_max_21days', 'num_title_ru_sum_21days', 'num_title_ru_max_21days', 'num_country_max_21days', 'num_city_max_21days', 'other_content_sum_21days']\n",
      "5-fold CV is : 0.6327 +/- 0.0084\n"
     ]
    },
    {
     "name": "stderr",
     "output_type": "stream",
     "text": [
      "\n",
      " 66%|█████████████████████▊           | 93/141 [19:32<27:18, 34.14s/it]"
     ]
    },
    {
     "name": "stdout",
     "output_type": "stream",
     "text": [
      "adding feature top_1_sum_21days\n",
      "performing CV with features: ['days_to_end', 'num_country_max_1days', 'num_city_max_1days', 'android_max_1days', 'smarttv_max_1days', 'iphone_max_1days', 'ipad_max_1days', 'apple_max_1days', 'pc_max_1days', 'time_spent_sum_3days', 'time_spent_max_3days', 'num_title_ep_sum_3days', 'num_title_ep_max_3days', 'num_title_ru_sum_3days', 'num_title_ru_max_3days', 'num_country_max_3days', 'num_city_max_3days', 'other_content_sum_3days', 'top_1_sum_3days', 'top_2_sum_3days', 'top_3_sum_3days', 'top_4_sum_3days', 'top_5_sum_3days', 'top_6_sum_3days', 'top_7_sum_3days', 'top_8_sum_3days', 'top_9_sum_3days', 'top_10_sum_3days', 'android_max_3days', 'smarttv_max_3days', 'iphone_max_3days', 'ipad_max_3days', 'apple_max_3days', 'pc_max_3days', 'time_spent_sum_7days', 'time_spent_max_7days', 'num_title_ep_sum_7days', 'num_title_ep_max_7days', 'num_title_ru_sum_7days', 'num_title_ru_max_7days', 'num_country_max_7days', 'num_city_max_7days', 'other_content_sum_7days', 'top_1_sum_7days', 'top_2_sum_7days', 'top_3_sum_7days', 'top_4_sum_7days', 'top_5_sum_7days', 'top_6_sum_7days', 'top_7_sum_7days', 'top_8_sum_7days', 'top_9_sum_7days', 'top_10_sum_7days', 'android_max_7days', 'smarttv_max_7days', 'iphone_max_7days', 'ipad_max_7days', 'apple_max_7days', 'pc_max_7days', 'time_spent_sum_14days', 'time_spent_max_14days', 'num_title_ep_sum_14days', 'num_title_ep_max_14days', 'num_title_ru_sum_14days', 'num_title_ru_max_14days', 'num_country_max_14days', 'num_city_max_14days', 'other_content_sum_14days', 'top_1_sum_14days', 'top_2_sum_14days', 'top_3_sum_14days', 'top_4_sum_14days', 'top_5_sum_14days', 'top_6_sum_14days', 'top_7_sum_14days', 'top_8_sum_14days', 'top_9_sum_14days', 'top_10_sum_14days', 'android_max_14days', 'smarttv_max_14days', 'iphone_max_14days', 'ipad_max_14days', 'apple_max_14days', 'pc_max_14days', 'time_spent_sum_21days', 'time_spent_max_21days', 'num_title_ep_sum_21days', 'num_title_ep_max_21days', 'num_title_ru_sum_21days', 'num_title_ru_max_21days', 'num_country_max_21days', 'num_city_max_21days', 'other_content_sum_21days', 'top_1_sum_21days']\n",
      "5-fold CV is : 0.6329 +/- 0.0077\n"
     ]
    },
    {
     "name": "stderr",
     "output_type": "stream",
     "text": [
      "\n",
      " 67%|██████████████████████           | 94/141 [20:09<27:16, 34.82s/it]"
     ]
    },
    {
     "name": "stdout",
     "output_type": "stream",
     "text": [
      "adding feature top_2_sum_21days\n",
      "performing CV with features: ['days_to_end', 'num_country_max_1days', 'num_city_max_1days', 'android_max_1days', 'smarttv_max_1days', 'iphone_max_1days', 'ipad_max_1days', 'apple_max_1days', 'pc_max_1days', 'time_spent_sum_3days', 'time_spent_max_3days', 'num_title_ep_sum_3days', 'num_title_ep_max_3days', 'num_title_ru_sum_3days', 'num_title_ru_max_3days', 'num_country_max_3days', 'num_city_max_3days', 'other_content_sum_3days', 'top_1_sum_3days', 'top_2_sum_3days', 'top_3_sum_3days', 'top_4_sum_3days', 'top_5_sum_3days', 'top_6_sum_3days', 'top_7_sum_3days', 'top_8_sum_3days', 'top_9_sum_3days', 'top_10_sum_3days', 'android_max_3days', 'smarttv_max_3days', 'iphone_max_3days', 'ipad_max_3days', 'apple_max_3days', 'pc_max_3days', 'time_spent_sum_7days', 'time_spent_max_7days', 'num_title_ep_sum_7days', 'num_title_ep_max_7days', 'num_title_ru_sum_7days', 'num_title_ru_max_7days', 'num_country_max_7days', 'num_city_max_7days', 'other_content_sum_7days', 'top_1_sum_7days', 'top_2_sum_7days', 'top_3_sum_7days', 'top_4_sum_7days', 'top_5_sum_7days', 'top_6_sum_7days', 'top_7_sum_7days', 'top_8_sum_7days', 'top_9_sum_7days', 'top_10_sum_7days', 'android_max_7days', 'smarttv_max_7days', 'iphone_max_7days', 'ipad_max_7days', 'apple_max_7days', 'pc_max_7days', 'time_spent_sum_14days', 'time_spent_max_14days', 'num_title_ep_sum_14days', 'num_title_ep_max_14days', 'num_title_ru_sum_14days', 'num_title_ru_max_14days', 'num_country_max_14days', 'num_city_max_14days', 'other_content_sum_14days', 'top_1_sum_14days', 'top_2_sum_14days', 'top_3_sum_14days', 'top_4_sum_14days', 'top_5_sum_14days', 'top_6_sum_14days', 'top_7_sum_14days', 'top_8_sum_14days', 'top_9_sum_14days', 'top_10_sum_14days', 'android_max_14days', 'smarttv_max_14days', 'iphone_max_14days', 'ipad_max_14days', 'apple_max_14days', 'pc_max_14days', 'time_spent_sum_21days', 'time_spent_max_21days', 'num_title_ep_sum_21days', 'num_title_ep_max_21days', 'num_title_ru_sum_21days', 'num_title_ru_max_21days', 'num_country_max_21days', 'num_city_max_21days', 'other_content_sum_21days', 'top_1_sum_21days', 'top_2_sum_21days']\n",
      "5-fold CV is : 0.6259 +/- 0.0025\n"
     ]
    },
    {
     "name": "stderr",
     "output_type": "stream",
     "text": [
      "\n",
      " 67%|██████████████████████▏          | 95/141 [20:45<27:06, 35.36s/it]"
     ]
    },
    {
     "name": "stdout",
     "output_type": "stream",
     "text": [
      "adding feature top_3_sum_21days\n",
      "performing CV with features: ['days_to_end', 'num_country_max_1days', 'num_city_max_1days', 'android_max_1days', 'smarttv_max_1days', 'iphone_max_1days', 'ipad_max_1days', 'apple_max_1days', 'pc_max_1days', 'time_spent_sum_3days', 'time_spent_max_3days', 'num_title_ep_sum_3days', 'num_title_ep_max_3days', 'num_title_ru_sum_3days', 'num_title_ru_max_3days', 'num_country_max_3days', 'num_city_max_3days', 'other_content_sum_3days', 'top_1_sum_3days', 'top_2_sum_3days', 'top_3_sum_3days', 'top_4_sum_3days', 'top_5_sum_3days', 'top_6_sum_3days', 'top_7_sum_3days', 'top_8_sum_3days', 'top_9_sum_3days', 'top_10_sum_3days', 'android_max_3days', 'smarttv_max_3days', 'iphone_max_3days', 'ipad_max_3days', 'apple_max_3days', 'pc_max_3days', 'time_spent_sum_7days', 'time_spent_max_7days', 'num_title_ep_sum_7days', 'num_title_ep_max_7days', 'num_title_ru_sum_7days', 'num_title_ru_max_7days', 'num_country_max_7days', 'num_city_max_7days', 'other_content_sum_7days', 'top_1_sum_7days', 'top_2_sum_7days', 'top_3_sum_7days', 'top_4_sum_7days', 'top_5_sum_7days', 'top_6_sum_7days', 'top_7_sum_7days', 'top_8_sum_7days', 'top_9_sum_7days', 'top_10_sum_7days', 'android_max_7days', 'smarttv_max_7days', 'iphone_max_7days', 'ipad_max_7days', 'apple_max_7days', 'pc_max_7days', 'time_spent_sum_14days', 'time_spent_max_14days', 'num_title_ep_sum_14days', 'num_title_ep_max_14days', 'num_title_ru_sum_14days', 'num_title_ru_max_14days', 'num_country_max_14days', 'num_city_max_14days', 'other_content_sum_14days', 'top_1_sum_14days', 'top_2_sum_14days', 'top_3_sum_14days', 'top_4_sum_14days', 'top_5_sum_14days', 'top_6_sum_14days', 'top_7_sum_14days', 'top_8_sum_14days', 'top_9_sum_14days', 'top_10_sum_14days', 'android_max_14days', 'smarttv_max_14days', 'iphone_max_14days', 'ipad_max_14days', 'apple_max_14days', 'pc_max_14days', 'time_spent_sum_21days', 'time_spent_max_21days', 'num_title_ep_sum_21days', 'num_title_ep_max_21days', 'num_title_ru_sum_21days', 'num_title_ru_max_21days', 'num_country_max_21days', 'num_city_max_21days', 'other_content_sum_21days', 'top_1_sum_21days', 'top_2_sum_21days', 'top_3_sum_21days']\n",
      "5-fold CV is : 0.6295 +/- 0.0022\n"
     ]
    },
    {
     "name": "stderr",
     "output_type": "stream",
     "text": [
      "\n",
      " 68%|██████████████████████▍          | 96/141 [21:23<27:02, 36.05s/it]"
     ]
    },
    {
     "name": "stdout",
     "output_type": "stream",
     "text": [
      "adding feature top_4_sum_21days\n",
      "performing CV with features: ['days_to_end', 'num_country_max_1days', 'num_city_max_1days', 'android_max_1days', 'smarttv_max_1days', 'iphone_max_1days', 'ipad_max_1days', 'apple_max_1days', 'pc_max_1days', 'time_spent_sum_3days', 'time_spent_max_3days', 'num_title_ep_sum_3days', 'num_title_ep_max_3days', 'num_title_ru_sum_3days', 'num_title_ru_max_3days', 'num_country_max_3days', 'num_city_max_3days', 'other_content_sum_3days', 'top_1_sum_3days', 'top_2_sum_3days', 'top_3_sum_3days', 'top_4_sum_3days', 'top_5_sum_3days', 'top_6_sum_3days', 'top_7_sum_3days', 'top_8_sum_3days', 'top_9_sum_3days', 'top_10_sum_3days', 'android_max_3days', 'smarttv_max_3days', 'iphone_max_3days', 'ipad_max_3days', 'apple_max_3days', 'pc_max_3days', 'time_spent_sum_7days', 'time_spent_max_7days', 'num_title_ep_sum_7days', 'num_title_ep_max_7days', 'num_title_ru_sum_7days', 'num_title_ru_max_7days', 'num_country_max_7days', 'num_city_max_7days', 'other_content_sum_7days', 'top_1_sum_7days', 'top_2_sum_7days', 'top_3_sum_7days', 'top_4_sum_7days', 'top_5_sum_7days', 'top_6_sum_7days', 'top_7_sum_7days', 'top_8_sum_7days', 'top_9_sum_7days', 'top_10_sum_7days', 'android_max_7days', 'smarttv_max_7days', 'iphone_max_7days', 'ipad_max_7days', 'apple_max_7days', 'pc_max_7days', 'time_spent_sum_14days', 'time_spent_max_14days', 'num_title_ep_sum_14days', 'num_title_ep_max_14days', 'num_title_ru_sum_14days', 'num_title_ru_max_14days', 'num_country_max_14days', 'num_city_max_14days', 'other_content_sum_14days', 'top_1_sum_14days', 'top_2_sum_14days', 'top_3_sum_14days', 'top_4_sum_14days', 'top_5_sum_14days', 'top_6_sum_14days', 'top_7_sum_14days', 'top_8_sum_14days', 'top_9_sum_14days', 'top_10_sum_14days', 'android_max_14days', 'smarttv_max_14days', 'iphone_max_14days', 'ipad_max_14days', 'apple_max_14days', 'pc_max_14days', 'time_spent_sum_21days', 'time_spent_max_21days', 'num_title_ep_sum_21days', 'num_title_ep_max_21days', 'num_title_ru_sum_21days', 'num_title_ru_max_21days', 'num_country_max_21days', 'num_city_max_21days', 'other_content_sum_21days', 'top_1_sum_21days', 'top_2_sum_21days', 'top_3_sum_21days', 'top_4_sum_21days']\n",
      "5-fold CV is : 0.6276 +/- 0.0041\n"
     ]
    },
    {
     "name": "stderr",
     "output_type": "stream",
     "text": [
      "\n",
      " 69%|██████████████████████▋          | 97/141 [22:00<26:43, 36.45s/it]"
     ]
    },
    {
     "name": "stdout",
     "output_type": "stream",
     "text": [
      "adding feature top_5_sum_21days\n",
      "performing CV with features: ['days_to_end', 'num_country_max_1days', 'num_city_max_1days', 'android_max_1days', 'smarttv_max_1days', 'iphone_max_1days', 'ipad_max_1days', 'apple_max_1days', 'pc_max_1days', 'time_spent_sum_3days', 'time_spent_max_3days', 'num_title_ep_sum_3days', 'num_title_ep_max_3days', 'num_title_ru_sum_3days', 'num_title_ru_max_3days', 'num_country_max_3days', 'num_city_max_3days', 'other_content_sum_3days', 'top_1_sum_3days', 'top_2_sum_3days', 'top_3_sum_3days', 'top_4_sum_3days', 'top_5_sum_3days', 'top_6_sum_3days', 'top_7_sum_3days', 'top_8_sum_3days', 'top_9_sum_3days', 'top_10_sum_3days', 'android_max_3days', 'smarttv_max_3days', 'iphone_max_3days', 'ipad_max_3days', 'apple_max_3days', 'pc_max_3days', 'time_spent_sum_7days', 'time_spent_max_7days', 'num_title_ep_sum_7days', 'num_title_ep_max_7days', 'num_title_ru_sum_7days', 'num_title_ru_max_7days', 'num_country_max_7days', 'num_city_max_7days', 'other_content_sum_7days', 'top_1_sum_7days', 'top_2_sum_7days', 'top_3_sum_7days', 'top_4_sum_7days', 'top_5_sum_7days', 'top_6_sum_7days', 'top_7_sum_7days', 'top_8_sum_7days', 'top_9_sum_7days', 'top_10_sum_7days', 'android_max_7days', 'smarttv_max_7days', 'iphone_max_7days', 'ipad_max_7days', 'apple_max_7days', 'pc_max_7days', 'time_spent_sum_14days', 'time_spent_max_14days', 'num_title_ep_sum_14days', 'num_title_ep_max_14days', 'num_title_ru_sum_14days', 'num_title_ru_max_14days', 'num_country_max_14days', 'num_city_max_14days', 'other_content_sum_14days', 'top_1_sum_14days', 'top_2_sum_14days', 'top_3_sum_14days', 'top_4_sum_14days', 'top_5_sum_14days', 'top_6_sum_14days', 'top_7_sum_14days', 'top_8_sum_14days', 'top_9_sum_14days', 'top_10_sum_14days', 'android_max_14days', 'smarttv_max_14days', 'iphone_max_14days', 'ipad_max_14days', 'apple_max_14days', 'pc_max_14days', 'time_spent_sum_21days', 'time_spent_max_21days', 'num_title_ep_sum_21days', 'num_title_ep_max_21days', 'num_title_ru_sum_21days', 'num_title_ru_max_21days', 'num_country_max_21days', 'num_city_max_21days', 'other_content_sum_21days', 'top_1_sum_21days', 'top_2_sum_21days', 'top_3_sum_21days', 'top_4_sum_21days', 'top_5_sum_21days']\n",
      "5-fold CV is : 0.6299 +/- 0.0045\n"
     ]
    },
    {
     "name": "stderr",
     "output_type": "stream",
     "text": [
      "\n",
      " 70%|██████████████████████▉          | 98/141 [22:40<26:49, 37.43s/it]"
     ]
    },
    {
     "name": "stdout",
     "output_type": "stream",
     "text": [
      "adding feature top_6_sum_21days\n",
      "performing CV with features: ['days_to_end', 'num_country_max_1days', 'num_city_max_1days', 'android_max_1days', 'smarttv_max_1days', 'iphone_max_1days', 'ipad_max_1days', 'apple_max_1days', 'pc_max_1days', 'time_spent_sum_3days', 'time_spent_max_3days', 'num_title_ep_sum_3days', 'num_title_ep_max_3days', 'num_title_ru_sum_3days', 'num_title_ru_max_3days', 'num_country_max_3days', 'num_city_max_3days', 'other_content_sum_3days', 'top_1_sum_3days', 'top_2_sum_3days', 'top_3_sum_3days', 'top_4_sum_3days', 'top_5_sum_3days', 'top_6_sum_3days', 'top_7_sum_3days', 'top_8_sum_3days', 'top_9_sum_3days', 'top_10_sum_3days', 'android_max_3days', 'smarttv_max_3days', 'iphone_max_3days', 'ipad_max_3days', 'apple_max_3days', 'pc_max_3days', 'time_spent_sum_7days', 'time_spent_max_7days', 'num_title_ep_sum_7days', 'num_title_ep_max_7days', 'num_title_ru_sum_7days', 'num_title_ru_max_7days', 'num_country_max_7days', 'num_city_max_7days', 'other_content_sum_7days', 'top_1_sum_7days', 'top_2_sum_7days', 'top_3_sum_7days', 'top_4_sum_7days', 'top_5_sum_7days', 'top_6_sum_7days', 'top_7_sum_7days', 'top_8_sum_7days', 'top_9_sum_7days', 'top_10_sum_7days', 'android_max_7days', 'smarttv_max_7days', 'iphone_max_7days', 'ipad_max_7days', 'apple_max_7days', 'pc_max_7days', 'time_spent_sum_14days', 'time_spent_max_14days', 'num_title_ep_sum_14days', 'num_title_ep_max_14days', 'num_title_ru_sum_14days', 'num_title_ru_max_14days', 'num_country_max_14days', 'num_city_max_14days', 'other_content_sum_14days', 'top_1_sum_14days', 'top_2_sum_14days', 'top_3_sum_14days', 'top_4_sum_14days', 'top_5_sum_14days', 'top_6_sum_14days', 'top_7_sum_14days', 'top_8_sum_14days', 'top_9_sum_14days', 'top_10_sum_14days', 'android_max_14days', 'smarttv_max_14days', 'iphone_max_14days', 'ipad_max_14days', 'apple_max_14days', 'pc_max_14days', 'time_spent_sum_21days', 'time_spent_max_21days', 'num_title_ep_sum_21days', 'num_title_ep_max_21days', 'num_title_ru_sum_21days', 'num_title_ru_max_21days', 'num_country_max_21days', 'num_city_max_21days', 'other_content_sum_21days', 'top_1_sum_21days', 'top_2_sum_21days', 'top_3_sum_21days', 'top_4_sum_21days', 'top_5_sum_21days', 'top_6_sum_21days']\n",
      "5-fold CV is : 0.6284 +/- 0.0043\n"
     ]
    },
    {
     "name": "stderr",
     "output_type": "stream",
     "text": [
      "\n",
      " 70%|███████████████████████▏         | 99/141 [23:23<27:16, 38.96s/it]"
     ]
    },
    {
     "name": "stdout",
     "output_type": "stream",
     "text": [
      "adding feature top_7_sum_21days\n",
      "performing CV with features: ['days_to_end', 'num_country_max_1days', 'num_city_max_1days', 'android_max_1days', 'smarttv_max_1days', 'iphone_max_1days', 'ipad_max_1days', 'apple_max_1days', 'pc_max_1days', 'time_spent_sum_3days', 'time_spent_max_3days', 'num_title_ep_sum_3days', 'num_title_ep_max_3days', 'num_title_ru_sum_3days', 'num_title_ru_max_3days', 'num_country_max_3days', 'num_city_max_3days', 'other_content_sum_3days', 'top_1_sum_3days', 'top_2_sum_3days', 'top_3_sum_3days', 'top_4_sum_3days', 'top_5_sum_3days', 'top_6_sum_3days', 'top_7_sum_3days', 'top_8_sum_3days', 'top_9_sum_3days', 'top_10_sum_3days', 'android_max_3days', 'smarttv_max_3days', 'iphone_max_3days', 'ipad_max_3days', 'apple_max_3days', 'pc_max_3days', 'time_spent_sum_7days', 'time_spent_max_7days', 'num_title_ep_sum_7days', 'num_title_ep_max_7days', 'num_title_ru_sum_7days', 'num_title_ru_max_7days', 'num_country_max_7days', 'num_city_max_7days', 'other_content_sum_7days', 'top_1_sum_7days', 'top_2_sum_7days', 'top_3_sum_7days', 'top_4_sum_7days', 'top_5_sum_7days', 'top_6_sum_7days', 'top_7_sum_7days', 'top_8_sum_7days', 'top_9_sum_7days', 'top_10_sum_7days', 'android_max_7days', 'smarttv_max_7days', 'iphone_max_7days', 'ipad_max_7days', 'apple_max_7days', 'pc_max_7days', 'time_spent_sum_14days', 'time_spent_max_14days', 'num_title_ep_sum_14days', 'num_title_ep_max_14days', 'num_title_ru_sum_14days', 'num_title_ru_max_14days', 'num_country_max_14days', 'num_city_max_14days', 'other_content_sum_14days', 'top_1_sum_14days', 'top_2_sum_14days', 'top_3_sum_14days', 'top_4_sum_14days', 'top_5_sum_14days', 'top_6_sum_14days', 'top_7_sum_14days', 'top_8_sum_14days', 'top_9_sum_14days', 'top_10_sum_14days', 'android_max_14days', 'smarttv_max_14days', 'iphone_max_14days', 'ipad_max_14days', 'apple_max_14days', 'pc_max_14days', 'time_spent_sum_21days', 'time_spent_max_21days', 'num_title_ep_sum_21days', 'num_title_ep_max_21days', 'num_title_ru_sum_21days', 'num_title_ru_max_21days', 'num_country_max_21days', 'num_city_max_21days', 'other_content_sum_21days', 'top_1_sum_21days', 'top_2_sum_21days', 'top_3_sum_21days', 'top_4_sum_21days', 'top_5_sum_21days', 'top_6_sum_21days', 'top_7_sum_21days']\n",
      "5-fold CV is : 0.6316 +/- 0.0024\n"
     ]
    },
    {
     "name": "stderr",
     "output_type": "stream",
     "text": [
      "\n",
      " 71%|██████████████████████▋         | 100/141 [24:01<26:33, 38.87s/it]"
     ]
    },
    {
     "name": "stdout",
     "output_type": "stream",
     "text": [
      "adding feature top_8_sum_21days\n",
      "performing CV with features: ['days_to_end', 'num_country_max_1days', 'num_city_max_1days', 'android_max_1days', 'smarttv_max_1days', 'iphone_max_1days', 'ipad_max_1days', 'apple_max_1days', 'pc_max_1days', 'time_spent_sum_3days', 'time_spent_max_3days', 'num_title_ep_sum_3days', 'num_title_ep_max_3days', 'num_title_ru_sum_3days', 'num_title_ru_max_3days', 'num_country_max_3days', 'num_city_max_3days', 'other_content_sum_3days', 'top_1_sum_3days', 'top_2_sum_3days', 'top_3_sum_3days', 'top_4_sum_3days', 'top_5_sum_3days', 'top_6_sum_3days', 'top_7_sum_3days', 'top_8_sum_3days', 'top_9_sum_3days', 'top_10_sum_3days', 'android_max_3days', 'smarttv_max_3days', 'iphone_max_3days', 'ipad_max_3days', 'apple_max_3days', 'pc_max_3days', 'time_spent_sum_7days', 'time_spent_max_7days', 'num_title_ep_sum_7days', 'num_title_ep_max_7days', 'num_title_ru_sum_7days', 'num_title_ru_max_7days', 'num_country_max_7days', 'num_city_max_7days', 'other_content_sum_7days', 'top_1_sum_7days', 'top_2_sum_7days', 'top_3_sum_7days', 'top_4_sum_7days', 'top_5_sum_7days', 'top_6_sum_7days', 'top_7_sum_7days', 'top_8_sum_7days', 'top_9_sum_7days', 'top_10_sum_7days', 'android_max_7days', 'smarttv_max_7days', 'iphone_max_7days', 'ipad_max_7days', 'apple_max_7days', 'pc_max_7days', 'time_spent_sum_14days', 'time_spent_max_14days', 'num_title_ep_sum_14days', 'num_title_ep_max_14days', 'num_title_ru_sum_14days', 'num_title_ru_max_14days', 'num_country_max_14days', 'num_city_max_14days', 'other_content_sum_14days', 'top_1_sum_14days', 'top_2_sum_14days', 'top_3_sum_14days', 'top_4_sum_14days', 'top_5_sum_14days', 'top_6_sum_14days', 'top_7_sum_14days', 'top_8_sum_14days', 'top_9_sum_14days', 'top_10_sum_14days', 'android_max_14days', 'smarttv_max_14days', 'iphone_max_14days', 'ipad_max_14days', 'apple_max_14days', 'pc_max_14days', 'time_spent_sum_21days', 'time_spent_max_21days', 'num_title_ep_sum_21days', 'num_title_ep_max_21days', 'num_title_ru_sum_21days', 'num_title_ru_max_21days', 'num_country_max_21days', 'num_city_max_21days', 'other_content_sum_21days', 'top_1_sum_21days', 'top_2_sum_21days', 'top_3_sum_21days', 'top_4_sum_21days', 'top_5_sum_21days', 'top_6_sum_21days', 'top_7_sum_21days', 'top_8_sum_21days']\n",
      "5-fold CV is : 0.6374 +/- 0.0062\n"
     ]
    },
    {
     "name": "stderr",
     "output_type": "stream",
     "text": [
      "\n",
      " 72%|██████████████████████▉         | 101/141 [24:50<27:53, 41.83s/it]"
     ]
    },
    {
     "name": "stdout",
     "output_type": "stream",
     "text": [
      "adding feature top_9_sum_21days\n",
      "performing CV with features: ['days_to_end', 'num_country_max_1days', 'num_city_max_1days', 'android_max_1days', 'smarttv_max_1days', 'iphone_max_1days', 'ipad_max_1days', 'apple_max_1days', 'pc_max_1days', 'time_spent_sum_3days', 'time_spent_max_3days', 'num_title_ep_sum_3days', 'num_title_ep_max_3days', 'num_title_ru_sum_3days', 'num_title_ru_max_3days', 'num_country_max_3days', 'num_city_max_3days', 'other_content_sum_3days', 'top_1_sum_3days', 'top_2_sum_3days', 'top_3_sum_3days', 'top_4_sum_3days', 'top_5_sum_3days', 'top_6_sum_3days', 'top_7_sum_3days', 'top_8_sum_3days', 'top_9_sum_3days', 'top_10_sum_3days', 'android_max_3days', 'smarttv_max_3days', 'iphone_max_3days', 'ipad_max_3days', 'apple_max_3days', 'pc_max_3days', 'time_spent_sum_7days', 'time_spent_max_7days', 'num_title_ep_sum_7days', 'num_title_ep_max_7days', 'num_title_ru_sum_7days', 'num_title_ru_max_7days', 'num_country_max_7days', 'num_city_max_7days', 'other_content_sum_7days', 'top_1_sum_7days', 'top_2_sum_7days', 'top_3_sum_7days', 'top_4_sum_7days', 'top_5_sum_7days', 'top_6_sum_7days', 'top_7_sum_7days', 'top_8_sum_7days', 'top_9_sum_7days', 'top_10_sum_7days', 'android_max_7days', 'smarttv_max_7days', 'iphone_max_7days', 'ipad_max_7days', 'apple_max_7days', 'pc_max_7days', 'time_spent_sum_14days', 'time_spent_max_14days', 'num_title_ep_sum_14days', 'num_title_ep_max_14days', 'num_title_ru_sum_14days', 'num_title_ru_max_14days', 'num_country_max_14days', 'num_city_max_14days', 'other_content_sum_14days', 'top_1_sum_14days', 'top_2_sum_14days', 'top_3_sum_14days', 'top_4_sum_14days', 'top_5_sum_14days', 'top_6_sum_14days', 'top_7_sum_14days', 'top_8_sum_14days', 'top_9_sum_14days', 'top_10_sum_14days', 'android_max_14days', 'smarttv_max_14days', 'iphone_max_14days', 'ipad_max_14days', 'apple_max_14days', 'pc_max_14days', 'time_spent_sum_21days', 'time_spent_max_21days', 'num_title_ep_sum_21days', 'num_title_ep_max_21days', 'num_title_ru_sum_21days', 'num_title_ru_max_21days', 'num_country_max_21days', 'num_city_max_21days', 'other_content_sum_21days', 'top_1_sum_21days', 'top_2_sum_21days', 'top_3_sum_21days', 'top_4_sum_21days', 'top_5_sum_21days', 'top_6_sum_21days', 'top_7_sum_21days', 'top_8_sum_21days', 'top_9_sum_21days']\n",
      "5-fold CV is : 0.6316 +/- 0.0065\n"
     ]
    },
    {
     "name": "stderr",
     "output_type": "stream",
     "text": [
      "\n",
      " 72%|███████████████████████▏        | 102/141 [25:28<26:26, 40.69s/it]"
     ]
    },
    {
     "name": "stdout",
     "output_type": "stream",
     "text": [
      "adding feature top_10_sum_21days\n",
      "performing CV with features: ['days_to_end', 'num_country_max_1days', 'num_city_max_1days', 'android_max_1days', 'smarttv_max_1days', 'iphone_max_1days', 'ipad_max_1days', 'apple_max_1days', 'pc_max_1days', 'time_spent_sum_3days', 'time_spent_max_3days', 'num_title_ep_sum_3days', 'num_title_ep_max_3days', 'num_title_ru_sum_3days', 'num_title_ru_max_3days', 'num_country_max_3days', 'num_city_max_3days', 'other_content_sum_3days', 'top_1_sum_3days', 'top_2_sum_3days', 'top_3_sum_3days', 'top_4_sum_3days', 'top_5_sum_3days', 'top_6_sum_3days', 'top_7_sum_3days', 'top_8_sum_3days', 'top_9_sum_3days', 'top_10_sum_3days', 'android_max_3days', 'smarttv_max_3days', 'iphone_max_3days', 'ipad_max_3days', 'apple_max_3days', 'pc_max_3days', 'time_spent_sum_7days', 'time_spent_max_7days', 'num_title_ep_sum_7days', 'num_title_ep_max_7days', 'num_title_ru_sum_7days', 'num_title_ru_max_7days', 'num_country_max_7days', 'num_city_max_7days', 'other_content_sum_7days', 'top_1_sum_7days', 'top_2_sum_7days', 'top_3_sum_7days', 'top_4_sum_7days', 'top_5_sum_7days', 'top_6_sum_7days', 'top_7_sum_7days', 'top_8_sum_7days', 'top_9_sum_7days', 'top_10_sum_7days', 'android_max_7days', 'smarttv_max_7days', 'iphone_max_7days', 'ipad_max_7days', 'apple_max_7days', 'pc_max_7days', 'time_spent_sum_14days', 'time_spent_max_14days', 'num_title_ep_sum_14days', 'num_title_ep_max_14days', 'num_title_ru_sum_14days', 'num_title_ru_max_14days', 'num_country_max_14days', 'num_city_max_14days', 'other_content_sum_14days', 'top_1_sum_14days', 'top_2_sum_14days', 'top_3_sum_14days', 'top_4_sum_14days', 'top_5_sum_14days', 'top_6_sum_14days', 'top_7_sum_14days', 'top_8_sum_14days', 'top_9_sum_14days', 'top_10_sum_14days', 'android_max_14days', 'smarttv_max_14days', 'iphone_max_14days', 'ipad_max_14days', 'apple_max_14days', 'pc_max_14days', 'time_spent_sum_21days', 'time_spent_max_21days', 'num_title_ep_sum_21days', 'num_title_ep_max_21days', 'num_title_ru_sum_21days', 'num_title_ru_max_21days', 'num_country_max_21days', 'num_city_max_21days', 'other_content_sum_21days', 'top_1_sum_21days', 'top_2_sum_21days', 'top_3_sum_21days', 'top_4_sum_21days', 'top_5_sum_21days', 'top_6_sum_21days', 'top_7_sum_21days', 'top_8_sum_21days', 'top_9_sum_21days', 'top_10_sum_21days']\n",
      "5-fold CV is : 0.6365 +/- 0.0058\n"
     ]
    },
    {
     "name": "stderr",
     "output_type": "stream",
     "text": [
      "\n",
      " 73%|███████████████████████▍        | 103/141 [26:13<26:33, 41.93s/it]"
     ]
    },
    {
     "name": "stdout",
     "output_type": "stream",
     "text": [
      "adding feature android_max_21days\n",
      "performing CV with features: ['days_to_end', 'num_country_max_1days', 'num_city_max_1days', 'android_max_1days', 'smarttv_max_1days', 'iphone_max_1days', 'ipad_max_1days', 'apple_max_1days', 'pc_max_1days', 'time_spent_sum_3days', 'time_spent_max_3days', 'num_title_ep_sum_3days', 'num_title_ep_max_3days', 'num_title_ru_sum_3days', 'num_title_ru_max_3days', 'num_country_max_3days', 'num_city_max_3days', 'other_content_sum_3days', 'top_1_sum_3days', 'top_2_sum_3days', 'top_3_sum_3days', 'top_4_sum_3days', 'top_5_sum_3days', 'top_6_sum_3days', 'top_7_sum_3days', 'top_8_sum_3days', 'top_9_sum_3days', 'top_10_sum_3days', 'android_max_3days', 'smarttv_max_3days', 'iphone_max_3days', 'ipad_max_3days', 'apple_max_3days', 'pc_max_3days', 'time_spent_sum_7days', 'time_spent_max_7days', 'num_title_ep_sum_7days', 'num_title_ep_max_7days', 'num_title_ru_sum_7days', 'num_title_ru_max_7days', 'num_country_max_7days', 'num_city_max_7days', 'other_content_sum_7days', 'top_1_sum_7days', 'top_2_sum_7days', 'top_3_sum_7days', 'top_4_sum_7days', 'top_5_sum_7days', 'top_6_sum_7days', 'top_7_sum_7days', 'top_8_sum_7days', 'top_9_sum_7days', 'top_10_sum_7days', 'android_max_7days', 'smarttv_max_7days', 'iphone_max_7days', 'ipad_max_7days', 'apple_max_7days', 'pc_max_7days', 'time_spent_sum_14days', 'time_spent_max_14days', 'num_title_ep_sum_14days', 'num_title_ep_max_14days', 'num_title_ru_sum_14days', 'num_title_ru_max_14days', 'num_country_max_14days', 'num_city_max_14days', 'other_content_sum_14days', 'top_1_sum_14days', 'top_2_sum_14days', 'top_3_sum_14days', 'top_4_sum_14days', 'top_5_sum_14days', 'top_6_sum_14days', 'top_7_sum_14days', 'top_8_sum_14days', 'top_9_sum_14days', 'top_10_sum_14days', 'android_max_14days', 'smarttv_max_14days', 'iphone_max_14days', 'ipad_max_14days', 'apple_max_14days', 'pc_max_14days', 'time_spent_sum_21days', 'time_spent_max_21days', 'num_title_ep_sum_21days', 'num_title_ep_max_21days', 'num_title_ru_sum_21days', 'num_title_ru_max_21days', 'num_country_max_21days', 'num_city_max_21days', 'other_content_sum_21days', 'top_1_sum_21days', 'top_2_sum_21days', 'top_3_sum_21days', 'top_4_sum_21days', 'top_5_sum_21days', 'top_6_sum_21days', 'top_7_sum_21days', 'top_8_sum_21days', 'top_9_sum_21days', 'top_10_sum_21days', 'android_max_21days']\n",
      "5-fold CV is : 0.6326 +/- 0.0051\n"
     ]
    },
    {
     "name": "stderr",
     "output_type": "stream",
     "text": [
      "\n",
      " 74%|███████████████████████▌        | 104/141 [26:52<25:19, 41.07s/it]"
     ]
    },
    {
     "name": "stdout",
     "output_type": "stream",
     "text": [
      "adding feature smarttv_max_21days\n",
      "performing CV with features: ['days_to_end', 'num_country_max_1days', 'num_city_max_1days', 'android_max_1days', 'smarttv_max_1days', 'iphone_max_1days', 'ipad_max_1days', 'apple_max_1days', 'pc_max_1days', 'time_spent_sum_3days', 'time_spent_max_3days', 'num_title_ep_sum_3days', 'num_title_ep_max_3days', 'num_title_ru_sum_3days', 'num_title_ru_max_3days', 'num_country_max_3days', 'num_city_max_3days', 'other_content_sum_3days', 'top_1_sum_3days', 'top_2_sum_3days', 'top_3_sum_3days', 'top_4_sum_3days', 'top_5_sum_3days', 'top_6_sum_3days', 'top_7_sum_3days', 'top_8_sum_3days', 'top_9_sum_3days', 'top_10_sum_3days', 'android_max_3days', 'smarttv_max_3days', 'iphone_max_3days', 'ipad_max_3days', 'apple_max_3days', 'pc_max_3days', 'time_spent_sum_7days', 'time_spent_max_7days', 'num_title_ep_sum_7days', 'num_title_ep_max_7days', 'num_title_ru_sum_7days', 'num_title_ru_max_7days', 'num_country_max_7days', 'num_city_max_7days', 'other_content_sum_7days', 'top_1_sum_7days', 'top_2_sum_7days', 'top_3_sum_7days', 'top_4_sum_7days', 'top_5_sum_7days', 'top_6_sum_7days', 'top_7_sum_7days', 'top_8_sum_7days', 'top_9_sum_7days', 'top_10_sum_7days', 'android_max_7days', 'smarttv_max_7days', 'iphone_max_7days', 'ipad_max_7days', 'apple_max_7days', 'pc_max_7days', 'time_spent_sum_14days', 'time_spent_max_14days', 'num_title_ep_sum_14days', 'num_title_ep_max_14days', 'num_title_ru_sum_14days', 'num_title_ru_max_14days', 'num_country_max_14days', 'num_city_max_14days', 'other_content_sum_14days', 'top_1_sum_14days', 'top_2_sum_14days', 'top_3_sum_14days', 'top_4_sum_14days', 'top_5_sum_14days', 'top_6_sum_14days', 'top_7_sum_14days', 'top_8_sum_14days', 'top_9_sum_14days', 'top_10_sum_14days', 'android_max_14days', 'smarttv_max_14days', 'iphone_max_14days', 'ipad_max_14days', 'apple_max_14days', 'pc_max_14days', 'time_spent_sum_21days', 'time_spent_max_21days', 'num_title_ep_sum_21days', 'num_title_ep_max_21days', 'num_title_ru_sum_21days', 'num_title_ru_max_21days', 'num_country_max_21days', 'num_city_max_21days', 'other_content_sum_21days', 'top_1_sum_21days', 'top_2_sum_21days', 'top_3_sum_21days', 'top_4_sum_21days', 'top_5_sum_21days', 'top_6_sum_21days', 'top_7_sum_21days', 'top_8_sum_21days', 'top_9_sum_21days', 'top_10_sum_21days', 'android_max_21days', 'smarttv_max_21days']\n",
      "5-fold CV is : 0.6309 +/- 0.0037\n"
     ]
    },
    {
     "name": "stderr",
     "output_type": "stream",
     "text": [
      "\n",
      " 74%|███████████████████████▊        | 105/141 [27:30<24:09, 40.26s/it]"
     ]
    },
    {
     "name": "stdout",
     "output_type": "stream",
     "text": [
      "adding feature iphone_max_21days\n",
      "performing CV with features: ['days_to_end', 'num_country_max_1days', 'num_city_max_1days', 'android_max_1days', 'smarttv_max_1days', 'iphone_max_1days', 'ipad_max_1days', 'apple_max_1days', 'pc_max_1days', 'time_spent_sum_3days', 'time_spent_max_3days', 'num_title_ep_sum_3days', 'num_title_ep_max_3days', 'num_title_ru_sum_3days', 'num_title_ru_max_3days', 'num_country_max_3days', 'num_city_max_3days', 'other_content_sum_3days', 'top_1_sum_3days', 'top_2_sum_3days', 'top_3_sum_3days', 'top_4_sum_3days', 'top_5_sum_3days', 'top_6_sum_3days', 'top_7_sum_3days', 'top_8_sum_3days', 'top_9_sum_3days', 'top_10_sum_3days', 'android_max_3days', 'smarttv_max_3days', 'iphone_max_3days', 'ipad_max_3days', 'apple_max_3days', 'pc_max_3days', 'time_spent_sum_7days', 'time_spent_max_7days', 'num_title_ep_sum_7days', 'num_title_ep_max_7days', 'num_title_ru_sum_7days', 'num_title_ru_max_7days', 'num_country_max_7days', 'num_city_max_7days', 'other_content_sum_7days', 'top_1_sum_7days', 'top_2_sum_7days', 'top_3_sum_7days', 'top_4_sum_7days', 'top_5_sum_7days', 'top_6_sum_7days', 'top_7_sum_7days', 'top_8_sum_7days', 'top_9_sum_7days', 'top_10_sum_7days', 'android_max_7days', 'smarttv_max_7days', 'iphone_max_7days', 'ipad_max_7days', 'apple_max_7days', 'pc_max_7days', 'time_spent_sum_14days', 'time_spent_max_14days', 'num_title_ep_sum_14days', 'num_title_ep_max_14days', 'num_title_ru_sum_14days', 'num_title_ru_max_14days', 'num_country_max_14days', 'num_city_max_14days', 'other_content_sum_14days', 'top_1_sum_14days', 'top_2_sum_14days', 'top_3_sum_14days', 'top_4_sum_14days', 'top_5_sum_14days', 'top_6_sum_14days', 'top_7_sum_14days', 'top_8_sum_14days', 'top_9_sum_14days', 'top_10_sum_14days', 'android_max_14days', 'smarttv_max_14days', 'iphone_max_14days', 'ipad_max_14days', 'apple_max_14days', 'pc_max_14days', 'time_spent_sum_21days', 'time_spent_max_21days', 'num_title_ep_sum_21days', 'num_title_ep_max_21days', 'num_title_ru_sum_21days', 'num_title_ru_max_21days', 'num_country_max_21days', 'num_city_max_21days', 'other_content_sum_21days', 'top_1_sum_21days', 'top_2_sum_21days', 'top_3_sum_21days', 'top_4_sum_21days', 'top_5_sum_21days', 'top_6_sum_21days', 'top_7_sum_21days', 'top_8_sum_21days', 'top_9_sum_21days', 'top_10_sum_21days', 'android_max_21days', 'smarttv_max_21days', 'iphone_max_21days']\n",
      "5-fold CV is : 0.6349 +/- 0.005\n"
     ]
    },
    {
     "name": "stderr",
     "output_type": "stream",
     "text": [
      "\n",
      " 75%|████████████████████████        | 106/141 [28:10<23:24, 40.13s/it]"
     ]
    },
    {
     "name": "stdout",
     "output_type": "stream",
     "text": [
      "adding feature ipad_max_21days\n",
      "performing CV with features: ['days_to_end', 'num_country_max_1days', 'num_city_max_1days', 'android_max_1days', 'smarttv_max_1days', 'iphone_max_1days', 'ipad_max_1days', 'apple_max_1days', 'pc_max_1days', 'time_spent_sum_3days', 'time_spent_max_3days', 'num_title_ep_sum_3days', 'num_title_ep_max_3days', 'num_title_ru_sum_3days', 'num_title_ru_max_3days', 'num_country_max_3days', 'num_city_max_3days', 'other_content_sum_3days', 'top_1_sum_3days', 'top_2_sum_3days', 'top_3_sum_3days', 'top_4_sum_3days', 'top_5_sum_3days', 'top_6_sum_3days', 'top_7_sum_3days', 'top_8_sum_3days', 'top_9_sum_3days', 'top_10_sum_3days', 'android_max_3days', 'smarttv_max_3days', 'iphone_max_3days', 'ipad_max_3days', 'apple_max_3days', 'pc_max_3days', 'time_spent_sum_7days', 'time_spent_max_7days', 'num_title_ep_sum_7days', 'num_title_ep_max_7days', 'num_title_ru_sum_7days', 'num_title_ru_max_7days', 'num_country_max_7days', 'num_city_max_7days', 'other_content_sum_7days', 'top_1_sum_7days', 'top_2_sum_7days', 'top_3_sum_7days', 'top_4_sum_7days', 'top_5_sum_7days', 'top_6_sum_7days', 'top_7_sum_7days', 'top_8_sum_7days', 'top_9_sum_7days', 'top_10_sum_7days', 'android_max_7days', 'smarttv_max_7days', 'iphone_max_7days', 'ipad_max_7days', 'apple_max_7days', 'pc_max_7days', 'time_spent_sum_14days', 'time_spent_max_14days', 'num_title_ep_sum_14days', 'num_title_ep_max_14days', 'num_title_ru_sum_14days', 'num_title_ru_max_14days', 'num_country_max_14days', 'num_city_max_14days', 'other_content_sum_14days', 'top_1_sum_14days', 'top_2_sum_14days', 'top_3_sum_14days', 'top_4_sum_14days', 'top_5_sum_14days', 'top_6_sum_14days', 'top_7_sum_14days', 'top_8_sum_14days', 'top_9_sum_14days', 'top_10_sum_14days', 'android_max_14days', 'smarttv_max_14days', 'iphone_max_14days', 'ipad_max_14days', 'apple_max_14days', 'pc_max_14days', 'time_spent_sum_21days', 'time_spent_max_21days', 'num_title_ep_sum_21days', 'num_title_ep_max_21days', 'num_title_ru_sum_21days', 'num_title_ru_max_21days', 'num_country_max_21days', 'num_city_max_21days', 'other_content_sum_21days', 'top_1_sum_21days', 'top_2_sum_21days', 'top_3_sum_21days', 'top_4_sum_21days', 'top_5_sum_21days', 'top_6_sum_21days', 'top_7_sum_21days', 'top_8_sum_21days', 'top_9_sum_21days', 'top_10_sum_21days', 'android_max_21days', 'smarttv_max_21days', 'iphone_max_21days', 'ipad_max_21days']\n",
      "5-fold CV is : 0.6342 +/- 0.0079\n"
     ]
    },
    {
     "name": "stderr",
     "output_type": "stream",
     "text": [
      "\n",
      " 76%|████████████████████████▎       | 107/141 [28:48<22:23, 39.53s/it]"
     ]
    },
    {
     "name": "stdout",
     "output_type": "stream",
     "text": [
      "adding feature apple_max_21days\n",
      "performing CV with features: ['days_to_end', 'num_country_max_1days', 'num_city_max_1days', 'android_max_1days', 'smarttv_max_1days', 'iphone_max_1days', 'ipad_max_1days', 'apple_max_1days', 'pc_max_1days', 'time_spent_sum_3days', 'time_spent_max_3days', 'num_title_ep_sum_3days', 'num_title_ep_max_3days', 'num_title_ru_sum_3days', 'num_title_ru_max_3days', 'num_country_max_3days', 'num_city_max_3days', 'other_content_sum_3days', 'top_1_sum_3days', 'top_2_sum_3days', 'top_3_sum_3days', 'top_4_sum_3days', 'top_5_sum_3days', 'top_6_sum_3days', 'top_7_sum_3days', 'top_8_sum_3days', 'top_9_sum_3days', 'top_10_sum_3days', 'android_max_3days', 'smarttv_max_3days', 'iphone_max_3days', 'ipad_max_3days', 'apple_max_3days', 'pc_max_3days', 'time_spent_sum_7days', 'time_spent_max_7days', 'num_title_ep_sum_7days', 'num_title_ep_max_7days', 'num_title_ru_sum_7days', 'num_title_ru_max_7days', 'num_country_max_7days', 'num_city_max_7days', 'other_content_sum_7days', 'top_1_sum_7days', 'top_2_sum_7days', 'top_3_sum_7days', 'top_4_sum_7days', 'top_5_sum_7days', 'top_6_sum_7days', 'top_7_sum_7days', 'top_8_sum_7days', 'top_9_sum_7days', 'top_10_sum_7days', 'android_max_7days', 'smarttv_max_7days', 'iphone_max_7days', 'ipad_max_7days', 'apple_max_7days', 'pc_max_7days', 'time_spent_sum_14days', 'time_spent_max_14days', 'num_title_ep_sum_14days', 'num_title_ep_max_14days', 'num_title_ru_sum_14days', 'num_title_ru_max_14days', 'num_country_max_14days', 'num_city_max_14days', 'other_content_sum_14days', 'top_1_sum_14days', 'top_2_sum_14days', 'top_3_sum_14days', 'top_4_sum_14days', 'top_5_sum_14days', 'top_6_sum_14days', 'top_7_sum_14days', 'top_8_sum_14days', 'top_9_sum_14days', 'top_10_sum_14days', 'android_max_14days', 'smarttv_max_14days', 'iphone_max_14days', 'ipad_max_14days', 'apple_max_14days', 'pc_max_14days', 'time_spent_sum_21days', 'time_spent_max_21days', 'num_title_ep_sum_21days', 'num_title_ep_max_21days', 'num_title_ru_sum_21days', 'num_title_ru_max_21days', 'num_country_max_21days', 'num_city_max_21days', 'other_content_sum_21days', 'top_1_sum_21days', 'top_2_sum_21days', 'top_3_sum_21days', 'top_4_sum_21days', 'top_5_sum_21days', 'top_6_sum_21days', 'top_7_sum_21days', 'top_8_sum_21days', 'top_9_sum_21days', 'top_10_sum_21days', 'android_max_21days', 'smarttv_max_21days', 'iphone_max_21days', 'ipad_max_21days', 'apple_max_21days']\n",
      "5-fold CV is : 0.6358 +/- 0.0056\n"
     ]
    },
    {
     "name": "stderr",
     "output_type": "stream",
     "text": [
      "\n",
      " 77%|████████████████████████▌       | 108/141 [29:23<20:57, 38.12s/it]"
     ]
    },
    {
     "name": "stdout",
     "output_type": "stream",
     "text": [
      "adding feature pc_max_21days\n",
      "performing CV with features: ['days_to_end', 'num_country_max_1days', 'num_city_max_1days', 'android_max_1days', 'smarttv_max_1days', 'iphone_max_1days', 'ipad_max_1days', 'apple_max_1days', 'pc_max_1days', 'time_spent_sum_3days', 'time_spent_max_3days', 'num_title_ep_sum_3days', 'num_title_ep_max_3days', 'num_title_ru_sum_3days', 'num_title_ru_max_3days', 'num_country_max_3days', 'num_city_max_3days', 'other_content_sum_3days', 'top_1_sum_3days', 'top_2_sum_3days', 'top_3_sum_3days', 'top_4_sum_3days', 'top_5_sum_3days', 'top_6_sum_3days', 'top_7_sum_3days', 'top_8_sum_3days', 'top_9_sum_3days', 'top_10_sum_3days', 'android_max_3days', 'smarttv_max_3days', 'iphone_max_3days', 'ipad_max_3days', 'apple_max_3days', 'pc_max_3days', 'time_spent_sum_7days', 'time_spent_max_7days', 'num_title_ep_sum_7days', 'num_title_ep_max_7days', 'num_title_ru_sum_7days', 'num_title_ru_max_7days', 'num_country_max_7days', 'num_city_max_7days', 'other_content_sum_7days', 'top_1_sum_7days', 'top_2_sum_7days', 'top_3_sum_7days', 'top_4_sum_7days', 'top_5_sum_7days', 'top_6_sum_7days', 'top_7_sum_7days', 'top_8_sum_7days', 'top_9_sum_7days', 'top_10_sum_7days', 'android_max_7days', 'smarttv_max_7days', 'iphone_max_7days', 'ipad_max_7days', 'apple_max_7days', 'pc_max_7days', 'time_spent_sum_14days', 'time_spent_max_14days', 'num_title_ep_sum_14days', 'num_title_ep_max_14days', 'num_title_ru_sum_14days', 'num_title_ru_max_14days', 'num_country_max_14days', 'num_city_max_14days', 'other_content_sum_14days', 'top_1_sum_14days', 'top_2_sum_14days', 'top_3_sum_14days', 'top_4_sum_14days', 'top_5_sum_14days', 'top_6_sum_14days', 'top_7_sum_14days', 'top_8_sum_14days', 'top_9_sum_14days', 'top_10_sum_14days', 'android_max_14days', 'smarttv_max_14days', 'iphone_max_14days', 'ipad_max_14days', 'apple_max_14days', 'pc_max_14days', 'time_spent_sum_21days', 'time_spent_max_21days', 'num_title_ep_sum_21days', 'num_title_ep_max_21days', 'num_title_ru_sum_21days', 'num_title_ru_max_21days', 'num_country_max_21days', 'num_city_max_21days', 'other_content_sum_21days', 'top_1_sum_21days', 'top_2_sum_21days', 'top_3_sum_21days', 'top_4_sum_21days', 'top_5_sum_21days', 'top_6_sum_21days', 'top_7_sum_21days', 'top_8_sum_21days', 'top_9_sum_21days', 'top_10_sum_21days', 'android_max_21days', 'smarttv_max_21days', 'iphone_max_21days', 'ipad_max_21days', 'apple_max_21days', 'pc_max_21days']\n",
      "5-fold CV is : 0.6336 +/- 0.0057\n"
     ]
    },
    {
     "name": "stderr",
     "output_type": "stream",
     "text": [
      "\n",
      " 77%|████████████████████████▋       | 109/141 [29:56<19:28, 36.53s/it]"
     ]
    },
    {
     "name": "stdout",
     "output_type": "stream",
     "text": [
      "adding feature time_spent_sum_30days\n",
      "performing CV with features: ['days_to_end', 'num_country_max_1days', 'num_city_max_1days', 'android_max_1days', 'smarttv_max_1days', 'iphone_max_1days', 'ipad_max_1days', 'apple_max_1days', 'pc_max_1days', 'time_spent_sum_3days', 'time_spent_max_3days', 'num_title_ep_sum_3days', 'num_title_ep_max_3days', 'num_title_ru_sum_3days', 'num_title_ru_max_3days', 'num_country_max_3days', 'num_city_max_3days', 'other_content_sum_3days', 'top_1_sum_3days', 'top_2_sum_3days', 'top_3_sum_3days', 'top_4_sum_3days', 'top_5_sum_3days', 'top_6_sum_3days', 'top_7_sum_3days', 'top_8_sum_3days', 'top_9_sum_3days', 'top_10_sum_3days', 'android_max_3days', 'smarttv_max_3days', 'iphone_max_3days', 'ipad_max_3days', 'apple_max_3days', 'pc_max_3days', 'time_spent_sum_7days', 'time_spent_max_7days', 'num_title_ep_sum_7days', 'num_title_ep_max_7days', 'num_title_ru_sum_7days', 'num_title_ru_max_7days', 'num_country_max_7days', 'num_city_max_7days', 'other_content_sum_7days', 'top_1_sum_7days', 'top_2_sum_7days', 'top_3_sum_7days', 'top_4_sum_7days', 'top_5_sum_7days', 'top_6_sum_7days', 'top_7_sum_7days', 'top_8_sum_7days', 'top_9_sum_7days', 'top_10_sum_7days', 'android_max_7days', 'smarttv_max_7days', 'iphone_max_7days', 'ipad_max_7days', 'apple_max_7days', 'pc_max_7days', 'time_spent_sum_14days', 'time_spent_max_14days', 'num_title_ep_sum_14days', 'num_title_ep_max_14days', 'num_title_ru_sum_14days', 'num_title_ru_max_14days', 'num_country_max_14days', 'num_city_max_14days', 'other_content_sum_14days', 'top_1_sum_14days', 'top_2_sum_14days', 'top_3_sum_14days', 'top_4_sum_14days', 'top_5_sum_14days', 'top_6_sum_14days', 'top_7_sum_14days', 'top_8_sum_14days', 'top_9_sum_14days', 'top_10_sum_14days', 'android_max_14days', 'smarttv_max_14days', 'iphone_max_14days', 'ipad_max_14days', 'apple_max_14days', 'pc_max_14days', 'time_spent_sum_21days', 'time_spent_max_21days', 'num_title_ep_sum_21days', 'num_title_ep_max_21days', 'num_title_ru_sum_21days', 'num_title_ru_max_21days', 'num_country_max_21days', 'num_city_max_21days', 'other_content_sum_21days', 'top_1_sum_21days', 'top_2_sum_21days', 'top_3_sum_21days', 'top_4_sum_21days', 'top_5_sum_21days', 'top_6_sum_21days', 'top_7_sum_21days', 'top_8_sum_21days', 'top_9_sum_21days', 'top_10_sum_21days', 'android_max_21days', 'smarttv_max_21days', 'iphone_max_21days', 'ipad_max_21days', 'apple_max_21days', 'pc_max_21days', 'time_spent_sum_30days']\n",
      "5-fold CV is : 0.634 +/- 0.0087\n"
     ]
    },
    {
     "name": "stderr",
     "output_type": "stream",
     "text": [
      "\n",
      " 78%|████████████████████████▉       | 110/141 [30:35<19:18, 37.38s/it]"
     ]
    },
    {
     "name": "stdout",
     "output_type": "stream",
     "text": [
      "adding feature time_spent_max_30days\n",
      "performing CV with features: ['days_to_end', 'num_country_max_1days', 'num_city_max_1days', 'android_max_1days', 'smarttv_max_1days', 'iphone_max_1days', 'ipad_max_1days', 'apple_max_1days', 'pc_max_1days', 'time_spent_sum_3days', 'time_spent_max_3days', 'num_title_ep_sum_3days', 'num_title_ep_max_3days', 'num_title_ru_sum_3days', 'num_title_ru_max_3days', 'num_country_max_3days', 'num_city_max_3days', 'other_content_sum_3days', 'top_1_sum_3days', 'top_2_sum_3days', 'top_3_sum_3days', 'top_4_sum_3days', 'top_5_sum_3days', 'top_6_sum_3days', 'top_7_sum_3days', 'top_8_sum_3days', 'top_9_sum_3days', 'top_10_sum_3days', 'android_max_3days', 'smarttv_max_3days', 'iphone_max_3days', 'ipad_max_3days', 'apple_max_3days', 'pc_max_3days', 'time_spent_sum_7days', 'time_spent_max_7days', 'num_title_ep_sum_7days', 'num_title_ep_max_7days', 'num_title_ru_sum_7days', 'num_title_ru_max_7days', 'num_country_max_7days', 'num_city_max_7days', 'other_content_sum_7days', 'top_1_sum_7days', 'top_2_sum_7days', 'top_3_sum_7days', 'top_4_sum_7days', 'top_5_sum_7days', 'top_6_sum_7days', 'top_7_sum_7days', 'top_8_sum_7days', 'top_9_sum_7days', 'top_10_sum_7days', 'android_max_7days', 'smarttv_max_7days', 'iphone_max_7days', 'ipad_max_7days', 'apple_max_7days', 'pc_max_7days', 'time_spent_sum_14days', 'time_spent_max_14days', 'num_title_ep_sum_14days', 'num_title_ep_max_14days', 'num_title_ru_sum_14days', 'num_title_ru_max_14days', 'num_country_max_14days', 'num_city_max_14days', 'other_content_sum_14days', 'top_1_sum_14days', 'top_2_sum_14days', 'top_3_sum_14days', 'top_4_sum_14days', 'top_5_sum_14days', 'top_6_sum_14days', 'top_7_sum_14days', 'top_8_sum_14days', 'top_9_sum_14days', 'top_10_sum_14days', 'android_max_14days', 'smarttv_max_14days', 'iphone_max_14days', 'ipad_max_14days', 'apple_max_14days', 'pc_max_14days', 'time_spent_sum_21days', 'time_spent_max_21days', 'num_title_ep_sum_21days', 'num_title_ep_max_21days', 'num_title_ru_sum_21days', 'num_title_ru_max_21days', 'num_country_max_21days', 'num_city_max_21days', 'other_content_sum_21days', 'top_1_sum_21days', 'top_2_sum_21days', 'top_3_sum_21days', 'top_4_sum_21days', 'top_5_sum_21days', 'top_6_sum_21days', 'top_7_sum_21days', 'top_8_sum_21days', 'top_9_sum_21days', 'top_10_sum_21days', 'android_max_21days', 'smarttv_max_21days', 'iphone_max_21days', 'ipad_max_21days', 'apple_max_21days', 'pc_max_21days', 'time_spent_sum_30days', 'time_spent_max_30days']\n",
      "5-fold CV is : 0.6343 +/- 0.0063\n"
     ]
    },
    {
     "name": "stderr",
     "output_type": "stream",
     "text": [
      "\n",
      " 79%|█████████████████████████▏      | 111/141 [31:15<19:03, 38.12s/it]"
     ]
    },
    {
     "name": "stdout",
     "output_type": "stream",
     "text": [
      "adding feature num_title_ep_sum_30days\n",
      "performing CV with features: ['days_to_end', 'num_country_max_1days', 'num_city_max_1days', 'android_max_1days', 'smarttv_max_1days', 'iphone_max_1days', 'ipad_max_1days', 'apple_max_1days', 'pc_max_1days', 'time_spent_sum_3days', 'time_spent_max_3days', 'num_title_ep_sum_3days', 'num_title_ep_max_3days', 'num_title_ru_sum_3days', 'num_title_ru_max_3days', 'num_country_max_3days', 'num_city_max_3days', 'other_content_sum_3days', 'top_1_sum_3days', 'top_2_sum_3days', 'top_3_sum_3days', 'top_4_sum_3days', 'top_5_sum_3days', 'top_6_sum_3days', 'top_7_sum_3days', 'top_8_sum_3days', 'top_9_sum_3days', 'top_10_sum_3days', 'android_max_3days', 'smarttv_max_3days', 'iphone_max_3days', 'ipad_max_3days', 'apple_max_3days', 'pc_max_3days', 'time_spent_sum_7days', 'time_spent_max_7days', 'num_title_ep_sum_7days', 'num_title_ep_max_7days', 'num_title_ru_sum_7days', 'num_title_ru_max_7days', 'num_country_max_7days', 'num_city_max_7days', 'other_content_sum_7days', 'top_1_sum_7days', 'top_2_sum_7days', 'top_3_sum_7days', 'top_4_sum_7days', 'top_5_sum_7days', 'top_6_sum_7days', 'top_7_sum_7days', 'top_8_sum_7days', 'top_9_sum_7days', 'top_10_sum_7days', 'android_max_7days', 'smarttv_max_7days', 'iphone_max_7days', 'ipad_max_7days', 'apple_max_7days', 'pc_max_7days', 'time_spent_sum_14days', 'time_spent_max_14days', 'num_title_ep_sum_14days', 'num_title_ep_max_14days', 'num_title_ru_sum_14days', 'num_title_ru_max_14days', 'num_country_max_14days', 'num_city_max_14days', 'other_content_sum_14days', 'top_1_sum_14days', 'top_2_sum_14days', 'top_3_sum_14days', 'top_4_sum_14days', 'top_5_sum_14days', 'top_6_sum_14days', 'top_7_sum_14days', 'top_8_sum_14days', 'top_9_sum_14days', 'top_10_sum_14days', 'android_max_14days', 'smarttv_max_14days', 'iphone_max_14days', 'ipad_max_14days', 'apple_max_14days', 'pc_max_14days', 'time_spent_sum_21days', 'time_spent_max_21days', 'num_title_ep_sum_21days', 'num_title_ep_max_21days', 'num_title_ru_sum_21days', 'num_title_ru_max_21days', 'num_country_max_21days', 'num_city_max_21days', 'other_content_sum_21days', 'top_1_sum_21days', 'top_2_sum_21days', 'top_3_sum_21days', 'top_4_sum_21days', 'top_5_sum_21days', 'top_6_sum_21days', 'top_7_sum_21days', 'top_8_sum_21days', 'top_9_sum_21days', 'top_10_sum_21days', 'android_max_21days', 'smarttv_max_21days', 'iphone_max_21days', 'ipad_max_21days', 'apple_max_21days', 'pc_max_21days', 'time_spent_sum_30days', 'time_spent_max_30days', 'num_title_ep_sum_30days']\n",
      "5-fold CV is : 0.6319 +/- 0.0054\n"
     ]
    },
    {
     "name": "stderr",
     "output_type": "stream",
     "text": [
      "\n",
      " 79%|█████████████████████████▍      | 112/141 [31:59<19:14, 39.80s/it]"
     ]
    },
    {
     "name": "stdout",
     "output_type": "stream",
     "text": [
      "adding feature num_title_ep_max_30days\n",
      "performing CV with features: ['days_to_end', 'num_country_max_1days', 'num_city_max_1days', 'android_max_1days', 'smarttv_max_1days', 'iphone_max_1days', 'ipad_max_1days', 'apple_max_1days', 'pc_max_1days', 'time_spent_sum_3days', 'time_spent_max_3days', 'num_title_ep_sum_3days', 'num_title_ep_max_3days', 'num_title_ru_sum_3days', 'num_title_ru_max_3days', 'num_country_max_3days', 'num_city_max_3days', 'other_content_sum_3days', 'top_1_sum_3days', 'top_2_sum_3days', 'top_3_sum_3days', 'top_4_sum_3days', 'top_5_sum_3days', 'top_6_sum_3days', 'top_7_sum_3days', 'top_8_sum_3days', 'top_9_sum_3days', 'top_10_sum_3days', 'android_max_3days', 'smarttv_max_3days', 'iphone_max_3days', 'ipad_max_3days', 'apple_max_3days', 'pc_max_3days', 'time_spent_sum_7days', 'time_spent_max_7days', 'num_title_ep_sum_7days', 'num_title_ep_max_7days', 'num_title_ru_sum_7days', 'num_title_ru_max_7days', 'num_country_max_7days', 'num_city_max_7days', 'other_content_sum_7days', 'top_1_sum_7days', 'top_2_sum_7days', 'top_3_sum_7days', 'top_4_sum_7days', 'top_5_sum_7days', 'top_6_sum_7days', 'top_7_sum_7days', 'top_8_sum_7days', 'top_9_sum_7days', 'top_10_sum_7days', 'android_max_7days', 'smarttv_max_7days', 'iphone_max_7days', 'ipad_max_7days', 'apple_max_7days', 'pc_max_7days', 'time_spent_sum_14days', 'time_spent_max_14days', 'num_title_ep_sum_14days', 'num_title_ep_max_14days', 'num_title_ru_sum_14days', 'num_title_ru_max_14days', 'num_country_max_14days', 'num_city_max_14days', 'other_content_sum_14days', 'top_1_sum_14days', 'top_2_sum_14days', 'top_3_sum_14days', 'top_4_sum_14days', 'top_5_sum_14days', 'top_6_sum_14days', 'top_7_sum_14days', 'top_8_sum_14days', 'top_9_sum_14days', 'top_10_sum_14days', 'android_max_14days', 'smarttv_max_14days', 'iphone_max_14days', 'ipad_max_14days', 'apple_max_14days', 'pc_max_14days', 'time_spent_sum_21days', 'time_spent_max_21days', 'num_title_ep_sum_21days', 'num_title_ep_max_21days', 'num_title_ru_sum_21days', 'num_title_ru_max_21days', 'num_country_max_21days', 'num_city_max_21days', 'other_content_sum_21days', 'top_1_sum_21days', 'top_2_sum_21days', 'top_3_sum_21days', 'top_4_sum_21days', 'top_5_sum_21days', 'top_6_sum_21days', 'top_7_sum_21days', 'top_8_sum_21days', 'top_9_sum_21days', 'top_10_sum_21days', 'android_max_21days', 'smarttv_max_21days', 'iphone_max_21days', 'ipad_max_21days', 'apple_max_21days', 'pc_max_21days', 'time_spent_sum_30days', 'time_spent_max_30days', 'num_title_ep_sum_30days', 'num_title_ep_max_30days']\n",
      "5-fold CV is : 0.6368 +/- 0.0068\n"
     ]
    },
    {
     "name": "stderr",
     "output_type": "stream",
     "text": [
      "\n",
      " 80%|█████████████████████████▋      | 113/141 [32:43<19:10, 41.10s/it]"
     ]
    },
    {
     "name": "stdout",
     "output_type": "stream",
     "text": [
      "adding feature num_title_ru_sum_30days\n",
      "performing CV with features: ['days_to_end', 'num_country_max_1days', 'num_city_max_1days', 'android_max_1days', 'smarttv_max_1days', 'iphone_max_1days', 'ipad_max_1days', 'apple_max_1days', 'pc_max_1days', 'time_spent_sum_3days', 'time_spent_max_3days', 'num_title_ep_sum_3days', 'num_title_ep_max_3days', 'num_title_ru_sum_3days', 'num_title_ru_max_3days', 'num_country_max_3days', 'num_city_max_3days', 'other_content_sum_3days', 'top_1_sum_3days', 'top_2_sum_3days', 'top_3_sum_3days', 'top_4_sum_3days', 'top_5_sum_3days', 'top_6_sum_3days', 'top_7_sum_3days', 'top_8_sum_3days', 'top_9_sum_3days', 'top_10_sum_3days', 'android_max_3days', 'smarttv_max_3days', 'iphone_max_3days', 'ipad_max_3days', 'apple_max_3days', 'pc_max_3days', 'time_spent_sum_7days', 'time_spent_max_7days', 'num_title_ep_sum_7days', 'num_title_ep_max_7days', 'num_title_ru_sum_7days', 'num_title_ru_max_7days', 'num_country_max_7days', 'num_city_max_7days', 'other_content_sum_7days', 'top_1_sum_7days', 'top_2_sum_7days', 'top_3_sum_7days', 'top_4_sum_7days', 'top_5_sum_7days', 'top_6_sum_7days', 'top_7_sum_7days', 'top_8_sum_7days', 'top_9_sum_7days', 'top_10_sum_7days', 'android_max_7days', 'smarttv_max_7days', 'iphone_max_7days', 'ipad_max_7days', 'apple_max_7days', 'pc_max_7days', 'time_spent_sum_14days', 'time_spent_max_14days', 'num_title_ep_sum_14days', 'num_title_ep_max_14days', 'num_title_ru_sum_14days', 'num_title_ru_max_14days', 'num_country_max_14days', 'num_city_max_14days', 'other_content_sum_14days', 'top_1_sum_14days', 'top_2_sum_14days', 'top_3_sum_14days', 'top_4_sum_14days', 'top_5_sum_14days', 'top_6_sum_14days', 'top_7_sum_14days', 'top_8_sum_14days', 'top_9_sum_14days', 'top_10_sum_14days', 'android_max_14days', 'smarttv_max_14days', 'iphone_max_14days', 'ipad_max_14days', 'apple_max_14days', 'pc_max_14days', 'time_spent_sum_21days', 'time_spent_max_21days', 'num_title_ep_sum_21days', 'num_title_ep_max_21days', 'num_title_ru_sum_21days', 'num_title_ru_max_21days', 'num_country_max_21days', 'num_city_max_21days', 'other_content_sum_21days', 'top_1_sum_21days', 'top_2_sum_21days', 'top_3_sum_21days', 'top_4_sum_21days', 'top_5_sum_21days', 'top_6_sum_21days', 'top_7_sum_21days', 'top_8_sum_21days', 'top_9_sum_21days', 'top_10_sum_21days', 'android_max_21days', 'smarttv_max_21days', 'iphone_max_21days', 'ipad_max_21days', 'apple_max_21days', 'pc_max_21days', 'time_spent_sum_30days', 'time_spent_max_30days', 'num_title_ep_sum_30days', 'num_title_ep_max_30days', 'num_title_ru_sum_30days']\n",
      "5-fold CV is : 0.6341 +/- 0.0082\n"
     ]
    },
    {
     "name": "stderr",
     "output_type": "stream",
     "text": [
      "\n",
      " 81%|█████████████████████████▊      | 114/141 [33:29<19:12, 42.69s/it]"
     ]
    },
    {
     "name": "stdout",
     "output_type": "stream",
     "text": [
      "adding feature num_title_ru_max_30days\n",
      "performing CV with features: ['days_to_end', 'num_country_max_1days', 'num_city_max_1days', 'android_max_1days', 'smarttv_max_1days', 'iphone_max_1days', 'ipad_max_1days', 'apple_max_1days', 'pc_max_1days', 'time_spent_sum_3days', 'time_spent_max_3days', 'num_title_ep_sum_3days', 'num_title_ep_max_3days', 'num_title_ru_sum_3days', 'num_title_ru_max_3days', 'num_country_max_3days', 'num_city_max_3days', 'other_content_sum_3days', 'top_1_sum_3days', 'top_2_sum_3days', 'top_3_sum_3days', 'top_4_sum_3days', 'top_5_sum_3days', 'top_6_sum_3days', 'top_7_sum_3days', 'top_8_sum_3days', 'top_9_sum_3days', 'top_10_sum_3days', 'android_max_3days', 'smarttv_max_3days', 'iphone_max_3days', 'ipad_max_3days', 'apple_max_3days', 'pc_max_3days', 'time_spent_sum_7days', 'time_spent_max_7days', 'num_title_ep_sum_7days', 'num_title_ep_max_7days', 'num_title_ru_sum_7days', 'num_title_ru_max_7days', 'num_country_max_7days', 'num_city_max_7days', 'other_content_sum_7days', 'top_1_sum_7days', 'top_2_sum_7days', 'top_3_sum_7days', 'top_4_sum_7days', 'top_5_sum_7days', 'top_6_sum_7days', 'top_7_sum_7days', 'top_8_sum_7days', 'top_9_sum_7days', 'top_10_sum_7days', 'android_max_7days', 'smarttv_max_7days', 'iphone_max_7days', 'ipad_max_7days', 'apple_max_7days', 'pc_max_7days', 'time_spent_sum_14days', 'time_spent_max_14days', 'num_title_ep_sum_14days', 'num_title_ep_max_14days', 'num_title_ru_sum_14days', 'num_title_ru_max_14days', 'num_country_max_14days', 'num_city_max_14days', 'other_content_sum_14days', 'top_1_sum_14days', 'top_2_sum_14days', 'top_3_sum_14days', 'top_4_sum_14days', 'top_5_sum_14days', 'top_6_sum_14days', 'top_7_sum_14days', 'top_8_sum_14days', 'top_9_sum_14days', 'top_10_sum_14days', 'android_max_14days', 'smarttv_max_14days', 'iphone_max_14days', 'ipad_max_14days', 'apple_max_14days', 'pc_max_14days', 'time_spent_sum_21days', 'time_spent_max_21days', 'num_title_ep_sum_21days', 'num_title_ep_max_21days', 'num_title_ru_sum_21days', 'num_title_ru_max_21days', 'num_country_max_21days', 'num_city_max_21days', 'other_content_sum_21days', 'top_1_sum_21days', 'top_2_sum_21days', 'top_3_sum_21days', 'top_4_sum_21days', 'top_5_sum_21days', 'top_6_sum_21days', 'top_7_sum_21days', 'top_8_sum_21days', 'top_9_sum_21days', 'top_10_sum_21days', 'android_max_21days', 'smarttv_max_21days', 'iphone_max_21days', 'ipad_max_21days', 'apple_max_21days', 'pc_max_21days', 'time_spent_sum_30days', 'time_spent_max_30days', 'num_title_ep_sum_30days', 'num_title_ep_max_30days', 'num_title_ru_sum_30days', 'num_title_ru_max_30days']\n",
      "5-fold CV is : 0.6318 +/- 0.006\n"
     ]
    },
    {
     "name": "stderr",
     "output_type": "stream",
     "text": [
      "\n",
      " 82%|██████████████████████████      | 115/141 [34:15<18:53, 43.61s/it]"
     ]
    },
    {
     "name": "stdout",
     "output_type": "stream",
     "text": [
      "adding feature num_country_max_30days\n",
      "performing CV with features: ['days_to_end', 'num_country_max_1days', 'num_city_max_1days', 'android_max_1days', 'smarttv_max_1days', 'iphone_max_1days', 'ipad_max_1days', 'apple_max_1days', 'pc_max_1days', 'time_spent_sum_3days', 'time_spent_max_3days', 'num_title_ep_sum_3days', 'num_title_ep_max_3days', 'num_title_ru_sum_3days', 'num_title_ru_max_3days', 'num_country_max_3days', 'num_city_max_3days', 'other_content_sum_3days', 'top_1_sum_3days', 'top_2_sum_3days', 'top_3_sum_3days', 'top_4_sum_3days', 'top_5_sum_3days', 'top_6_sum_3days', 'top_7_sum_3days', 'top_8_sum_3days', 'top_9_sum_3days', 'top_10_sum_3days', 'android_max_3days', 'smarttv_max_3days', 'iphone_max_3days', 'ipad_max_3days', 'apple_max_3days', 'pc_max_3days', 'time_spent_sum_7days', 'time_spent_max_7days', 'num_title_ep_sum_7days', 'num_title_ep_max_7days', 'num_title_ru_sum_7days', 'num_title_ru_max_7days', 'num_country_max_7days', 'num_city_max_7days', 'other_content_sum_7days', 'top_1_sum_7days', 'top_2_sum_7days', 'top_3_sum_7days', 'top_4_sum_7days', 'top_5_sum_7days', 'top_6_sum_7days', 'top_7_sum_7days', 'top_8_sum_7days', 'top_9_sum_7days', 'top_10_sum_7days', 'android_max_7days', 'smarttv_max_7days', 'iphone_max_7days', 'ipad_max_7days', 'apple_max_7days', 'pc_max_7days', 'time_spent_sum_14days', 'time_spent_max_14days', 'num_title_ep_sum_14days', 'num_title_ep_max_14days', 'num_title_ru_sum_14days', 'num_title_ru_max_14days', 'num_country_max_14days', 'num_city_max_14days', 'other_content_sum_14days', 'top_1_sum_14days', 'top_2_sum_14days', 'top_3_sum_14days', 'top_4_sum_14days', 'top_5_sum_14days', 'top_6_sum_14days', 'top_7_sum_14days', 'top_8_sum_14days', 'top_9_sum_14days', 'top_10_sum_14days', 'android_max_14days', 'smarttv_max_14days', 'iphone_max_14days', 'ipad_max_14days', 'apple_max_14days', 'pc_max_14days', 'time_spent_sum_21days', 'time_spent_max_21days', 'num_title_ep_sum_21days', 'num_title_ep_max_21days', 'num_title_ru_sum_21days', 'num_title_ru_max_21days', 'num_country_max_21days', 'num_city_max_21days', 'other_content_sum_21days', 'top_1_sum_21days', 'top_2_sum_21days', 'top_3_sum_21days', 'top_4_sum_21days', 'top_5_sum_21days', 'top_6_sum_21days', 'top_7_sum_21days', 'top_8_sum_21days', 'top_9_sum_21days', 'top_10_sum_21days', 'android_max_21days', 'smarttv_max_21days', 'iphone_max_21days', 'ipad_max_21days', 'apple_max_21days', 'pc_max_21days', 'time_spent_sum_30days', 'time_spent_max_30days', 'num_title_ep_sum_30days', 'num_title_ep_max_30days', 'num_title_ru_sum_30days', 'num_title_ru_max_30days', 'num_country_max_30days']\n",
      "5-fold CV is : 0.6321 +/- 0.0052\n"
     ]
    },
    {
     "name": "stderr",
     "output_type": "stream",
     "text": [
      "\n",
      " 82%|██████████████████████████▎     | 116/141 [34:55<17:40, 42.42s/it]"
     ]
    },
    {
     "name": "stdout",
     "output_type": "stream",
     "text": [
      "adding feature num_city_max_30days\n",
      "performing CV with features: ['days_to_end', 'num_country_max_1days', 'num_city_max_1days', 'android_max_1days', 'smarttv_max_1days', 'iphone_max_1days', 'ipad_max_1days', 'apple_max_1days', 'pc_max_1days', 'time_spent_sum_3days', 'time_spent_max_3days', 'num_title_ep_sum_3days', 'num_title_ep_max_3days', 'num_title_ru_sum_3days', 'num_title_ru_max_3days', 'num_country_max_3days', 'num_city_max_3days', 'other_content_sum_3days', 'top_1_sum_3days', 'top_2_sum_3days', 'top_3_sum_3days', 'top_4_sum_3days', 'top_5_sum_3days', 'top_6_sum_3days', 'top_7_sum_3days', 'top_8_sum_3days', 'top_9_sum_3days', 'top_10_sum_3days', 'android_max_3days', 'smarttv_max_3days', 'iphone_max_3days', 'ipad_max_3days', 'apple_max_3days', 'pc_max_3days', 'time_spent_sum_7days', 'time_spent_max_7days', 'num_title_ep_sum_7days', 'num_title_ep_max_7days', 'num_title_ru_sum_7days', 'num_title_ru_max_7days', 'num_country_max_7days', 'num_city_max_7days', 'other_content_sum_7days', 'top_1_sum_7days', 'top_2_sum_7days', 'top_3_sum_7days', 'top_4_sum_7days', 'top_5_sum_7days', 'top_6_sum_7days', 'top_7_sum_7days', 'top_8_sum_7days', 'top_9_sum_7days', 'top_10_sum_7days', 'android_max_7days', 'smarttv_max_7days', 'iphone_max_7days', 'ipad_max_7days', 'apple_max_7days', 'pc_max_7days', 'time_spent_sum_14days', 'time_spent_max_14days', 'num_title_ep_sum_14days', 'num_title_ep_max_14days', 'num_title_ru_sum_14days', 'num_title_ru_max_14days', 'num_country_max_14days', 'num_city_max_14days', 'other_content_sum_14days', 'top_1_sum_14days', 'top_2_sum_14days', 'top_3_sum_14days', 'top_4_sum_14days', 'top_5_sum_14days', 'top_6_sum_14days', 'top_7_sum_14days', 'top_8_sum_14days', 'top_9_sum_14days', 'top_10_sum_14days', 'android_max_14days', 'smarttv_max_14days', 'iphone_max_14days', 'ipad_max_14days', 'apple_max_14days', 'pc_max_14days', 'time_spent_sum_21days', 'time_spent_max_21days', 'num_title_ep_sum_21days', 'num_title_ep_max_21days', 'num_title_ru_sum_21days', 'num_title_ru_max_21days', 'num_country_max_21days', 'num_city_max_21days', 'other_content_sum_21days', 'top_1_sum_21days', 'top_2_sum_21days', 'top_3_sum_21days', 'top_4_sum_21days', 'top_5_sum_21days', 'top_6_sum_21days', 'top_7_sum_21days', 'top_8_sum_21days', 'top_9_sum_21days', 'top_10_sum_21days', 'android_max_21days', 'smarttv_max_21days', 'iphone_max_21days', 'ipad_max_21days', 'apple_max_21days', 'pc_max_21days', 'time_spent_sum_30days', 'time_spent_max_30days', 'num_title_ep_sum_30days', 'num_title_ep_max_30days', 'num_title_ru_sum_30days', 'num_title_ru_max_30days', 'num_country_max_30days', 'num_city_max_30days']\n",
      "5-fold CV is : 0.6319 +/- 0.0037\n"
     ]
    },
    {
     "name": "stderr",
     "output_type": "stream",
     "text": [
      "\n",
      " 83%|██████████████████████████▌     | 117/141 [35:46<17:59, 45.00s/it]"
     ]
    },
    {
     "name": "stdout",
     "output_type": "stream",
     "text": [
      "adding feature other_content_sum_30days\n",
      "performing CV with features: ['days_to_end', 'num_country_max_1days', 'num_city_max_1days', 'android_max_1days', 'smarttv_max_1days', 'iphone_max_1days', 'ipad_max_1days', 'apple_max_1days', 'pc_max_1days', 'time_spent_sum_3days', 'time_spent_max_3days', 'num_title_ep_sum_3days', 'num_title_ep_max_3days', 'num_title_ru_sum_3days', 'num_title_ru_max_3days', 'num_country_max_3days', 'num_city_max_3days', 'other_content_sum_3days', 'top_1_sum_3days', 'top_2_sum_3days', 'top_3_sum_3days', 'top_4_sum_3days', 'top_5_sum_3days', 'top_6_sum_3days', 'top_7_sum_3days', 'top_8_sum_3days', 'top_9_sum_3days', 'top_10_sum_3days', 'android_max_3days', 'smarttv_max_3days', 'iphone_max_3days', 'ipad_max_3days', 'apple_max_3days', 'pc_max_3days', 'time_spent_sum_7days', 'time_spent_max_7days', 'num_title_ep_sum_7days', 'num_title_ep_max_7days', 'num_title_ru_sum_7days', 'num_title_ru_max_7days', 'num_country_max_7days', 'num_city_max_7days', 'other_content_sum_7days', 'top_1_sum_7days', 'top_2_sum_7days', 'top_3_sum_7days', 'top_4_sum_7days', 'top_5_sum_7days', 'top_6_sum_7days', 'top_7_sum_7days', 'top_8_sum_7days', 'top_9_sum_7days', 'top_10_sum_7days', 'android_max_7days', 'smarttv_max_7days', 'iphone_max_7days', 'ipad_max_7days', 'apple_max_7days', 'pc_max_7days', 'time_spent_sum_14days', 'time_spent_max_14days', 'num_title_ep_sum_14days', 'num_title_ep_max_14days', 'num_title_ru_sum_14days', 'num_title_ru_max_14days', 'num_country_max_14days', 'num_city_max_14days', 'other_content_sum_14days', 'top_1_sum_14days', 'top_2_sum_14days', 'top_3_sum_14days', 'top_4_sum_14days', 'top_5_sum_14days', 'top_6_sum_14days', 'top_7_sum_14days', 'top_8_sum_14days', 'top_9_sum_14days', 'top_10_sum_14days', 'android_max_14days', 'smarttv_max_14days', 'iphone_max_14days', 'ipad_max_14days', 'apple_max_14days', 'pc_max_14days', 'time_spent_sum_21days', 'time_spent_max_21days', 'num_title_ep_sum_21days', 'num_title_ep_max_21days', 'num_title_ru_sum_21days', 'num_title_ru_max_21days', 'num_country_max_21days', 'num_city_max_21days', 'other_content_sum_21days', 'top_1_sum_21days', 'top_2_sum_21days', 'top_3_sum_21days', 'top_4_sum_21days', 'top_5_sum_21days', 'top_6_sum_21days', 'top_7_sum_21days', 'top_8_sum_21days', 'top_9_sum_21days', 'top_10_sum_21days', 'android_max_21days', 'smarttv_max_21days', 'iphone_max_21days', 'ipad_max_21days', 'apple_max_21days', 'pc_max_21days', 'time_spent_sum_30days', 'time_spent_max_30days', 'num_title_ep_sum_30days', 'num_title_ep_max_30days', 'num_title_ru_sum_30days', 'num_title_ru_max_30days', 'num_country_max_30days', 'num_city_max_30days', 'other_content_sum_30days']\n",
      "5-fold CV is : 0.6296 +/- 0.0018\n"
     ]
    },
    {
     "name": "stderr",
     "output_type": "stream",
     "text": [
      "\n",
      " 84%|██████████████████████████▊     | 118/141 [36:28<16:52, 44.04s/it]"
     ]
    },
    {
     "name": "stdout",
     "output_type": "stream",
     "text": [
      "adding feature top_1_sum_30days\n",
      "performing CV with features: ['days_to_end', 'num_country_max_1days', 'num_city_max_1days', 'android_max_1days', 'smarttv_max_1days', 'iphone_max_1days', 'ipad_max_1days', 'apple_max_1days', 'pc_max_1days', 'time_spent_sum_3days', 'time_spent_max_3days', 'num_title_ep_sum_3days', 'num_title_ep_max_3days', 'num_title_ru_sum_3days', 'num_title_ru_max_3days', 'num_country_max_3days', 'num_city_max_3days', 'other_content_sum_3days', 'top_1_sum_3days', 'top_2_sum_3days', 'top_3_sum_3days', 'top_4_sum_3days', 'top_5_sum_3days', 'top_6_sum_3days', 'top_7_sum_3days', 'top_8_sum_3days', 'top_9_sum_3days', 'top_10_sum_3days', 'android_max_3days', 'smarttv_max_3days', 'iphone_max_3days', 'ipad_max_3days', 'apple_max_3days', 'pc_max_3days', 'time_spent_sum_7days', 'time_spent_max_7days', 'num_title_ep_sum_7days', 'num_title_ep_max_7days', 'num_title_ru_sum_7days', 'num_title_ru_max_7days', 'num_country_max_7days', 'num_city_max_7days', 'other_content_sum_7days', 'top_1_sum_7days', 'top_2_sum_7days', 'top_3_sum_7days', 'top_4_sum_7days', 'top_5_sum_7days', 'top_6_sum_7days', 'top_7_sum_7days', 'top_8_sum_7days', 'top_9_sum_7days', 'top_10_sum_7days', 'android_max_7days', 'smarttv_max_7days', 'iphone_max_7days', 'ipad_max_7days', 'apple_max_7days', 'pc_max_7days', 'time_spent_sum_14days', 'time_spent_max_14days', 'num_title_ep_sum_14days', 'num_title_ep_max_14days', 'num_title_ru_sum_14days', 'num_title_ru_max_14days', 'num_country_max_14days', 'num_city_max_14days', 'other_content_sum_14days', 'top_1_sum_14days', 'top_2_sum_14days', 'top_3_sum_14days', 'top_4_sum_14days', 'top_5_sum_14days', 'top_6_sum_14days', 'top_7_sum_14days', 'top_8_sum_14days', 'top_9_sum_14days', 'top_10_sum_14days', 'android_max_14days', 'smarttv_max_14days', 'iphone_max_14days', 'ipad_max_14days', 'apple_max_14days', 'pc_max_14days', 'time_spent_sum_21days', 'time_spent_max_21days', 'num_title_ep_sum_21days', 'num_title_ep_max_21days', 'num_title_ru_sum_21days', 'num_title_ru_max_21days', 'num_country_max_21days', 'num_city_max_21days', 'other_content_sum_21days', 'top_1_sum_21days', 'top_2_sum_21days', 'top_3_sum_21days', 'top_4_sum_21days', 'top_5_sum_21days', 'top_6_sum_21days', 'top_7_sum_21days', 'top_8_sum_21days', 'top_9_sum_21days', 'top_10_sum_21days', 'android_max_21days', 'smarttv_max_21days', 'iphone_max_21days', 'ipad_max_21days', 'apple_max_21days', 'pc_max_21days', 'time_spent_sum_30days', 'time_spent_max_30days', 'num_title_ep_sum_30days', 'num_title_ep_max_30days', 'num_title_ru_sum_30days', 'num_title_ru_max_30days', 'num_country_max_30days', 'num_city_max_30days', 'other_content_sum_30days', 'top_1_sum_30days']\n",
      "5-fold CV is : 0.6324 +/- 0.0011\n"
     ]
    },
    {
     "name": "stderr",
     "output_type": "stream",
     "text": [
      "\n",
      " 84%|███████████████████████████     | 119/141 [37:16<16:39, 45.44s/it]"
     ]
    },
    {
     "name": "stdout",
     "output_type": "stream",
     "text": [
      "adding feature top_2_sum_30days\n",
      "performing CV with features: ['days_to_end', 'num_country_max_1days', 'num_city_max_1days', 'android_max_1days', 'smarttv_max_1days', 'iphone_max_1days', 'ipad_max_1days', 'apple_max_1days', 'pc_max_1days', 'time_spent_sum_3days', 'time_spent_max_3days', 'num_title_ep_sum_3days', 'num_title_ep_max_3days', 'num_title_ru_sum_3days', 'num_title_ru_max_3days', 'num_country_max_3days', 'num_city_max_3days', 'other_content_sum_3days', 'top_1_sum_3days', 'top_2_sum_3days', 'top_3_sum_3days', 'top_4_sum_3days', 'top_5_sum_3days', 'top_6_sum_3days', 'top_7_sum_3days', 'top_8_sum_3days', 'top_9_sum_3days', 'top_10_sum_3days', 'android_max_3days', 'smarttv_max_3days', 'iphone_max_3days', 'ipad_max_3days', 'apple_max_3days', 'pc_max_3days', 'time_spent_sum_7days', 'time_spent_max_7days', 'num_title_ep_sum_7days', 'num_title_ep_max_7days', 'num_title_ru_sum_7days', 'num_title_ru_max_7days', 'num_country_max_7days', 'num_city_max_7days', 'other_content_sum_7days', 'top_1_sum_7days', 'top_2_sum_7days', 'top_3_sum_7days', 'top_4_sum_7days', 'top_5_sum_7days', 'top_6_sum_7days', 'top_7_sum_7days', 'top_8_sum_7days', 'top_9_sum_7days', 'top_10_sum_7days', 'android_max_7days', 'smarttv_max_7days', 'iphone_max_7days', 'ipad_max_7days', 'apple_max_7days', 'pc_max_7days', 'time_spent_sum_14days', 'time_spent_max_14days', 'num_title_ep_sum_14days', 'num_title_ep_max_14days', 'num_title_ru_sum_14days', 'num_title_ru_max_14days', 'num_country_max_14days', 'num_city_max_14days', 'other_content_sum_14days', 'top_1_sum_14days', 'top_2_sum_14days', 'top_3_sum_14days', 'top_4_sum_14days', 'top_5_sum_14days', 'top_6_sum_14days', 'top_7_sum_14days', 'top_8_sum_14days', 'top_9_sum_14days', 'top_10_sum_14days', 'android_max_14days', 'smarttv_max_14days', 'iphone_max_14days', 'ipad_max_14days', 'apple_max_14days', 'pc_max_14days', 'time_spent_sum_21days', 'time_spent_max_21days', 'num_title_ep_sum_21days', 'num_title_ep_max_21days', 'num_title_ru_sum_21days', 'num_title_ru_max_21days', 'num_country_max_21days', 'num_city_max_21days', 'other_content_sum_21days', 'top_1_sum_21days', 'top_2_sum_21days', 'top_3_sum_21days', 'top_4_sum_21days', 'top_5_sum_21days', 'top_6_sum_21days', 'top_7_sum_21days', 'top_8_sum_21days', 'top_9_sum_21days', 'top_10_sum_21days', 'android_max_21days', 'smarttv_max_21days', 'iphone_max_21days', 'ipad_max_21days', 'apple_max_21days', 'pc_max_21days', 'time_spent_sum_30days', 'time_spent_max_30days', 'num_title_ep_sum_30days', 'num_title_ep_max_30days', 'num_title_ru_sum_30days', 'num_title_ru_max_30days', 'num_country_max_30days', 'num_city_max_30days', 'other_content_sum_30days', 'top_1_sum_30days', 'top_2_sum_30days']\n",
      "5-fold CV is : 0.6352 +/- 0.0077\n"
     ]
    },
    {
     "name": "stderr",
     "output_type": "stream",
     "text": [
      "\n",
      " 85%|███████████████████████████▏    | 120/141 [38:08<16:35, 47.38s/it]"
     ]
    },
    {
     "name": "stdout",
     "output_type": "stream",
     "text": [
      "adding feature top_3_sum_30days\n",
      "performing CV with features: ['days_to_end', 'num_country_max_1days', 'num_city_max_1days', 'android_max_1days', 'smarttv_max_1days', 'iphone_max_1days', 'ipad_max_1days', 'apple_max_1days', 'pc_max_1days', 'time_spent_sum_3days', 'time_spent_max_3days', 'num_title_ep_sum_3days', 'num_title_ep_max_3days', 'num_title_ru_sum_3days', 'num_title_ru_max_3days', 'num_country_max_3days', 'num_city_max_3days', 'other_content_sum_3days', 'top_1_sum_3days', 'top_2_sum_3days', 'top_3_sum_3days', 'top_4_sum_3days', 'top_5_sum_3days', 'top_6_sum_3days', 'top_7_sum_3days', 'top_8_sum_3days', 'top_9_sum_3days', 'top_10_sum_3days', 'android_max_3days', 'smarttv_max_3days', 'iphone_max_3days', 'ipad_max_3days', 'apple_max_3days', 'pc_max_3days', 'time_spent_sum_7days', 'time_spent_max_7days', 'num_title_ep_sum_7days', 'num_title_ep_max_7days', 'num_title_ru_sum_7days', 'num_title_ru_max_7days', 'num_country_max_7days', 'num_city_max_7days', 'other_content_sum_7days', 'top_1_sum_7days', 'top_2_sum_7days', 'top_3_sum_7days', 'top_4_sum_7days', 'top_5_sum_7days', 'top_6_sum_7days', 'top_7_sum_7days', 'top_8_sum_7days', 'top_9_sum_7days', 'top_10_sum_7days', 'android_max_7days', 'smarttv_max_7days', 'iphone_max_7days', 'ipad_max_7days', 'apple_max_7days', 'pc_max_7days', 'time_spent_sum_14days', 'time_spent_max_14days', 'num_title_ep_sum_14days', 'num_title_ep_max_14days', 'num_title_ru_sum_14days', 'num_title_ru_max_14days', 'num_country_max_14days', 'num_city_max_14days', 'other_content_sum_14days', 'top_1_sum_14days', 'top_2_sum_14days', 'top_3_sum_14days', 'top_4_sum_14days', 'top_5_sum_14days', 'top_6_sum_14days', 'top_7_sum_14days', 'top_8_sum_14days', 'top_9_sum_14days', 'top_10_sum_14days', 'android_max_14days', 'smarttv_max_14days', 'iphone_max_14days', 'ipad_max_14days', 'apple_max_14days', 'pc_max_14days', 'time_spent_sum_21days', 'time_spent_max_21days', 'num_title_ep_sum_21days', 'num_title_ep_max_21days', 'num_title_ru_sum_21days', 'num_title_ru_max_21days', 'num_country_max_21days', 'num_city_max_21days', 'other_content_sum_21days', 'top_1_sum_21days', 'top_2_sum_21days', 'top_3_sum_21days', 'top_4_sum_21days', 'top_5_sum_21days', 'top_6_sum_21days', 'top_7_sum_21days', 'top_8_sum_21days', 'top_9_sum_21days', 'top_10_sum_21days', 'android_max_21days', 'smarttv_max_21days', 'iphone_max_21days', 'ipad_max_21days', 'apple_max_21days', 'pc_max_21days', 'time_spent_sum_30days', 'time_spent_max_30days', 'num_title_ep_sum_30days', 'num_title_ep_max_30days', 'num_title_ru_sum_30days', 'num_title_ru_max_30days', 'num_country_max_30days', 'num_city_max_30days', 'other_content_sum_30days', 'top_1_sum_30days', 'top_2_sum_30days', 'top_3_sum_30days']\n",
      "5-fold CV is : 0.6309 +/- 0.004\n"
     ]
    },
    {
     "name": "stderr",
     "output_type": "stream",
     "text": [
      "\n",
      " 86%|███████████████████████████▍    | 121/141 [38:49<15:10, 45.52s/it]"
     ]
    },
    {
     "name": "stdout",
     "output_type": "stream",
     "text": [
      "adding feature top_4_sum_30days\n",
      "performing CV with features: ['days_to_end', 'num_country_max_1days', 'num_city_max_1days', 'android_max_1days', 'smarttv_max_1days', 'iphone_max_1days', 'ipad_max_1days', 'apple_max_1days', 'pc_max_1days', 'time_spent_sum_3days', 'time_spent_max_3days', 'num_title_ep_sum_3days', 'num_title_ep_max_3days', 'num_title_ru_sum_3days', 'num_title_ru_max_3days', 'num_country_max_3days', 'num_city_max_3days', 'other_content_sum_3days', 'top_1_sum_3days', 'top_2_sum_3days', 'top_3_sum_3days', 'top_4_sum_3days', 'top_5_sum_3days', 'top_6_sum_3days', 'top_7_sum_3days', 'top_8_sum_3days', 'top_9_sum_3days', 'top_10_sum_3days', 'android_max_3days', 'smarttv_max_3days', 'iphone_max_3days', 'ipad_max_3days', 'apple_max_3days', 'pc_max_3days', 'time_spent_sum_7days', 'time_spent_max_7days', 'num_title_ep_sum_7days', 'num_title_ep_max_7days', 'num_title_ru_sum_7days', 'num_title_ru_max_7days', 'num_country_max_7days', 'num_city_max_7days', 'other_content_sum_7days', 'top_1_sum_7days', 'top_2_sum_7days', 'top_3_sum_7days', 'top_4_sum_7days', 'top_5_sum_7days', 'top_6_sum_7days', 'top_7_sum_7days', 'top_8_sum_7days', 'top_9_sum_7days', 'top_10_sum_7days', 'android_max_7days', 'smarttv_max_7days', 'iphone_max_7days', 'ipad_max_7days', 'apple_max_7days', 'pc_max_7days', 'time_spent_sum_14days', 'time_spent_max_14days', 'num_title_ep_sum_14days', 'num_title_ep_max_14days', 'num_title_ru_sum_14days', 'num_title_ru_max_14days', 'num_country_max_14days', 'num_city_max_14days', 'other_content_sum_14days', 'top_1_sum_14days', 'top_2_sum_14days', 'top_3_sum_14days', 'top_4_sum_14days', 'top_5_sum_14days', 'top_6_sum_14days', 'top_7_sum_14days', 'top_8_sum_14days', 'top_9_sum_14days', 'top_10_sum_14days', 'android_max_14days', 'smarttv_max_14days', 'iphone_max_14days', 'ipad_max_14days', 'apple_max_14days', 'pc_max_14days', 'time_spent_sum_21days', 'time_spent_max_21days', 'num_title_ep_sum_21days', 'num_title_ep_max_21days', 'num_title_ru_sum_21days', 'num_title_ru_max_21days', 'num_country_max_21days', 'num_city_max_21days', 'other_content_sum_21days', 'top_1_sum_21days', 'top_2_sum_21days', 'top_3_sum_21days', 'top_4_sum_21days', 'top_5_sum_21days', 'top_6_sum_21days', 'top_7_sum_21days', 'top_8_sum_21days', 'top_9_sum_21days', 'top_10_sum_21days', 'android_max_21days', 'smarttv_max_21days', 'iphone_max_21days', 'ipad_max_21days', 'apple_max_21days', 'pc_max_21days', 'time_spent_sum_30days', 'time_spent_max_30days', 'num_title_ep_sum_30days', 'num_title_ep_max_30days', 'num_title_ru_sum_30days', 'num_title_ru_max_30days', 'num_country_max_30days', 'num_city_max_30days', 'other_content_sum_30days', 'top_1_sum_30days', 'top_2_sum_30days', 'top_3_sum_30days', 'top_4_sum_30days']\n",
      "5-fold CV is : 0.635 +/- 0.0073\n"
     ]
    },
    {
     "name": "stderr",
     "output_type": "stream",
     "text": [
      "\n",
      " 87%|███████████████████████████▋    | 122/141 [39:38<14:43, 46.52s/it]"
     ]
    },
    {
     "name": "stdout",
     "output_type": "stream",
     "text": [
      "adding feature top_5_sum_30days\n",
      "performing CV with features: ['days_to_end', 'num_country_max_1days', 'num_city_max_1days', 'android_max_1days', 'smarttv_max_1days', 'iphone_max_1days', 'ipad_max_1days', 'apple_max_1days', 'pc_max_1days', 'time_spent_sum_3days', 'time_spent_max_3days', 'num_title_ep_sum_3days', 'num_title_ep_max_3days', 'num_title_ru_sum_3days', 'num_title_ru_max_3days', 'num_country_max_3days', 'num_city_max_3days', 'other_content_sum_3days', 'top_1_sum_3days', 'top_2_sum_3days', 'top_3_sum_3days', 'top_4_sum_3days', 'top_5_sum_3days', 'top_6_sum_3days', 'top_7_sum_3days', 'top_8_sum_3days', 'top_9_sum_3days', 'top_10_sum_3days', 'android_max_3days', 'smarttv_max_3days', 'iphone_max_3days', 'ipad_max_3days', 'apple_max_3days', 'pc_max_3days', 'time_spent_sum_7days', 'time_spent_max_7days', 'num_title_ep_sum_7days', 'num_title_ep_max_7days', 'num_title_ru_sum_7days', 'num_title_ru_max_7days', 'num_country_max_7days', 'num_city_max_7days', 'other_content_sum_7days', 'top_1_sum_7days', 'top_2_sum_7days', 'top_3_sum_7days', 'top_4_sum_7days', 'top_5_sum_7days', 'top_6_sum_7days', 'top_7_sum_7days', 'top_8_sum_7days', 'top_9_sum_7days', 'top_10_sum_7days', 'android_max_7days', 'smarttv_max_7days', 'iphone_max_7days', 'ipad_max_7days', 'apple_max_7days', 'pc_max_7days', 'time_spent_sum_14days', 'time_spent_max_14days', 'num_title_ep_sum_14days', 'num_title_ep_max_14days', 'num_title_ru_sum_14days', 'num_title_ru_max_14days', 'num_country_max_14days', 'num_city_max_14days', 'other_content_sum_14days', 'top_1_sum_14days', 'top_2_sum_14days', 'top_3_sum_14days', 'top_4_sum_14days', 'top_5_sum_14days', 'top_6_sum_14days', 'top_7_sum_14days', 'top_8_sum_14days', 'top_9_sum_14days', 'top_10_sum_14days', 'android_max_14days', 'smarttv_max_14days', 'iphone_max_14days', 'ipad_max_14days', 'apple_max_14days', 'pc_max_14days', 'time_spent_sum_21days', 'time_spent_max_21days', 'num_title_ep_sum_21days', 'num_title_ep_max_21days', 'num_title_ru_sum_21days', 'num_title_ru_max_21days', 'num_country_max_21days', 'num_city_max_21days', 'other_content_sum_21days', 'top_1_sum_21days', 'top_2_sum_21days', 'top_3_sum_21days', 'top_4_sum_21days', 'top_5_sum_21days', 'top_6_sum_21days', 'top_7_sum_21days', 'top_8_sum_21days', 'top_9_sum_21days', 'top_10_sum_21days', 'android_max_21days', 'smarttv_max_21days', 'iphone_max_21days', 'ipad_max_21days', 'apple_max_21days', 'pc_max_21days', 'time_spent_sum_30days', 'time_spent_max_30days', 'num_title_ep_sum_30days', 'num_title_ep_max_30days', 'num_title_ru_sum_30days', 'num_title_ru_max_30days', 'num_country_max_30days', 'num_city_max_30days', 'other_content_sum_30days', 'top_1_sum_30days', 'top_2_sum_30days', 'top_3_sum_30days', 'top_4_sum_30days', 'top_5_sum_30days']\n",
      "5-fold CV is : 0.6331 +/- 0.0053\n"
     ]
    },
    {
     "name": "stderr",
     "output_type": "stream",
     "text": [
      "\n",
      " 87%|███████████████████████████▉    | 123/141 [40:22<13:40, 45.59s/it]"
     ]
    },
    {
     "name": "stdout",
     "output_type": "stream",
     "text": [
      "adding feature top_6_sum_30days\n",
      "performing CV with features: ['days_to_end', 'num_country_max_1days', 'num_city_max_1days', 'android_max_1days', 'smarttv_max_1days', 'iphone_max_1days', 'ipad_max_1days', 'apple_max_1days', 'pc_max_1days', 'time_spent_sum_3days', 'time_spent_max_3days', 'num_title_ep_sum_3days', 'num_title_ep_max_3days', 'num_title_ru_sum_3days', 'num_title_ru_max_3days', 'num_country_max_3days', 'num_city_max_3days', 'other_content_sum_3days', 'top_1_sum_3days', 'top_2_sum_3days', 'top_3_sum_3days', 'top_4_sum_3days', 'top_5_sum_3days', 'top_6_sum_3days', 'top_7_sum_3days', 'top_8_sum_3days', 'top_9_sum_3days', 'top_10_sum_3days', 'android_max_3days', 'smarttv_max_3days', 'iphone_max_3days', 'ipad_max_3days', 'apple_max_3days', 'pc_max_3days', 'time_spent_sum_7days', 'time_spent_max_7days', 'num_title_ep_sum_7days', 'num_title_ep_max_7days', 'num_title_ru_sum_7days', 'num_title_ru_max_7days', 'num_country_max_7days', 'num_city_max_7days', 'other_content_sum_7days', 'top_1_sum_7days', 'top_2_sum_7days', 'top_3_sum_7days', 'top_4_sum_7days', 'top_5_sum_7days', 'top_6_sum_7days', 'top_7_sum_7days', 'top_8_sum_7days', 'top_9_sum_7days', 'top_10_sum_7days', 'android_max_7days', 'smarttv_max_7days', 'iphone_max_7days', 'ipad_max_7days', 'apple_max_7days', 'pc_max_7days', 'time_spent_sum_14days', 'time_spent_max_14days', 'num_title_ep_sum_14days', 'num_title_ep_max_14days', 'num_title_ru_sum_14days', 'num_title_ru_max_14days', 'num_country_max_14days', 'num_city_max_14days', 'other_content_sum_14days', 'top_1_sum_14days', 'top_2_sum_14days', 'top_3_sum_14days', 'top_4_sum_14days', 'top_5_sum_14days', 'top_6_sum_14days', 'top_7_sum_14days', 'top_8_sum_14days', 'top_9_sum_14days', 'top_10_sum_14days', 'android_max_14days', 'smarttv_max_14days', 'iphone_max_14days', 'ipad_max_14days', 'apple_max_14days', 'pc_max_14days', 'time_spent_sum_21days', 'time_spent_max_21days', 'num_title_ep_sum_21days', 'num_title_ep_max_21days', 'num_title_ru_sum_21days', 'num_title_ru_max_21days', 'num_country_max_21days', 'num_city_max_21days', 'other_content_sum_21days', 'top_1_sum_21days', 'top_2_sum_21days', 'top_3_sum_21days', 'top_4_sum_21days', 'top_5_sum_21days', 'top_6_sum_21days', 'top_7_sum_21days', 'top_8_sum_21days', 'top_9_sum_21days', 'top_10_sum_21days', 'android_max_21days', 'smarttv_max_21days', 'iphone_max_21days', 'ipad_max_21days', 'apple_max_21days', 'pc_max_21days', 'time_spent_sum_30days', 'time_spent_max_30days', 'num_title_ep_sum_30days', 'num_title_ep_max_30days', 'num_title_ru_sum_30days', 'num_title_ru_max_30days', 'num_country_max_30days', 'num_city_max_30days', 'other_content_sum_30days', 'top_1_sum_30days', 'top_2_sum_30days', 'top_3_sum_30days', 'top_4_sum_30days', 'top_5_sum_30days', 'top_6_sum_30days']\n",
      "5-fold CV is : 0.6356 +/- 0.0089\n"
     ]
    },
    {
     "name": "stderr",
     "output_type": "stream",
     "text": [
      "\n",
      " 88%|████████████████████████████▏   | 124/141 [41:11<13:13, 46.66s/it]"
     ]
    },
    {
     "name": "stdout",
     "output_type": "stream",
     "text": [
      "adding feature top_7_sum_30days\n",
      "performing CV with features: ['days_to_end', 'num_country_max_1days', 'num_city_max_1days', 'android_max_1days', 'smarttv_max_1days', 'iphone_max_1days', 'ipad_max_1days', 'apple_max_1days', 'pc_max_1days', 'time_spent_sum_3days', 'time_spent_max_3days', 'num_title_ep_sum_3days', 'num_title_ep_max_3days', 'num_title_ru_sum_3days', 'num_title_ru_max_3days', 'num_country_max_3days', 'num_city_max_3days', 'other_content_sum_3days', 'top_1_sum_3days', 'top_2_sum_3days', 'top_3_sum_3days', 'top_4_sum_3days', 'top_5_sum_3days', 'top_6_sum_3days', 'top_7_sum_3days', 'top_8_sum_3days', 'top_9_sum_3days', 'top_10_sum_3days', 'android_max_3days', 'smarttv_max_3days', 'iphone_max_3days', 'ipad_max_3days', 'apple_max_3days', 'pc_max_3days', 'time_spent_sum_7days', 'time_spent_max_7days', 'num_title_ep_sum_7days', 'num_title_ep_max_7days', 'num_title_ru_sum_7days', 'num_title_ru_max_7days', 'num_country_max_7days', 'num_city_max_7days', 'other_content_sum_7days', 'top_1_sum_7days', 'top_2_sum_7days', 'top_3_sum_7days', 'top_4_sum_7days', 'top_5_sum_7days', 'top_6_sum_7days', 'top_7_sum_7days', 'top_8_sum_7days', 'top_9_sum_7days', 'top_10_sum_7days', 'android_max_7days', 'smarttv_max_7days', 'iphone_max_7days', 'ipad_max_7days', 'apple_max_7days', 'pc_max_7days', 'time_spent_sum_14days', 'time_spent_max_14days', 'num_title_ep_sum_14days', 'num_title_ep_max_14days', 'num_title_ru_sum_14days', 'num_title_ru_max_14days', 'num_country_max_14days', 'num_city_max_14days', 'other_content_sum_14days', 'top_1_sum_14days', 'top_2_sum_14days', 'top_3_sum_14days', 'top_4_sum_14days', 'top_5_sum_14days', 'top_6_sum_14days', 'top_7_sum_14days', 'top_8_sum_14days', 'top_9_sum_14days', 'top_10_sum_14days', 'android_max_14days', 'smarttv_max_14days', 'iphone_max_14days', 'ipad_max_14days', 'apple_max_14days', 'pc_max_14days', 'time_spent_sum_21days', 'time_spent_max_21days', 'num_title_ep_sum_21days', 'num_title_ep_max_21days', 'num_title_ru_sum_21days', 'num_title_ru_max_21days', 'num_country_max_21days', 'num_city_max_21days', 'other_content_sum_21days', 'top_1_sum_21days', 'top_2_sum_21days', 'top_3_sum_21days', 'top_4_sum_21days', 'top_5_sum_21days', 'top_6_sum_21days', 'top_7_sum_21days', 'top_8_sum_21days', 'top_9_sum_21days', 'top_10_sum_21days', 'android_max_21days', 'smarttv_max_21days', 'iphone_max_21days', 'ipad_max_21days', 'apple_max_21days', 'pc_max_21days', 'time_spent_sum_30days', 'time_spent_max_30days', 'num_title_ep_sum_30days', 'num_title_ep_max_30days', 'num_title_ru_sum_30days', 'num_title_ru_max_30days', 'num_country_max_30days', 'num_city_max_30days', 'other_content_sum_30days', 'top_1_sum_30days', 'top_2_sum_30days', 'top_3_sum_30days', 'top_4_sum_30days', 'top_5_sum_30days', 'top_6_sum_30days', 'top_7_sum_30days']\n",
      "5-fold CV is : 0.6329 +/- 0.0064\n"
     ]
    },
    {
     "name": "stderr",
     "output_type": "stream",
     "text": [
      "\n",
      " 89%|████████████████████████████▎   | 125/141 [42:02<12:47, 47.98s/it]"
     ]
    },
    {
     "name": "stdout",
     "output_type": "stream",
     "text": [
      "adding feature top_8_sum_30days\n",
      "performing CV with features: ['days_to_end', 'num_country_max_1days', 'num_city_max_1days', 'android_max_1days', 'smarttv_max_1days', 'iphone_max_1days', 'ipad_max_1days', 'apple_max_1days', 'pc_max_1days', 'time_spent_sum_3days', 'time_spent_max_3days', 'num_title_ep_sum_3days', 'num_title_ep_max_3days', 'num_title_ru_sum_3days', 'num_title_ru_max_3days', 'num_country_max_3days', 'num_city_max_3days', 'other_content_sum_3days', 'top_1_sum_3days', 'top_2_sum_3days', 'top_3_sum_3days', 'top_4_sum_3days', 'top_5_sum_3days', 'top_6_sum_3days', 'top_7_sum_3days', 'top_8_sum_3days', 'top_9_sum_3days', 'top_10_sum_3days', 'android_max_3days', 'smarttv_max_3days', 'iphone_max_3days', 'ipad_max_3days', 'apple_max_3days', 'pc_max_3days', 'time_spent_sum_7days', 'time_spent_max_7days', 'num_title_ep_sum_7days', 'num_title_ep_max_7days', 'num_title_ru_sum_7days', 'num_title_ru_max_7days', 'num_country_max_7days', 'num_city_max_7days', 'other_content_sum_7days', 'top_1_sum_7days', 'top_2_sum_7days', 'top_3_sum_7days', 'top_4_sum_7days', 'top_5_sum_7days', 'top_6_sum_7days', 'top_7_sum_7days', 'top_8_sum_7days', 'top_9_sum_7days', 'top_10_sum_7days', 'android_max_7days', 'smarttv_max_7days', 'iphone_max_7days', 'ipad_max_7days', 'apple_max_7days', 'pc_max_7days', 'time_spent_sum_14days', 'time_spent_max_14days', 'num_title_ep_sum_14days', 'num_title_ep_max_14days', 'num_title_ru_sum_14days', 'num_title_ru_max_14days', 'num_country_max_14days', 'num_city_max_14days', 'other_content_sum_14days', 'top_1_sum_14days', 'top_2_sum_14days', 'top_3_sum_14days', 'top_4_sum_14days', 'top_5_sum_14days', 'top_6_sum_14days', 'top_7_sum_14days', 'top_8_sum_14days', 'top_9_sum_14days', 'top_10_sum_14days', 'android_max_14days', 'smarttv_max_14days', 'iphone_max_14days', 'ipad_max_14days', 'apple_max_14days', 'pc_max_14days', 'time_spent_sum_21days', 'time_spent_max_21days', 'num_title_ep_sum_21days', 'num_title_ep_max_21days', 'num_title_ru_sum_21days', 'num_title_ru_max_21days', 'num_country_max_21days', 'num_city_max_21days', 'other_content_sum_21days', 'top_1_sum_21days', 'top_2_sum_21days', 'top_3_sum_21days', 'top_4_sum_21days', 'top_5_sum_21days', 'top_6_sum_21days', 'top_7_sum_21days', 'top_8_sum_21days', 'top_9_sum_21days', 'top_10_sum_21days', 'android_max_21days', 'smarttv_max_21days', 'iphone_max_21days', 'ipad_max_21days', 'apple_max_21days', 'pc_max_21days', 'time_spent_sum_30days', 'time_spent_max_30days', 'num_title_ep_sum_30days', 'num_title_ep_max_30days', 'num_title_ru_sum_30days', 'num_title_ru_max_30days', 'num_country_max_30days', 'num_city_max_30days', 'other_content_sum_30days', 'top_1_sum_30days', 'top_2_sum_30days', 'top_3_sum_30days', 'top_4_sum_30days', 'top_5_sum_30days', 'top_6_sum_30days', 'top_7_sum_30days', 'top_8_sum_30days']\n",
      "5-fold CV is : 0.6359 +/- 0.007\n"
     ]
    },
    {
     "name": "stderr",
     "output_type": "stream",
     "text": [
      "\n",
      " 89%|████████████████████████████▌   | 126/141 [42:48<11:53, 47.58s/it]"
     ]
    },
    {
     "name": "stdout",
     "output_type": "stream",
     "text": [
      "adding feature top_9_sum_30days\n",
      "performing CV with features: ['days_to_end', 'num_country_max_1days', 'num_city_max_1days', 'android_max_1days', 'smarttv_max_1days', 'iphone_max_1days', 'ipad_max_1days', 'apple_max_1days', 'pc_max_1days', 'time_spent_sum_3days', 'time_spent_max_3days', 'num_title_ep_sum_3days', 'num_title_ep_max_3days', 'num_title_ru_sum_3days', 'num_title_ru_max_3days', 'num_country_max_3days', 'num_city_max_3days', 'other_content_sum_3days', 'top_1_sum_3days', 'top_2_sum_3days', 'top_3_sum_3days', 'top_4_sum_3days', 'top_5_sum_3days', 'top_6_sum_3days', 'top_7_sum_3days', 'top_8_sum_3days', 'top_9_sum_3days', 'top_10_sum_3days', 'android_max_3days', 'smarttv_max_3days', 'iphone_max_3days', 'ipad_max_3days', 'apple_max_3days', 'pc_max_3days', 'time_spent_sum_7days', 'time_spent_max_7days', 'num_title_ep_sum_7days', 'num_title_ep_max_7days', 'num_title_ru_sum_7days', 'num_title_ru_max_7days', 'num_country_max_7days', 'num_city_max_7days', 'other_content_sum_7days', 'top_1_sum_7days', 'top_2_sum_7days', 'top_3_sum_7days', 'top_4_sum_7days', 'top_5_sum_7days', 'top_6_sum_7days', 'top_7_sum_7days', 'top_8_sum_7days', 'top_9_sum_7days', 'top_10_sum_7days', 'android_max_7days', 'smarttv_max_7days', 'iphone_max_7days', 'ipad_max_7days', 'apple_max_7days', 'pc_max_7days', 'time_spent_sum_14days', 'time_spent_max_14days', 'num_title_ep_sum_14days', 'num_title_ep_max_14days', 'num_title_ru_sum_14days', 'num_title_ru_max_14days', 'num_country_max_14days', 'num_city_max_14days', 'other_content_sum_14days', 'top_1_sum_14days', 'top_2_sum_14days', 'top_3_sum_14days', 'top_4_sum_14days', 'top_5_sum_14days', 'top_6_sum_14days', 'top_7_sum_14days', 'top_8_sum_14days', 'top_9_sum_14days', 'top_10_sum_14days', 'android_max_14days', 'smarttv_max_14days', 'iphone_max_14days', 'ipad_max_14days', 'apple_max_14days', 'pc_max_14days', 'time_spent_sum_21days', 'time_spent_max_21days', 'num_title_ep_sum_21days', 'num_title_ep_max_21days', 'num_title_ru_sum_21days', 'num_title_ru_max_21days', 'num_country_max_21days', 'num_city_max_21days', 'other_content_sum_21days', 'top_1_sum_21days', 'top_2_sum_21days', 'top_3_sum_21days', 'top_4_sum_21days', 'top_5_sum_21days', 'top_6_sum_21days', 'top_7_sum_21days', 'top_8_sum_21days', 'top_9_sum_21days', 'top_10_sum_21days', 'android_max_21days', 'smarttv_max_21days', 'iphone_max_21days', 'ipad_max_21days', 'apple_max_21days', 'pc_max_21days', 'time_spent_sum_30days', 'time_spent_max_30days', 'num_title_ep_sum_30days', 'num_title_ep_max_30days', 'num_title_ru_sum_30days', 'num_title_ru_max_30days', 'num_country_max_30days', 'num_city_max_30days', 'other_content_sum_30days', 'top_1_sum_30days', 'top_2_sum_30days', 'top_3_sum_30days', 'top_4_sum_30days', 'top_5_sum_30days', 'top_6_sum_30days', 'top_7_sum_30days', 'top_8_sum_30days', 'top_9_sum_30days']\n",
      "5-fold CV is : 0.6365 +/- 0.0061\n"
     ]
    },
    {
     "name": "stderr",
     "output_type": "stream",
     "text": [
      "\n",
      " 90%|████████████████████████████▊   | 127/141 [43:43<11:33, 49.54s/it]"
     ]
    },
    {
     "name": "stdout",
     "output_type": "stream",
     "text": [
      "adding feature top_10_sum_30days\n",
      "performing CV with features: ['days_to_end', 'num_country_max_1days', 'num_city_max_1days', 'android_max_1days', 'smarttv_max_1days', 'iphone_max_1days', 'ipad_max_1days', 'apple_max_1days', 'pc_max_1days', 'time_spent_sum_3days', 'time_spent_max_3days', 'num_title_ep_sum_3days', 'num_title_ep_max_3days', 'num_title_ru_sum_3days', 'num_title_ru_max_3days', 'num_country_max_3days', 'num_city_max_3days', 'other_content_sum_3days', 'top_1_sum_3days', 'top_2_sum_3days', 'top_3_sum_3days', 'top_4_sum_3days', 'top_5_sum_3days', 'top_6_sum_3days', 'top_7_sum_3days', 'top_8_sum_3days', 'top_9_sum_3days', 'top_10_sum_3days', 'android_max_3days', 'smarttv_max_3days', 'iphone_max_3days', 'ipad_max_3days', 'apple_max_3days', 'pc_max_3days', 'time_spent_sum_7days', 'time_spent_max_7days', 'num_title_ep_sum_7days', 'num_title_ep_max_7days', 'num_title_ru_sum_7days', 'num_title_ru_max_7days', 'num_country_max_7days', 'num_city_max_7days', 'other_content_sum_7days', 'top_1_sum_7days', 'top_2_sum_7days', 'top_3_sum_7days', 'top_4_sum_7days', 'top_5_sum_7days', 'top_6_sum_7days', 'top_7_sum_7days', 'top_8_sum_7days', 'top_9_sum_7days', 'top_10_sum_7days', 'android_max_7days', 'smarttv_max_7days', 'iphone_max_7days', 'ipad_max_7days', 'apple_max_7days', 'pc_max_7days', 'time_spent_sum_14days', 'time_spent_max_14days', 'num_title_ep_sum_14days', 'num_title_ep_max_14days', 'num_title_ru_sum_14days', 'num_title_ru_max_14days', 'num_country_max_14days', 'num_city_max_14days', 'other_content_sum_14days', 'top_1_sum_14days', 'top_2_sum_14days', 'top_3_sum_14days', 'top_4_sum_14days', 'top_5_sum_14days', 'top_6_sum_14days', 'top_7_sum_14days', 'top_8_sum_14days', 'top_9_sum_14days', 'top_10_sum_14days', 'android_max_14days', 'smarttv_max_14days', 'iphone_max_14days', 'ipad_max_14days', 'apple_max_14days', 'pc_max_14days', 'time_spent_sum_21days', 'time_spent_max_21days', 'num_title_ep_sum_21days', 'num_title_ep_max_21days', 'num_title_ru_sum_21days', 'num_title_ru_max_21days', 'num_country_max_21days', 'num_city_max_21days', 'other_content_sum_21days', 'top_1_sum_21days', 'top_2_sum_21days', 'top_3_sum_21days', 'top_4_sum_21days', 'top_5_sum_21days', 'top_6_sum_21days', 'top_7_sum_21days', 'top_8_sum_21days', 'top_9_sum_21days', 'top_10_sum_21days', 'android_max_21days', 'smarttv_max_21days', 'iphone_max_21days', 'ipad_max_21days', 'apple_max_21days', 'pc_max_21days', 'time_spent_sum_30days', 'time_spent_max_30days', 'num_title_ep_sum_30days', 'num_title_ep_max_30days', 'num_title_ru_sum_30days', 'num_title_ru_max_30days', 'num_country_max_30days', 'num_city_max_30days', 'other_content_sum_30days', 'top_1_sum_30days', 'top_2_sum_30days', 'top_3_sum_30days', 'top_4_sum_30days', 'top_5_sum_30days', 'top_6_sum_30days', 'top_7_sum_30days', 'top_8_sum_30days', 'top_9_sum_30days', 'top_10_sum_30days']\n",
      "5-fold CV is : 0.6311 +/- 0.0054\n"
     ]
    },
    {
     "name": "stderr",
     "output_type": "stream",
     "text": [
      "\n",
      " 91%|█████████████████████████████   | 128/141 [44:25<10:16, 47.44s/it]"
     ]
    },
    {
     "name": "stdout",
     "output_type": "stream",
     "text": [
      "adding feature android_max_30days\n",
      "performing CV with features: ['days_to_end', 'num_country_max_1days', 'num_city_max_1days', 'android_max_1days', 'smarttv_max_1days', 'iphone_max_1days', 'ipad_max_1days', 'apple_max_1days', 'pc_max_1days', 'time_spent_sum_3days', 'time_spent_max_3days', 'num_title_ep_sum_3days', 'num_title_ep_max_3days', 'num_title_ru_sum_3days', 'num_title_ru_max_3days', 'num_country_max_3days', 'num_city_max_3days', 'other_content_sum_3days', 'top_1_sum_3days', 'top_2_sum_3days', 'top_3_sum_3days', 'top_4_sum_3days', 'top_5_sum_3days', 'top_6_sum_3days', 'top_7_sum_3days', 'top_8_sum_3days', 'top_9_sum_3days', 'top_10_sum_3days', 'android_max_3days', 'smarttv_max_3days', 'iphone_max_3days', 'ipad_max_3days', 'apple_max_3days', 'pc_max_3days', 'time_spent_sum_7days', 'time_spent_max_7days', 'num_title_ep_sum_7days', 'num_title_ep_max_7days', 'num_title_ru_sum_7days', 'num_title_ru_max_7days', 'num_country_max_7days', 'num_city_max_7days', 'other_content_sum_7days', 'top_1_sum_7days', 'top_2_sum_7days', 'top_3_sum_7days', 'top_4_sum_7days', 'top_5_sum_7days', 'top_6_sum_7days', 'top_7_sum_7days', 'top_8_sum_7days', 'top_9_sum_7days', 'top_10_sum_7days', 'android_max_7days', 'smarttv_max_7days', 'iphone_max_7days', 'ipad_max_7days', 'apple_max_7days', 'pc_max_7days', 'time_spent_sum_14days', 'time_spent_max_14days', 'num_title_ep_sum_14days', 'num_title_ep_max_14days', 'num_title_ru_sum_14days', 'num_title_ru_max_14days', 'num_country_max_14days', 'num_city_max_14days', 'other_content_sum_14days', 'top_1_sum_14days', 'top_2_sum_14days', 'top_3_sum_14days', 'top_4_sum_14days', 'top_5_sum_14days', 'top_6_sum_14days', 'top_7_sum_14days', 'top_8_sum_14days', 'top_9_sum_14days', 'top_10_sum_14days', 'android_max_14days', 'smarttv_max_14days', 'iphone_max_14days', 'ipad_max_14days', 'apple_max_14days', 'pc_max_14days', 'time_spent_sum_21days', 'time_spent_max_21days', 'num_title_ep_sum_21days', 'num_title_ep_max_21days', 'num_title_ru_sum_21days', 'num_title_ru_max_21days', 'num_country_max_21days', 'num_city_max_21days', 'other_content_sum_21days', 'top_1_sum_21days', 'top_2_sum_21days', 'top_3_sum_21days', 'top_4_sum_21days', 'top_5_sum_21days', 'top_6_sum_21days', 'top_7_sum_21days', 'top_8_sum_21days', 'top_9_sum_21days', 'top_10_sum_21days', 'android_max_21days', 'smarttv_max_21days', 'iphone_max_21days', 'ipad_max_21days', 'apple_max_21days', 'pc_max_21days', 'time_spent_sum_30days', 'time_spent_max_30days', 'num_title_ep_sum_30days', 'num_title_ep_max_30days', 'num_title_ru_sum_30days', 'num_title_ru_max_30days', 'num_country_max_30days', 'num_city_max_30days', 'other_content_sum_30days', 'top_1_sum_30days', 'top_2_sum_30days', 'top_3_sum_30days', 'top_4_sum_30days', 'top_5_sum_30days', 'top_6_sum_30days', 'top_7_sum_30days', 'top_8_sum_30days', 'top_9_sum_30days', 'top_10_sum_30days', 'android_max_30days']\n",
      "5-fold CV is : 0.6321 +/- 0.0029\n"
     ]
    },
    {
     "name": "stderr",
     "output_type": "stream",
     "text": [
      "\n",
      " 91%|█████████████████████████████▎  | 129/141 [45:11<09:23, 46.96s/it]"
     ]
    },
    {
     "name": "stdout",
     "output_type": "stream",
     "text": [
      "adding feature smarttv_max_30days\n",
      "performing CV with features: ['days_to_end', 'num_country_max_1days', 'num_city_max_1days', 'android_max_1days', 'smarttv_max_1days', 'iphone_max_1days', 'ipad_max_1days', 'apple_max_1days', 'pc_max_1days', 'time_spent_sum_3days', 'time_spent_max_3days', 'num_title_ep_sum_3days', 'num_title_ep_max_3days', 'num_title_ru_sum_3days', 'num_title_ru_max_3days', 'num_country_max_3days', 'num_city_max_3days', 'other_content_sum_3days', 'top_1_sum_3days', 'top_2_sum_3days', 'top_3_sum_3days', 'top_4_sum_3days', 'top_5_sum_3days', 'top_6_sum_3days', 'top_7_sum_3days', 'top_8_sum_3days', 'top_9_sum_3days', 'top_10_sum_3days', 'android_max_3days', 'smarttv_max_3days', 'iphone_max_3days', 'ipad_max_3days', 'apple_max_3days', 'pc_max_3days', 'time_spent_sum_7days', 'time_spent_max_7days', 'num_title_ep_sum_7days', 'num_title_ep_max_7days', 'num_title_ru_sum_7days', 'num_title_ru_max_7days', 'num_country_max_7days', 'num_city_max_7days', 'other_content_sum_7days', 'top_1_sum_7days', 'top_2_sum_7days', 'top_3_sum_7days', 'top_4_sum_7days', 'top_5_sum_7days', 'top_6_sum_7days', 'top_7_sum_7days', 'top_8_sum_7days', 'top_9_sum_7days', 'top_10_sum_7days', 'android_max_7days', 'smarttv_max_7days', 'iphone_max_7days', 'ipad_max_7days', 'apple_max_7days', 'pc_max_7days', 'time_spent_sum_14days', 'time_spent_max_14days', 'num_title_ep_sum_14days', 'num_title_ep_max_14days', 'num_title_ru_sum_14days', 'num_title_ru_max_14days', 'num_country_max_14days', 'num_city_max_14days', 'other_content_sum_14days', 'top_1_sum_14days', 'top_2_sum_14days', 'top_3_sum_14days', 'top_4_sum_14days', 'top_5_sum_14days', 'top_6_sum_14days', 'top_7_sum_14days', 'top_8_sum_14days', 'top_9_sum_14days', 'top_10_sum_14days', 'android_max_14days', 'smarttv_max_14days', 'iphone_max_14days', 'ipad_max_14days', 'apple_max_14days', 'pc_max_14days', 'time_spent_sum_21days', 'time_spent_max_21days', 'num_title_ep_sum_21days', 'num_title_ep_max_21days', 'num_title_ru_sum_21days', 'num_title_ru_max_21days', 'num_country_max_21days', 'num_city_max_21days', 'other_content_sum_21days', 'top_1_sum_21days', 'top_2_sum_21days', 'top_3_sum_21days', 'top_4_sum_21days', 'top_5_sum_21days', 'top_6_sum_21days', 'top_7_sum_21days', 'top_8_sum_21days', 'top_9_sum_21days', 'top_10_sum_21days', 'android_max_21days', 'smarttv_max_21days', 'iphone_max_21days', 'ipad_max_21days', 'apple_max_21days', 'pc_max_21days', 'time_spent_sum_30days', 'time_spent_max_30days', 'num_title_ep_sum_30days', 'num_title_ep_max_30days', 'num_title_ru_sum_30days', 'num_title_ru_max_30days', 'num_country_max_30days', 'num_city_max_30days', 'other_content_sum_30days', 'top_1_sum_30days', 'top_2_sum_30days', 'top_3_sum_30days', 'top_4_sum_30days', 'top_5_sum_30days', 'top_6_sum_30days', 'top_7_sum_30days', 'top_8_sum_30days', 'top_9_sum_30days', 'top_10_sum_30days', 'android_max_30days', 'smarttv_max_30days']\n",
      "5-fold CV is : 0.6358 +/- 0.0037\n"
     ]
    },
    {
     "name": "stderr",
     "output_type": "stream",
     "text": [
      "\n",
      " 92%|█████████████████████████████▌  | 130/141 [46:04<08:57, 48.84s/it]"
     ]
    },
    {
     "name": "stdout",
     "output_type": "stream",
     "text": [
      "adding feature iphone_max_30days\n",
      "performing CV with features: ['days_to_end', 'num_country_max_1days', 'num_city_max_1days', 'android_max_1days', 'smarttv_max_1days', 'iphone_max_1days', 'ipad_max_1days', 'apple_max_1days', 'pc_max_1days', 'time_spent_sum_3days', 'time_spent_max_3days', 'num_title_ep_sum_3days', 'num_title_ep_max_3days', 'num_title_ru_sum_3days', 'num_title_ru_max_3days', 'num_country_max_3days', 'num_city_max_3days', 'other_content_sum_3days', 'top_1_sum_3days', 'top_2_sum_3days', 'top_3_sum_3days', 'top_4_sum_3days', 'top_5_sum_3days', 'top_6_sum_3days', 'top_7_sum_3days', 'top_8_sum_3days', 'top_9_sum_3days', 'top_10_sum_3days', 'android_max_3days', 'smarttv_max_3days', 'iphone_max_3days', 'ipad_max_3days', 'apple_max_3days', 'pc_max_3days', 'time_spent_sum_7days', 'time_spent_max_7days', 'num_title_ep_sum_7days', 'num_title_ep_max_7days', 'num_title_ru_sum_7days', 'num_title_ru_max_7days', 'num_country_max_7days', 'num_city_max_7days', 'other_content_sum_7days', 'top_1_sum_7days', 'top_2_sum_7days', 'top_3_sum_7days', 'top_4_sum_7days', 'top_5_sum_7days', 'top_6_sum_7days', 'top_7_sum_7days', 'top_8_sum_7days', 'top_9_sum_7days', 'top_10_sum_7days', 'android_max_7days', 'smarttv_max_7days', 'iphone_max_7days', 'ipad_max_7days', 'apple_max_7days', 'pc_max_7days', 'time_spent_sum_14days', 'time_spent_max_14days', 'num_title_ep_sum_14days', 'num_title_ep_max_14days', 'num_title_ru_sum_14days', 'num_title_ru_max_14days', 'num_country_max_14days', 'num_city_max_14days', 'other_content_sum_14days', 'top_1_sum_14days', 'top_2_sum_14days', 'top_3_sum_14days', 'top_4_sum_14days', 'top_5_sum_14days', 'top_6_sum_14days', 'top_7_sum_14days', 'top_8_sum_14days', 'top_9_sum_14days', 'top_10_sum_14days', 'android_max_14days', 'smarttv_max_14days', 'iphone_max_14days', 'ipad_max_14days', 'apple_max_14days', 'pc_max_14days', 'time_spent_sum_21days', 'time_spent_max_21days', 'num_title_ep_sum_21days', 'num_title_ep_max_21days', 'num_title_ru_sum_21days', 'num_title_ru_max_21days', 'num_country_max_21days', 'num_city_max_21days', 'other_content_sum_21days', 'top_1_sum_21days', 'top_2_sum_21days', 'top_3_sum_21days', 'top_4_sum_21days', 'top_5_sum_21days', 'top_6_sum_21days', 'top_7_sum_21days', 'top_8_sum_21days', 'top_9_sum_21days', 'top_10_sum_21days', 'android_max_21days', 'smarttv_max_21days', 'iphone_max_21days', 'ipad_max_21days', 'apple_max_21days', 'pc_max_21days', 'time_spent_sum_30days', 'time_spent_max_30days', 'num_title_ep_sum_30days', 'num_title_ep_max_30days', 'num_title_ru_sum_30days', 'num_title_ru_max_30days', 'num_country_max_30days', 'num_city_max_30days', 'other_content_sum_30days', 'top_1_sum_30days', 'top_2_sum_30days', 'top_3_sum_30days', 'top_4_sum_30days', 'top_5_sum_30days', 'top_6_sum_30days', 'top_7_sum_30days', 'top_8_sum_30days', 'top_9_sum_30days', 'top_10_sum_30days', 'android_max_30days', 'smarttv_max_30days', 'iphone_max_30days']\n",
      "5-fold CV is : 0.6351 +/- 0.0066\n"
     ]
    },
    {
     "name": "stderr",
     "output_type": "stream",
     "text": [
      "\n",
      " 93%|█████████████████████████████▋  | 131/141 [46:49<07:57, 47.72s/it]"
     ]
    },
    {
     "name": "stdout",
     "output_type": "stream",
     "text": [
      "adding feature ipad_max_30days\n",
      "performing CV with features: ['days_to_end', 'num_country_max_1days', 'num_city_max_1days', 'android_max_1days', 'smarttv_max_1days', 'iphone_max_1days', 'ipad_max_1days', 'apple_max_1days', 'pc_max_1days', 'time_spent_sum_3days', 'time_spent_max_3days', 'num_title_ep_sum_3days', 'num_title_ep_max_3days', 'num_title_ru_sum_3days', 'num_title_ru_max_3days', 'num_country_max_3days', 'num_city_max_3days', 'other_content_sum_3days', 'top_1_sum_3days', 'top_2_sum_3days', 'top_3_sum_3days', 'top_4_sum_3days', 'top_5_sum_3days', 'top_6_sum_3days', 'top_7_sum_3days', 'top_8_sum_3days', 'top_9_sum_3days', 'top_10_sum_3days', 'android_max_3days', 'smarttv_max_3days', 'iphone_max_3days', 'ipad_max_3days', 'apple_max_3days', 'pc_max_3days', 'time_spent_sum_7days', 'time_spent_max_7days', 'num_title_ep_sum_7days', 'num_title_ep_max_7days', 'num_title_ru_sum_7days', 'num_title_ru_max_7days', 'num_country_max_7days', 'num_city_max_7days', 'other_content_sum_7days', 'top_1_sum_7days', 'top_2_sum_7days', 'top_3_sum_7days', 'top_4_sum_7days', 'top_5_sum_7days', 'top_6_sum_7days', 'top_7_sum_7days', 'top_8_sum_7days', 'top_9_sum_7days', 'top_10_sum_7days', 'android_max_7days', 'smarttv_max_7days', 'iphone_max_7days', 'ipad_max_7days', 'apple_max_7days', 'pc_max_7days', 'time_spent_sum_14days', 'time_spent_max_14days', 'num_title_ep_sum_14days', 'num_title_ep_max_14days', 'num_title_ru_sum_14days', 'num_title_ru_max_14days', 'num_country_max_14days', 'num_city_max_14days', 'other_content_sum_14days', 'top_1_sum_14days', 'top_2_sum_14days', 'top_3_sum_14days', 'top_4_sum_14days', 'top_5_sum_14days', 'top_6_sum_14days', 'top_7_sum_14days', 'top_8_sum_14days', 'top_9_sum_14days', 'top_10_sum_14days', 'android_max_14days', 'smarttv_max_14days', 'iphone_max_14days', 'ipad_max_14days', 'apple_max_14days', 'pc_max_14days', 'time_spent_sum_21days', 'time_spent_max_21days', 'num_title_ep_sum_21days', 'num_title_ep_max_21days', 'num_title_ru_sum_21days', 'num_title_ru_max_21days', 'num_country_max_21days', 'num_city_max_21days', 'other_content_sum_21days', 'top_1_sum_21days', 'top_2_sum_21days', 'top_3_sum_21days', 'top_4_sum_21days', 'top_5_sum_21days', 'top_6_sum_21days', 'top_7_sum_21days', 'top_8_sum_21days', 'top_9_sum_21days', 'top_10_sum_21days', 'android_max_21days', 'smarttv_max_21days', 'iphone_max_21days', 'ipad_max_21days', 'apple_max_21days', 'pc_max_21days', 'time_spent_sum_30days', 'time_spent_max_30days', 'num_title_ep_sum_30days', 'num_title_ep_max_30days', 'num_title_ru_sum_30days', 'num_title_ru_max_30days', 'num_country_max_30days', 'num_city_max_30days', 'other_content_sum_30days', 'top_1_sum_30days', 'top_2_sum_30days', 'top_3_sum_30days', 'top_4_sum_30days', 'top_5_sum_30days', 'top_6_sum_30days', 'top_7_sum_30days', 'top_8_sum_30days', 'top_9_sum_30days', 'top_10_sum_30days', 'android_max_30days', 'smarttv_max_30days', 'iphone_max_30days', 'ipad_max_30days']\n",
      "5-fold CV is : 0.6333 +/- 0.004\n"
     ]
    },
    {
     "name": "stderr",
     "output_type": "stream",
     "text": [
      "\n",
      " 94%|█████████████████████████████▉  | 132/141 [47:37<07:09, 47.74s/it]"
     ]
    },
    {
     "name": "stdout",
     "output_type": "stream",
     "text": [
      "adding feature apple_max_30days\n",
      "performing CV with features: ['days_to_end', 'num_country_max_1days', 'num_city_max_1days', 'android_max_1days', 'smarttv_max_1days', 'iphone_max_1days', 'ipad_max_1days', 'apple_max_1days', 'pc_max_1days', 'time_spent_sum_3days', 'time_spent_max_3days', 'num_title_ep_sum_3days', 'num_title_ep_max_3days', 'num_title_ru_sum_3days', 'num_title_ru_max_3days', 'num_country_max_3days', 'num_city_max_3days', 'other_content_sum_3days', 'top_1_sum_3days', 'top_2_sum_3days', 'top_3_sum_3days', 'top_4_sum_3days', 'top_5_sum_3days', 'top_6_sum_3days', 'top_7_sum_3days', 'top_8_sum_3days', 'top_9_sum_3days', 'top_10_sum_3days', 'android_max_3days', 'smarttv_max_3days', 'iphone_max_3days', 'ipad_max_3days', 'apple_max_3days', 'pc_max_3days', 'time_spent_sum_7days', 'time_spent_max_7days', 'num_title_ep_sum_7days', 'num_title_ep_max_7days', 'num_title_ru_sum_7days', 'num_title_ru_max_7days', 'num_country_max_7days', 'num_city_max_7days', 'other_content_sum_7days', 'top_1_sum_7days', 'top_2_sum_7days', 'top_3_sum_7days', 'top_4_sum_7days', 'top_5_sum_7days', 'top_6_sum_7days', 'top_7_sum_7days', 'top_8_sum_7days', 'top_9_sum_7days', 'top_10_sum_7days', 'android_max_7days', 'smarttv_max_7days', 'iphone_max_7days', 'ipad_max_7days', 'apple_max_7days', 'pc_max_7days', 'time_spent_sum_14days', 'time_spent_max_14days', 'num_title_ep_sum_14days', 'num_title_ep_max_14days', 'num_title_ru_sum_14days', 'num_title_ru_max_14days', 'num_country_max_14days', 'num_city_max_14days', 'other_content_sum_14days', 'top_1_sum_14days', 'top_2_sum_14days', 'top_3_sum_14days', 'top_4_sum_14days', 'top_5_sum_14days', 'top_6_sum_14days', 'top_7_sum_14days', 'top_8_sum_14days', 'top_9_sum_14days', 'top_10_sum_14days', 'android_max_14days', 'smarttv_max_14days', 'iphone_max_14days', 'ipad_max_14days', 'apple_max_14days', 'pc_max_14days', 'time_spent_sum_21days', 'time_spent_max_21days', 'num_title_ep_sum_21days', 'num_title_ep_max_21days', 'num_title_ru_sum_21days', 'num_title_ru_max_21days', 'num_country_max_21days', 'num_city_max_21days', 'other_content_sum_21days', 'top_1_sum_21days', 'top_2_sum_21days', 'top_3_sum_21days', 'top_4_sum_21days', 'top_5_sum_21days', 'top_6_sum_21days', 'top_7_sum_21days', 'top_8_sum_21days', 'top_9_sum_21days', 'top_10_sum_21days', 'android_max_21days', 'smarttv_max_21days', 'iphone_max_21days', 'ipad_max_21days', 'apple_max_21days', 'pc_max_21days', 'time_spent_sum_30days', 'time_spent_max_30days', 'num_title_ep_sum_30days', 'num_title_ep_max_30days', 'num_title_ru_sum_30days', 'num_title_ru_max_30days', 'num_country_max_30days', 'num_city_max_30days', 'other_content_sum_30days', 'top_1_sum_30days', 'top_2_sum_30days', 'top_3_sum_30days', 'top_4_sum_30days', 'top_5_sum_30days', 'top_6_sum_30days', 'top_7_sum_30days', 'top_8_sum_30days', 'top_9_sum_30days', 'top_10_sum_30days', 'android_max_30days', 'smarttv_max_30days', 'iphone_max_30days', 'ipad_max_30days', 'apple_max_30days']\n",
      "5-fold CV is : 0.6365 +/- 0.0072\n"
     ]
    },
    {
     "name": "stderr",
     "output_type": "stream",
     "text": [
      "\n",
      " 94%|██████████████████████████████▏ | 133/141 [48:26<06:25, 48.21s/it]"
     ]
    },
    {
     "name": "stdout",
     "output_type": "stream",
     "text": [
      "adding feature pc_max_30days\n",
      "performing CV with features: ['days_to_end', 'num_country_max_1days', 'num_city_max_1days', 'android_max_1days', 'smarttv_max_1days', 'iphone_max_1days', 'ipad_max_1days', 'apple_max_1days', 'pc_max_1days', 'time_spent_sum_3days', 'time_spent_max_3days', 'num_title_ep_sum_3days', 'num_title_ep_max_3days', 'num_title_ru_sum_3days', 'num_title_ru_max_3days', 'num_country_max_3days', 'num_city_max_3days', 'other_content_sum_3days', 'top_1_sum_3days', 'top_2_sum_3days', 'top_3_sum_3days', 'top_4_sum_3days', 'top_5_sum_3days', 'top_6_sum_3days', 'top_7_sum_3days', 'top_8_sum_3days', 'top_9_sum_3days', 'top_10_sum_3days', 'android_max_3days', 'smarttv_max_3days', 'iphone_max_3days', 'ipad_max_3days', 'apple_max_3days', 'pc_max_3days', 'time_spent_sum_7days', 'time_spent_max_7days', 'num_title_ep_sum_7days', 'num_title_ep_max_7days', 'num_title_ru_sum_7days', 'num_title_ru_max_7days', 'num_country_max_7days', 'num_city_max_7days', 'other_content_sum_7days', 'top_1_sum_7days', 'top_2_sum_7days', 'top_3_sum_7days', 'top_4_sum_7days', 'top_5_sum_7days', 'top_6_sum_7days', 'top_7_sum_7days', 'top_8_sum_7days', 'top_9_sum_7days', 'top_10_sum_7days', 'android_max_7days', 'smarttv_max_7days', 'iphone_max_7days', 'ipad_max_7days', 'apple_max_7days', 'pc_max_7days', 'time_spent_sum_14days', 'time_spent_max_14days', 'num_title_ep_sum_14days', 'num_title_ep_max_14days', 'num_title_ru_sum_14days', 'num_title_ru_max_14days', 'num_country_max_14days', 'num_city_max_14days', 'other_content_sum_14days', 'top_1_sum_14days', 'top_2_sum_14days', 'top_3_sum_14days', 'top_4_sum_14days', 'top_5_sum_14days', 'top_6_sum_14days', 'top_7_sum_14days', 'top_8_sum_14days', 'top_9_sum_14days', 'top_10_sum_14days', 'android_max_14days', 'smarttv_max_14days', 'iphone_max_14days', 'ipad_max_14days', 'apple_max_14days', 'pc_max_14days', 'time_spent_sum_21days', 'time_spent_max_21days', 'num_title_ep_sum_21days', 'num_title_ep_max_21days', 'num_title_ru_sum_21days', 'num_title_ru_max_21days', 'num_country_max_21days', 'num_city_max_21days', 'other_content_sum_21days', 'top_1_sum_21days', 'top_2_sum_21days', 'top_3_sum_21days', 'top_4_sum_21days', 'top_5_sum_21days', 'top_6_sum_21days', 'top_7_sum_21days', 'top_8_sum_21days', 'top_9_sum_21days', 'top_10_sum_21days', 'android_max_21days', 'smarttv_max_21days', 'iphone_max_21days', 'ipad_max_21days', 'apple_max_21days', 'pc_max_21days', 'time_spent_sum_30days', 'time_spent_max_30days', 'num_title_ep_sum_30days', 'num_title_ep_max_30days', 'num_title_ru_sum_30days', 'num_title_ru_max_30days', 'num_country_max_30days', 'num_city_max_30days', 'other_content_sum_30days', 'top_1_sum_30days', 'top_2_sum_30days', 'top_3_sum_30days', 'top_4_sum_30days', 'top_5_sum_30days', 'top_6_sum_30days', 'top_7_sum_30days', 'top_8_sum_30days', 'top_9_sum_30days', 'top_10_sum_30days', 'android_max_30days', 'smarttv_max_30days', 'iphone_max_30days', 'ipad_max_30days', 'apple_max_30days', 'pc_max_30days']\n",
      "5-fold CV is : 0.6365 +/- 0.0072\n"
     ]
    },
    {
     "name": "stderr",
     "output_type": "stream",
     "text": [
      "\n",
      " 95%|██████████████████████████████▍ | 134/141 [49:18<05:44, 49.26s/it]"
     ]
    },
    {
     "name": "stdout",
     "output_type": "stream",
     "text": [
      "adding feature activity_1to3\n",
      "performing CV with features: ['days_to_end', 'num_country_max_1days', 'num_city_max_1days', 'android_max_1days', 'smarttv_max_1days', 'iphone_max_1days', 'ipad_max_1days', 'apple_max_1days', 'pc_max_1days', 'time_spent_sum_3days', 'time_spent_max_3days', 'num_title_ep_sum_3days', 'num_title_ep_max_3days', 'num_title_ru_sum_3days', 'num_title_ru_max_3days', 'num_country_max_3days', 'num_city_max_3days', 'other_content_sum_3days', 'top_1_sum_3days', 'top_2_sum_3days', 'top_3_sum_3days', 'top_4_sum_3days', 'top_5_sum_3days', 'top_6_sum_3days', 'top_7_sum_3days', 'top_8_sum_3days', 'top_9_sum_3days', 'top_10_sum_3days', 'android_max_3days', 'smarttv_max_3days', 'iphone_max_3days', 'ipad_max_3days', 'apple_max_3days', 'pc_max_3days', 'time_spent_sum_7days', 'time_spent_max_7days', 'num_title_ep_sum_7days', 'num_title_ep_max_7days', 'num_title_ru_sum_7days', 'num_title_ru_max_7days', 'num_country_max_7days', 'num_city_max_7days', 'other_content_sum_7days', 'top_1_sum_7days', 'top_2_sum_7days', 'top_3_sum_7days', 'top_4_sum_7days', 'top_5_sum_7days', 'top_6_sum_7days', 'top_7_sum_7days', 'top_8_sum_7days', 'top_9_sum_7days', 'top_10_sum_7days', 'android_max_7days', 'smarttv_max_7days', 'iphone_max_7days', 'ipad_max_7days', 'apple_max_7days', 'pc_max_7days', 'time_spent_sum_14days', 'time_spent_max_14days', 'num_title_ep_sum_14days', 'num_title_ep_max_14days', 'num_title_ru_sum_14days', 'num_title_ru_max_14days', 'num_country_max_14days', 'num_city_max_14days', 'other_content_sum_14days', 'top_1_sum_14days', 'top_2_sum_14days', 'top_3_sum_14days', 'top_4_sum_14days', 'top_5_sum_14days', 'top_6_sum_14days', 'top_7_sum_14days', 'top_8_sum_14days', 'top_9_sum_14days', 'top_10_sum_14days', 'android_max_14days', 'smarttv_max_14days', 'iphone_max_14days', 'ipad_max_14days', 'apple_max_14days', 'pc_max_14days', 'time_spent_sum_21days', 'time_spent_max_21days', 'num_title_ep_sum_21days', 'num_title_ep_max_21days', 'num_title_ru_sum_21days', 'num_title_ru_max_21days', 'num_country_max_21days', 'num_city_max_21days', 'other_content_sum_21days', 'top_1_sum_21days', 'top_2_sum_21days', 'top_3_sum_21days', 'top_4_sum_21days', 'top_5_sum_21days', 'top_6_sum_21days', 'top_7_sum_21days', 'top_8_sum_21days', 'top_9_sum_21days', 'top_10_sum_21days', 'android_max_21days', 'smarttv_max_21days', 'iphone_max_21days', 'ipad_max_21days', 'apple_max_21days', 'pc_max_21days', 'time_spent_sum_30days', 'time_spent_max_30days', 'num_title_ep_sum_30days', 'num_title_ep_max_30days', 'num_title_ru_sum_30days', 'num_title_ru_max_30days', 'num_country_max_30days', 'num_city_max_30days', 'other_content_sum_30days', 'top_1_sum_30days', 'top_2_sum_30days', 'top_3_sum_30days', 'top_4_sum_30days', 'top_5_sum_30days', 'top_6_sum_30days', 'top_7_sum_30days', 'top_8_sum_30days', 'top_9_sum_30days', 'top_10_sum_30days', 'android_max_30days', 'smarttv_max_30days', 'iphone_max_30days', 'ipad_max_30days', 'apple_max_30days', 'pc_max_30days', 'activity_1to3']\n",
      "5-fold CV is : 0.6375 +/- 0.0068\n"
     ]
    },
    {
     "name": "stderr",
     "output_type": "stream",
     "text": [
      "\n",
      " 96%|██████████████████████████████▋ | 135/141 [50:05<04:51, 48.51s/it]"
     ]
    },
    {
     "name": "stdout",
     "output_type": "stream",
     "text": [
      "adding feature activity_1to7\n",
      "performing CV with features: ['days_to_end', 'num_country_max_1days', 'num_city_max_1days', 'android_max_1days', 'smarttv_max_1days', 'iphone_max_1days', 'ipad_max_1days', 'apple_max_1days', 'pc_max_1days', 'time_spent_sum_3days', 'time_spent_max_3days', 'num_title_ep_sum_3days', 'num_title_ep_max_3days', 'num_title_ru_sum_3days', 'num_title_ru_max_3days', 'num_country_max_3days', 'num_city_max_3days', 'other_content_sum_3days', 'top_1_sum_3days', 'top_2_sum_3days', 'top_3_sum_3days', 'top_4_sum_3days', 'top_5_sum_3days', 'top_6_sum_3days', 'top_7_sum_3days', 'top_8_sum_3days', 'top_9_sum_3days', 'top_10_sum_3days', 'android_max_3days', 'smarttv_max_3days', 'iphone_max_3days', 'ipad_max_3days', 'apple_max_3days', 'pc_max_3days', 'time_spent_sum_7days', 'time_spent_max_7days', 'num_title_ep_sum_7days', 'num_title_ep_max_7days', 'num_title_ru_sum_7days', 'num_title_ru_max_7days', 'num_country_max_7days', 'num_city_max_7days', 'other_content_sum_7days', 'top_1_sum_7days', 'top_2_sum_7days', 'top_3_sum_7days', 'top_4_sum_7days', 'top_5_sum_7days', 'top_6_sum_7days', 'top_7_sum_7days', 'top_8_sum_7days', 'top_9_sum_7days', 'top_10_sum_7days', 'android_max_7days', 'smarttv_max_7days', 'iphone_max_7days', 'ipad_max_7days', 'apple_max_7days', 'pc_max_7days', 'time_spent_sum_14days', 'time_spent_max_14days', 'num_title_ep_sum_14days', 'num_title_ep_max_14days', 'num_title_ru_sum_14days', 'num_title_ru_max_14days', 'num_country_max_14days', 'num_city_max_14days', 'other_content_sum_14days', 'top_1_sum_14days', 'top_2_sum_14days', 'top_3_sum_14days', 'top_4_sum_14days', 'top_5_sum_14days', 'top_6_sum_14days', 'top_7_sum_14days', 'top_8_sum_14days', 'top_9_sum_14days', 'top_10_sum_14days', 'android_max_14days', 'smarttv_max_14days', 'iphone_max_14days', 'ipad_max_14days', 'apple_max_14days', 'pc_max_14days', 'time_spent_sum_21days', 'time_spent_max_21days', 'num_title_ep_sum_21days', 'num_title_ep_max_21days', 'num_title_ru_sum_21days', 'num_title_ru_max_21days', 'num_country_max_21days', 'num_city_max_21days', 'other_content_sum_21days', 'top_1_sum_21days', 'top_2_sum_21days', 'top_3_sum_21days', 'top_4_sum_21days', 'top_5_sum_21days', 'top_6_sum_21days', 'top_7_sum_21days', 'top_8_sum_21days', 'top_9_sum_21days', 'top_10_sum_21days', 'android_max_21days', 'smarttv_max_21days', 'iphone_max_21days', 'ipad_max_21days', 'apple_max_21days', 'pc_max_21days', 'time_spent_sum_30days', 'time_spent_max_30days', 'num_title_ep_sum_30days', 'num_title_ep_max_30days', 'num_title_ru_sum_30days', 'num_title_ru_max_30days', 'num_country_max_30days', 'num_city_max_30days', 'other_content_sum_30days', 'top_1_sum_30days', 'top_2_sum_30days', 'top_3_sum_30days', 'top_4_sum_30days', 'top_5_sum_30days', 'top_6_sum_30days', 'top_7_sum_30days', 'top_8_sum_30days', 'top_9_sum_30days', 'top_10_sum_30days', 'android_max_30days', 'smarttv_max_30days', 'iphone_max_30days', 'ipad_max_30days', 'apple_max_30days', 'pc_max_30days', 'activity_1to3', 'activity_1to7']\n",
      "5-fold CV is : 0.6379 +/- 0.0088\n"
     ]
    },
    {
     "name": "stderr",
     "output_type": "stream",
     "text": [
      "\n",
      " 96%|██████████████████████████████▊ | 136/141 [50:58<04:10, 50.02s/it]"
     ]
    },
    {
     "name": "stdout",
     "output_type": "stream",
     "text": [
      "adding feature activity_1to14\n",
      "performing CV with features: ['days_to_end', 'num_country_max_1days', 'num_city_max_1days', 'android_max_1days', 'smarttv_max_1days', 'iphone_max_1days', 'ipad_max_1days', 'apple_max_1days', 'pc_max_1days', 'time_spent_sum_3days', 'time_spent_max_3days', 'num_title_ep_sum_3days', 'num_title_ep_max_3days', 'num_title_ru_sum_3days', 'num_title_ru_max_3days', 'num_country_max_3days', 'num_city_max_3days', 'other_content_sum_3days', 'top_1_sum_3days', 'top_2_sum_3days', 'top_3_sum_3days', 'top_4_sum_3days', 'top_5_sum_3days', 'top_6_sum_3days', 'top_7_sum_3days', 'top_8_sum_3days', 'top_9_sum_3days', 'top_10_sum_3days', 'android_max_3days', 'smarttv_max_3days', 'iphone_max_3days', 'ipad_max_3days', 'apple_max_3days', 'pc_max_3days', 'time_spent_sum_7days', 'time_spent_max_7days', 'num_title_ep_sum_7days', 'num_title_ep_max_7days', 'num_title_ru_sum_7days', 'num_title_ru_max_7days', 'num_country_max_7days', 'num_city_max_7days', 'other_content_sum_7days', 'top_1_sum_7days', 'top_2_sum_7days', 'top_3_sum_7days', 'top_4_sum_7days', 'top_5_sum_7days', 'top_6_sum_7days', 'top_7_sum_7days', 'top_8_sum_7days', 'top_9_sum_7days', 'top_10_sum_7days', 'android_max_7days', 'smarttv_max_7days', 'iphone_max_7days', 'ipad_max_7days', 'apple_max_7days', 'pc_max_7days', 'time_spent_sum_14days', 'time_spent_max_14days', 'num_title_ep_sum_14days', 'num_title_ep_max_14days', 'num_title_ru_sum_14days', 'num_title_ru_max_14days', 'num_country_max_14days', 'num_city_max_14days', 'other_content_sum_14days', 'top_1_sum_14days', 'top_2_sum_14days', 'top_3_sum_14days', 'top_4_sum_14days', 'top_5_sum_14days', 'top_6_sum_14days', 'top_7_sum_14days', 'top_8_sum_14days', 'top_9_sum_14days', 'top_10_sum_14days', 'android_max_14days', 'smarttv_max_14days', 'iphone_max_14days', 'ipad_max_14days', 'apple_max_14days', 'pc_max_14days', 'time_spent_sum_21days', 'time_spent_max_21days', 'num_title_ep_sum_21days', 'num_title_ep_max_21days', 'num_title_ru_sum_21days', 'num_title_ru_max_21days', 'num_country_max_21days', 'num_city_max_21days', 'other_content_sum_21days', 'top_1_sum_21days', 'top_2_sum_21days', 'top_3_sum_21days', 'top_4_sum_21days', 'top_5_sum_21days', 'top_6_sum_21days', 'top_7_sum_21days', 'top_8_sum_21days', 'top_9_sum_21days', 'top_10_sum_21days', 'android_max_21days', 'smarttv_max_21days', 'iphone_max_21days', 'ipad_max_21days', 'apple_max_21days', 'pc_max_21days', 'time_spent_sum_30days', 'time_spent_max_30days', 'num_title_ep_sum_30days', 'num_title_ep_max_30days', 'num_title_ru_sum_30days', 'num_title_ru_max_30days', 'num_country_max_30days', 'num_city_max_30days', 'other_content_sum_30days', 'top_1_sum_30days', 'top_2_sum_30days', 'top_3_sum_30days', 'top_4_sum_30days', 'top_5_sum_30days', 'top_6_sum_30days', 'top_7_sum_30days', 'top_8_sum_30days', 'top_9_sum_30days', 'top_10_sum_30days', 'android_max_30days', 'smarttv_max_30days', 'iphone_max_30days', 'ipad_max_30days', 'apple_max_30days', 'pc_max_30days', 'activity_1to3', 'activity_1to7', 'activity_1to14']\n",
      "5-fold CV is : 0.6345 +/- 0.0018\n"
     ]
    },
    {
     "name": "stderr",
     "output_type": "stream",
     "text": [
      "\n",
      " 97%|███████████████████████████████ | 137/141 [51:44<03:15, 48.82s/it]"
     ]
    },
    {
     "name": "stdout",
     "output_type": "stream",
     "text": [
      "adding feature activity_7to14\n",
      "performing CV with features: ['days_to_end', 'num_country_max_1days', 'num_city_max_1days', 'android_max_1days', 'smarttv_max_1days', 'iphone_max_1days', 'ipad_max_1days', 'apple_max_1days', 'pc_max_1days', 'time_spent_sum_3days', 'time_spent_max_3days', 'num_title_ep_sum_3days', 'num_title_ep_max_3days', 'num_title_ru_sum_3days', 'num_title_ru_max_3days', 'num_country_max_3days', 'num_city_max_3days', 'other_content_sum_3days', 'top_1_sum_3days', 'top_2_sum_3days', 'top_3_sum_3days', 'top_4_sum_3days', 'top_5_sum_3days', 'top_6_sum_3days', 'top_7_sum_3days', 'top_8_sum_3days', 'top_9_sum_3days', 'top_10_sum_3days', 'android_max_3days', 'smarttv_max_3days', 'iphone_max_3days', 'ipad_max_3days', 'apple_max_3days', 'pc_max_3days', 'time_spent_sum_7days', 'time_spent_max_7days', 'num_title_ep_sum_7days', 'num_title_ep_max_7days', 'num_title_ru_sum_7days', 'num_title_ru_max_7days', 'num_country_max_7days', 'num_city_max_7days', 'other_content_sum_7days', 'top_1_sum_7days', 'top_2_sum_7days', 'top_3_sum_7days', 'top_4_sum_7days', 'top_5_sum_7days', 'top_6_sum_7days', 'top_7_sum_7days', 'top_8_sum_7days', 'top_9_sum_7days', 'top_10_sum_7days', 'android_max_7days', 'smarttv_max_7days', 'iphone_max_7days', 'ipad_max_7days', 'apple_max_7days', 'pc_max_7days', 'time_spent_sum_14days', 'time_spent_max_14days', 'num_title_ep_sum_14days', 'num_title_ep_max_14days', 'num_title_ru_sum_14days', 'num_title_ru_max_14days', 'num_country_max_14days', 'num_city_max_14days', 'other_content_sum_14days', 'top_1_sum_14days', 'top_2_sum_14days', 'top_3_sum_14days', 'top_4_sum_14days', 'top_5_sum_14days', 'top_6_sum_14days', 'top_7_sum_14days', 'top_8_sum_14days', 'top_9_sum_14days', 'top_10_sum_14days', 'android_max_14days', 'smarttv_max_14days', 'iphone_max_14days', 'ipad_max_14days', 'apple_max_14days', 'pc_max_14days', 'time_spent_sum_21days', 'time_spent_max_21days', 'num_title_ep_sum_21days', 'num_title_ep_max_21days', 'num_title_ru_sum_21days', 'num_title_ru_max_21days', 'num_country_max_21days', 'num_city_max_21days', 'other_content_sum_21days', 'top_1_sum_21days', 'top_2_sum_21days', 'top_3_sum_21days', 'top_4_sum_21days', 'top_5_sum_21days', 'top_6_sum_21days', 'top_7_sum_21days', 'top_8_sum_21days', 'top_9_sum_21days', 'top_10_sum_21days', 'android_max_21days', 'smarttv_max_21days', 'iphone_max_21days', 'ipad_max_21days', 'apple_max_21days', 'pc_max_21days', 'time_spent_sum_30days', 'time_spent_max_30days', 'num_title_ep_sum_30days', 'num_title_ep_max_30days', 'num_title_ru_sum_30days', 'num_title_ru_max_30days', 'num_country_max_30days', 'num_city_max_30days', 'other_content_sum_30days', 'top_1_sum_30days', 'top_2_sum_30days', 'top_3_sum_30days', 'top_4_sum_30days', 'top_5_sum_30days', 'top_6_sum_30days', 'top_7_sum_30days', 'top_8_sum_30days', 'top_9_sum_30days', 'top_10_sum_30days', 'android_max_30days', 'smarttv_max_30days', 'iphone_max_30days', 'ipad_max_30days', 'apple_max_30days', 'pc_max_30days', 'activity_1to3', 'activity_1to7', 'activity_1to14', 'activity_7to14']\n",
      "5-fold CV is : 0.6344 +/- 0.0042\n"
     ]
    },
    {
     "name": "stderr",
     "output_type": "stream",
     "text": [
      "\n",
      " 98%|███████████████████████████████▎| 138/141 [52:32<02:25, 48.55s/it]"
     ]
    },
    {
     "name": "stdout",
     "output_type": "stream",
     "text": [
      "adding feature activity_7to21\n",
      "performing CV with features: ['days_to_end', 'num_country_max_1days', 'num_city_max_1days', 'android_max_1days', 'smarttv_max_1days', 'iphone_max_1days', 'ipad_max_1days', 'apple_max_1days', 'pc_max_1days', 'time_spent_sum_3days', 'time_spent_max_3days', 'num_title_ep_sum_3days', 'num_title_ep_max_3days', 'num_title_ru_sum_3days', 'num_title_ru_max_3days', 'num_country_max_3days', 'num_city_max_3days', 'other_content_sum_3days', 'top_1_sum_3days', 'top_2_sum_3days', 'top_3_sum_3days', 'top_4_sum_3days', 'top_5_sum_3days', 'top_6_sum_3days', 'top_7_sum_3days', 'top_8_sum_3days', 'top_9_sum_3days', 'top_10_sum_3days', 'android_max_3days', 'smarttv_max_3days', 'iphone_max_3days', 'ipad_max_3days', 'apple_max_3days', 'pc_max_3days', 'time_spent_sum_7days', 'time_spent_max_7days', 'num_title_ep_sum_7days', 'num_title_ep_max_7days', 'num_title_ru_sum_7days', 'num_title_ru_max_7days', 'num_country_max_7days', 'num_city_max_7days', 'other_content_sum_7days', 'top_1_sum_7days', 'top_2_sum_7days', 'top_3_sum_7days', 'top_4_sum_7days', 'top_5_sum_7days', 'top_6_sum_7days', 'top_7_sum_7days', 'top_8_sum_7days', 'top_9_sum_7days', 'top_10_sum_7days', 'android_max_7days', 'smarttv_max_7days', 'iphone_max_7days', 'ipad_max_7days', 'apple_max_7days', 'pc_max_7days', 'time_spent_sum_14days', 'time_spent_max_14days', 'num_title_ep_sum_14days', 'num_title_ep_max_14days', 'num_title_ru_sum_14days', 'num_title_ru_max_14days', 'num_country_max_14days', 'num_city_max_14days', 'other_content_sum_14days', 'top_1_sum_14days', 'top_2_sum_14days', 'top_3_sum_14days', 'top_4_sum_14days', 'top_5_sum_14days', 'top_6_sum_14days', 'top_7_sum_14days', 'top_8_sum_14days', 'top_9_sum_14days', 'top_10_sum_14days', 'android_max_14days', 'smarttv_max_14days', 'iphone_max_14days', 'ipad_max_14days', 'apple_max_14days', 'pc_max_14days', 'time_spent_sum_21days', 'time_spent_max_21days', 'num_title_ep_sum_21days', 'num_title_ep_max_21days', 'num_title_ru_sum_21days', 'num_title_ru_max_21days', 'num_country_max_21days', 'num_city_max_21days', 'other_content_sum_21days', 'top_1_sum_21days', 'top_2_sum_21days', 'top_3_sum_21days', 'top_4_sum_21days', 'top_5_sum_21days', 'top_6_sum_21days', 'top_7_sum_21days', 'top_8_sum_21days', 'top_9_sum_21days', 'top_10_sum_21days', 'android_max_21days', 'smarttv_max_21days', 'iphone_max_21days', 'ipad_max_21days', 'apple_max_21days', 'pc_max_21days', 'time_spent_sum_30days', 'time_spent_max_30days', 'num_title_ep_sum_30days', 'num_title_ep_max_30days', 'num_title_ru_sum_30days', 'num_title_ru_max_30days', 'num_country_max_30days', 'num_city_max_30days', 'other_content_sum_30days', 'top_1_sum_30days', 'top_2_sum_30days', 'top_3_sum_30days', 'top_4_sum_30days', 'top_5_sum_30days', 'top_6_sum_30days', 'top_7_sum_30days', 'top_8_sum_30days', 'top_9_sum_30days', 'top_10_sum_30days', 'android_max_30days', 'smarttv_max_30days', 'iphone_max_30days', 'ipad_max_30days', 'apple_max_30days', 'pc_max_30days', 'activity_1to3', 'activity_1to7', 'activity_1to14', 'activity_7to14', 'activity_7to21']\n",
      "5-fold CV is : 0.635 +/- 0.006\n"
     ]
    },
    {
     "name": "stderr",
     "output_type": "stream",
     "text": [
      "\n",
      " 99%|███████████████████████████████▌| 139/141 [53:22<01:37, 48.75s/it]"
     ]
    },
    {
     "name": "stdout",
     "output_type": "stream",
     "text": [
      "adding feature activity_7to30\n",
      "performing CV with features: ['days_to_end', 'num_country_max_1days', 'num_city_max_1days', 'android_max_1days', 'smarttv_max_1days', 'iphone_max_1days', 'ipad_max_1days', 'apple_max_1days', 'pc_max_1days', 'time_spent_sum_3days', 'time_spent_max_3days', 'num_title_ep_sum_3days', 'num_title_ep_max_3days', 'num_title_ru_sum_3days', 'num_title_ru_max_3days', 'num_country_max_3days', 'num_city_max_3days', 'other_content_sum_3days', 'top_1_sum_3days', 'top_2_sum_3days', 'top_3_sum_3days', 'top_4_sum_3days', 'top_5_sum_3days', 'top_6_sum_3days', 'top_7_sum_3days', 'top_8_sum_3days', 'top_9_sum_3days', 'top_10_sum_3days', 'android_max_3days', 'smarttv_max_3days', 'iphone_max_3days', 'ipad_max_3days', 'apple_max_3days', 'pc_max_3days', 'time_spent_sum_7days', 'time_spent_max_7days', 'num_title_ep_sum_7days', 'num_title_ep_max_7days', 'num_title_ru_sum_7days', 'num_title_ru_max_7days', 'num_country_max_7days', 'num_city_max_7days', 'other_content_sum_7days', 'top_1_sum_7days', 'top_2_sum_7days', 'top_3_sum_7days', 'top_4_sum_7days', 'top_5_sum_7days', 'top_6_sum_7days', 'top_7_sum_7days', 'top_8_sum_7days', 'top_9_sum_7days', 'top_10_sum_7days', 'android_max_7days', 'smarttv_max_7days', 'iphone_max_7days', 'ipad_max_7days', 'apple_max_7days', 'pc_max_7days', 'time_spent_sum_14days', 'time_spent_max_14days', 'num_title_ep_sum_14days', 'num_title_ep_max_14days', 'num_title_ru_sum_14days', 'num_title_ru_max_14days', 'num_country_max_14days', 'num_city_max_14days', 'other_content_sum_14days', 'top_1_sum_14days', 'top_2_sum_14days', 'top_3_sum_14days', 'top_4_sum_14days', 'top_5_sum_14days', 'top_6_sum_14days', 'top_7_sum_14days', 'top_8_sum_14days', 'top_9_sum_14days', 'top_10_sum_14days', 'android_max_14days', 'smarttv_max_14days', 'iphone_max_14days', 'ipad_max_14days', 'apple_max_14days', 'pc_max_14days', 'time_spent_sum_21days', 'time_spent_max_21days', 'num_title_ep_sum_21days', 'num_title_ep_max_21days', 'num_title_ru_sum_21days', 'num_title_ru_max_21days', 'num_country_max_21days', 'num_city_max_21days', 'other_content_sum_21days', 'top_1_sum_21days', 'top_2_sum_21days', 'top_3_sum_21days', 'top_4_sum_21days', 'top_5_sum_21days', 'top_6_sum_21days', 'top_7_sum_21days', 'top_8_sum_21days', 'top_9_sum_21days', 'top_10_sum_21days', 'android_max_21days', 'smarttv_max_21days', 'iphone_max_21days', 'ipad_max_21days', 'apple_max_21days', 'pc_max_21days', 'time_spent_sum_30days', 'time_spent_max_30days', 'num_title_ep_sum_30days', 'num_title_ep_max_30days', 'num_title_ru_sum_30days', 'num_title_ru_max_30days', 'num_country_max_30days', 'num_city_max_30days', 'other_content_sum_30days', 'top_1_sum_30days', 'top_2_sum_30days', 'top_3_sum_30days', 'top_4_sum_30days', 'top_5_sum_30days', 'top_6_sum_30days', 'top_7_sum_30days', 'top_8_sum_30days', 'top_9_sum_30days', 'top_10_sum_30days', 'android_max_30days', 'smarttv_max_30days', 'iphone_max_30days', 'ipad_max_30days', 'apple_max_30days', 'pc_max_30days', 'activity_1to3', 'activity_1to7', 'activity_1to14', 'activity_7to14', 'activity_7to21', 'activity_7to30']\n",
      "5-fold CV is : 0.6394 +/- 0.0068\n"
     ]
    },
    {
     "name": "stderr",
     "output_type": "stream",
     "text": [
      "\n",
      " 99%|███████████████████████████████▊| 140/141 [54:18<00:51, 51.17s/it]"
     ]
    },
    {
     "name": "stdout",
     "output_type": "stream",
     "text": [
      "adding feature activity_14to30\n",
      "performing CV with features: ['days_to_end', 'num_country_max_1days', 'num_city_max_1days', 'android_max_1days', 'smarttv_max_1days', 'iphone_max_1days', 'ipad_max_1days', 'apple_max_1days', 'pc_max_1days', 'time_spent_sum_3days', 'time_spent_max_3days', 'num_title_ep_sum_3days', 'num_title_ep_max_3days', 'num_title_ru_sum_3days', 'num_title_ru_max_3days', 'num_country_max_3days', 'num_city_max_3days', 'other_content_sum_3days', 'top_1_sum_3days', 'top_2_sum_3days', 'top_3_sum_3days', 'top_4_sum_3days', 'top_5_sum_3days', 'top_6_sum_3days', 'top_7_sum_3days', 'top_8_sum_3days', 'top_9_sum_3days', 'top_10_sum_3days', 'android_max_3days', 'smarttv_max_3days', 'iphone_max_3days', 'ipad_max_3days', 'apple_max_3days', 'pc_max_3days', 'time_spent_sum_7days', 'time_spent_max_7days', 'num_title_ep_sum_7days', 'num_title_ep_max_7days', 'num_title_ru_sum_7days', 'num_title_ru_max_7days', 'num_country_max_7days', 'num_city_max_7days', 'other_content_sum_7days', 'top_1_sum_7days', 'top_2_sum_7days', 'top_3_sum_7days', 'top_4_sum_7days', 'top_5_sum_7days', 'top_6_sum_7days', 'top_7_sum_7days', 'top_8_sum_7days', 'top_9_sum_7days', 'top_10_sum_7days', 'android_max_7days', 'smarttv_max_7days', 'iphone_max_7days', 'ipad_max_7days', 'apple_max_7days', 'pc_max_7days', 'time_spent_sum_14days', 'time_spent_max_14days', 'num_title_ep_sum_14days', 'num_title_ep_max_14days', 'num_title_ru_sum_14days', 'num_title_ru_max_14days', 'num_country_max_14days', 'num_city_max_14days', 'other_content_sum_14days', 'top_1_sum_14days', 'top_2_sum_14days', 'top_3_sum_14days', 'top_4_sum_14days', 'top_5_sum_14days', 'top_6_sum_14days', 'top_7_sum_14days', 'top_8_sum_14days', 'top_9_sum_14days', 'top_10_sum_14days', 'android_max_14days', 'smarttv_max_14days', 'iphone_max_14days', 'ipad_max_14days', 'apple_max_14days', 'pc_max_14days', 'time_spent_sum_21days', 'time_spent_max_21days', 'num_title_ep_sum_21days', 'num_title_ep_max_21days', 'num_title_ru_sum_21days', 'num_title_ru_max_21days', 'num_country_max_21days', 'num_city_max_21days', 'other_content_sum_21days', 'top_1_sum_21days', 'top_2_sum_21days', 'top_3_sum_21days', 'top_4_sum_21days', 'top_5_sum_21days', 'top_6_sum_21days', 'top_7_sum_21days', 'top_8_sum_21days', 'top_9_sum_21days', 'top_10_sum_21days', 'android_max_21days', 'smarttv_max_21days', 'iphone_max_21days', 'ipad_max_21days', 'apple_max_21days', 'pc_max_21days', 'time_spent_sum_30days', 'time_spent_max_30days', 'num_title_ep_sum_30days', 'num_title_ep_max_30days', 'num_title_ru_sum_30days', 'num_title_ru_max_30days', 'num_country_max_30days', 'num_city_max_30days', 'other_content_sum_30days', 'top_1_sum_30days', 'top_2_sum_30days', 'top_3_sum_30days', 'top_4_sum_30days', 'top_5_sum_30days', 'top_6_sum_30days', 'top_7_sum_30days', 'top_8_sum_30days', 'top_9_sum_30days', 'top_10_sum_30days', 'android_max_30days', 'smarttv_max_30days', 'iphone_max_30days', 'ipad_max_30days', 'apple_max_30days', 'pc_max_30days', 'activity_1to3', 'activity_1to7', 'activity_1to14', 'activity_7to14', 'activity_7to21', 'activity_7to30', 'activity_14to30']\n",
      "5-fold CV is : 0.6385 +/- 0.0066\n"
     ]
    },
    {
     "name": "stderr",
     "output_type": "stream",
     "text": [
      "\n",
      "100%|████████████████████████████████| 141/141 [55:13<00:00, 23.50s/it]\n"
     ]
    },
    {
     "name": "stdout",
     "output_type": "stream",
     "text": [
      "Wall time: 55min 13s\n"
     ]
    }
   ],
   "source": [
    "%%time\n",
    "cv_scores = []\n",
    "features_to_use = former_feats[:]\n",
    "\n",
    "for new_feat in tqdm(new_feats):\n",
    "    print(f'adding feature {new_feat}')\n",
    "    features_to_use += [new_feat]\n",
    "    print(f'performing CV with features: {features_to_use}')\n",
    "\n",
    "    current_cv_scores = cross_val_score(clf, X[features_to_use].values, y, cv=skf, scoring='roc_auc')\n",
    "    print('5-fold CV is : {} +/- {}'.format(current_cv_scores.mean().round(4), \n",
    "                                            current_cv_scores.std().round(4)))\n",
    "    cv_scores.append(current_cv_scores)"
   ]
  },
  {
   "cell_type": "code",
   "execution_count": 20,
   "metadata": {},
   "outputs": [
    {
     "data": {
      "text/plain": [
       "[array([0.50375088, 0.51359142, 0.50019485, 0.50953056, 0.51051428]),\n",
       " array([0.57397112, 0.57395514, 0.57009944, 0.5713429 , 0.57729674]),\n",
       " array([0.57355507, 0.57386707, 0.57059648, 0.57074673, 0.57615252]),\n",
       " array([0.57405271, 0.57356016, 0.57092555, 0.57027942, 0.57624782]),\n",
       " array([0.57403638, 0.57355497, 0.57093775, 0.57025539, 0.5762631 ]),\n",
       " array([0.5752718 , 0.57439145, 0.57202727, 0.5719224 , 0.57635835]),\n",
       " array([0.57546449, 0.57472617, 0.5721494 , 0.57216661, 0.57655476]),\n",
       " array([0.57555894, 0.57493692, 0.57226129, 0.5723309 , 0.5766874 ]),\n",
       " array([0.57531899, 0.57492401, 0.57226819, 0.57233722, 0.57665065]),\n",
       " array([0.5912263 , 0.60019036, 0.59194265, 0.59882857, 0.58351529]),\n",
       " array([0.60357439, 0.59998276, 0.60201097, 0.59938495, 0.60297639]),\n",
       " array([0.60691631, 0.58494983, 0.60555961, 0.60770859, 0.59409706]),\n",
       " array([0.60701979, 0.60892527, 0.60367312, 0.59999446, 0.60737416]),\n",
       " array([0.60786959, 0.60686555, 0.60564958, 0.61166465, 0.60982237]),\n",
       " array([0.60918907, 0.60537818, 0.60593334, 0.6116972 , 0.61093766]),\n",
       " array([0.60616756, 0.60563945, 0.60709572, 0.61045503, 0.60715498]),\n",
       " array([0.60644667, 0.60485072, 0.60717972, 0.61191223, 0.60994653]),\n",
       " array([0.60932548, 0.60498585, 0.60716731, 0.611184  , 0.60725396]),\n",
       " array([0.60364758, 0.61065692, 0.60507638, 0.61285097, 0.60995425]),\n",
       " array([0.61134725, 0.60995383, 0.60396051, 0.6126846 , 0.60750072]),\n",
       " array([0.6112043 , 0.59876242, 0.60869064, 0.61297784, 0.61048095]),\n",
       " array([0.61149988, 0.60798544, 0.60534983, 0.61363763, 0.61103563]),\n",
       " array([0.61144303, 0.59923501, 0.60904783, 0.61389628, 0.61102333]),\n",
       " array([0.61158938, 0.5992316 , 0.60924641, 0.61370037, 0.61104815]),\n",
       " array([0.61194408, 0.5993162 , 0.60969523, 0.61272876, 0.60854333]),\n",
       " array([0.61192027, 0.60812217, 0.60959458, 0.61359952, 0.61071166]),\n",
       " array([0.61192357, 0.59929401, 0.6095643 , 0.61361204, 0.6107484 ]),\n",
       " array([0.6119304 , 0.59930214, 0.60950607, 0.61358349, 0.61063437]),\n",
       " array([0.61165898, 0.60963899, 0.60690457, 0.61123811, 0.60836849]),\n",
       " array([0.61132129, 0.61095442, 0.60673644, 0.61293016, 0.60832262]),\n",
       " array([0.6077426 , 0.6096072 , 0.60764559, 0.61381983, 0.60861075]),\n",
       " array([0.61184088, 0.60720577, 0.60768436, 0.6138905 , 0.60856882]),\n",
       " array([0.61219994, 0.60678303, 0.60987804, 0.61534746, 0.60887333]),\n",
       " array([0.6027889 , 0.60931272, 0.60665936, 0.61534838, 0.61038373]),\n",
       " array([0.61846466, 0.58846507, 0.62051362, 0.61825359, 0.61026366]),\n",
       " array([0.6006577 , 0.61709531, 0.615803  , 0.60339415, 0.5967842 ]),\n",
       " array([0.62190071, 0.60342944, 0.60982882, 0.59464701, 0.60478857]),\n",
       " array([0.62481917, 0.62529323, 0.6176549 , 0.59643609, 0.60705723]),\n",
       " array([0.62538011, 0.62235732, 0.62679505, 0.6312539 , 0.62783145]),\n",
       " array([0.63228768, 0.62743892, 0.62772825, 0.62642355, 0.63096912]),\n",
       " array([0.63376095, 0.62725758, 0.63049017, 0.62971643, 0.6183589 ]),\n",
       " array([0.63084812, 0.62669259, 0.6269264 , 0.63661773, 0.62901957]),\n",
       " array([0.62836876, 0.61440562, 0.62972664, 0.63560398, 0.62712999]),\n",
       " array([0.63196873, 0.6322363 , 0.6329962 , 0.63528077, 0.62588131]),\n",
       " array([0.63111875, 0.62786775, 0.61928638, 0.63778727, 0.6256649 ]),\n",
       " array([0.62056914, 0.62657983, 0.61946004, 0.62994658, 0.63096449]),\n",
       " array([0.6207784 , 0.6303834 , 0.62057018, 0.63070379, 0.61753662]),\n",
       " array([0.62608276, 0.62561971, 0.63063098, 0.63072643, 0.62738291]),\n",
       " array([0.62817075, 0.62950413, 0.62649151, 0.63398585, 0.61750056]),\n",
       " array([0.62089895, 0.62620154, 0.63111896, 0.63412999, 0.61757061]),\n",
       " array([0.62088652, 0.6178377 , 0.62261   , 0.63208732, 0.63123386]),\n",
       " array([0.6208864 , 0.6315722 , 0.62282835, 0.63104308, 0.62697698]),\n",
       " array([0.61949993, 0.62601363, 0.63024301, 0.63220129, 0.63154355]),\n",
       " array([0.62908361, 0.63159592, 0.62154036, 0.63586144, 0.62419889]),\n",
       " array([0.63237967, 0.62664453, 0.62156978, 0.62801463, 0.62431008]),\n",
       " array([0.63409244, 0.63020586, 0.62111699, 0.63728599, 0.6310131 ]),\n",
       " array([0.6343646 , 0.63169497, 0.62984965, 0.63435945, 0.63245144]),\n",
       " array([0.63166106, 0.61934648, 0.62170102, 0.62946225, 0.62647283]),\n",
       " array([0.62617358, 0.61944791, 0.62140571, 0.63201998, 0.63122621]),\n",
       " array([0.61002931, 0.60593344, 0.62756743, 0.63261433, 0.60412596]),\n",
       " array([0.62309947, 0.61965181, 0.61997213, 0.63102506, 0.60742523]),\n",
       " array([0.62767364, 0.6175758 , 0.6123274 , 0.61398099, 0.61034877]),\n",
       " array([0.62165002, 0.62501314, 0.62804422, 0.61158044, 0.62128992]),\n",
       " array([0.63030479, 0.63160437, 0.62744414, 0.61885286, 0.61594631]),\n",
       " array([0.63206793, 0.6342369 , 0.62555396, 0.630232  , 0.61615068]),\n",
       " array([0.62700227, 0.63146679, 0.63012742, 0.63642334, 0.62098125]),\n",
       " array([0.63490167, 0.62484419, 0.62165134, 0.63181022, 0.6250209 ]),\n",
       " array([0.62400125, 0.62920273, 0.62630456, 0.61844677, 0.61702552]),\n",
       " array([0.64454955, 0.6356365 , 0.63524262, 0.62766445, 0.63097533]),\n",
       " array([0.6306495 , 0.61938201, 0.6331268 , 0.63890393, 0.62403355]),\n",
       " array([0.62086875, 0.6284438 , 0.62126679, 0.62758488, 0.62299752]),\n",
       " array([0.63161757, 0.63057755, 0.6344651 , 0.6303424 , 0.6242645 ]),\n",
       " array([0.63644243, 0.62688945, 0.63330711, 0.63367741, 0.63103729]),\n",
       " array([0.64005732, 0.63693748, 0.63669093, 0.62888011, 0.62400347]),\n",
       " array([0.63843914, 0.62771613, 0.63495063, 0.63632176, 0.63306689]),\n",
       " array([0.63711134, 0.63156132, 0.63640348, 0.62143868, 0.62419496]),\n",
       " array([0.64073947, 0.62821581, 0.63433155, 0.63251199, 0.62093755]),\n",
       " array([0.63294791, 0.62932674, 0.63451022, 0.63917824, 0.61790119]),\n",
       " array([0.63108636, 0.62920692, 0.62816684, 0.6221076 , 0.63666393]),\n",
       " array([0.63258845, 0.63629877, 0.63487616, 0.63388354, 0.63438018]),\n",
       " array([0.63102376, 0.63066743, 0.63319844, 0.6230267 , 0.63939844]),\n",
       " array([0.63837799, 0.63749704, 0.6312424 , 0.64531917, 0.63189986]),\n",
       " array([0.63329723, 0.64296025, 0.62850845, 0.63576059, 0.63377331]),\n",
       " array([0.63862626, 0.62384038, 0.63536233, 0.63293495, 0.6165657 ]),\n",
       " array([0.63707587, 0.63205035, 0.63147948, 0.63635511, 0.62311868]),\n",
       " array([0.63310202, 0.62847432, 0.63123683, 0.62972739, 0.62702748]),\n",
       " array([0.62962737, 0.62405842, 0.634191  , 0.6263251 , 0.62000127]),\n",
       " array([0.63010322, 0.62411423, 0.63412813, 0.62574493, 0.6193855 ]),\n",
       " array([0.63110157, 0.63650704, 0.62622215, 0.62792938, 0.6212683 ]),\n",
       " array([0.643659  , 0.62596236, 0.63991261, 0.62795592, 0.62367417]),\n",
       " array([0.62912914, 0.63320595, 0.62710016, 0.63651962, 0.62367529]),\n",
       " array([0.63200712, 0.632312  , 0.63614622, 0.63879062, 0.62257259]),\n",
       " array([0.6452891 , 0.62549498, 0.63397198, 0.63714702, 0.62163553]),\n",
       " array([0.64276967, 0.64027265, 0.62882811, 0.63061983, 0.62195908]),\n",
       " array([0.62855769, 0.62417317, 0.62651866, 0.62831458, 0.62208311]),\n",
       " array([0.62939721, 0.62596411, 0.63280081, 0.62951231, 0.63000059]),\n",
       " array([0.63443061, 0.62447096, 0.62653196, 0.62967663, 0.6229412 ]),\n",
       " array([0.62910769, 0.62881133, 0.6371863 , 0.63099134, 0.62327684]),\n",
       " array([0.6300363 , 0.62489276, 0.63547839, 0.62858114, 0.62317802]),\n",
       " array([0.62921904, 0.63114218, 0.63598804, 0.62982029, 0.632041  ]),\n",
       " array([0.64391645, 0.64198412, 0.62664915, 0.63968136, 0.6346794 ]),\n",
       " array([0.64168169, 0.63098422, 0.63458788, 0.62881253, 0.6218213 ]),\n",
       " array([0.64175166, 0.64269805, 0.627481  , 0.63227137, 0.6381532 ]),\n",
       " array([0.62990356, 0.62896402, 0.63168395, 0.64270959, 0.62996018]),\n",
       " array([0.63727555, 0.63279906, 0.62769957, 0.62881426, 0.62789886]),\n",
       " array([0.63089426, 0.63781543, 0.62758569, 0.64120786, 0.63716846]),\n",
       " array([0.63131665, 0.63000051, 0.63845511, 0.64703135, 0.62418349]),\n",
       " array([0.64412093, 0.62868855, 0.63883596, 0.63676506, 0.63057229]),\n",
       " array([0.63260813, 0.63321353, 0.63429709, 0.64298176, 0.62498604]),\n",
       " array([0.63129598, 0.62870589, 0.63501382, 0.65009807, 0.62489864]),\n",
       " array([0.63269355, 0.63014348, 0.63995625, 0.64300236, 0.62582479]),\n",
       " array([0.64253465, 0.62844788, 0.62879492, 0.63132604, 0.62858227]),\n",
       " array([0.64336951, 0.64126782, 0.63421392, 0.64042675, 0.6245643 ]),\n",
       " array([0.63883994, 0.62801663, 0.62849631, 0.64803853, 0.62706398]),\n",
       " array([0.64265721, 0.62802894, 0.63077565, 0.63225925, 0.62513624]),\n",
       " array([0.6326058 , 0.63010241, 0.64097782, 0.63163674, 0.62505629]),\n",
       " array([0.63239967, 0.63154373, 0.63714534, 0.63258956, 0.62570675]),\n",
       " array([0.63087277, 0.62846466, 0.63021407, 0.63170757, 0.62664965]),\n",
       " array([0.63364984, 0.63270252, 0.63341656, 0.63192773, 0.63047534]),\n",
       " array([0.63213601, 0.64064186, 0.64704501, 0.6304493 , 0.62564029]),\n",
       " array([0.63542266, 0.62661039, 0.63267666, 0.63405768, 0.62566881]),\n",
       " array([0.64341513, 0.62517581, 0.62833431, 0.63547291, 0.64260313]),\n",
       " array([0.64344096, 0.6311639 , 0.62841134, 0.63003001, 0.63238647]),\n",
       " array([0.64659032, 0.64494777, 0.62841692, 0.63434193, 0.62381988]),\n",
       " array([0.64383833, 0.62939908, 0.63063694, 0.63522966, 0.6251507 ]),\n",
       " array([0.6462372 , 0.62667272, 0.64081769, 0.6308265 , 0.6349708 ]),\n",
       " array([0.64501839, 0.63136435, 0.64210982, 0.63459663, 0.62935565]),\n",
       " array([0.63059727, 0.62784262, 0.64070641, 0.63158486, 0.62460345]),\n",
       " array([0.63110961, 0.62778543, 0.63095282, 0.63525024, 0.63528157]),\n",
       " array([0.63986451, 0.6318196 , 0.63735281, 0.63113605, 0.63905198]),\n",
       " array([0.64514151, 0.63184379, 0.6318872 , 0.64007342, 0.62655986]),\n",
       " array([0.63313885, 0.63270978, 0.6342017 , 0.6395592 , 0.62704876]),\n",
       " array([0.64513133, 0.64518942, 0.63092631, 0.63275448, 0.62833992]),\n",
       " array([0.64850739, 0.63516268, 0.63952106, 0.63227982, 0.62704905]),\n",
       " array([0.64784421, 0.63036872, 0.64334871, 0.63338442, 0.63263809]),\n",
       " array([0.64801269, 0.63024859, 0.64885503, 0.63368278, 0.62852487]),\n",
       " array([0.63398561, 0.63468985, 0.63783353, 0.63283877, 0.63316606]),\n",
       " array([0.63943386, 0.62853499, 0.63891854, 0.63353041, 0.63138101]),\n",
       " array([0.64601058, 0.6338399 , 0.63372263, 0.63379201, 0.62769433]),\n",
       " array([0.64085389, 0.63511642, 0.64241504, 0.64943185, 0.62932049]),\n",
       " array([0.64124433, 0.63542937, 0.64846114, 0.63913098, 0.62831717])]"
      ]
     },
     "execution_count": 20,
     "metadata": {},
     "output_type": "execute_result"
    }
   ],
   "source": [
    "cv_scores"
   ]
  },
  {
   "cell_type": "code",
   "execution_count": 27,
   "metadata": {},
   "outputs": [],
   "source": [
    "f = open('cvs_linear','w')\n",
    "for i, cv in enumerate(cv_scores):\n",
    "    f.write(str(cv.mean())+ '\\n')\n",
    "f.close()"
   ]
  },
  {
   "cell_type": "code",
   "execution_count": 1,
   "metadata": {},
   "outputs": [],
   "source": [
    "#load results\n",
    "cv_mean_loaded = []\n",
    "f = open('cvs_linear','r')\n",
    "for line in f.readlines():\n",
    "    cv_mean_loaded.append(float(line[:-2:]))\n",
    "f.close()"
   ]
  },
  {
   "cell_type": "code",
   "execution_count": 12,
   "metadata": {},
   "outputs": [],
   "source": [
    "best_index = []\n",
    "increase = []\n",
    "for i in range(1,len(cv_mean_loaded)):\n",
    "    diff = cv_mean_loaded[i] - cv_mean_loaded[i-1]\n",
    "    increase.append(diff)\n",
    "    if diff > 0.001:\n",
    "        #print(cv_scores[i].mean().round(4))\n",
    "        best_index.append(i)"
   ]
  },
  {
   "cell_type": "code",
   "execution_count": 13,
   "metadata": {},
   "outputs": [
    {
     "data": {
      "text/plain": [
       "(-0.010000583407854036, 0.0009357156879893643, 0.06581666693919008)"
      ]
     },
     "execution_count": 13,
     "metadata": {},
     "output_type": "execute_result"
    }
   ],
   "source": [
    "min(increase), np.mean(increase), max(increase)"
   ]
  },
  {
   "cell_type": "code",
   "execution_count": 14,
   "metadata": {},
   "outputs": [
    {
     "data": {
      "text/plain": [
       "Index(['num_country_max_1days', 'time_spent_sum_3days', 'time_spent_max_3days',\n",
       "       'num_title_ep_max_3days', 'num_title_ru_sum_3days', 'top_4_sum_3days',\n",
       "       'top_8_sum_3days', 'time_spent_sum_7days', 'num_title_ep_max_7days',\n",
       "       'num_title_ru_sum_7days', 'num_title_ru_max_7days',\n",
       "       'num_city_max_7days', 'top_1_sum_7days', 'top_5_sum_7days',\n",
       "       'top_9_sum_7days', 'top_10_sum_7days', 'iphone_max_7days',\n",
       "       'ipad_max_7days', 'time_spent_max_14days', 'num_title_ep_max_14days',\n",
       "       'num_title_ru_sum_14days', 'num_title_ru_max_14days',\n",
       "       'num_country_max_14days', 'top_1_sum_14days', 'top_4_sum_14days',\n",
       "       'top_5_sum_14days', 'top_6_sum_14days', 'top_9_sum_14days',\n",
       "       'smarttv_max_14days', 'ipad_max_14days', 'time_spent_sum_21days',\n",
       "       'num_title_ru_sum_21days', 'num_title_ru_max_21days',\n",
       "       'num_city_max_21days', 'top_3_sum_21days', 'top_5_sum_21days',\n",
       "       'top_7_sum_21days', 'top_8_sum_21days', 'top_10_sum_21days',\n",
       "       'iphone_max_21days', 'apple_max_21days', 'num_title_ep_max_30days',\n",
       "       'top_1_sum_30days', 'top_2_sum_30days', 'top_4_sum_30days',\n",
       "       'top_6_sum_30days', 'top_8_sum_30days', 'android_max_30days',\n",
       "       'smarttv_max_30days', 'apple_max_30days', 'activity_1to3',\n",
       "       'activity_7to30'],\n",
       "      dtype='object')"
      ]
     },
     "execution_count": 14,
     "metadata": {},
     "output_type": "execute_result"
    }
   ],
   "source": [
    "new_feats[best_index]"
   ]
  },
  {
   "cell_type": "code",
   "execution_count": 15,
   "metadata": {},
   "outputs": [],
   "source": [
    "features_to_use = new_feats[best_index]"
   ]
  },
  {
   "cell_type": "code",
   "execution_count": 16,
   "metadata": {},
   "outputs": [
    {
     "name": "stdout",
     "output_type": "stream",
     "text": [
      "Wall time: 14.1 s\n"
     ]
    },
    {
     "data": {
      "text/plain": [
       "(array([0.63644788, 0.64151894, 0.63324902, 0.6400884 , 0.63233957]),\n",
       " 0.6367287645062726)"
      ]
     },
     "execution_count": 16,
     "metadata": {},
     "output_type": "execute_result"
    }
   ],
   "source": [
    "%%time\n",
    "# cv на выбранных фичах\n",
    "initial_cv_scores = cross_val_score(clf, X[features_to_use].values, y, cv=skf, scoring='roc_auc')\n",
    "initial_cv_scores, initial_cv_scores.mean()"
   ]
  },
  {
   "cell_type": "code",
   "execution_count": 18,
   "metadata": {},
   "outputs": [
    {
     "data": {
      "text/plain": [
       "0.6390866391096963"
      ]
     },
     "execution_count": 18,
     "metadata": {},
     "output_type": "execute_result"
    }
   ],
   "source": [
    "# roc-auc на холдауте при всех фичах\n",
    "clf.fit(X,y)\n",
    "roc_auc_score(y_holdout, clf.predict_proba(X_holdout)[:,1])"
   ]
  },
  {
   "cell_type": "code",
   "execution_count": 19,
   "metadata": {},
   "outputs": [
    {
     "data": {
      "text/plain": [
       "0.6432923893905254"
      ]
     },
     "execution_count": 19,
     "metadata": {},
     "output_type": "execute_result"
    }
   ],
   "source": [
    "# roc-auc на холдауте при ВЫБРАННЫХ фичах\n",
    "clf1 = LogisticRegression(solver='liblinear', random_state=17)\n",
    "clf1.fit(X[features_to_use],y)\n",
    "roc_auc_score(y_holdout, clf1.predict_proba(X_holdout[features_to_use])[:,1])"
   ]
  },
  {
   "cell_type": "markdown",
   "metadata": {},
   "source": [
    "### вывод\n",
    "При удалении некоторых фич, мы <b>получили</b> улучшения метрики на holdout.  \n",
    "Для линейной модели используем только выбранные фичи"
   ]
  },
  {
   "cell_type": "code",
   "execution_count": null,
   "metadata": {},
   "outputs": [],
   "source": []
  }
 ],
 "metadata": {
  "kernelspec": {
   "display_name": "Python 3",
   "language": "python",
   "name": "python3"
  },
  "language_info": {
   "codemirror_mode": {
    "name": "ipython",
    "version": 3
   },
   "file_extension": ".py",
   "mimetype": "text/x-python",
   "name": "python",
   "nbconvert_exporter": "python",
   "pygments_lexer": "ipython3",
   "version": "3.7.4"
  }
 },
 "nbformat": 4,
 "nbformat_minor": 2
}
