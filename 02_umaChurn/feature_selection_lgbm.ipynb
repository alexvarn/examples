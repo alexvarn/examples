{
 "cells": [
  {
   "cell_type": "code",
   "execution_count": 29,
   "metadata": {},
   "outputs": [],
   "source": [
    "import os\n",
    "import numpy as np\n",
    "import pandas as pd\n",
    "from tqdm import tqdm\n",
    "\n",
    "from sklearn.model_selection import train_test_split, cross_val_score, StratifiedKFold\n",
    "from sklearn.linear_model import LogisticRegression, Lasso, Ridge\n",
    "from sklearn.preprocessing import StandardScaler\n",
    "from sklearn.metrics import roc_auc_score\n",
    "\n",
    "from lightgbm import LGBMClassifier"
   ]
  },
  {
   "cell_type": "code",
   "execution_count": 37,
   "metadata": {},
   "outputs": [],
   "source": [
    "skf = StratifiedKFold(n_splits=5, shuffle=True, random_state=17)\n",
    "clf = LGBMClassifier(n_estimators=100)"
   ]
  },
  {
   "cell_type": "code",
   "execution_count": 30,
   "metadata": {},
   "outputs": [],
   "source": [
    "PATH = 'Churn_task/'\n",
    "train = pd.read_csv(PATH + 'TRAIN_PREPARED.csv')"
   ]
  },
  {
   "cell_type": "code",
   "execution_count": 31,
   "metadata": {},
   "outputs": [],
   "source": [
    "train_sorted = train.sort_values(by='email').reset_index().drop('index', axis=1)\n",
    "\n",
    "X = train_sorted[:153007].drop(['cut_date', 'first_date', 'last_date','email','label'], axis=1)\n",
    "y = train_sorted[:153007]['label']\n",
    "X_holdout = train_sorted[153007:].drop(['cut_date', 'first_date', 'last_date','email','label'], axis=1)\n",
    "y_holdout = train_sorted[153007:]['label']"
   ]
  },
  {
   "cell_type": "code",
   "execution_count": 32,
   "metadata": {},
   "outputs": [],
   "source": [
    "former_feats = []\n",
    "new_feats = train.drop(['cut_date', 'first_date', 'last_date','email','label'], axis=1).columns"
   ]
  },
  {
   "cell_type": "code",
   "execution_count": 12,
   "metadata": {
    "scrolled": false
   },
   "outputs": [
    {
     "name": "stderr",
     "output_type": "stream",
     "text": [
      "\n",
      "  0%|                                          | 0/141 [00:00<?, ?it/s]"
     ]
    },
    {
     "name": "stdout",
     "output_type": "stream",
     "text": [
      "adding feature days_to_end\n",
      "performing CV with features: ['days_to_end']\n",
      "5-fold CV is : 0.5082 +/- 0.0026\n"
     ]
    },
    {
     "name": "stderr",
     "output_type": "stream",
     "text": [
      "\n",
      "  1%|▏                                 | 1/141 [00:02<05:56,  2.54s/it]"
     ]
    },
    {
     "name": "stdout",
     "output_type": "stream",
     "text": [
      "adding feature num_country_max_1days\n",
      "performing CV with features: ['days_to_end', 'num_country_max_1days']\n",
      "5-fold CV is : 0.5783 +/- 0.0038\n"
     ]
    },
    {
     "name": "stderr",
     "output_type": "stream",
     "text": [
      "\n",
      "  1%|▍                                 | 2/141 [00:05<06:19,  2.73s/it]"
     ]
    },
    {
     "name": "stdout",
     "output_type": "stream",
     "text": [
      "adding feature num_city_max_1days\n",
      "performing CV with features: ['days_to_end', 'num_country_max_1days', 'num_city_max_1days']\n",
      "5-fold CV is : 0.578 +/- 0.0034\n"
     ]
    },
    {
     "name": "stderr",
     "output_type": "stream",
     "text": [
      "\n",
      "  2%|▋                                 | 3/141 [00:08<06:26,  2.80s/it]"
     ]
    },
    {
     "name": "stdout",
     "output_type": "stream",
     "text": [
      "adding feature android_max_1days\n",
      "performing CV with features: ['days_to_end', 'num_country_max_1days', 'num_city_max_1days', 'android_max_1days']\n",
      "5-fold CV is : 0.5778 +/- 0.0039\n"
     ]
    },
    {
     "name": "stderr",
     "output_type": "stream",
     "text": [
      "\n",
      "  3%|▉                                 | 4/141 [00:12<06:45,  2.96s/it]"
     ]
    },
    {
     "name": "stdout",
     "output_type": "stream",
     "text": [
      "adding feature smarttv_max_1days\n",
      "performing CV with features: ['days_to_end', 'num_country_max_1days', 'num_city_max_1days', 'android_max_1days', 'smarttv_max_1days']\n",
      "5-fold CV is : 0.5776 +/- 0.004\n"
     ]
    },
    {
     "name": "stderr",
     "output_type": "stream",
     "text": [
      "\n",
      "  4%|█▏                                | 5/141 [00:15<06:51,  3.03s/it]"
     ]
    },
    {
     "name": "stdout",
     "output_type": "stream",
     "text": [
      "adding feature iphone_max_1days\n",
      "performing CV with features: ['days_to_end', 'num_country_max_1days', 'num_city_max_1days', 'android_max_1days', 'smarttv_max_1days', 'iphone_max_1days']\n",
      "5-fold CV is : 0.5782 +/- 0.004\n"
     ]
    },
    {
     "name": "stderr",
     "output_type": "stream",
     "text": [
      "\n",
      "  4%|█▍                                | 6/141 [00:18<06:57,  3.09s/it]"
     ]
    },
    {
     "name": "stdout",
     "output_type": "stream",
     "text": [
      "adding feature ipad_max_1days\n",
      "performing CV with features: ['days_to_end', 'num_country_max_1days', 'num_city_max_1days', 'android_max_1days', 'smarttv_max_1days', 'iphone_max_1days', 'ipad_max_1days']\n",
      "5-fold CV is : 0.5786 +/- 0.0041\n"
     ]
    },
    {
     "name": "stderr",
     "output_type": "stream",
     "text": [
      "\n",
      "  5%|█▋                                | 7/141 [00:21<07:04,  3.16s/it]"
     ]
    },
    {
     "name": "stdout",
     "output_type": "stream",
     "text": [
      "adding feature apple_max_1days\n",
      "performing CV with features: ['days_to_end', 'num_country_max_1days', 'num_city_max_1days', 'android_max_1days', 'smarttv_max_1days', 'iphone_max_1days', 'ipad_max_1days', 'apple_max_1days']\n",
      "5-fold CV is : 0.579 +/- 0.0039\n"
     ]
    },
    {
     "name": "stderr",
     "output_type": "stream",
     "text": [
      "\n",
      "  6%|█▉                                | 8/141 [00:25<07:04,  3.19s/it]"
     ]
    },
    {
     "name": "stdout",
     "output_type": "stream",
     "text": [
      "adding feature pc_max_1days\n",
      "performing CV with features: ['days_to_end', 'num_country_max_1days', 'num_city_max_1days', 'android_max_1days', 'smarttv_max_1days', 'iphone_max_1days', 'ipad_max_1days', 'apple_max_1days', 'pc_max_1days']\n",
      "5-fold CV is : 0.5794 +/- 0.0041\n"
     ]
    },
    {
     "name": "stderr",
     "output_type": "stream",
     "text": [
      "\n",
      "  6%|██▏                               | 9/141 [00:28<07:05,  3.23s/it]"
     ]
    },
    {
     "name": "stdout",
     "output_type": "stream",
     "text": [
      "adding feature time_spent_sum_3days\n",
      "performing CV with features: ['days_to_end', 'num_country_max_1days', 'num_city_max_1days', 'android_max_1days', 'smarttv_max_1days', 'iphone_max_1days', 'ipad_max_1days', 'apple_max_1days', 'pc_max_1days', 'time_spent_sum_3days']\n",
      "5-fold CV is : 0.614 +/- 0.0024\n"
     ]
    },
    {
     "name": "stderr",
     "output_type": "stream",
     "text": [
      "\n",
      "  7%|██▎                              | 10/141 [00:31<06:56,  3.18s/it]"
     ]
    },
    {
     "name": "stdout",
     "output_type": "stream",
     "text": [
      "adding feature time_spent_max_3days\n",
      "performing CV with features: ['days_to_end', 'num_country_max_1days', 'num_city_max_1days', 'android_max_1days', 'smarttv_max_1days', 'iphone_max_1days', 'ipad_max_1days', 'apple_max_1days', 'pc_max_1days', 'time_spent_sum_3days', 'time_spent_max_3days']\n",
      "5-fold CV is : 0.6167 +/- 0.002\n"
     ]
    },
    {
     "name": "stderr",
     "output_type": "stream",
     "text": [
      "\n",
      "  8%|██▌                              | 11/141 [00:34<06:58,  3.22s/it]"
     ]
    },
    {
     "name": "stdout",
     "output_type": "stream",
     "text": [
      "adding feature num_title_ep_sum_3days\n",
      "performing CV with features: ['days_to_end', 'num_country_max_1days', 'num_city_max_1days', 'android_max_1days', 'smarttv_max_1days', 'iphone_max_1days', 'ipad_max_1days', 'apple_max_1days', 'pc_max_1days', 'time_spent_sum_3days', 'time_spent_max_3days', 'num_title_ep_sum_3days']\n",
      "5-fold CV is : 0.6176 +/- 0.0012\n"
     ]
    },
    {
     "name": "stderr",
     "output_type": "stream",
     "text": [
      "\n",
      "  9%|██▊                              | 12/141 [00:38<06:59,  3.25s/it]"
     ]
    },
    {
     "name": "stdout",
     "output_type": "stream",
     "text": [
      "adding feature num_title_ep_max_3days\n",
      "performing CV with features: ['days_to_end', 'num_country_max_1days', 'num_city_max_1days', 'android_max_1days', 'smarttv_max_1days', 'iphone_max_1days', 'ipad_max_1days', 'apple_max_1days', 'pc_max_1days', 'time_spent_sum_3days', 'time_spent_max_3days', 'num_title_ep_sum_3days', 'num_title_ep_max_3days']\n",
      "5-fold CV is : 0.6189 +/- 0.0013\n"
     ]
    },
    {
     "name": "stderr",
     "output_type": "stream",
     "text": [
      "\n",
      "  9%|███                              | 13/141 [00:41<07:08,  3.35s/it]"
     ]
    },
    {
     "name": "stdout",
     "output_type": "stream",
     "text": [
      "adding feature num_title_ru_sum_3days\n",
      "performing CV with features: ['days_to_end', 'num_country_max_1days', 'num_city_max_1days', 'android_max_1days', 'smarttv_max_1days', 'iphone_max_1days', 'ipad_max_1days', 'apple_max_1days', 'pc_max_1days', 'time_spent_sum_3days', 'time_spent_max_3days', 'num_title_ep_sum_3days', 'num_title_ep_max_3days', 'num_title_ru_sum_3days']\n",
      "5-fold CV is : 0.6198 +/- 0.0016\n"
     ]
    },
    {
     "name": "stderr",
     "output_type": "stream",
     "text": [
      "\n",
      " 10%|███▎                             | 14/141 [00:45<07:15,  3.43s/it]"
     ]
    },
    {
     "name": "stdout",
     "output_type": "stream",
     "text": [
      "adding feature num_title_ru_max_3days\n",
      "performing CV with features: ['days_to_end', 'num_country_max_1days', 'num_city_max_1days', 'android_max_1days', 'smarttv_max_1days', 'iphone_max_1days', 'ipad_max_1days', 'apple_max_1days', 'pc_max_1days', 'time_spent_sum_3days', 'time_spent_max_3days', 'num_title_ep_sum_3days', 'num_title_ep_max_3days', 'num_title_ru_sum_3days', 'num_title_ru_max_3days']\n",
      "5-fold CV is : 0.6204 +/- 0.0019\n"
     ]
    },
    {
     "name": "stderr",
     "output_type": "stream",
     "text": [
      "\n",
      " 11%|███▌                             | 15/141 [00:49<07:27,  3.55s/it]"
     ]
    },
    {
     "name": "stdout",
     "output_type": "stream",
     "text": [
      "adding feature num_country_max_3days\n",
      "performing CV with features: ['days_to_end', 'num_country_max_1days', 'num_city_max_1days', 'android_max_1days', 'smarttv_max_1days', 'iphone_max_1days', 'ipad_max_1days', 'apple_max_1days', 'pc_max_1days', 'time_spent_sum_3days', 'time_spent_max_3days', 'num_title_ep_sum_3days', 'num_title_ep_max_3days', 'num_title_ru_sum_3days', 'num_title_ru_max_3days', 'num_country_max_3days']\n",
      "5-fold CV is : 0.6206 +/- 0.0023\n"
     ]
    },
    {
     "name": "stderr",
     "output_type": "stream",
     "text": [
      "\n",
      " 11%|███▋                             | 16/141 [00:53<07:38,  3.67s/it]"
     ]
    },
    {
     "name": "stdout",
     "output_type": "stream",
     "text": [
      "adding feature num_city_max_3days\n",
      "performing CV with features: ['days_to_end', 'num_country_max_1days', 'num_city_max_1days', 'android_max_1days', 'smarttv_max_1days', 'iphone_max_1days', 'ipad_max_1days', 'apple_max_1days', 'pc_max_1days', 'time_spent_sum_3days', 'time_spent_max_3days', 'num_title_ep_sum_3days', 'num_title_ep_max_3days', 'num_title_ru_sum_3days', 'num_title_ru_max_3days', 'num_country_max_3days', 'num_city_max_3days']\n",
      "5-fold CV is : 0.6231 +/- 0.0018\n"
     ]
    },
    {
     "name": "stderr",
     "output_type": "stream",
     "text": [
      "\n",
      " 12%|███▉                             | 17/141 [00:56<07:41,  3.72s/it]"
     ]
    },
    {
     "name": "stdout",
     "output_type": "stream",
     "text": [
      "adding feature other_content_sum_3days\n",
      "performing CV with features: ['days_to_end', 'num_country_max_1days', 'num_city_max_1days', 'android_max_1days', 'smarttv_max_1days', 'iphone_max_1days', 'ipad_max_1days', 'apple_max_1days', 'pc_max_1days', 'time_spent_sum_3days', 'time_spent_max_3days', 'num_title_ep_sum_3days', 'num_title_ep_max_3days', 'num_title_ru_sum_3days', 'num_title_ru_max_3days', 'num_country_max_3days', 'num_city_max_3days', 'other_content_sum_3days']\n",
      "5-fold CV is : 0.6237 +/- 0.002\n"
     ]
    },
    {
     "name": "stderr",
     "output_type": "stream",
     "text": [
      "\n",
      " 13%|████▏                            | 18/141 [01:00<07:43,  3.77s/it]"
     ]
    },
    {
     "name": "stdout",
     "output_type": "stream",
     "text": [
      "adding feature top_1_sum_3days\n",
      "performing CV with features: ['days_to_end', 'num_country_max_1days', 'num_city_max_1days', 'android_max_1days', 'smarttv_max_1days', 'iphone_max_1days', 'ipad_max_1days', 'apple_max_1days', 'pc_max_1days', 'time_spent_sum_3days', 'time_spent_max_3days', 'num_title_ep_sum_3days', 'num_title_ep_max_3days', 'num_title_ru_sum_3days', 'num_title_ru_max_3days', 'num_country_max_3days', 'num_city_max_3days', 'other_content_sum_3days', 'top_1_sum_3days']\n",
      "5-fold CV is : 0.6241 +/- 0.0022\n"
     ]
    },
    {
     "name": "stderr",
     "output_type": "stream",
     "text": [
      "\n",
      " 13%|████▍                            | 19/141 [01:04<07:57,  3.91s/it]"
     ]
    },
    {
     "name": "stdout",
     "output_type": "stream",
     "text": [
      "adding feature top_2_sum_3days\n",
      "performing CV with features: ['days_to_end', 'num_country_max_1days', 'num_city_max_1days', 'android_max_1days', 'smarttv_max_1days', 'iphone_max_1days', 'ipad_max_1days', 'apple_max_1days', 'pc_max_1days', 'time_spent_sum_3days', 'time_spent_max_3days', 'num_title_ep_sum_3days', 'num_title_ep_max_3days', 'num_title_ru_sum_3days', 'num_title_ru_max_3days', 'num_country_max_3days', 'num_city_max_3days', 'other_content_sum_3days', 'top_1_sum_3days', 'top_2_sum_3days']\n",
      "5-fold CV is : 0.6247 +/- 0.0018\n"
     ]
    },
    {
     "name": "stderr",
     "output_type": "stream",
     "text": [
      "\n",
      " 14%|████▋                            | 20/141 [01:09<08:05,  4.01s/it]"
     ]
    },
    {
     "name": "stdout",
     "output_type": "stream",
     "text": [
      "adding feature top_3_sum_3days\n",
      "performing CV with features: ['days_to_end', 'num_country_max_1days', 'num_city_max_1days', 'android_max_1days', 'smarttv_max_1days', 'iphone_max_1days', 'ipad_max_1days', 'apple_max_1days', 'pc_max_1days', 'time_spent_sum_3days', 'time_spent_max_3days', 'num_title_ep_sum_3days', 'num_title_ep_max_3days', 'num_title_ru_sum_3days', 'num_title_ru_max_3days', 'num_country_max_3days', 'num_city_max_3days', 'other_content_sum_3days', 'top_1_sum_3days', 'top_2_sum_3days', 'top_3_sum_3days']\n",
      "5-fold CV is : 0.6253 +/- 0.0024\n"
     ]
    },
    {
     "name": "stderr",
     "output_type": "stream",
     "text": [
      "\n",
      " 15%|████▉                            | 21/141 [01:13<08:25,  4.21s/it]"
     ]
    },
    {
     "name": "stdout",
     "output_type": "stream",
     "text": [
      "adding feature top_4_sum_3days\n",
      "performing CV with features: ['days_to_end', 'num_country_max_1days', 'num_city_max_1days', 'android_max_1days', 'smarttv_max_1days', 'iphone_max_1days', 'ipad_max_1days', 'apple_max_1days', 'pc_max_1days', 'time_spent_sum_3days', 'time_spent_max_3days', 'num_title_ep_sum_3days', 'num_title_ep_max_3days', 'num_title_ru_sum_3days', 'num_title_ru_max_3days', 'num_country_max_3days', 'num_city_max_3days', 'other_content_sum_3days', 'top_1_sum_3days', 'top_2_sum_3days', 'top_3_sum_3days', 'top_4_sum_3days']\n",
      "5-fold CV is : 0.6255 +/- 0.0022\n"
     ]
    },
    {
     "name": "stderr",
     "output_type": "stream",
     "text": [
      "\n",
      " 16%|█████▏                           | 22/141 [01:18<08:40,  4.37s/it]"
     ]
    },
    {
     "name": "stdout",
     "output_type": "stream",
     "text": [
      "adding feature top_5_sum_3days\n",
      "performing CV with features: ['days_to_end', 'num_country_max_1days', 'num_city_max_1days', 'android_max_1days', 'smarttv_max_1days', 'iphone_max_1days', 'ipad_max_1days', 'apple_max_1days', 'pc_max_1days', 'time_spent_sum_3days', 'time_spent_max_3days', 'num_title_ep_sum_3days', 'num_title_ep_max_3days', 'num_title_ru_sum_3days', 'num_title_ru_max_3days', 'num_country_max_3days', 'num_city_max_3days', 'other_content_sum_3days', 'top_1_sum_3days', 'top_2_sum_3days', 'top_3_sum_3days', 'top_4_sum_3days', 'top_5_sum_3days']\n",
      "5-fold CV is : 0.626 +/- 0.002\n"
     ]
    },
    {
     "name": "stderr",
     "output_type": "stream",
     "text": [
      "\n",
      " 16%|█████▍                           | 23/141 [01:23<08:55,  4.54s/it]"
     ]
    },
    {
     "name": "stdout",
     "output_type": "stream",
     "text": [
      "adding feature top_6_sum_3days\n",
      "performing CV with features: ['days_to_end', 'num_country_max_1days', 'num_city_max_1days', 'android_max_1days', 'smarttv_max_1days', 'iphone_max_1days', 'ipad_max_1days', 'apple_max_1days', 'pc_max_1days', 'time_spent_sum_3days', 'time_spent_max_3days', 'num_title_ep_sum_3days', 'num_title_ep_max_3days', 'num_title_ru_sum_3days', 'num_title_ru_max_3days', 'num_country_max_3days', 'num_city_max_3days', 'other_content_sum_3days', 'top_1_sum_3days', 'top_2_sum_3days', 'top_3_sum_3days', 'top_4_sum_3days', 'top_5_sum_3days', 'top_6_sum_3days']\n",
      "5-fold CV is : 0.6264 +/- 0.0018\n"
     ]
    },
    {
     "name": "stderr",
     "output_type": "stream",
     "text": [
      "\n",
      " 17%|█████▌                           | 24/141 [01:28<09:08,  4.69s/it]"
     ]
    },
    {
     "name": "stdout",
     "output_type": "stream",
     "text": [
      "adding feature top_7_sum_3days\n",
      "performing CV with features: ['days_to_end', 'num_country_max_1days', 'num_city_max_1days', 'android_max_1days', 'smarttv_max_1days', 'iphone_max_1days', 'ipad_max_1days', 'apple_max_1days', 'pc_max_1days', 'time_spent_sum_3days', 'time_spent_max_3days', 'num_title_ep_sum_3days', 'num_title_ep_max_3days', 'num_title_ru_sum_3days', 'num_title_ru_max_3days', 'num_country_max_3days', 'num_city_max_3days', 'other_content_sum_3days', 'top_1_sum_3days', 'top_2_sum_3days', 'top_3_sum_3days', 'top_4_sum_3days', 'top_5_sum_3days', 'top_6_sum_3days', 'top_7_sum_3days']\n",
      "5-fold CV is : 0.6269 +/- 0.0014\n"
     ]
    },
    {
     "name": "stderr",
     "output_type": "stream",
     "text": [
      "\n",
      " 18%|█████▊                           | 25/141 [01:33<09:10,  4.75s/it]"
     ]
    },
    {
     "name": "stdout",
     "output_type": "stream",
     "text": [
      "adding feature top_8_sum_3days\n",
      "performing CV with features: ['days_to_end', 'num_country_max_1days', 'num_city_max_1days', 'android_max_1days', 'smarttv_max_1days', 'iphone_max_1days', 'ipad_max_1days', 'apple_max_1days', 'pc_max_1days', 'time_spent_sum_3days', 'time_spent_max_3days', 'num_title_ep_sum_3days', 'num_title_ep_max_3days', 'num_title_ru_sum_3days', 'num_title_ru_max_3days', 'num_country_max_3days', 'num_city_max_3days', 'other_content_sum_3days', 'top_1_sum_3days', 'top_2_sum_3days', 'top_3_sum_3days', 'top_4_sum_3days', 'top_5_sum_3days', 'top_6_sum_3days', 'top_7_sum_3days', 'top_8_sum_3days']\n",
      "5-fold CV is : 0.6274 +/- 0.0015\n"
     ]
    },
    {
     "name": "stderr",
     "output_type": "stream",
     "text": [
      "\n",
      " 18%|██████                           | 26/141 [01:38<09:17,  4.85s/it]"
     ]
    },
    {
     "name": "stdout",
     "output_type": "stream",
     "text": [
      "adding feature top_9_sum_3days\n",
      "performing CV with features: ['days_to_end', 'num_country_max_1days', 'num_city_max_1days', 'android_max_1days', 'smarttv_max_1days', 'iphone_max_1days', 'ipad_max_1days', 'apple_max_1days', 'pc_max_1days', 'time_spent_sum_3days', 'time_spent_max_3days', 'num_title_ep_sum_3days', 'num_title_ep_max_3days', 'num_title_ru_sum_3days', 'num_title_ru_max_3days', 'num_country_max_3days', 'num_city_max_3days', 'other_content_sum_3days', 'top_1_sum_3days', 'top_2_sum_3days', 'top_3_sum_3days', 'top_4_sum_3days', 'top_5_sum_3days', 'top_6_sum_3days', 'top_7_sum_3days', 'top_8_sum_3days', 'top_9_sum_3days']\n",
      "5-fold CV is : 0.6275 +/- 0.002\n"
     ]
    },
    {
     "name": "stderr",
     "output_type": "stream",
     "text": [
      "\n",
      " 19%|██████▎                          | 27/141 [01:44<09:42,  5.11s/it]"
     ]
    },
    {
     "name": "stdout",
     "output_type": "stream",
     "text": [
      "adding feature top_10_sum_3days\n",
      "performing CV with features: ['days_to_end', 'num_country_max_1days', 'num_city_max_1days', 'android_max_1days', 'smarttv_max_1days', 'iphone_max_1days', 'ipad_max_1days', 'apple_max_1days', 'pc_max_1days', 'time_spent_sum_3days', 'time_spent_max_3days', 'num_title_ep_sum_3days', 'num_title_ep_max_3days', 'num_title_ru_sum_3days', 'num_title_ru_max_3days', 'num_country_max_3days', 'num_city_max_3days', 'other_content_sum_3days', 'top_1_sum_3days', 'top_2_sum_3days', 'top_3_sum_3days', 'top_4_sum_3days', 'top_5_sum_3days', 'top_6_sum_3days', 'top_7_sum_3days', 'top_8_sum_3days', 'top_9_sum_3days', 'top_10_sum_3days']\n",
      "5-fold CV is : 0.6273 +/- 0.0022\n"
     ]
    },
    {
     "name": "stderr",
     "output_type": "stream",
     "text": [
      "\n",
      " 20%|██████▌                          | 28/141 [01:49<09:45,  5.19s/it]"
     ]
    },
    {
     "name": "stdout",
     "output_type": "stream",
     "text": [
      "adding feature android_max_3days\n",
      "performing CV with features: ['days_to_end', 'num_country_max_1days', 'num_city_max_1days', 'android_max_1days', 'smarttv_max_1days', 'iphone_max_1days', 'ipad_max_1days', 'apple_max_1days', 'pc_max_1days', 'time_spent_sum_3days', 'time_spent_max_3days', 'num_title_ep_sum_3days', 'num_title_ep_max_3days', 'num_title_ru_sum_3days', 'num_title_ru_max_3days', 'num_country_max_3days', 'num_city_max_3days', 'other_content_sum_3days', 'top_1_sum_3days', 'top_2_sum_3days', 'top_3_sum_3days', 'top_4_sum_3days', 'top_5_sum_3days', 'top_6_sum_3days', 'top_7_sum_3days', 'top_8_sum_3days', 'top_9_sum_3days', 'top_10_sum_3days', 'android_max_3days']\n",
      "5-fold CV is : 0.6293 +/- 0.0024\n"
     ]
    },
    {
     "name": "stderr",
     "output_type": "stream",
     "text": [
      "\n",
      " 21%|██████▊                          | 29/141 [01:55<09:49,  5.26s/it]"
     ]
    },
    {
     "name": "stdout",
     "output_type": "stream",
     "text": [
      "adding feature smarttv_max_3days\n",
      "performing CV with features: ['days_to_end', 'num_country_max_1days', 'num_city_max_1days', 'android_max_1days', 'smarttv_max_1days', 'iphone_max_1days', 'ipad_max_1days', 'apple_max_1days', 'pc_max_1days', 'time_spent_sum_3days', 'time_spent_max_3days', 'num_title_ep_sum_3days', 'num_title_ep_max_3days', 'num_title_ru_sum_3days', 'num_title_ru_max_3days', 'num_country_max_3days', 'num_city_max_3days', 'other_content_sum_3days', 'top_1_sum_3days', 'top_2_sum_3days', 'top_3_sum_3days', 'top_4_sum_3days', 'top_5_sum_3days', 'top_6_sum_3days', 'top_7_sum_3days', 'top_8_sum_3days', 'top_9_sum_3days', 'top_10_sum_3days', 'android_max_3days', 'smarttv_max_3days']\n",
      "5-fold CV is : 0.6301 +/- 0.0019\n"
     ]
    },
    {
     "name": "stderr",
     "output_type": "stream",
     "text": [
      "\n",
      " 21%|███████                          | 30/141 [02:00<09:43,  5.26s/it]"
     ]
    },
    {
     "name": "stdout",
     "output_type": "stream",
     "text": [
      "adding feature iphone_max_3days\n",
      "performing CV with features: ['days_to_end', 'num_country_max_1days', 'num_city_max_1days', 'android_max_1days', 'smarttv_max_1days', 'iphone_max_1days', 'ipad_max_1days', 'apple_max_1days', 'pc_max_1days', 'time_spent_sum_3days', 'time_spent_max_3days', 'num_title_ep_sum_3days', 'num_title_ep_max_3days', 'num_title_ru_sum_3days', 'num_title_ru_max_3days', 'num_country_max_3days', 'num_city_max_3days', 'other_content_sum_3days', 'top_1_sum_3days', 'top_2_sum_3days', 'top_3_sum_3days', 'top_4_sum_3days', 'top_5_sum_3days', 'top_6_sum_3days', 'top_7_sum_3days', 'top_8_sum_3days', 'top_9_sum_3days', 'top_10_sum_3days', 'android_max_3days', 'smarttv_max_3days', 'iphone_max_3days']\n",
      "5-fold CV is : 0.6309 +/- 0.0026\n"
     ]
    },
    {
     "name": "stderr",
     "output_type": "stream",
     "text": [
      "\n",
      " 22%|███████▎                         | 31/141 [02:05<09:44,  5.31s/it]"
     ]
    },
    {
     "name": "stdout",
     "output_type": "stream",
     "text": [
      "adding feature ipad_max_3days\n",
      "performing CV with features: ['days_to_end', 'num_country_max_1days', 'num_city_max_1days', 'android_max_1days', 'smarttv_max_1days', 'iphone_max_1days', 'ipad_max_1days', 'apple_max_1days', 'pc_max_1days', 'time_spent_sum_3days', 'time_spent_max_3days', 'num_title_ep_sum_3days', 'num_title_ep_max_3days', 'num_title_ru_sum_3days', 'num_title_ru_max_3days', 'num_country_max_3days', 'num_city_max_3days', 'other_content_sum_3days', 'top_1_sum_3days', 'top_2_sum_3days', 'top_3_sum_3days', 'top_4_sum_3days', 'top_5_sum_3days', 'top_6_sum_3days', 'top_7_sum_3days', 'top_8_sum_3days', 'top_9_sum_3days', 'top_10_sum_3days', 'android_max_3days', 'smarttv_max_3days', 'iphone_max_3days', 'ipad_max_3days']\n",
      "5-fold CV is : 0.6312 +/- 0.0024\n"
     ]
    },
    {
     "name": "stderr",
     "output_type": "stream",
     "text": [
      "\n",
      " 23%|███████▍                         | 32/141 [02:11<09:55,  5.47s/it]"
     ]
    },
    {
     "name": "stdout",
     "output_type": "stream",
     "text": [
      "adding feature apple_max_3days\n",
      "performing CV with features: ['days_to_end', 'num_country_max_1days', 'num_city_max_1days', 'android_max_1days', 'smarttv_max_1days', 'iphone_max_1days', 'ipad_max_1days', 'apple_max_1days', 'pc_max_1days', 'time_spent_sum_3days', 'time_spent_max_3days', 'num_title_ep_sum_3days', 'num_title_ep_max_3days', 'num_title_ru_sum_3days', 'num_title_ru_max_3days', 'num_country_max_3days', 'num_city_max_3days', 'other_content_sum_3days', 'top_1_sum_3days', 'top_2_sum_3days', 'top_3_sum_3days', 'top_4_sum_3days', 'top_5_sum_3days', 'top_6_sum_3days', 'top_7_sum_3days', 'top_8_sum_3days', 'top_9_sum_3days', 'top_10_sum_3days', 'android_max_3days', 'smarttv_max_3days', 'iphone_max_3days', 'ipad_max_3days', 'apple_max_3days']\n",
      "5-fold CV is : 0.6317 +/- 0.0025\n"
     ]
    },
    {
     "name": "stderr",
     "output_type": "stream",
     "text": [
      "\n",
      " 23%|███████▋                         | 33/141 [02:17<10:12,  5.67s/it]"
     ]
    },
    {
     "name": "stdout",
     "output_type": "stream",
     "text": [
      "adding feature pc_max_3days\n",
      "performing CV with features: ['days_to_end', 'num_country_max_1days', 'num_city_max_1days', 'android_max_1days', 'smarttv_max_1days', 'iphone_max_1days', 'ipad_max_1days', 'apple_max_1days', 'pc_max_1days', 'time_spent_sum_3days', 'time_spent_max_3days', 'num_title_ep_sum_3days', 'num_title_ep_max_3days', 'num_title_ru_sum_3days', 'num_title_ru_max_3days', 'num_country_max_3days', 'num_city_max_3days', 'other_content_sum_3days', 'top_1_sum_3days', 'top_2_sum_3days', 'top_3_sum_3days', 'top_4_sum_3days', 'top_5_sum_3days', 'top_6_sum_3days', 'top_7_sum_3days', 'top_8_sum_3days', 'top_9_sum_3days', 'top_10_sum_3days', 'android_max_3days', 'smarttv_max_3days', 'iphone_max_3days', 'ipad_max_3days', 'apple_max_3days', 'pc_max_3days']\n",
      "5-fold CV is : 0.6331 +/- 0.0026\n"
     ]
    },
    {
     "name": "stderr",
     "output_type": "stream",
     "text": [
      "\n",
      " 24%|███████▉                         | 34/141 [02:23<10:11,  5.72s/it]"
     ]
    },
    {
     "name": "stdout",
     "output_type": "stream",
     "text": [
      "adding feature time_spent_sum_7days\n",
      "performing CV with features: ['days_to_end', 'num_country_max_1days', 'num_city_max_1days', 'android_max_1days', 'smarttv_max_1days', 'iphone_max_1days', 'ipad_max_1days', 'apple_max_1days', 'pc_max_1days', 'time_spent_sum_3days', 'time_spent_max_3days', 'num_title_ep_sum_3days', 'num_title_ep_max_3days', 'num_title_ru_sum_3days', 'num_title_ru_max_3days', 'num_country_max_3days', 'num_city_max_3days', 'other_content_sum_3days', 'top_1_sum_3days', 'top_2_sum_3days', 'top_3_sum_3days', 'top_4_sum_3days', 'top_5_sum_3days', 'top_6_sum_3days', 'top_7_sum_3days', 'top_8_sum_3days', 'top_9_sum_3days', 'top_10_sum_3days', 'android_max_3days', 'smarttv_max_3days', 'iphone_max_3days', 'ipad_max_3days', 'apple_max_3days', 'pc_max_3days', 'time_spent_sum_7days']\n",
      "5-fold CV is : 0.6585 +/- 0.001\n"
     ]
    },
    {
     "name": "stderr",
     "output_type": "stream",
     "text": [
      "\n",
      " 25%|████████▏                        | 35/141 [02:30<10:28,  5.93s/it]"
     ]
    },
    {
     "name": "stdout",
     "output_type": "stream",
     "text": [
      "adding feature time_spent_max_7days\n",
      "performing CV with features: ['days_to_end', 'num_country_max_1days', 'num_city_max_1days', 'android_max_1days', 'smarttv_max_1days', 'iphone_max_1days', 'ipad_max_1days', 'apple_max_1days', 'pc_max_1days', 'time_spent_sum_3days', 'time_spent_max_3days', 'num_title_ep_sum_3days', 'num_title_ep_max_3days', 'num_title_ru_sum_3days', 'num_title_ru_max_3days', 'num_country_max_3days', 'num_city_max_3days', 'other_content_sum_3days', 'top_1_sum_3days', 'top_2_sum_3days', 'top_3_sum_3days', 'top_4_sum_3days', 'top_5_sum_3days', 'top_6_sum_3days', 'top_7_sum_3days', 'top_8_sum_3days', 'top_9_sum_3days', 'top_10_sum_3days', 'android_max_3days', 'smarttv_max_3days', 'iphone_max_3days', 'ipad_max_3days', 'apple_max_3days', 'pc_max_3days', 'time_spent_sum_7days', 'time_spent_max_7days']\n",
      "5-fold CV is : 0.6618 +/- 0.0011\n"
     ]
    },
    {
     "name": "stderr",
     "output_type": "stream",
     "text": [
      "\n",
      " 26%|████████▍                        | 36/141 [02:36<10:50,  6.20s/it]"
     ]
    },
    {
     "name": "stdout",
     "output_type": "stream",
     "text": [
      "adding feature num_title_ep_sum_7days\n",
      "performing CV with features: ['days_to_end', 'num_country_max_1days', 'num_city_max_1days', 'android_max_1days', 'smarttv_max_1days', 'iphone_max_1days', 'ipad_max_1days', 'apple_max_1days', 'pc_max_1days', 'time_spent_sum_3days', 'time_spent_max_3days', 'num_title_ep_sum_3days', 'num_title_ep_max_3days', 'num_title_ru_sum_3days', 'num_title_ru_max_3days', 'num_country_max_3days', 'num_city_max_3days', 'other_content_sum_3days', 'top_1_sum_3days', 'top_2_sum_3days', 'top_3_sum_3days', 'top_4_sum_3days', 'top_5_sum_3days', 'top_6_sum_3days', 'top_7_sum_3days', 'top_8_sum_3days', 'top_9_sum_3days', 'top_10_sum_3days', 'android_max_3days', 'smarttv_max_3days', 'iphone_max_3days', 'ipad_max_3days', 'apple_max_3days', 'pc_max_3days', 'time_spent_sum_7days', 'time_spent_max_7days', 'num_title_ep_sum_7days']\n",
      "5-fold CV is : 0.6625 +/- 0.0017\n"
     ]
    },
    {
     "name": "stderr",
     "output_type": "stream",
     "text": [
      "\n",
      " 26%|████████▋                        | 37/141 [02:43<11:10,  6.45s/it]"
     ]
    },
    {
     "name": "stdout",
     "output_type": "stream",
     "text": [
      "adding feature num_title_ep_max_7days\n",
      "performing CV with features: ['days_to_end', 'num_country_max_1days', 'num_city_max_1days', 'android_max_1days', 'smarttv_max_1days', 'iphone_max_1days', 'ipad_max_1days', 'apple_max_1days', 'pc_max_1days', 'time_spent_sum_3days', 'time_spent_max_3days', 'num_title_ep_sum_3days', 'num_title_ep_max_3days', 'num_title_ru_sum_3days', 'num_title_ru_max_3days', 'num_country_max_3days', 'num_city_max_3days', 'other_content_sum_3days', 'top_1_sum_3days', 'top_2_sum_3days', 'top_3_sum_3days', 'top_4_sum_3days', 'top_5_sum_3days', 'top_6_sum_3days', 'top_7_sum_3days', 'top_8_sum_3days', 'top_9_sum_3days', 'top_10_sum_3days', 'android_max_3days', 'smarttv_max_3days', 'iphone_max_3days', 'ipad_max_3days', 'apple_max_3days', 'pc_max_3days', 'time_spent_sum_7days', 'time_spent_max_7days', 'num_title_ep_sum_7days', 'num_title_ep_max_7days']\n",
      "5-fold CV is : 0.6646 +/- 0.0013\n"
     ]
    },
    {
     "name": "stderr",
     "output_type": "stream",
     "text": [
      "\n",
      " 27%|████████▉                        | 38/141 [02:50<11:22,  6.63s/it]"
     ]
    },
    {
     "name": "stdout",
     "output_type": "stream",
     "text": [
      "adding feature num_title_ru_sum_7days\n",
      "performing CV with features: ['days_to_end', 'num_country_max_1days', 'num_city_max_1days', 'android_max_1days', 'smarttv_max_1days', 'iphone_max_1days', 'ipad_max_1days', 'apple_max_1days', 'pc_max_1days', 'time_spent_sum_3days', 'time_spent_max_3days', 'num_title_ep_sum_3days', 'num_title_ep_max_3days', 'num_title_ru_sum_3days', 'num_title_ru_max_3days', 'num_country_max_3days', 'num_city_max_3days', 'other_content_sum_3days', 'top_1_sum_3days', 'top_2_sum_3days', 'top_3_sum_3days', 'top_4_sum_3days', 'top_5_sum_3days', 'top_6_sum_3days', 'top_7_sum_3days', 'top_8_sum_3days', 'top_9_sum_3days', 'top_10_sum_3days', 'android_max_3days', 'smarttv_max_3days', 'iphone_max_3days', 'ipad_max_3days', 'apple_max_3days', 'pc_max_3days', 'time_spent_sum_7days', 'time_spent_max_7days', 'num_title_ep_sum_7days', 'num_title_ep_max_7days', 'num_title_ru_sum_7days']\n",
      "5-fold CV is : 0.666 +/- 0.002\n"
     ]
    },
    {
     "name": "stderr",
     "output_type": "stream",
     "text": [
      "\n",
      " 28%|█████████▏                       | 39/141 [02:57<11:28,  6.75s/it]"
     ]
    },
    {
     "name": "stdout",
     "output_type": "stream",
     "text": [
      "adding feature num_title_ru_max_7days\n",
      "performing CV with features: ['days_to_end', 'num_country_max_1days', 'num_city_max_1days', 'android_max_1days', 'smarttv_max_1days', 'iphone_max_1days', 'ipad_max_1days', 'apple_max_1days', 'pc_max_1days', 'time_spent_sum_3days', 'time_spent_max_3days', 'num_title_ep_sum_3days', 'num_title_ep_max_3days', 'num_title_ru_sum_3days', 'num_title_ru_max_3days', 'num_country_max_3days', 'num_city_max_3days', 'other_content_sum_3days', 'top_1_sum_3days', 'top_2_sum_3days', 'top_3_sum_3days', 'top_4_sum_3days', 'top_5_sum_3days', 'top_6_sum_3days', 'top_7_sum_3days', 'top_8_sum_3days', 'top_9_sum_3days', 'top_10_sum_3days', 'android_max_3days', 'smarttv_max_3days', 'iphone_max_3days', 'ipad_max_3days', 'apple_max_3days', 'pc_max_3days', 'time_spent_sum_7days', 'time_spent_max_7days', 'num_title_ep_sum_7days', 'num_title_ep_max_7days', 'num_title_ru_sum_7days', 'num_title_ru_max_7days']\n",
      "5-fold CV is : 0.667 +/- 0.0018\n"
     ]
    },
    {
     "name": "stderr",
     "output_type": "stream",
     "text": [
      "\n",
      " 28%|█████████▎                       | 40/141 [03:05<11:35,  6.89s/it]"
     ]
    },
    {
     "name": "stdout",
     "output_type": "stream",
     "text": [
      "adding feature num_country_max_7days\n",
      "performing CV with features: ['days_to_end', 'num_country_max_1days', 'num_city_max_1days', 'android_max_1days', 'smarttv_max_1days', 'iphone_max_1days', 'ipad_max_1days', 'apple_max_1days', 'pc_max_1days', 'time_spent_sum_3days', 'time_spent_max_3days', 'num_title_ep_sum_3days', 'num_title_ep_max_3days', 'num_title_ru_sum_3days', 'num_title_ru_max_3days', 'num_country_max_3days', 'num_city_max_3days', 'other_content_sum_3days', 'top_1_sum_3days', 'top_2_sum_3days', 'top_3_sum_3days', 'top_4_sum_3days', 'top_5_sum_3days', 'top_6_sum_3days', 'top_7_sum_3days', 'top_8_sum_3days', 'top_9_sum_3days', 'top_10_sum_3days', 'android_max_3days', 'smarttv_max_3days', 'iphone_max_3days', 'ipad_max_3days', 'apple_max_3days', 'pc_max_3days', 'time_spent_sum_7days', 'time_spent_max_7days', 'num_title_ep_sum_7days', 'num_title_ep_max_7days', 'num_title_ru_sum_7days', 'num_title_ru_max_7days', 'num_country_max_7days']\n",
      "5-fold CV is : 0.667 +/- 0.0014\n"
     ]
    },
    {
     "name": "stderr",
     "output_type": "stream",
     "text": [
      "\n",
      " 29%|█████████▌                       | 41/141 [03:12<11:31,  6.91s/it]"
     ]
    },
    {
     "name": "stdout",
     "output_type": "stream",
     "text": [
      "adding feature num_city_max_7days\n",
      "performing CV with features: ['days_to_end', 'num_country_max_1days', 'num_city_max_1days', 'android_max_1days', 'smarttv_max_1days', 'iphone_max_1days', 'ipad_max_1days', 'apple_max_1days', 'pc_max_1days', 'time_spent_sum_3days', 'time_spent_max_3days', 'num_title_ep_sum_3days', 'num_title_ep_max_3days', 'num_title_ru_sum_3days', 'num_title_ru_max_3days', 'num_country_max_3days', 'num_city_max_3days', 'other_content_sum_3days', 'top_1_sum_3days', 'top_2_sum_3days', 'top_3_sum_3days', 'top_4_sum_3days', 'top_5_sum_3days', 'top_6_sum_3days', 'top_7_sum_3days', 'top_8_sum_3days', 'top_9_sum_3days', 'top_10_sum_3days', 'android_max_3days', 'smarttv_max_3days', 'iphone_max_3days', 'ipad_max_3days', 'apple_max_3days', 'pc_max_3days', 'time_spent_sum_7days', 'time_spent_max_7days', 'num_title_ep_sum_7days', 'num_title_ep_max_7days', 'num_title_ru_sum_7days', 'num_title_ru_max_7days', 'num_country_max_7days', 'num_city_max_7days']\n",
      "5-fold CV is : 0.6718 +/- 0.0016\n"
     ]
    },
    {
     "name": "stderr",
     "output_type": "stream",
     "text": [
      "\n",
      " 30%|█████████▊                       | 42/141 [03:19<11:35,  7.03s/it]"
     ]
    },
    {
     "name": "stdout",
     "output_type": "stream",
     "text": [
      "adding feature other_content_sum_7days\n",
      "performing CV with features: ['days_to_end', 'num_country_max_1days', 'num_city_max_1days', 'android_max_1days', 'smarttv_max_1days', 'iphone_max_1days', 'ipad_max_1days', 'apple_max_1days', 'pc_max_1days', 'time_spent_sum_3days', 'time_spent_max_3days', 'num_title_ep_sum_3days', 'num_title_ep_max_3days', 'num_title_ru_sum_3days', 'num_title_ru_max_3days', 'num_country_max_3days', 'num_city_max_3days', 'other_content_sum_3days', 'top_1_sum_3days', 'top_2_sum_3days', 'top_3_sum_3days', 'top_4_sum_3days', 'top_5_sum_3days', 'top_6_sum_3days', 'top_7_sum_3days', 'top_8_sum_3days', 'top_9_sum_3days', 'top_10_sum_3days', 'android_max_3days', 'smarttv_max_3days', 'iphone_max_3days', 'ipad_max_3days', 'apple_max_3days', 'pc_max_3days', 'time_spent_sum_7days', 'time_spent_max_7days', 'num_title_ep_sum_7days', 'num_title_ep_max_7days', 'num_title_ru_sum_7days', 'num_title_ru_max_7days', 'num_country_max_7days', 'num_city_max_7days', 'other_content_sum_7days']\n",
      "5-fold CV is : 0.6727 +/- 0.0009\n"
     ]
    },
    {
     "name": "stderr",
     "output_type": "stream",
     "text": [
      "\n",
      " 30%|██████████                       | 43/141 [03:26<11:35,  7.10s/it]"
     ]
    },
    {
     "name": "stdout",
     "output_type": "stream",
     "text": [
      "adding feature top_1_sum_7days\n",
      "performing CV with features: ['days_to_end', 'num_country_max_1days', 'num_city_max_1days', 'android_max_1days', 'smarttv_max_1days', 'iphone_max_1days', 'ipad_max_1days', 'apple_max_1days', 'pc_max_1days', 'time_spent_sum_3days', 'time_spent_max_3days', 'num_title_ep_sum_3days', 'num_title_ep_max_3days', 'num_title_ru_sum_3days', 'num_title_ru_max_3days', 'num_country_max_3days', 'num_city_max_3days', 'other_content_sum_3days', 'top_1_sum_3days', 'top_2_sum_3days', 'top_3_sum_3days', 'top_4_sum_3days', 'top_5_sum_3days', 'top_6_sum_3days', 'top_7_sum_3days', 'top_8_sum_3days', 'top_9_sum_3days', 'top_10_sum_3days', 'android_max_3days', 'smarttv_max_3days', 'iphone_max_3days', 'ipad_max_3days', 'apple_max_3days', 'pc_max_3days', 'time_spent_sum_7days', 'time_spent_max_7days', 'num_title_ep_sum_7days', 'num_title_ep_max_7days', 'num_title_ru_sum_7days', 'num_title_ru_max_7days', 'num_country_max_7days', 'num_city_max_7days', 'other_content_sum_7days', 'top_1_sum_7days']\n",
      "5-fold CV is : 0.6745 +/- 0.0018\n"
     ]
    },
    {
     "name": "stderr",
     "output_type": "stream",
     "text": [
      "\n",
      " 31%|██████████▎                      | 44/141 [03:33<11:28,  7.10s/it]"
     ]
    },
    {
     "name": "stdout",
     "output_type": "stream",
     "text": [
      "adding feature top_2_sum_7days\n",
      "performing CV with features: ['days_to_end', 'num_country_max_1days', 'num_city_max_1days', 'android_max_1days', 'smarttv_max_1days', 'iphone_max_1days', 'ipad_max_1days', 'apple_max_1days', 'pc_max_1days', 'time_spent_sum_3days', 'time_spent_max_3days', 'num_title_ep_sum_3days', 'num_title_ep_max_3days', 'num_title_ru_sum_3days', 'num_title_ru_max_3days', 'num_country_max_3days', 'num_city_max_3days', 'other_content_sum_3days', 'top_1_sum_3days', 'top_2_sum_3days', 'top_3_sum_3days', 'top_4_sum_3days', 'top_5_sum_3days', 'top_6_sum_3days', 'top_7_sum_3days', 'top_8_sum_3days', 'top_9_sum_3days', 'top_10_sum_3days', 'android_max_3days', 'smarttv_max_3days', 'iphone_max_3days', 'ipad_max_3days', 'apple_max_3days', 'pc_max_3days', 'time_spent_sum_7days', 'time_spent_max_7days', 'num_title_ep_sum_7days', 'num_title_ep_max_7days', 'num_title_ru_sum_7days', 'num_title_ru_max_7days', 'num_country_max_7days', 'num_city_max_7days', 'other_content_sum_7days', 'top_1_sum_7days', 'top_2_sum_7days']\n",
      "5-fold CV is : 0.6761 +/- 0.0012\n"
     ]
    },
    {
     "name": "stderr",
     "output_type": "stream",
     "text": [
      "\n",
      " 32%|██████████▌                      | 45/141 [03:41<11:33,  7.22s/it]"
     ]
    },
    {
     "name": "stdout",
     "output_type": "stream",
     "text": [
      "adding feature top_3_sum_7days\n",
      "performing CV with features: ['days_to_end', 'num_country_max_1days', 'num_city_max_1days', 'android_max_1days', 'smarttv_max_1days', 'iphone_max_1days', 'ipad_max_1days', 'apple_max_1days', 'pc_max_1days', 'time_spent_sum_3days', 'time_spent_max_3days', 'num_title_ep_sum_3days', 'num_title_ep_max_3days', 'num_title_ru_sum_3days', 'num_title_ru_max_3days', 'num_country_max_3days', 'num_city_max_3days', 'other_content_sum_3days', 'top_1_sum_3days', 'top_2_sum_3days', 'top_3_sum_3days', 'top_4_sum_3days', 'top_5_sum_3days', 'top_6_sum_3days', 'top_7_sum_3days', 'top_8_sum_3days', 'top_9_sum_3days', 'top_10_sum_3days', 'android_max_3days', 'smarttv_max_3days', 'iphone_max_3days', 'ipad_max_3days', 'apple_max_3days', 'pc_max_3days', 'time_spent_sum_7days', 'time_spent_max_7days', 'num_title_ep_sum_7days', 'num_title_ep_max_7days', 'num_title_ru_sum_7days', 'num_title_ru_max_7days', 'num_country_max_7days', 'num_city_max_7days', 'other_content_sum_7days', 'top_1_sum_7days', 'top_2_sum_7days', 'top_3_sum_7days']\n",
      "5-fold CV is : 0.6771 +/- 0.0019\n"
     ]
    },
    {
     "name": "stderr",
     "output_type": "stream",
     "text": [
      "\n",
      " 33%|██████████▊                      | 46/141 [03:49<11:42,  7.40s/it]"
     ]
    },
    {
     "name": "stdout",
     "output_type": "stream",
     "text": [
      "adding feature top_4_sum_7days\n",
      "performing CV with features: ['days_to_end', 'num_country_max_1days', 'num_city_max_1days', 'android_max_1days', 'smarttv_max_1days', 'iphone_max_1days', 'ipad_max_1days', 'apple_max_1days', 'pc_max_1days', 'time_spent_sum_3days', 'time_spent_max_3days', 'num_title_ep_sum_3days', 'num_title_ep_max_3days', 'num_title_ru_sum_3days', 'num_title_ru_max_3days', 'num_country_max_3days', 'num_city_max_3days', 'other_content_sum_3days', 'top_1_sum_3days', 'top_2_sum_3days', 'top_3_sum_3days', 'top_4_sum_3days', 'top_5_sum_3days', 'top_6_sum_3days', 'top_7_sum_3days', 'top_8_sum_3days', 'top_9_sum_3days', 'top_10_sum_3days', 'android_max_3days', 'smarttv_max_3days', 'iphone_max_3days', 'ipad_max_3days', 'apple_max_3days', 'pc_max_3days', 'time_spent_sum_7days', 'time_spent_max_7days', 'num_title_ep_sum_7days', 'num_title_ep_max_7days', 'num_title_ru_sum_7days', 'num_title_ru_max_7days', 'num_country_max_7days', 'num_city_max_7days', 'other_content_sum_7days', 'top_1_sum_7days', 'top_2_sum_7days', 'top_3_sum_7days', 'top_4_sum_7days']\n",
      "5-fold CV is : 0.6788 +/- 0.0016\n"
     ]
    },
    {
     "name": "stderr",
     "output_type": "stream",
     "text": [
      "\n",
      " 33%|███████████                      | 47/141 [03:57<11:58,  7.65s/it]"
     ]
    },
    {
     "name": "stdout",
     "output_type": "stream",
     "text": [
      "adding feature top_5_sum_7days\n",
      "performing CV with features: ['days_to_end', 'num_country_max_1days', 'num_city_max_1days', 'android_max_1days', 'smarttv_max_1days', 'iphone_max_1days', 'ipad_max_1days', 'apple_max_1days', 'pc_max_1days', 'time_spent_sum_3days', 'time_spent_max_3days', 'num_title_ep_sum_3days', 'num_title_ep_max_3days', 'num_title_ru_sum_3days', 'num_title_ru_max_3days', 'num_country_max_3days', 'num_city_max_3days', 'other_content_sum_3days', 'top_1_sum_3days', 'top_2_sum_3days', 'top_3_sum_3days', 'top_4_sum_3days', 'top_5_sum_3days', 'top_6_sum_3days', 'top_7_sum_3days', 'top_8_sum_3days', 'top_9_sum_3days', 'top_10_sum_3days', 'android_max_3days', 'smarttv_max_3days', 'iphone_max_3days', 'ipad_max_3days', 'apple_max_3days', 'pc_max_3days', 'time_spent_sum_7days', 'time_spent_max_7days', 'num_title_ep_sum_7days', 'num_title_ep_max_7days', 'num_title_ru_sum_7days', 'num_title_ru_max_7days', 'num_country_max_7days', 'num_city_max_7days', 'other_content_sum_7days', 'top_1_sum_7days', 'top_2_sum_7days', 'top_3_sum_7days', 'top_4_sum_7days', 'top_5_sum_7days']\n",
      "5-fold CV is : 0.6795 +/- 0.002\n"
     ]
    },
    {
     "name": "stderr",
     "output_type": "stream",
     "text": [
      "\n",
      " 34%|███████████▏                     | 48/141 [04:05<11:58,  7.72s/it]"
     ]
    },
    {
     "name": "stdout",
     "output_type": "stream",
     "text": [
      "adding feature top_6_sum_7days\n",
      "performing CV with features: ['days_to_end', 'num_country_max_1days', 'num_city_max_1days', 'android_max_1days', 'smarttv_max_1days', 'iphone_max_1days', 'ipad_max_1days', 'apple_max_1days', 'pc_max_1days', 'time_spent_sum_3days', 'time_spent_max_3days', 'num_title_ep_sum_3days', 'num_title_ep_max_3days', 'num_title_ru_sum_3days', 'num_title_ru_max_3days', 'num_country_max_3days', 'num_city_max_3days', 'other_content_sum_3days', 'top_1_sum_3days', 'top_2_sum_3days', 'top_3_sum_3days', 'top_4_sum_3days', 'top_5_sum_3days', 'top_6_sum_3days', 'top_7_sum_3days', 'top_8_sum_3days', 'top_9_sum_3days', 'top_10_sum_3days', 'android_max_3days', 'smarttv_max_3days', 'iphone_max_3days', 'ipad_max_3days', 'apple_max_3days', 'pc_max_3days', 'time_spent_sum_7days', 'time_spent_max_7days', 'num_title_ep_sum_7days', 'num_title_ep_max_7days', 'num_title_ru_sum_7days', 'num_title_ru_max_7days', 'num_country_max_7days', 'num_city_max_7days', 'other_content_sum_7days', 'top_1_sum_7days', 'top_2_sum_7days', 'top_3_sum_7days', 'top_4_sum_7days', 'top_5_sum_7days', 'top_6_sum_7days']\n",
      "5-fold CV is : 0.6798 +/- 0.0013\n"
     ]
    },
    {
     "name": "stderr",
     "output_type": "stream",
     "text": [
      "\n",
      " 35%|███████████▍                     | 49/141 [04:12<11:50,  7.72s/it]"
     ]
    },
    {
     "name": "stdout",
     "output_type": "stream",
     "text": [
      "adding feature top_7_sum_7days\n",
      "performing CV with features: ['days_to_end', 'num_country_max_1days', 'num_city_max_1days', 'android_max_1days', 'smarttv_max_1days', 'iphone_max_1days', 'ipad_max_1days', 'apple_max_1days', 'pc_max_1days', 'time_spent_sum_3days', 'time_spent_max_3days', 'num_title_ep_sum_3days', 'num_title_ep_max_3days', 'num_title_ru_sum_3days', 'num_title_ru_max_3days', 'num_country_max_3days', 'num_city_max_3days', 'other_content_sum_3days', 'top_1_sum_3days', 'top_2_sum_3days', 'top_3_sum_3days', 'top_4_sum_3days', 'top_5_sum_3days', 'top_6_sum_3days', 'top_7_sum_3days', 'top_8_sum_3days', 'top_9_sum_3days', 'top_10_sum_3days', 'android_max_3days', 'smarttv_max_3days', 'iphone_max_3days', 'ipad_max_3days', 'apple_max_3days', 'pc_max_3days', 'time_spent_sum_7days', 'time_spent_max_7days', 'num_title_ep_sum_7days', 'num_title_ep_max_7days', 'num_title_ru_sum_7days', 'num_title_ru_max_7days', 'num_country_max_7days', 'num_city_max_7days', 'other_content_sum_7days', 'top_1_sum_7days', 'top_2_sum_7days', 'top_3_sum_7days', 'top_4_sum_7days', 'top_5_sum_7days', 'top_6_sum_7days', 'top_7_sum_7days']\n",
      "5-fold CV is : 0.6815 +/- 0.0004\n"
     ]
    },
    {
     "name": "stderr",
     "output_type": "stream",
     "text": [
      "\n",
      " 35%|███████████▋                     | 50/141 [04:20<11:41,  7.71s/it]"
     ]
    },
    {
     "name": "stdout",
     "output_type": "stream",
     "text": [
      "adding feature top_8_sum_7days\n",
      "performing CV with features: ['days_to_end', 'num_country_max_1days', 'num_city_max_1days', 'android_max_1days', 'smarttv_max_1days', 'iphone_max_1days', 'ipad_max_1days', 'apple_max_1days', 'pc_max_1days', 'time_spent_sum_3days', 'time_spent_max_3days', 'num_title_ep_sum_3days', 'num_title_ep_max_3days', 'num_title_ru_sum_3days', 'num_title_ru_max_3days', 'num_country_max_3days', 'num_city_max_3days', 'other_content_sum_3days', 'top_1_sum_3days', 'top_2_sum_3days', 'top_3_sum_3days', 'top_4_sum_3days', 'top_5_sum_3days', 'top_6_sum_3days', 'top_7_sum_3days', 'top_8_sum_3days', 'top_9_sum_3days', 'top_10_sum_3days', 'android_max_3days', 'smarttv_max_3days', 'iphone_max_3days', 'ipad_max_3days', 'apple_max_3days', 'pc_max_3days', 'time_spent_sum_7days', 'time_spent_max_7days', 'num_title_ep_sum_7days', 'num_title_ep_max_7days', 'num_title_ru_sum_7days', 'num_title_ru_max_7days', 'num_country_max_7days', 'num_city_max_7days', 'other_content_sum_7days', 'top_1_sum_7days', 'top_2_sum_7days', 'top_3_sum_7days', 'top_4_sum_7days', 'top_5_sum_7days', 'top_6_sum_7days', 'top_7_sum_7days', 'top_8_sum_7days']\n",
      "5-fold CV is : 0.6818 +/- 0.002\n"
     ]
    },
    {
     "name": "stderr",
     "output_type": "stream",
     "text": [
      "\n",
      " 36%|███████████▉                     | 51/141 [04:28<11:26,  7.62s/it]"
     ]
    },
    {
     "name": "stdout",
     "output_type": "stream",
     "text": [
      "adding feature top_9_sum_7days\n",
      "performing CV with features: ['days_to_end', 'num_country_max_1days', 'num_city_max_1days', 'android_max_1days', 'smarttv_max_1days', 'iphone_max_1days', 'ipad_max_1days', 'apple_max_1days', 'pc_max_1days', 'time_spent_sum_3days', 'time_spent_max_3days', 'num_title_ep_sum_3days', 'num_title_ep_max_3days', 'num_title_ru_sum_3days', 'num_title_ru_max_3days', 'num_country_max_3days', 'num_city_max_3days', 'other_content_sum_3days', 'top_1_sum_3days', 'top_2_sum_3days', 'top_3_sum_3days', 'top_4_sum_3days', 'top_5_sum_3days', 'top_6_sum_3days', 'top_7_sum_3days', 'top_8_sum_3days', 'top_9_sum_3days', 'top_10_sum_3days', 'android_max_3days', 'smarttv_max_3days', 'iphone_max_3days', 'ipad_max_3days', 'apple_max_3days', 'pc_max_3days', 'time_spent_sum_7days', 'time_spent_max_7days', 'num_title_ep_sum_7days', 'num_title_ep_max_7days', 'num_title_ru_sum_7days', 'num_title_ru_max_7days', 'num_country_max_7days', 'num_city_max_7days', 'other_content_sum_7days', 'top_1_sum_7days', 'top_2_sum_7days', 'top_3_sum_7days', 'top_4_sum_7days', 'top_5_sum_7days', 'top_6_sum_7days', 'top_7_sum_7days', 'top_8_sum_7days', 'top_9_sum_7days']\n",
      "5-fold CV is : 0.6824 +/- 0.0018\n"
     ]
    },
    {
     "name": "stderr",
     "output_type": "stream",
     "text": [
      "\n",
      " 37%|████████████▏                    | 52/141 [04:35<11:20,  7.65s/it]"
     ]
    },
    {
     "name": "stdout",
     "output_type": "stream",
     "text": [
      "adding feature top_10_sum_7days\n",
      "performing CV with features: ['days_to_end', 'num_country_max_1days', 'num_city_max_1days', 'android_max_1days', 'smarttv_max_1days', 'iphone_max_1days', 'ipad_max_1days', 'apple_max_1days', 'pc_max_1days', 'time_spent_sum_3days', 'time_spent_max_3days', 'num_title_ep_sum_3days', 'num_title_ep_max_3days', 'num_title_ru_sum_3days', 'num_title_ru_max_3days', 'num_country_max_3days', 'num_city_max_3days', 'other_content_sum_3days', 'top_1_sum_3days', 'top_2_sum_3days', 'top_3_sum_3days', 'top_4_sum_3days', 'top_5_sum_3days', 'top_6_sum_3days', 'top_7_sum_3days', 'top_8_sum_3days', 'top_9_sum_3days', 'top_10_sum_3days', 'android_max_3days', 'smarttv_max_3days', 'iphone_max_3days', 'ipad_max_3days', 'apple_max_3days', 'pc_max_3days', 'time_spent_sum_7days', 'time_spent_max_7days', 'num_title_ep_sum_7days', 'num_title_ep_max_7days', 'num_title_ru_sum_7days', 'num_title_ru_max_7days', 'num_country_max_7days', 'num_city_max_7days', 'other_content_sum_7days', 'top_1_sum_7days', 'top_2_sum_7days', 'top_3_sum_7days', 'top_4_sum_7days', 'top_5_sum_7days', 'top_6_sum_7days', 'top_7_sum_7days', 'top_8_sum_7days', 'top_9_sum_7days', 'top_10_sum_7days']\n",
      "5-fold CV is : 0.683 +/- 0.0015\n"
     ]
    },
    {
     "name": "stderr",
     "output_type": "stream",
     "text": [
      "\n",
      " 38%|████████████▍                    | 53/141 [04:43<11:21,  7.75s/it]"
     ]
    },
    {
     "name": "stdout",
     "output_type": "stream",
     "text": [
      "adding feature android_max_7days\n",
      "performing CV with features: ['days_to_end', 'num_country_max_1days', 'num_city_max_1days', 'android_max_1days', 'smarttv_max_1days', 'iphone_max_1days', 'ipad_max_1days', 'apple_max_1days', 'pc_max_1days', 'time_spent_sum_3days', 'time_spent_max_3days', 'num_title_ep_sum_3days', 'num_title_ep_max_3days', 'num_title_ru_sum_3days', 'num_title_ru_max_3days', 'num_country_max_3days', 'num_city_max_3days', 'other_content_sum_3days', 'top_1_sum_3days', 'top_2_sum_3days', 'top_3_sum_3days', 'top_4_sum_3days', 'top_5_sum_3days', 'top_6_sum_3days', 'top_7_sum_3days', 'top_8_sum_3days', 'top_9_sum_3days', 'top_10_sum_3days', 'android_max_3days', 'smarttv_max_3days', 'iphone_max_3days', 'ipad_max_3days', 'apple_max_3days', 'pc_max_3days', 'time_spent_sum_7days', 'time_spent_max_7days', 'num_title_ep_sum_7days', 'num_title_ep_max_7days', 'num_title_ru_sum_7days', 'num_title_ru_max_7days', 'num_country_max_7days', 'num_city_max_7days', 'other_content_sum_7days', 'top_1_sum_7days', 'top_2_sum_7days', 'top_3_sum_7days', 'top_4_sum_7days', 'top_5_sum_7days', 'top_6_sum_7days', 'top_7_sum_7days', 'top_8_sum_7days', 'top_9_sum_7days', 'top_10_sum_7days', 'android_max_7days']\n",
      "5-fold CV is : 0.6845 +/- 0.0015\n"
     ]
    },
    {
     "name": "stderr",
     "output_type": "stream",
     "text": [
      "\n",
      " 38%|████████████▋                    | 54/141 [04:51<11:20,  7.82s/it]"
     ]
    },
    {
     "name": "stdout",
     "output_type": "stream",
     "text": [
      "adding feature smarttv_max_7days\n",
      "performing CV with features: ['days_to_end', 'num_country_max_1days', 'num_city_max_1days', 'android_max_1days', 'smarttv_max_1days', 'iphone_max_1days', 'ipad_max_1days', 'apple_max_1days', 'pc_max_1days', 'time_spent_sum_3days', 'time_spent_max_3days', 'num_title_ep_sum_3days', 'num_title_ep_max_3days', 'num_title_ru_sum_3days', 'num_title_ru_max_3days', 'num_country_max_3days', 'num_city_max_3days', 'other_content_sum_3days', 'top_1_sum_3days', 'top_2_sum_3days', 'top_3_sum_3days', 'top_4_sum_3days', 'top_5_sum_3days', 'top_6_sum_3days', 'top_7_sum_3days', 'top_8_sum_3days', 'top_9_sum_3days', 'top_10_sum_3days', 'android_max_3days', 'smarttv_max_3days', 'iphone_max_3days', 'ipad_max_3days', 'apple_max_3days', 'pc_max_3days', 'time_spent_sum_7days', 'time_spent_max_7days', 'num_title_ep_sum_7days', 'num_title_ep_max_7days', 'num_title_ru_sum_7days', 'num_title_ru_max_7days', 'num_country_max_7days', 'num_city_max_7days', 'other_content_sum_7days', 'top_1_sum_7days', 'top_2_sum_7days', 'top_3_sum_7days', 'top_4_sum_7days', 'top_5_sum_7days', 'top_6_sum_7days', 'top_7_sum_7days', 'top_8_sum_7days', 'top_9_sum_7days', 'top_10_sum_7days', 'android_max_7days', 'smarttv_max_7days']\n",
      "5-fold CV is : 0.686 +/- 0.0012\n"
     ]
    },
    {
     "name": "stderr",
     "output_type": "stream",
     "text": [
      "\n",
      " 39%|████████████▊                    | 55/141 [04:59<11:16,  7.86s/it]"
     ]
    },
    {
     "name": "stdout",
     "output_type": "stream",
     "text": [
      "adding feature iphone_max_7days\n",
      "performing CV with features: ['days_to_end', 'num_country_max_1days', 'num_city_max_1days', 'android_max_1days', 'smarttv_max_1days', 'iphone_max_1days', 'ipad_max_1days', 'apple_max_1days', 'pc_max_1days', 'time_spent_sum_3days', 'time_spent_max_3days', 'num_title_ep_sum_3days', 'num_title_ep_max_3days', 'num_title_ru_sum_3days', 'num_title_ru_max_3days', 'num_country_max_3days', 'num_city_max_3days', 'other_content_sum_3days', 'top_1_sum_3days', 'top_2_sum_3days', 'top_3_sum_3days', 'top_4_sum_3days', 'top_5_sum_3days', 'top_6_sum_3days', 'top_7_sum_3days', 'top_8_sum_3days', 'top_9_sum_3days', 'top_10_sum_3days', 'android_max_3days', 'smarttv_max_3days', 'iphone_max_3days', 'ipad_max_3days', 'apple_max_3days', 'pc_max_3days', 'time_spent_sum_7days', 'time_spent_max_7days', 'num_title_ep_sum_7days', 'num_title_ep_max_7days', 'num_title_ru_sum_7days', 'num_title_ru_max_7days', 'num_country_max_7days', 'num_city_max_7days', 'other_content_sum_7days', 'top_1_sum_7days', 'top_2_sum_7days', 'top_3_sum_7days', 'top_4_sum_7days', 'top_5_sum_7days', 'top_6_sum_7days', 'top_7_sum_7days', 'top_8_sum_7days', 'top_9_sum_7days', 'top_10_sum_7days', 'android_max_7days', 'smarttv_max_7days', 'iphone_max_7days']\n",
      "5-fold CV is : 0.6874 +/- 0.0021\n"
     ]
    },
    {
     "name": "stderr",
     "output_type": "stream",
     "text": [
      "\n",
      " 40%|█████████████                    | 56/141 [05:07<11:18,  7.98s/it]"
     ]
    },
    {
     "name": "stdout",
     "output_type": "stream",
     "text": [
      "adding feature ipad_max_7days\n",
      "performing CV with features: ['days_to_end', 'num_country_max_1days', 'num_city_max_1days', 'android_max_1days', 'smarttv_max_1days', 'iphone_max_1days', 'ipad_max_1days', 'apple_max_1days', 'pc_max_1days', 'time_spent_sum_3days', 'time_spent_max_3days', 'num_title_ep_sum_3days', 'num_title_ep_max_3days', 'num_title_ru_sum_3days', 'num_title_ru_max_3days', 'num_country_max_3days', 'num_city_max_3days', 'other_content_sum_3days', 'top_1_sum_3days', 'top_2_sum_3days', 'top_3_sum_3days', 'top_4_sum_3days', 'top_5_sum_3days', 'top_6_sum_3days', 'top_7_sum_3days', 'top_8_sum_3days', 'top_9_sum_3days', 'top_10_sum_3days', 'android_max_3days', 'smarttv_max_3days', 'iphone_max_3days', 'ipad_max_3days', 'apple_max_3days', 'pc_max_3days', 'time_spent_sum_7days', 'time_spent_max_7days', 'num_title_ep_sum_7days', 'num_title_ep_max_7days', 'num_title_ru_sum_7days', 'num_title_ru_max_7days', 'num_country_max_7days', 'num_city_max_7days', 'other_content_sum_7days', 'top_1_sum_7days', 'top_2_sum_7days', 'top_3_sum_7days', 'top_4_sum_7days', 'top_5_sum_7days', 'top_6_sum_7days', 'top_7_sum_7days', 'top_8_sum_7days', 'top_9_sum_7days', 'top_10_sum_7days', 'android_max_7days', 'smarttv_max_7days', 'iphone_max_7days', 'ipad_max_7days']\n",
      "5-fold CV is : 0.6898 +/- 0.0018\n"
     ]
    },
    {
     "name": "stderr",
     "output_type": "stream",
     "text": [
      "\n",
      " 40%|█████████████▎                   | 57/141 [05:16<11:20,  8.10s/it]"
     ]
    },
    {
     "name": "stdout",
     "output_type": "stream",
     "text": [
      "adding feature apple_max_7days\n",
      "performing CV with features: ['days_to_end', 'num_country_max_1days', 'num_city_max_1days', 'android_max_1days', 'smarttv_max_1days', 'iphone_max_1days', 'ipad_max_1days', 'apple_max_1days', 'pc_max_1days', 'time_spent_sum_3days', 'time_spent_max_3days', 'num_title_ep_sum_3days', 'num_title_ep_max_3days', 'num_title_ru_sum_3days', 'num_title_ru_max_3days', 'num_country_max_3days', 'num_city_max_3days', 'other_content_sum_3days', 'top_1_sum_3days', 'top_2_sum_3days', 'top_3_sum_3days', 'top_4_sum_3days', 'top_5_sum_3days', 'top_6_sum_3days', 'top_7_sum_3days', 'top_8_sum_3days', 'top_9_sum_3days', 'top_10_sum_3days', 'android_max_3days', 'smarttv_max_3days', 'iphone_max_3days', 'ipad_max_3days', 'apple_max_3days', 'pc_max_3days', 'time_spent_sum_7days', 'time_spent_max_7days', 'num_title_ep_sum_7days', 'num_title_ep_max_7days', 'num_title_ru_sum_7days', 'num_title_ru_max_7days', 'num_country_max_7days', 'num_city_max_7days', 'other_content_sum_7days', 'top_1_sum_7days', 'top_2_sum_7days', 'top_3_sum_7days', 'top_4_sum_7days', 'top_5_sum_7days', 'top_6_sum_7days', 'top_7_sum_7days', 'top_8_sum_7days', 'top_9_sum_7days', 'top_10_sum_7days', 'android_max_7days', 'smarttv_max_7days', 'iphone_max_7days', 'ipad_max_7days', 'apple_max_7days']\n",
      "5-fold CV is : 0.6896 +/- 0.0011\n"
     ]
    },
    {
     "name": "stderr",
     "output_type": "stream",
     "text": [
      "\n",
      " 41%|█████████████▌                   | 58/141 [05:24<11:21,  8.21s/it]"
     ]
    },
    {
     "name": "stdout",
     "output_type": "stream",
     "text": [
      "adding feature pc_max_7days\n",
      "performing CV with features: ['days_to_end', 'num_country_max_1days', 'num_city_max_1days', 'android_max_1days', 'smarttv_max_1days', 'iphone_max_1days', 'ipad_max_1days', 'apple_max_1days', 'pc_max_1days', 'time_spent_sum_3days', 'time_spent_max_3days', 'num_title_ep_sum_3days', 'num_title_ep_max_3days', 'num_title_ru_sum_3days', 'num_title_ru_max_3days', 'num_country_max_3days', 'num_city_max_3days', 'other_content_sum_3days', 'top_1_sum_3days', 'top_2_sum_3days', 'top_3_sum_3days', 'top_4_sum_3days', 'top_5_sum_3days', 'top_6_sum_3days', 'top_7_sum_3days', 'top_8_sum_3days', 'top_9_sum_3days', 'top_10_sum_3days', 'android_max_3days', 'smarttv_max_3days', 'iphone_max_3days', 'ipad_max_3days', 'apple_max_3days', 'pc_max_3days', 'time_spent_sum_7days', 'time_spent_max_7days', 'num_title_ep_sum_7days', 'num_title_ep_max_7days', 'num_title_ru_sum_7days', 'num_title_ru_max_7days', 'num_country_max_7days', 'num_city_max_7days', 'other_content_sum_7days', 'top_1_sum_7days', 'top_2_sum_7days', 'top_3_sum_7days', 'top_4_sum_7days', 'top_5_sum_7days', 'top_6_sum_7days', 'top_7_sum_7days', 'top_8_sum_7days', 'top_9_sum_7days', 'top_10_sum_7days', 'android_max_7days', 'smarttv_max_7days', 'iphone_max_7days', 'ipad_max_7days', 'apple_max_7days', 'pc_max_7days']\n",
      "5-fold CV is : 0.691 +/- 0.0009\n"
     ]
    },
    {
     "name": "stderr",
     "output_type": "stream",
     "text": [
      "\n",
      " 42%|█████████████▊                   | 59/141 [05:33<11:30,  8.42s/it]"
     ]
    },
    {
     "name": "stdout",
     "output_type": "stream",
     "text": [
      "adding feature time_spent_sum_14days\n",
      "performing CV with features: ['days_to_end', 'num_country_max_1days', 'num_city_max_1days', 'android_max_1days', 'smarttv_max_1days', 'iphone_max_1days', 'ipad_max_1days', 'apple_max_1days', 'pc_max_1days', 'time_spent_sum_3days', 'time_spent_max_3days', 'num_title_ep_sum_3days', 'num_title_ep_max_3days', 'num_title_ru_sum_3days', 'num_title_ru_max_3days', 'num_country_max_3days', 'num_city_max_3days', 'other_content_sum_3days', 'top_1_sum_3days', 'top_2_sum_3days', 'top_3_sum_3days', 'top_4_sum_3days', 'top_5_sum_3days', 'top_6_sum_3days', 'top_7_sum_3days', 'top_8_sum_3days', 'top_9_sum_3days', 'top_10_sum_3days', 'android_max_3days', 'smarttv_max_3days', 'iphone_max_3days', 'ipad_max_3days', 'apple_max_3days', 'pc_max_3days', 'time_spent_sum_7days', 'time_spent_max_7days', 'num_title_ep_sum_7days', 'num_title_ep_max_7days', 'num_title_ru_sum_7days', 'num_title_ru_max_7days', 'num_country_max_7days', 'num_city_max_7days', 'other_content_sum_7days', 'top_1_sum_7days', 'top_2_sum_7days', 'top_3_sum_7days', 'top_4_sum_7days', 'top_5_sum_7days', 'top_6_sum_7days', 'top_7_sum_7days', 'top_8_sum_7days', 'top_9_sum_7days', 'top_10_sum_7days', 'android_max_7days', 'smarttv_max_7days', 'iphone_max_7days', 'ipad_max_7days', 'apple_max_7days', 'pc_max_7days', 'time_spent_sum_14days']\n",
      "5-fold CV is : 0.7024 +/- 0.0021\n"
     ]
    },
    {
     "name": "stderr",
     "output_type": "stream",
     "text": [
      "\n",
      " 43%|██████████████                   | 60/141 [05:42<11:31,  8.53s/it]"
     ]
    },
    {
     "name": "stdout",
     "output_type": "stream",
     "text": [
      "adding feature time_spent_max_14days\n",
      "performing CV with features: ['days_to_end', 'num_country_max_1days', 'num_city_max_1days', 'android_max_1days', 'smarttv_max_1days', 'iphone_max_1days', 'ipad_max_1days', 'apple_max_1days', 'pc_max_1days', 'time_spent_sum_3days', 'time_spent_max_3days', 'num_title_ep_sum_3days', 'num_title_ep_max_3days', 'num_title_ru_sum_3days', 'num_title_ru_max_3days', 'num_country_max_3days', 'num_city_max_3days', 'other_content_sum_3days', 'top_1_sum_3days', 'top_2_sum_3days', 'top_3_sum_3days', 'top_4_sum_3days', 'top_5_sum_3days', 'top_6_sum_3days', 'top_7_sum_3days', 'top_8_sum_3days', 'top_9_sum_3days', 'top_10_sum_3days', 'android_max_3days', 'smarttv_max_3days', 'iphone_max_3days', 'ipad_max_3days', 'apple_max_3days', 'pc_max_3days', 'time_spent_sum_7days', 'time_spent_max_7days', 'num_title_ep_sum_7days', 'num_title_ep_max_7days', 'num_title_ru_sum_7days', 'num_title_ru_max_7days', 'num_country_max_7days', 'num_city_max_7days', 'other_content_sum_7days', 'top_1_sum_7days', 'top_2_sum_7days', 'top_3_sum_7days', 'top_4_sum_7days', 'top_5_sum_7days', 'top_6_sum_7days', 'top_7_sum_7days', 'top_8_sum_7days', 'top_9_sum_7days', 'top_10_sum_7days', 'android_max_7days', 'smarttv_max_7days', 'iphone_max_7days', 'ipad_max_7days', 'apple_max_7days', 'pc_max_7days', 'time_spent_sum_14days', 'time_spent_max_14days']\n",
      "5-fold CV is : 0.7052 +/- 0.002\n"
     ]
    },
    {
     "name": "stderr",
     "output_type": "stream",
     "text": [
      "\n",
      " 43%|██████████████▎                  | 61/141 [05:51<11:41,  8.77s/it]"
     ]
    },
    {
     "name": "stdout",
     "output_type": "stream",
     "text": [
      "adding feature num_title_ep_sum_14days\n",
      "performing CV with features: ['days_to_end', 'num_country_max_1days', 'num_city_max_1days', 'android_max_1days', 'smarttv_max_1days', 'iphone_max_1days', 'ipad_max_1days', 'apple_max_1days', 'pc_max_1days', 'time_spent_sum_3days', 'time_spent_max_3days', 'num_title_ep_sum_3days', 'num_title_ep_max_3days', 'num_title_ru_sum_3days', 'num_title_ru_max_3days', 'num_country_max_3days', 'num_city_max_3days', 'other_content_sum_3days', 'top_1_sum_3days', 'top_2_sum_3days', 'top_3_sum_3days', 'top_4_sum_3days', 'top_5_sum_3days', 'top_6_sum_3days', 'top_7_sum_3days', 'top_8_sum_3days', 'top_9_sum_3days', 'top_10_sum_3days', 'android_max_3days', 'smarttv_max_3days', 'iphone_max_3days', 'ipad_max_3days', 'apple_max_3days', 'pc_max_3days', 'time_spent_sum_7days', 'time_spent_max_7days', 'num_title_ep_sum_7days', 'num_title_ep_max_7days', 'num_title_ru_sum_7days', 'num_title_ru_max_7days', 'num_country_max_7days', 'num_city_max_7days', 'other_content_sum_7days', 'top_1_sum_7days', 'top_2_sum_7days', 'top_3_sum_7days', 'top_4_sum_7days', 'top_5_sum_7days', 'top_6_sum_7days', 'top_7_sum_7days', 'top_8_sum_7days', 'top_9_sum_7days', 'top_10_sum_7days', 'android_max_7days', 'smarttv_max_7days', 'iphone_max_7days', 'ipad_max_7days', 'apple_max_7days', 'pc_max_7days', 'time_spent_sum_14days', 'time_spent_max_14days', 'num_title_ep_sum_14days']\n",
      "5-fold CV is : 0.7062 +/- 0.0019\n"
     ]
    },
    {
     "name": "stderr",
     "output_type": "stream",
     "text": [
      "\n",
      " 44%|██████████████▌                  | 62/141 [06:01<11:46,  8.94s/it]"
     ]
    },
    {
     "name": "stdout",
     "output_type": "stream",
     "text": [
      "adding feature num_title_ep_max_14days\n",
      "performing CV with features: ['days_to_end', 'num_country_max_1days', 'num_city_max_1days', 'android_max_1days', 'smarttv_max_1days', 'iphone_max_1days', 'ipad_max_1days', 'apple_max_1days', 'pc_max_1days', 'time_spent_sum_3days', 'time_spent_max_3days', 'num_title_ep_sum_3days', 'num_title_ep_max_3days', 'num_title_ru_sum_3days', 'num_title_ru_max_3days', 'num_country_max_3days', 'num_city_max_3days', 'other_content_sum_3days', 'top_1_sum_3days', 'top_2_sum_3days', 'top_3_sum_3days', 'top_4_sum_3days', 'top_5_sum_3days', 'top_6_sum_3days', 'top_7_sum_3days', 'top_8_sum_3days', 'top_9_sum_3days', 'top_10_sum_3days', 'android_max_3days', 'smarttv_max_3days', 'iphone_max_3days', 'ipad_max_3days', 'apple_max_3days', 'pc_max_3days', 'time_spent_sum_7days', 'time_spent_max_7days', 'num_title_ep_sum_7days', 'num_title_ep_max_7days', 'num_title_ru_sum_7days', 'num_title_ru_max_7days', 'num_country_max_7days', 'num_city_max_7days', 'other_content_sum_7days', 'top_1_sum_7days', 'top_2_sum_7days', 'top_3_sum_7days', 'top_4_sum_7days', 'top_5_sum_7days', 'top_6_sum_7days', 'top_7_sum_7days', 'top_8_sum_7days', 'top_9_sum_7days', 'top_10_sum_7days', 'android_max_7days', 'smarttv_max_7days', 'iphone_max_7days', 'ipad_max_7days', 'apple_max_7days', 'pc_max_7days', 'time_spent_sum_14days', 'time_spent_max_14days', 'num_title_ep_sum_14days', 'num_title_ep_max_14days']\n",
      "5-fold CV is : 0.7077 +/- 0.0016\n"
     ]
    },
    {
     "name": "stderr",
     "output_type": "stream",
     "text": [
      "\n",
      " 45%|██████████████▋                  | 63/141 [06:10<11:47,  9.07s/it]"
     ]
    },
    {
     "name": "stdout",
     "output_type": "stream",
     "text": [
      "adding feature num_title_ru_sum_14days\n",
      "performing CV with features: ['days_to_end', 'num_country_max_1days', 'num_city_max_1days', 'android_max_1days', 'smarttv_max_1days', 'iphone_max_1days', 'ipad_max_1days', 'apple_max_1days', 'pc_max_1days', 'time_spent_sum_3days', 'time_spent_max_3days', 'num_title_ep_sum_3days', 'num_title_ep_max_3days', 'num_title_ru_sum_3days', 'num_title_ru_max_3days', 'num_country_max_3days', 'num_city_max_3days', 'other_content_sum_3days', 'top_1_sum_3days', 'top_2_sum_3days', 'top_3_sum_3days', 'top_4_sum_3days', 'top_5_sum_3days', 'top_6_sum_3days', 'top_7_sum_3days', 'top_8_sum_3days', 'top_9_sum_3days', 'top_10_sum_3days', 'android_max_3days', 'smarttv_max_3days', 'iphone_max_3days', 'ipad_max_3days', 'apple_max_3days', 'pc_max_3days', 'time_spent_sum_7days', 'time_spent_max_7days', 'num_title_ep_sum_7days', 'num_title_ep_max_7days', 'num_title_ru_sum_7days', 'num_title_ru_max_7days', 'num_country_max_7days', 'num_city_max_7days', 'other_content_sum_7days', 'top_1_sum_7days', 'top_2_sum_7days', 'top_3_sum_7days', 'top_4_sum_7days', 'top_5_sum_7days', 'top_6_sum_7days', 'top_7_sum_7days', 'top_8_sum_7days', 'top_9_sum_7days', 'top_10_sum_7days', 'android_max_7days', 'smarttv_max_7days', 'iphone_max_7days', 'ipad_max_7days', 'apple_max_7days', 'pc_max_7days', 'time_spent_sum_14days', 'time_spent_max_14days', 'num_title_ep_sum_14days', 'num_title_ep_max_14days', 'num_title_ru_sum_14days']\n",
      "5-fold CV is : 0.7094 +/- 0.0022\n"
     ]
    },
    {
     "name": "stderr",
     "output_type": "stream",
     "text": [
      "\n",
      " 45%|██████████████▉                  | 64/141 [06:20<11:50,  9.23s/it]"
     ]
    },
    {
     "name": "stdout",
     "output_type": "stream",
     "text": [
      "adding feature num_title_ru_max_14days\n",
      "performing CV with features: ['days_to_end', 'num_country_max_1days', 'num_city_max_1days', 'android_max_1days', 'smarttv_max_1days', 'iphone_max_1days', 'ipad_max_1days', 'apple_max_1days', 'pc_max_1days', 'time_spent_sum_3days', 'time_spent_max_3days', 'num_title_ep_sum_3days', 'num_title_ep_max_3days', 'num_title_ru_sum_3days', 'num_title_ru_max_3days', 'num_country_max_3days', 'num_city_max_3days', 'other_content_sum_3days', 'top_1_sum_3days', 'top_2_sum_3days', 'top_3_sum_3days', 'top_4_sum_3days', 'top_5_sum_3days', 'top_6_sum_3days', 'top_7_sum_3days', 'top_8_sum_3days', 'top_9_sum_3days', 'top_10_sum_3days', 'android_max_3days', 'smarttv_max_3days', 'iphone_max_3days', 'ipad_max_3days', 'apple_max_3days', 'pc_max_3days', 'time_spent_sum_7days', 'time_spent_max_7days', 'num_title_ep_sum_7days', 'num_title_ep_max_7days', 'num_title_ru_sum_7days', 'num_title_ru_max_7days', 'num_country_max_7days', 'num_city_max_7days', 'other_content_sum_7days', 'top_1_sum_7days', 'top_2_sum_7days', 'top_3_sum_7days', 'top_4_sum_7days', 'top_5_sum_7days', 'top_6_sum_7days', 'top_7_sum_7days', 'top_8_sum_7days', 'top_9_sum_7days', 'top_10_sum_7days', 'android_max_7days', 'smarttv_max_7days', 'iphone_max_7days', 'ipad_max_7days', 'apple_max_7days', 'pc_max_7days', 'time_spent_sum_14days', 'time_spent_max_14days', 'num_title_ep_sum_14days', 'num_title_ep_max_14days', 'num_title_ru_sum_14days', 'num_title_ru_max_14days']\n",
      "5-fold CV is : 0.71 +/- 0.0023\n"
     ]
    },
    {
     "name": "stderr",
     "output_type": "stream",
     "text": [
      "\n",
      " 46%|███████████████▏                 | 65/141 [06:29<11:55,  9.41s/it]"
     ]
    },
    {
     "name": "stdout",
     "output_type": "stream",
     "text": [
      "adding feature num_country_max_14days\n",
      "performing CV with features: ['days_to_end', 'num_country_max_1days', 'num_city_max_1days', 'android_max_1days', 'smarttv_max_1days', 'iphone_max_1days', 'ipad_max_1days', 'apple_max_1days', 'pc_max_1days', 'time_spent_sum_3days', 'time_spent_max_3days', 'num_title_ep_sum_3days', 'num_title_ep_max_3days', 'num_title_ru_sum_3days', 'num_title_ru_max_3days', 'num_country_max_3days', 'num_city_max_3days', 'other_content_sum_3days', 'top_1_sum_3days', 'top_2_sum_3days', 'top_3_sum_3days', 'top_4_sum_3days', 'top_5_sum_3days', 'top_6_sum_3days', 'top_7_sum_3days', 'top_8_sum_3days', 'top_9_sum_3days', 'top_10_sum_3days', 'android_max_3days', 'smarttv_max_3days', 'iphone_max_3days', 'ipad_max_3days', 'apple_max_3days', 'pc_max_3days', 'time_spent_sum_7days', 'time_spent_max_7days', 'num_title_ep_sum_7days', 'num_title_ep_max_7days', 'num_title_ru_sum_7days', 'num_title_ru_max_7days', 'num_country_max_7days', 'num_city_max_7days', 'other_content_sum_7days', 'top_1_sum_7days', 'top_2_sum_7days', 'top_3_sum_7days', 'top_4_sum_7days', 'top_5_sum_7days', 'top_6_sum_7days', 'top_7_sum_7days', 'top_8_sum_7days', 'top_9_sum_7days', 'top_10_sum_7days', 'android_max_7days', 'smarttv_max_7days', 'iphone_max_7days', 'ipad_max_7days', 'apple_max_7days', 'pc_max_7days', 'time_spent_sum_14days', 'time_spent_max_14days', 'num_title_ep_sum_14days', 'num_title_ep_max_14days', 'num_title_ru_sum_14days', 'num_title_ru_max_14days', 'num_country_max_14days']\n",
      "5-fold CV is : 0.7102 +/- 0.0023\n"
     ]
    },
    {
     "name": "stderr",
     "output_type": "stream",
     "text": [
      "\n",
      " 47%|███████████████▍                 | 66/141 [06:39<11:53,  9.51s/it]"
     ]
    },
    {
     "name": "stdout",
     "output_type": "stream",
     "text": [
      "adding feature num_city_max_14days\n",
      "performing CV with features: ['days_to_end', 'num_country_max_1days', 'num_city_max_1days', 'android_max_1days', 'smarttv_max_1days', 'iphone_max_1days', 'ipad_max_1days', 'apple_max_1days', 'pc_max_1days', 'time_spent_sum_3days', 'time_spent_max_3days', 'num_title_ep_sum_3days', 'num_title_ep_max_3days', 'num_title_ru_sum_3days', 'num_title_ru_max_3days', 'num_country_max_3days', 'num_city_max_3days', 'other_content_sum_3days', 'top_1_sum_3days', 'top_2_sum_3days', 'top_3_sum_3days', 'top_4_sum_3days', 'top_5_sum_3days', 'top_6_sum_3days', 'top_7_sum_3days', 'top_8_sum_3days', 'top_9_sum_3days', 'top_10_sum_3days', 'android_max_3days', 'smarttv_max_3days', 'iphone_max_3days', 'ipad_max_3days', 'apple_max_3days', 'pc_max_3days', 'time_spent_sum_7days', 'time_spent_max_7days', 'num_title_ep_sum_7days', 'num_title_ep_max_7days', 'num_title_ru_sum_7days', 'num_title_ru_max_7days', 'num_country_max_7days', 'num_city_max_7days', 'other_content_sum_7days', 'top_1_sum_7days', 'top_2_sum_7days', 'top_3_sum_7days', 'top_4_sum_7days', 'top_5_sum_7days', 'top_6_sum_7days', 'top_7_sum_7days', 'top_8_sum_7days', 'top_9_sum_7days', 'top_10_sum_7days', 'android_max_7days', 'smarttv_max_7days', 'iphone_max_7days', 'ipad_max_7days', 'apple_max_7days', 'pc_max_7days', 'time_spent_sum_14days', 'time_spent_max_14days', 'num_title_ep_sum_14days', 'num_title_ep_max_14days', 'num_title_ru_sum_14days', 'num_title_ru_max_14days', 'num_country_max_14days', 'num_city_max_14days']\n",
      "5-fold CV is : 0.7127 +/- 0.0022\n"
     ]
    },
    {
     "name": "stderr",
     "output_type": "stream",
     "text": [
      "\n",
      " 48%|███████████████▋                 | 67/141 [06:50<12:02,  9.76s/it]"
     ]
    },
    {
     "name": "stdout",
     "output_type": "stream",
     "text": [
      "adding feature other_content_sum_14days\n",
      "performing CV with features: ['days_to_end', 'num_country_max_1days', 'num_city_max_1days', 'android_max_1days', 'smarttv_max_1days', 'iphone_max_1days', 'ipad_max_1days', 'apple_max_1days', 'pc_max_1days', 'time_spent_sum_3days', 'time_spent_max_3days', 'num_title_ep_sum_3days', 'num_title_ep_max_3days', 'num_title_ru_sum_3days', 'num_title_ru_max_3days', 'num_country_max_3days', 'num_city_max_3days', 'other_content_sum_3days', 'top_1_sum_3days', 'top_2_sum_3days', 'top_3_sum_3days', 'top_4_sum_3days', 'top_5_sum_3days', 'top_6_sum_3days', 'top_7_sum_3days', 'top_8_sum_3days', 'top_9_sum_3days', 'top_10_sum_3days', 'android_max_3days', 'smarttv_max_3days', 'iphone_max_3days', 'ipad_max_3days', 'apple_max_3days', 'pc_max_3days', 'time_spent_sum_7days', 'time_spent_max_7days', 'num_title_ep_sum_7days', 'num_title_ep_max_7days', 'num_title_ru_sum_7days', 'num_title_ru_max_7days', 'num_country_max_7days', 'num_city_max_7days', 'other_content_sum_7days', 'top_1_sum_7days', 'top_2_sum_7days', 'top_3_sum_7days', 'top_4_sum_7days', 'top_5_sum_7days', 'top_6_sum_7days', 'top_7_sum_7days', 'top_8_sum_7days', 'top_9_sum_7days', 'top_10_sum_7days', 'android_max_7days', 'smarttv_max_7days', 'iphone_max_7days', 'ipad_max_7days', 'apple_max_7days', 'pc_max_7days', 'time_spent_sum_14days', 'time_spent_max_14days', 'num_title_ep_sum_14days', 'num_title_ep_max_14days', 'num_title_ru_sum_14days', 'num_title_ru_max_14days', 'num_country_max_14days', 'num_city_max_14days', 'other_content_sum_14days']\n",
      "5-fold CV is : 0.7133 +/- 0.0019\n"
     ]
    },
    {
     "name": "stderr",
     "output_type": "stream",
     "text": [
      "\n",
      " 48%|███████████████▉                 | 68/141 [07:00<12:06,  9.95s/it]"
     ]
    },
    {
     "name": "stdout",
     "output_type": "stream",
     "text": [
      "adding feature top_1_sum_14days\n",
      "performing CV with features: ['days_to_end', 'num_country_max_1days', 'num_city_max_1days', 'android_max_1days', 'smarttv_max_1days', 'iphone_max_1days', 'ipad_max_1days', 'apple_max_1days', 'pc_max_1days', 'time_spent_sum_3days', 'time_spent_max_3days', 'num_title_ep_sum_3days', 'num_title_ep_max_3days', 'num_title_ru_sum_3days', 'num_title_ru_max_3days', 'num_country_max_3days', 'num_city_max_3days', 'other_content_sum_3days', 'top_1_sum_3days', 'top_2_sum_3days', 'top_3_sum_3days', 'top_4_sum_3days', 'top_5_sum_3days', 'top_6_sum_3days', 'top_7_sum_3days', 'top_8_sum_3days', 'top_9_sum_3days', 'top_10_sum_3days', 'android_max_3days', 'smarttv_max_3days', 'iphone_max_3days', 'ipad_max_3days', 'apple_max_3days', 'pc_max_3days', 'time_spent_sum_7days', 'time_spent_max_7days', 'num_title_ep_sum_7days', 'num_title_ep_max_7days', 'num_title_ru_sum_7days', 'num_title_ru_max_7days', 'num_country_max_7days', 'num_city_max_7days', 'other_content_sum_7days', 'top_1_sum_7days', 'top_2_sum_7days', 'top_3_sum_7days', 'top_4_sum_7days', 'top_5_sum_7days', 'top_6_sum_7days', 'top_7_sum_7days', 'top_8_sum_7days', 'top_9_sum_7days', 'top_10_sum_7days', 'android_max_7days', 'smarttv_max_7days', 'iphone_max_7days', 'ipad_max_7days', 'apple_max_7days', 'pc_max_7days', 'time_spent_sum_14days', 'time_spent_max_14days', 'num_title_ep_sum_14days', 'num_title_ep_max_14days', 'num_title_ru_sum_14days', 'num_title_ru_max_14days', 'num_country_max_14days', 'num_city_max_14days', 'other_content_sum_14days', 'top_1_sum_14days']\n",
      "5-fold CV is : 0.7157 +/- 0.0021\n"
     ]
    },
    {
     "name": "stderr",
     "output_type": "stream",
     "text": [
      "\n",
      " 49%|████████████████▏                | 69/141 [07:11<12:11, 10.16s/it]"
     ]
    },
    {
     "name": "stdout",
     "output_type": "stream",
     "text": [
      "adding feature top_2_sum_14days\n",
      "performing CV with features: ['days_to_end', 'num_country_max_1days', 'num_city_max_1days', 'android_max_1days', 'smarttv_max_1days', 'iphone_max_1days', 'ipad_max_1days', 'apple_max_1days', 'pc_max_1days', 'time_spent_sum_3days', 'time_spent_max_3days', 'num_title_ep_sum_3days', 'num_title_ep_max_3days', 'num_title_ru_sum_3days', 'num_title_ru_max_3days', 'num_country_max_3days', 'num_city_max_3days', 'other_content_sum_3days', 'top_1_sum_3days', 'top_2_sum_3days', 'top_3_sum_3days', 'top_4_sum_3days', 'top_5_sum_3days', 'top_6_sum_3days', 'top_7_sum_3days', 'top_8_sum_3days', 'top_9_sum_3days', 'top_10_sum_3days', 'android_max_3days', 'smarttv_max_3days', 'iphone_max_3days', 'ipad_max_3days', 'apple_max_3days', 'pc_max_3days', 'time_spent_sum_7days', 'time_spent_max_7days', 'num_title_ep_sum_7days', 'num_title_ep_max_7days', 'num_title_ru_sum_7days', 'num_title_ru_max_7days', 'num_country_max_7days', 'num_city_max_7days', 'other_content_sum_7days', 'top_1_sum_7days', 'top_2_sum_7days', 'top_3_sum_7days', 'top_4_sum_7days', 'top_5_sum_7days', 'top_6_sum_7days', 'top_7_sum_7days', 'top_8_sum_7days', 'top_9_sum_7days', 'top_10_sum_7days', 'android_max_7days', 'smarttv_max_7days', 'iphone_max_7days', 'ipad_max_7days', 'apple_max_7days', 'pc_max_7days', 'time_spent_sum_14days', 'time_spent_max_14days', 'num_title_ep_sum_14days', 'num_title_ep_max_14days', 'num_title_ru_sum_14days', 'num_title_ru_max_14days', 'num_country_max_14days', 'num_city_max_14days', 'other_content_sum_14days', 'top_1_sum_14days', 'top_2_sum_14days']\n",
      "5-fold CV is : 0.7158 +/- 0.0017\n"
     ]
    },
    {
     "name": "stderr",
     "output_type": "stream",
     "text": [
      "\n",
      " 50%|████████████████▍                | 70/141 [07:21<12:06, 10.24s/it]"
     ]
    },
    {
     "name": "stdout",
     "output_type": "stream",
     "text": [
      "adding feature top_3_sum_14days\n",
      "performing CV with features: ['days_to_end', 'num_country_max_1days', 'num_city_max_1days', 'android_max_1days', 'smarttv_max_1days', 'iphone_max_1days', 'ipad_max_1days', 'apple_max_1days', 'pc_max_1days', 'time_spent_sum_3days', 'time_spent_max_3days', 'num_title_ep_sum_3days', 'num_title_ep_max_3days', 'num_title_ru_sum_3days', 'num_title_ru_max_3days', 'num_country_max_3days', 'num_city_max_3days', 'other_content_sum_3days', 'top_1_sum_3days', 'top_2_sum_3days', 'top_3_sum_3days', 'top_4_sum_3days', 'top_5_sum_3days', 'top_6_sum_3days', 'top_7_sum_3days', 'top_8_sum_3days', 'top_9_sum_3days', 'top_10_sum_3days', 'android_max_3days', 'smarttv_max_3days', 'iphone_max_3days', 'ipad_max_3days', 'apple_max_3days', 'pc_max_3days', 'time_spent_sum_7days', 'time_spent_max_7days', 'num_title_ep_sum_7days', 'num_title_ep_max_7days', 'num_title_ru_sum_7days', 'num_title_ru_max_7days', 'num_country_max_7days', 'num_city_max_7days', 'other_content_sum_7days', 'top_1_sum_7days', 'top_2_sum_7days', 'top_3_sum_7days', 'top_4_sum_7days', 'top_5_sum_7days', 'top_6_sum_7days', 'top_7_sum_7days', 'top_8_sum_7days', 'top_9_sum_7days', 'top_10_sum_7days', 'android_max_7days', 'smarttv_max_7days', 'iphone_max_7days', 'ipad_max_7days', 'apple_max_7days', 'pc_max_7days', 'time_spent_sum_14days', 'time_spent_max_14days', 'num_title_ep_sum_14days', 'num_title_ep_max_14days', 'num_title_ru_sum_14days', 'num_title_ru_max_14days', 'num_country_max_14days', 'num_city_max_14days', 'other_content_sum_14days', 'top_1_sum_14days', 'top_2_sum_14days', 'top_3_sum_14days']\n",
      "5-fold CV is : 0.718 +/- 0.0022\n"
     ]
    },
    {
     "name": "stderr",
     "output_type": "stream",
     "text": [
      "\n",
      " 50%|████████████████▌                | 71/141 [07:32<12:06, 10.38s/it]"
     ]
    },
    {
     "name": "stdout",
     "output_type": "stream",
     "text": [
      "adding feature top_4_sum_14days\n",
      "performing CV with features: ['days_to_end', 'num_country_max_1days', 'num_city_max_1days', 'android_max_1days', 'smarttv_max_1days', 'iphone_max_1days', 'ipad_max_1days', 'apple_max_1days', 'pc_max_1days', 'time_spent_sum_3days', 'time_spent_max_3days', 'num_title_ep_sum_3days', 'num_title_ep_max_3days', 'num_title_ru_sum_3days', 'num_title_ru_max_3days', 'num_country_max_3days', 'num_city_max_3days', 'other_content_sum_3days', 'top_1_sum_3days', 'top_2_sum_3days', 'top_3_sum_3days', 'top_4_sum_3days', 'top_5_sum_3days', 'top_6_sum_3days', 'top_7_sum_3days', 'top_8_sum_3days', 'top_9_sum_3days', 'top_10_sum_3days', 'android_max_3days', 'smarttv_max_3days', 'iphone_max_3days', 'ipad_max_3days', 'apple_max_3days', 'pc_max_3days', 'time_spent_sum_7days', 'time_spent_max_7days', 'num_title_ep_sum_7days', 'num_title_ep_max_7days', 'num_title_ru_sum_7days', 'num_title_ru_max_7days', 'num_country_max_7days', 'num_city_max_7days', 'other_content_sum_7days', 'top_1_sum_7days', 'top_2_sum_7days', 'top_3_sum_7days', 'top_4_sum_7days', 'top_5_sum_7days', 'top_6_sum_7days', 'top_7_sum_7days', 'top_8_sum_7days', 'top_9_sum_7days', 'top_10_sum_7days', 'android_max_7days', 'smarttv_max_7days', 'iphone_max_7days', 'ipad_max_7days', 'apple_max_7days', 'pc_max_7days', 'time_spent_sum_14days', 'time_spent_max_14days', 'num_title_ep_sum_14days', 'num_title_ep_max_14days', 'num_title_ru_sum_14days', 'num_title_ru_max_14days', 'num_country_max_14days', 'num_city_max_14days', 'other_content_sum_14days', 'top_1_sum_14days', 'top_2_sum_14days', 'top_3_sum_14days', 'top_4_sum_14days']\n",
      "5-fold CV is : 0.7189 +/- 0.0015\n"
     ]
    },
    {
     "name": "stderr",
     "output_type": "stream",
     "text": [
      "\n",
      " 51%|████████████████▊                | 72/141 [07:42<12:02, 10.48s/it]"
     ]
    },
    {
     "name": "stdout",
     "output_type": "stream",
     "text": [
      "adding feature top_5_sum_14days\n",
      "performing CV with features: ['days_to_end', 'num_country_max_1days', 'num_city_max_1days', 'android_max_1days', 'smarttv_max_1days', 'iphone_max_1days', 'ipad_max_1days', 'apple_max_1days', 'pc_max_1days', 'time_spent_sum_3days', 'time_spent_max_3days', 'num_title_ep_sum_3days', 'num_title_ep_max_3days', 'num_title_ru_sum_3days', 'num_title_ru_max_3days', 'num_country_max_3days', 'num_city_max_3days', 'other_content_sum_3days', 'top_1_sum_3days', 'top_2_sum_3days', 'top_3_sum_3days', 'top_4_sum_3days', 'top_5_sum_3days', 'top_6_sum_3days', 'top_7_sum_3days', 'top_8_sum_3days', 'top_9_sum_3days', 'top_10_sum_3days', 'android_max_3days', 'smarttv_max_3days', 'iphone_max_3days', 'ipad_max_3days', 'apple_max_3days', 'pc_max_3days', 'time_spent_sum_7days', 'time_spent_max_7days', 'num_title_ep_sum_7days', 'num_title_ep_max_7days', 'num_title_ru_sum_7days', 'num_title_ru_max_7days', 'num_country_max_7days', 'num_city_max_7days', 'other_content_sum_7days', 'top_1_sum_7days', 'top_2_sum_7days', 'top_3_sum_7days', 'top_4_sum_7days', 'top_5_sum_7days', 'top_6_sum_7days', 'top_7_sum_7days', 'top_8_sum_7days', 'top_9_sum_7days', 'top_10_sum_7days', 'android_max_7days', 'smarttv_max_7days', 'iphone_max_7days', 'ipad_max_7days', 'apple_max_7days', 'pc_max_7days', 'time_spent_sum_14days', 'time_spent_max_14days', 'num_title_ep_sum_14days', 'num_title_ep_max_14days', 'num_title_ru_sum_14days', 'num_title_ru_max_14days', 'num_country_max_14days', 'num_city_max_14days', 'other_content_sum_14days', 'top_1_sum_14days', 'top_2_sum_14days', 'top_3_sum_14days', 'top_4_sum_14days', 'top_5_sum_14days']\n",
      "5-fold CV is : 0.7206 +/- 0.0023\n"
     ]
    },
    {
     "name": "stderr",
     "output_type": "stream",
     "text": [
      "\n",
      " 52%|█████████████████                | 73/141 [07:53<12:00, 10.60s/it]"
     ]
    },
    {
     "name": "stdout",
     "output_type": "stream",
     "text": [
      "adding feature top_6_sum_14days\n",
      "performing CV with features: ['days_to_end', 'num_country_max_1days', 'num_city_max_1days', 'android_max_1days', 'smarttv_max_1days', 'iphone_max_1days', 'ipad_max_1days', 'apple_max_1days', 'pc_max_1days', 'time_spent_sum_3days', 'time_spent_max_3days', 'num_title_ep_sum_3days', 'num_title_ep_max_3days', 'num_title_ru_sum_3days', 'num_title_ru_max_3days', 'num_country_max_3days', 'num_city_max_3days', 'other_content_sum_3days', 'top_1_sum_3days', 'top_2_sum_3days', 'top_3_sum_3days', 'top_4_sum_3days', 'top_5_sum_3days', 'top_6_sum_3days', 'top_7_sum_3days', 'top_8_sum_3days', 'top_9_sum_3days', 'top_10_sum_3days', 'android_max_3days', 'smarttv_max_3days', 'iphone_max_3days', 'ipad_max_3days', 'apple_max_3days', 'pc_max_3days', 'time_spent_sum_7days', 'time_spent_max_7days', 'num_title_ep_sum_7days', 'num_title_ep_max_7days', 'num_title_ru_sum_7days', 'num_title_ru_max_7days', 'num_country_max_7days', 'num_city_max_7days', 'other_content_sum_7days', 'top_1_sum_7days', 'top_2_sum_7days', 'top_3_sum_7days', 'top_4_sum_7days', 'top_5_sum_7days', 'top_6_sum_7days', 'top_7_sum_7days', 'top_8_sum_7days', 'top_9_sum_7days', 'top_10_sum_7days', 'android_max_7days', 'smarttv_max_7days', 'iphone_max_7days', 'ipad_max_7days', 'apple_max_7days', 'pc_max_7days', 'time_spent_sum_14days', 'time_spent_max_14days', 'num_title_ep_sum_14days', 'num_title_ep_max_14days', 'num_title_ru_sum_14days', 'num_title_ru_max_14days', 'num_country_max_14days', 'num_city_max_14days', 'other_content_sum_14days', 'top_1_sum_14days', 'top_2_sum_14days', 'top_3_sum_14days', 'top_4_sum_14days', 'top_5_sum_14days', 'top_6_sum_14days']\n",
      "5-fold CV is : 0.7218 +/- 0.0016\n"
     ]
    },
    {
     "name": "stderr",
     "output_type": "stream",
     "text": [
      "\n",
      " 52%|█████████████████▎               | 74/141 [08:05<12:05, 10.83s/it]"
     ]
    },
    {
     "name": "stdout",
     "output_type": "stream",
     "text": [
      "adding feature top_7_sum_14days\n",
      "performing CV with features: ['days_to_end', 'num_country_max_1days', 'num_city_max_1days', 'android_max_1days', 'smarttv_max_1days', 'iphone_max_1days', 'ipad_max_1days', 'apple_max_1days', 'pc_max_1days', 'time_spent_sum_3days', 'time_spent_max_3days', 'num_title_ep_sum_3days', 'num_title_ep_max_3days', 'num_title_ru_sum_3days', 'num_title_ru_max_3days', 'num_country_max_3days', 'num_city_max_3days', 'other_content_sum_3days', 'top_1_sum_3days', 'top_2_sum_3days', 'top_3_sum_3days', 'top_4_sum_3days', 'top_5_sum_3days', 'top_6_sum_3days', 'top_7_sum_3days', 'top_8_sum_3days', 'top_9_sum_3days', 'top_10_sum_3days', 'android_max_3days', 'smarttv_max_3days', 'iphone_max_3days', 'ipad_max_3days', 'apple_max_3days', 'pc_max_3days', 'time_spent_sum_7days', 'time_spent_max_7days', 'num_title_ep_sum_7days', 'num_title_ep_max_7days', 'num_title_ru_sum_7days', 'num_title_ru_max_7days', 'num_country_max_7days', 'num_city_max_7days', 'other_content_sum_7days', 'top_1_sum_7days', 'top_2_sum_7days', 'top_3_sum_7days', 'top_4_sum_7days', 'top_5_sum_7days', 'top_6_sum_7days', 'top_7_sum_7days', 'top_8_sum_7days', 'top_9_sum_7days', 'top_10_sum_7days', 'android_max_7days', 'smarttv_max_7days', 'iphone_max_7days', 'ipad_max_7days', 'apple_max_7days', 'pc_max_7days', 'time_spent_sum_14days', 'time_spent_max_14days', 'num_title_ep_sum_14days', 'num_title_ep_max_14days', 'num_title_ru_sum_14days', 'num_title_ru_max_14days', 'num_country_max_14days', 'num_city_max_14days', 'other_content_sum_14days', 'top_1_sum_14days', 'top_2_sum_14days', 'top_3_sum_14days', 'top_4_sum_14days', 'top_5_sum_14days', 'top_6_sum_14days', 'top_7_sum_14days']\n",
      "5-fold CV is : 0.7232 +/- 0.002\n"
     ]
    },
    {
     "name": "stderr",
     "output_type": "stream",
     "text": [
      "\n",
      " 53%|█████████████████▌               | 75/141 [08:16<12:09, 11.06s/it]"
     ]
    },
    {
     "name": "stdout",
     "output_type": "stream",
     "text": [
      "adding feature top_8_sum_14days\n",
      "performing CV with features: ['days_to_end', 'num_country_max_1days', 'num_city_max_1days', 'android_max_1days', 'smarttv_max_1days', 'iphone_max_1days', 'ipad_max_1days', 'apple_max_1days', 'pc_max_1days', 'time_spent_sum_3days', 'time_spent_max_3days', 'num_title_ep_sum_3days', 'num_title_ep_max_3days', 'num_title_ru_sum_3days', 'num_title_ru_max_3days', 'num_country_max_3days', 'num_city_max_3days', 'other_content_sum_3days', 'top_1_sum_3days', 'top_2_sum_3days', 'top_3_sum_3days', 'top_4_sum_3days', 'top_5_sum_3days', 'top_6_sum_3days', 'top_7_sum_3days', 'top_8_sum_3days', 'top_9_sum_3days', 'top_10_sum_3days', 'android_max_3days', 'smarttv_max_3days', 'iphone_max_3days', 'ipad_max_3days', 'apple_max_3days', 'pc_max_3days', 'time_spent_sum_7days', 'time_spent_max_7days', 'num_title_ep_sum_7days', 'num_title_ep_max_7days', 'num_title_ru_sum_7days', 'num_title_ru_max_7days', 'num_country_max_7days', 'num_city_max_7days', 'other_content_sum_7days', 'top_1_sum_7days', 'top_2_sum_7days', 'top_3_sum_7days', 'top_4_sum_7days', 'top_5_sum_7days', 'top_6_sum_7days', 'top_7_sum_7days', 'top_8_sum_7days', 'top_9_sum_7days', 'top_10_sum_7days', 'android_max_7days', 'smarttv_max_7days', 'iphone_max_7days', 'ipad_max_7days', 'apple_max_7days', 'pc_max_7days', 'time_spent_sum_14days', 'time_spent_max_14days', 'num_title_ep_sum_14days', 'num_title_ep_max_14days', 'num_title_ru_sum_14days', 'num_title_ru_max_14days', 'num_country_max_14days', 'num_city_max_14days', 'other_content_sum_14days', 'top_1_sum_14days', 'top_2_sum_14days', 'top_3_sum_14days', 'top_4_sum_14days', 'top_5_sum_14days', 'top_6_sum_14days', 'top_7_sum_14days', 'top_8_sum_14days']\n",
      "5-fold CV is : 0.7241 +/- 0.001\n"
     ]
    },
    {
     "name": "stderr",
     "output_type": "stream",
     "text": [
      "\n",
      " 54%|█████████████████▊               | 76/141 [08:28<12:07, 11.20s/it]"
     ]
    },
    {
     "name": "stdout",
     "output_type": "stream",
     "text": [
      "adding feature top_9_sum_14days\n",
      "performing CV with features: ['days_to_end', 'num_country_max_1days', 'num_city_max_1days', 'android_max_1days', 'smarttv_max_1days', 'iphone_max_1days', 'ipad_max_1days', 'apple_max_1days', 'pc_max_1days', 'time_spent_sum_3days', 'time_spent_max_3days', 'num_title_ep_sum_3days', 'num_title_ep_max_3days', 'num_title_ru_sum_3days', 'num_title_ru_max_3days', 'num_country_max_3days', 'num_city_max_3days', 'other_content_sum_3days', 'top_1_sum_3days', 'top_2_sum_3days', 'top_3_sum_3days', 'top_4_sum_3days', 'top_5_sum_3days', 'top_6_sum_3days', 'top_7_sum_3days', 'top_8_sum_3days', 'top_9_sum_3days', 'top_10_sum_3days', 'android_max_3days', 'smarttv_max_3days', 'iphone_max_3days', 'ipad_max_3days', 'apple_max_3days', 'pc_max_3days', 'time_spent_sum_7days', 'time_spent_max_7days', 'num_title_ep_sum_7days', 'num_title_ep_max_7days', 'num_title_ru_sum_7days', 'num_title_ru_max_7days', 'num_country_max_7days', 'num_city_max_7days', 'other_content_sum_7days', 'top_1_sum_7days', 'top_2_sum_7days', 'top_3_sum_7days', 'top_4_sum_7days', 'top_5_sum_7days', 'top_6_sum_7days', 'top_7_sum_7days', 'top_8_sum_7days', 'top_9_sum_7days', 'top_10_sum_7days', 'android_max_7days', 'smarttv_max_7days', 'iphone_max_7days', 'ipad_max_7days', 'apple_max_7days', 'pc_max_7days', 'time_spent_sum_14days', 'time_spent_max_14days', 'num_title_ep_sum_14days', 'num_title_ep_max_14days', 'num_title_ru_sum_14days', 'num_title_ru_max_14days', 'num_country_max_14days', 'num_city_max_14days', 'other_content_sum_14days', 'top_1_sum_14days', 'top_2_sum_14days', 'top_3_sum_14days', 'top_4_sum_14days', 'top_5_sum_14days', 'top_6_sum_14days', 'top_7_sum_14days', 'top_8_sum_14days', 'top_9_sum_14days']\n",
      "5-fold CV is : 0.7241 +/- 0.0013\n"
     ]
    },
    {
     "name": "stderr",
     "output_type": "stream",
     "text": [
      "\n",
      " 55%|██████████████████               | 77/141 [08:39<12:03, 11.31s/it]"
     ]
    },
    {
     "name": "stdout",
     "output_type": "stream",
     "text": [
      "adding feature top_10_sum_14days\n",
      "performing CV with features: ['days_to_end', 'num_country_max_1days', 'num_city_max_1days', 'android_max_1days', 'smarttv_max_1days', 'iphone_max_1days', 'ipad_max_1days', 'apple_max_1days', 'pc_max_1days', 'time_spent_sum_3days', 'time_spent_max_3days', 'num_title_ep_sum_3days', 'num_title_ep_max_3days', 'num_title_ru_sum_3days', 'num_title_ru_max_3days', 'num_country_max_3days', 'num_city_max_3days', 'other_content_sum_3days', 'top_1_sum_3days', 'top_2_sum_3days', 'top_3_sum_3days', 'top_4_sum_3days', 'top_5_sum_3days', 'top_6_sum_3days', 'top_7_sum_3days', 'top_8_sum_3days', 'top_9_sum_3days', 'top_10_sum_3days', 'android_max_3days', 'smarttv_max_3days', 'iphone_max_3days', 'ipad_max_3days', 'apple_max_3days', 'pc_max_3days', 'time_spent_sum_7days', 'time_spent_max_7days', 'num_title_ep_sum_7days', 'num_title_ep_max_7days', 'num_title_ru_sum_7days', 'num_title_ru_max_7days', 'num_country_max_7days', 'num_city_max_7days', 'other_content_sum_7days', 'top_1_sum_7days', 'top_2_sum_7days', 'top_3_sum_7days', 'top_4_sum_7days', 'top_5_sum_7days', 'top_6_sum_7days', 'top_7_sum_7days', 'top_8_sum_7days', 'top_9_sum_7days', 'top_10_sum_7days', 'android_max_7days', 'smarttv_max_7days', 'iphone_max_7days', 'ipad_max_7days', 'apple_max_7days', 'pc_max_7days', 'time_spent_sum_14days', 'time_spent_max_14days', 'num_title_ep_sum_14days', 'num_title_ep_max_14days', 'num_title_ru_sum_14days', 'num_title_ru_max_14days', 'num_country_max_14days', 'num_city_max_14days', 'other_content_sum_14days', 'top_1_sum_14days', 'top_2_sum_14days', 'top_3_sum_14days', 'top_4_sum_14days', 'top_5_sum_14days', 'top_6_sum_14days', 'top_7_sum_14days', 'top_8_sum_14days', 'top_9_sum_14days', 'top_10_sum_14days']\n",
      "5-fold CV is : 0.7253 +/- 0.0012\n"
     ]
    },
    {
     "name": "stderr",
     "output_type": "stream",
     "text": [
      "\n",
      " 55%|██████████████████▎              | 78/141 [08:51<12:06, 11.54s/it]"
     ]
    },
    {
     "name": "stdout",
     "output_type": "stream",
     "text": [
      "adding feature android_max_14days\n",
      "performing CV with features: ['days_to_end', 'num_country_max_1days', 'num_city_max_1days', 'android_max_1days', 'smarttv_max_1days', 'iphone_max_1days', 'ipad_max_1days', 'apple_max_1days', 'pc_max_1days', 'time_spent_sum_3days', 'time_spent_max_3days', 'num_title_ep_sum_3days', 'num_title_ep_max_3days', 'num_title_ru_sum_3days', 'num_title_ru_max_3days', 'num_country_max_3days', 'num_city_max_3days', 'other_content_sum_3days', 'top_1_sum_3days', 'top_2_sum_3days', 'top_3_sum_3days', 'top_4_sum_3days', 'top_5_sum_3days', 'top_6_sum_3days', 'top_7_sum_3days', 'top_8_sum_3days', 'top_9_sum_3days', 'top_10_sum_3days', 'android_max_3days', 'smarttv_max_3days', 'iphone_max_3days', 'ipad_max_3days', 'apple_max_3days', 'pc_max_3days', 'time_spent_sum_7days', 'time_spent_max_7days', 'num_title_ep_sum_7days', 'num_title_ep_max_7days', 'num_title_ru_sum_7days', 'num_title_ru_max_7days', 'num_country_max_7days', 'num_city_max_7days', 'other_content_sum_7days', 'top_1_sum_7days', 'top_2_sum_7days', 'top_3_sum_7days', 'top_4_sum_7days', 'top_5_sum_7days', 'top_6_sum_7days', 'top_7_sum_7days', 'top_8_sum_7days', 'top_9_sum_7days', 'top_10_sum_7days', 'android_max_7days', 'smarttv_max_7days', 'iphone_max_7days', 'ipad_max_7days', 'apple_max_7days', 'pc_max_7days', 'time_spent_sum_14days', 'time_spent_max_14days', 'num_title_ep_sum_14days', 'num_title_ep_max_14days', 'num_title_ru_sum_14days', 'num_title_ru_max_14days', 'num_country_max_14days', 'num_city_max_14days', 'other_content_sum_14days', 'top_1_sum_14days', 'top_2_sum_14days', 'top_3_sum_14days', 'top_4_sum_14days', 'top_5_sum_14days', 'top_6_sum_14days', 'top_7_sum_14days', 'top_8_sum_14days', 'top_9_sum_14days', 'top_10_sum_14days', 'android_max_14days']\n",
      "5-fold CV is : 0.727 +/- 0.0014\n"
     ]
    },
    {
     "name": "stderr",
     "output_type": "stream",
     "text": [
      "\n",
      " 56%|██████████████████▍              | 79/141 [09:03<11:57, 11.58s/it]"
     ]
    },
    {
     "name": "stdout",
     "output_type": "stream",
     "text": [
      "adding feature smarttv_max_14days\n",
      "performing CV with features: ['days_to_end', 'num_country_max_1days', 'num_city_max_1days', 'android_max_1days', 'smarttv_max_1days', 'iphone_max_1days', 'ipad_max_1days', 'apple_max_1days', 'pc_max_1days', 'time_spent_sum_3days', 'time_spent_max_3days', 'num_title_ep_sum_3days', 'num_title_ep_max_3days', 'num_title_ru_sum_3days', 'num_title_ru_max_3days', 'num_country_max_3days', 'num_city_max_3days', 'other_content_sum_3days', 'top_1_sum_3days', 'top_2_sum_3days', 'top_3_sum_3days', 'top_4_sum_3days', 'top_5_sum_3days', 'top_6_sum_3days', 'top_7_sum_3days', 'top_8_sum_3days', 'top_9_sum_3days', 'top_10_sum_3days', 'android_max_3days', 'smarttv_max_3days', 'iphone_max_3days', 'ipad_max_3days', 'apple_max_3days', 'pc_max_3days', 'time_spent_sum_7days', 'time_spent_max_7days', 'num_title_ep_sum_7days', 'num_title_ep_max_7days', 'num_title_ru_sum_7days', 'num_title_ru_max_7days', 'num_country_max_7days', 'num_city_max_7days', 'other_content_sum_7days', 'top_1_sum_7days', 'top_2_sum_7days', 'top_3_sum_7days', 'top_4_sum_7days', 'top_5_sum_7days', 'top_6_sum_7days', 'top_7_sum_7days', 'top_8_sum_7days', 'top_9_sum_7days', 'top_10_sum_7days', 'android_max_7days', 'smarttv_max_7days', 'iphone_max_7days', 'ipad_max_7days', 'apple_max_7days', 'pc_max_7days', 'time_spent_sum_14days', 'time_spent_max_14days', 'num_title_ep_sum_14days', 'num_title_ep_max_14days', 'num_title_ru_sum_14days', 'num_title_ru_max_14days', 'num_country_max_14days', 'num_city_max_14days', 'other_content_sum_14days', 'top_1_sum_14days', 'top_2_sum_14days', 'top_3_sum_14days', 'top_4_sum_14days', 'top_5_sum_14days', 'top_6_sum_14days', 'top_7_sum_14days', 'top_8_sum_14days', 'top_9_sum_14days', 'top_10_sum_14days', 'android_max_14days', 'smarttv_max_14days']\n",
      "5-fold CV is : 0.7297 +/- 0.0014\n"
     ]
    },
    {
     "name": "stderr",
     "output_type": "stream",
     "text": [
      "\n",
      " 57%|██████████████████▋              | 80/141 [09:15<11:49, 11.63s/it]"
     ]
    },
    {
     "name": "stdout",
     "output_type": "stream",
     "text": [
      "adding feature iphone_max_14days\n",
      "performing CV with features: ['days_to_end', 'num_country_max_1days', 'num_city_max_1days', 'android_max_1days', 'smarttv_max_1days', 'iphone_max_1days', 'ipad_max_1days', 'apple_max_1days', 'pc_max_1days', 'time_spent_sum_3days', 'time_spent_max_3days', 'num_title_ep_sum_3days', 'num_title_ep_max_3days', 'num_title_ru_sum_3days', 'num_title_ru_max_3days', 'num_country_max_3days', 'num_city_max_3days', 'other_content_sum_3days', 'top_1_sum_3days', 'top_2_sum_3days', 'top_3_sum_3days', 'top_4_sum_3days', 'top_5_sum_3days', 'top_6_sum_3days', 'top_7_sum_3days', 'top_8_sum_3days', 'top_9_sum_3days', 'top_10_sum_3days', 'android_max_3days', 'smarttv_max_3days', 'iphone_max_3days', 'ipad_max_3days', 'apple_max_3days', 'pc_max_3days', 'time_spent_sum_7days', 'time_spent_max_7days', 'num_title_ep_sum_7days', 'num_title_ep_max_7days', 'num_title_ru_sum_7days', 'num_title_ru_max_7days', 'num_country_max_7days', 'num_city_max_7days', 'other_content_sum_7days', 'top_1_sum_7days', 'top_2_sum_7days', 'top_3_sum_7days', 'top_4_sum_7days', 'top_5_sum_7days', 'top_6_sum_7days', 'top_7_sum_7days', 'top_8_sum_7days', 'top_9_sum_7days', 'top_10_sum_7days', 'android_max_7days', 'smarttv_max_7days', 'iphone_max_7days', 'ipad_max_7days', 'apple_max_7days', 'pc_max_7days', 'time_spent_sum_14days', 'time_spent_max_14days', 'num_title_ep_sum_14days', 'num_title_ep_max_14days', 'num_title_ru_sum_14days', 'num_title_ru_max_14days', 'num_country_max_14days', 'num_city_max_14days', 'other_content_sum_14days', 'top_1_sum_14days', 'top_2_sum_14days', 'top_3_sum_14days', 'top_4_sum_14days', 'top_5_sum_14days', 'top_6_sum_14days', 'top_7_sum_14days', 'top_8_sum_14days', 'top_9_sum_14days', 'top_10_sum_14days', 'android_max_14days', 'smarttv_max_14days', 'iphone_max_14days']\n",
      "5-fold CV is : 0.7312 +/- 0.0012\n"
     ]
    },
    {
     "name": "stderr",
     "output_type": "stream",
     "text": [
      "\n",
      " 57%|██████████████████▉              | 81/141 [09:27<11:50, 11.84s/it]"
     ]
    },
    {
     "name": "stdout",
     "output_type": "stream",
     "text": [
      "adding feature ipad_max_14days\n",
      "performing CV with features: ['days_to_end', 'num_country_max_1days', 'num_city_max_1days', 'android_max_1days', 'smarttv_max_1days', 'iphone_max_1days', 'ipad_max_1days', 'apple_max_1days', 'pc_max_1days', 'time_spent_sum_3days', 'time_spent_max_3days', 'num_title_ep_sum_3days', 'num_title_ep_max_3days', 'num_title_ru_sum_3days', 'num_title_ru_max_3days', 'num_country_max_3days', 'num_city_max_3days', 'other_content_sum_3days', 'top_1_sum_3days', 'top_2_sum_3days', 'top_3_sum_3days', 'top_4_sum_3days', 'top_5_sum_3days', 'top_6_sum_3days', 'top_7_sum_3days', 'top_8_sum_3days', 'top_9_sum_3days', 'top_10_sum_3days', 'android_max_3days', 'smarttv_max_3days', 'iphone_max_3days', 'ipad_max_3days', 'apple_max_3days', 'pc_max_3days', 'time_spent_sum_7days', 'time_spent_max_7days', 'num_title_ep_sum_7days', 'num_title_ep_max_7days', 'num_title_ru_sum_7days', 'num_title_ru_max_7days', 'num_country_max_7days', 'num_city_max_7days', 'other_content_sum_7days', 'top_1_sum_7days', 'top_2_sum_7days', 'top_3_sum_7days', 'top_4_sum_7days', 'top_5_sum_7days', 'top_6_sum_7days', 'top_7_sum_7days', 'top_8_sum_7days', 'top_9_sum_7days', 'top_10_sum_7days', 'android_max_7days', 'smarttv_max_7days', 'iphone_max_7days', 'ipad_max_7days', 'apple_max_7days', 'pc_max_7days', 'time_spent_sum_14days', 'time_spent_max_14days', 'num_title_ep_sum_14days', 'num_title_ep_max_14days', 'num_title_ru_sum_14days', 'num_title_ru_max_14days', 'num_country_max_14days', 'num_city_max_14days', 'other_content_sum_14days', 'top_1_sum_14days', 'top_2_sum_14days', 'top_3_sum_14days', 'top_4_sum_14days', 'top_5_sum_14days', 'top_6_sum_14days', 'top_7_sum_14days', 'top_8_sum_14days', 'top_9_sum_14days', 'top_10_sum_14days', 'android_max_14days', 'smarttv_max_14days', 'iphone_max_14days', 'ipad_max_14days']\n",
      "5-fold CV is : 0.7316 +/- 0.002\n"
     ]
    },
    {
     "name": "stderr",
     "output_type": "stream",
     "text": [
      "\n",
      " 58%|███████████████████▏             | 82/141 [09:39<11:35, 11.79s/it]"
     ]
    },
    {
     "name": "stdout",
     "output_type": "stream",
     "text": [
      "adding feature apple_max_14days\n",
      "performing CV with features: ['days_to_end', 'num_country_max_1days', 'num_city_max_1days', 'android_max_1days', 'smarttv_max_1days', 'iphone_max_1days', 'ipad_max_1days', 'apple_max_1days', 'pc_max_1days', 'time_spent_sum_3days', 'time_spent_max_3days', 'num_title_ep_sum_3days', 'num_title_ep_max_3days', 'num_title_ru_sum_3days', 'num_title_ru_max_3days', 'num_country_max_3days', 'num_city_max_3days', 'other_content_sum_3days', 'top_1_sum_3days', 'top_2_sum_3days', 'top_3_sum_3days', 'top_4_sum_3days', 'top_5_sum_3days', 'top_6_sum_3days', 'top_7_sum_3days', 'top_8_sum_3days', 'top_9_sum_3days', 'top_10_sum_3days', 'android_max_3days', 'smarttv_max_3days', 'iphone_max_3days', 'ipad_max_3days', 'apple_max_3days', 'pc_max_3days', 'time_spent_sum_7days', 'time_spent_max_7days', 'num_title_ep_sum_7days', 'num_title_ep_max_7days', 'num_title_ru_sum_7days', 'num_title_ru_max_7days', 'num_country_max_7days', 'num_city_max_7days', 'other_content_sum_7days', 'top_1_sum_7days', 'top_2_sum_7days', 'top_3_sum_7days', 'top_4_sum_7days', 'top_5_sum_7days', 'top_6_sum_7days', 'top_7_sum_7days', 'top_8_sum_7days', 'top_9_sum_7days', 'top_10_sum_7days', 'android_max_7days', 'smarttv_max_7days', 'iphone_max_7days', 'ipad_max_7days', 'apple_max_7days', 'pc_max_7days', 'time_spent_sum_14days', 'time_spent_max_14days', 'num_title_ep_sum_14days', 'num_title_ep_max_14days', 'num_title_ru_sum_14days', 'num_title_ru_max_14days', 'num_country_max_14days', 'num_city_max_14days', 'other_content_sum_14days', 'top_1_sum_14days', 'top_2_sum_14days', 'top_3_sum_14days', 'top_4_sum_14days', 'top_5_sum_14days', 'top_6_sum_14days', 'top_7_sum_14days', 'top_8_sum_14days', 'top_9_sum_14days', 'top_10_sum_14days', 'android_max_14days', 'smarttv_max_14days', 'iphone_max_14days', 'ipad_max_14days', 'apple_max_14days']\n",
      "5-fold CV is : 0.7333 +/- 0.0008\n"
     ]
    },
    {
     "name": "stderr",
     "output_type": "stream",
     "text": [
      "\n",
      " 59%|███████████████████▍             | 83/141 [09:51<11:29, 11.89s/it]"
     ]
    },
    {
     "name": "stdout",
     "output_type": "stream",
     "text": [
      "adding feature pc_max_14days\n",
      "performing CV with features: ['days_to_end', 'num_country_max_1days', 'num_city_max_1days', 'android_max_1days', 'smarttv_max_1days', 'iphone_max_1days', 'ipad_max_1days', 'apple_max_1days', 'pc_max_1days', 'time_spent_sum_3days', 'time_spent_max_3days', 'num_title_ep_sum_3days', 'num_title_ep_max_3days', 'num_title_ru_sum_3days', 'num_title_ru_max_3days', 'num_country_max_3days', 'num_city_max_3days', 'other_content_sum_3days', 'top_1_sum_3days', 'top_2_sum_3days', 'top_3_sum_3days', 'top_4_sum_3days', 'top_5_sum_3days', 'top_6_sum_3days', 'top_7_sum_3days', 'top_8_sum_3days', 'top_9_sum_3days', 'top_10_sum_3days', 'android_max_3days', 'smarttv_max_3days', 'iphone_max_3days', 'ipad_max_3days', 'apple_max_3days', 'pc_max_3days', 'time_spent_sum_7days', 'time_spent_max_7days', 'num_title_ep_sum_7days', 'num_title_ep_max_7days', 'num_title_ru_sum_7days', 'num_title_ru_max_7days', 'num_country_max_7days', 'num_city_max_7days', 'other_content_sum_7days', 'top_1_sum_7days', 'top_2_sum_7days', 'top_3_sum_7days', 'top_4_sum_7days', 'top_5_sum_7days', 'top_6_sum_7days', 'top_7_sum_7days', 'top_8_sum_7days', 'top_9_sum_7days', 'top_10_sum_7days', 'android_max_7days', 'smarttv_max_7days', 'iphone_max_7days', 'ipad_max_7days', 'apple_max_7days', 'pc_max_7days', 'time_spent_sum_14days', 'time_spent_max_14days', 'num_title_ep_sum_14days', 'num_title_ep_max_14days', 'num_title_ru_sum_14days', 'num_title_ru_max_14days', 'num_country_max_14days', 'num_city_max_14days', 'other_content_sum_14days', 'top_1_sum_14days', 'top_2_sum_14days', 'top_3_sum_14days', 'top_4_sum_14days', 'top_5_sum_14days', 'top_6_sum_14days', 'top_7_sum_14days', 'top_8_sum_14days', 'top_9_sum_14days', 'top_10_sum_14days', 'android_max_14days', 'smarttv_max_14days', 'iphone_max_14days', 'ipad_max_14days', 'apple_max_14days', 'pc_max_14days']\n",
      "5-fold CV is : 0.7356 +/- 0.0013\n"
     ]
    },
    {
     "name": "stderr",
     "output_type": "stream",
     "text": [
      "\n",
      " 60%|███████████████████▋             | 84/141 [10:04<11:29, 12.10s/it]"
     ]
    },
    {
     "name": "stdout",
     "output_type": "stream",
     "text": [
      "adding feature time_spent_sum_21days\n",
      "performing CV with features: ['days_to_end', 'num_country_max_1days', 'num_city_max_1days', 'android_max_1days', 'smarttv_max_1days', 'iphone_max_1days', 'ipad_max_1days', 'apple_max_1days', 'pc_max_1days', 'time_spent_sum_3days', 'time_spent_max_3days', 'num_title_ep_sum_3days', 'num_title_ep_max_3days', 'num_title_ru_sum_3days', 'num_title_ru_max_3days', 'num_country_max_3days', 'num_city_max_3days', 'other_content_sum_3days', 'top_1_sum_3days', 'top_2_sum_3days', 'top_3_sum_3days', 'top_4_sum_3days', 'top_5_sum_3days', 'top_6_sum_3days', 'top_7_sum_3days', 'top_8_sum_3days', 'top_9_sum_3days', 'top_10_sum_3days', 'android_max_3days', 'smarttv_max_3days', 'iphone_max_3days', 'ipad_max_3days', 'apple_max_3days', 'pc_max_3days', 'time_spent_sum_7days', 'time_spent_max_7days', 'num_title_ep_sum_7days', 'num_title_ep_max_7days', 'num_title_ru_sum_7days', 'num_title_ru_max_7days', 'num_country_max_7days', 'num_city_max_7days', 'other_content_sum_7days', 'top_1_sum_7days', 'top_2_sum_7days', 'top_3_sum_7days', 'top_4_sum_7days', 'top_5_sum_7days', 'top_6_sum_7days', 'top_7_sum_7days', 'top_8_sum_7days', 'top_9_sum_7days', 'top_10_sum_7days', 'android_max_7days', 'smarttv_max_7days', 'iphone_max_7days', 'ipad_max_7days', 'apple_max_7days', 'pc_max_7days', 'time_spent_sum_14days', 'time_spent_max_14days', 'num_title_ep_sum_14days', 'num_title_ep_max_14days', 'num_title_ru_sum_14days', 'num_title_ru_max_14days', 'num_country_max_14days', 'num_city_max_14days', 'other_content_sum_14days', 'top_1_sum_14days', 'top_2_sum_14days', 'top_3_sum_14days', 'top_4_sum_14days', 'top_5_sum_14days', 'top_6_sum_14days', 'top_7_sum_14days', 'top_8_sum_14days', 'top_9_sum_14days', 'top_10_sum_14days', 'android_max_14days', 'smarttv_max_14days', 'iphone_max_14days', 'ipad_max_14days', 'apple_max_14days', 'pc_max_14days', 'time_spent_sum_21days']\n",
      "5-fold CV is : 0.74 +/- 0.0011\n"
     ]
    },
    {
     "name": "stderr",
     "output_type": "stream",
     "text": [
      "\n",
      " 60%|███████████████████▉             | 85/141 [10:16<11:18, 12.11s/it]"
     ]
    },
    {
     "name": "stdout",
     "output_type": "stream",
     "text": [
      "adding feature time_spent_max_21days\n",
      "performing CV with features: ['days_to_end', 'num_country_max_1days', 'num_city_max_1days', 'android_max_1days', 'smarttv_max_1days', 'iphone_max_1days', 'ipad_max_1days', 'apple_max_1days', 'pc_max_1days', 'time_spent_sum_3days', 'time_spent_max_3days', 'num_title_ep_sum_3days', 'num_title_ep_max_3days', 'num_title_ru_sum_3days', 'num_title_ru_max_3days', 'num_country_max_3days', 'num_city_max_3days', 'other_content_sum_3days', 'top_1_sum_3days', 'top_2_sum_3days', 'top_3_sum_3days', 'top_4_sum_3days', 'top_5_sum_3days', 'top_6_sum_3days', 'top_7_sum_3days', 'top_8_sum_3days', 'top_9_sum_3days', 'top_10_sum_3days', 'android_max_3days', 'smarttv_max_3days', 'iphone_max_3days', 'ipad_max_3days', 'apple_max_3days', 'pc_max_3days', 'time_spent_sum_7days', 'time_spent_max_7days', 'num_title_ep_sum_7days', 'num_title_ep_max_7days', 'num_title_ru_sum_7days', 'num_title_ru_max_7days', 'num_country_max_7days', 'num_city_max_7days', 'other_content_sum_7days', 'top_1_sum_7days', 'top_2_sum_7days', 'top_3_sum_7days', 'top_4_sum_7days', 'top_5_sum_7days', 'top_6_sum_7days', 'top_7_sum_7days', 'top_8_sum_7days', 'top_9_sum_7days', 'top_10_sum_7days', 'android_max_7days', 'smarttv_max_7days', 'iphone_max_7days', 'ipad_max_7days', 'apple_max_7days', 'pc_max_7days', 'time_spent_sum_14days', 'time_spent_max_14days', 'num_title_ep_sum_14days', 'num_title_ep_max_14days', 'num_title_ru_sum_14days', 'num_title_ru_max_14days', 'num_country_max_14days', 'num_city_max_14days', 'other_content_sum_14days', 'top_1_sum_14days', 'top_2_sum_14days', 'top_3_sum_14days', 'top_4_sum_14days', 'top_5_sum_14days', 'top_6_sum_14days', 'top_7_sum_14days', 'top_8_sum_14days', 'top_9_sum_14days', 'top_10_sum_14days', 'android_max_14days', 'smarttv_max_14days', 'iphone_max_14days', 'ipad_max_14days', 'apple_max_14days', 'pc_max_14days', 'time_spent_sum_21days', 'time_spent_max_21days']\n",
      "5-fold CV is : 0.7434 +/- 0.0023\n"
     ]
    },
    {
     "name": "stderr",
     "output_type": "stream",
     "text": [
      "\n",
      " 61%|████████████████████▏            | 86/141 [10:28<11:15, 12.27s/it]"
     ]
    },
    {
     "name": "stdout",
     "output_type": "stream",
     "text": [
      "adding feature num_title_ep_sum_21days\n",
      "performing CV with features: ['days_to_end', 'num_country_max_1days', 'num_city_max_1days', 'android_max_1days', 'smarttv_max_1days', 'iphone_max_1days', 'ipad_max_1days', 'apple_max_1days', 'pc_max_1days', 'time_spent_sum_3days', 'time_spent_max_3days', 'num_title_ep_sum_3days', 'num_title_ep_max_3days', 'num_title_ru_sum_3days', 'num_title_ru_max_3days', 'num_country_max_3days', 'num_city_max_3days', 'other_content_sum_3days', 'top_1_sum_3days', 'top_2_sum_3days', 'top_3_sum_3days', 'top_4_sum_3days', 'top_5_sum_3days', 'top_6_sum_3days', 'top_7_sum_3days', 'top_8_sum_3days', 'top_9_sum_3days', 'top_10_sum_3days', 'android_max_3days', 'smarttv_max_3days', 'iphone_max_3days', 'ipad_max_3days', 'apple_max_3days', 'pc_max_3days', 'time_spent_sum_7days', 'time_spent_max_7days', 'num_title_ep_sum_7days', 'num_title_ep_max_7days', 'num_title_ru_sum_7days', 'num_title_ru_max_7days', 'num_country_max_7days', 'num_city_max_7days', 'other_content_sum_7days', 'top_1_sum_7days', 'top_2_sum_7days', 'top_3_sum_7days', 'top_4_sum_7days', 'top_5_sum_7days', 'top_6_sum_7days', 'top_7_sum_7days', 'top_8_sum_7days', 'top_9_sum_7days', 'top_10_sum_7days', 'android_max_7days', 'smarttv_max_7days', 'iphone_max_7days', 'ipad_max_7days', 'apple_max_7days', 'pc_max_7days', 'time_spent_sum_14days', 'time_spent_max_14days', 'num_title_ep_sum_14days', 'num_title_ep_max_14days', 'num_title_ru_sum_14days', 'num_title_ru_max_14days', 'num_country_max_14days', 'num_city_max_14days', 'other_content_sum_14days', 'top_1_sum_14days', 'top_2_sum_14days', 'top_3_sum_14days', 'top_4_sum_14days', 'top_5_sum_14days', 'top_6_sum_14days', 'top_7_sum_14days', 'top_8_sum_14days', 'top_9_sum_14days', 'top_10_sum_14days', 'android_max_14days', 'smarttv_max_14days', 'iphone_max_14days', 'ipad_max_14days', 'apple_max_14days', 'pc_max_14days', 'time_spent_sum_21days', 'time_spent_max_21days', 'num_title_ep_sum_21days']\n",
      "5-fold CV is : 0.7433 +/- 0.0023\n"
     ]
    },
    {
     "name": "stderr",
     "output_type": "stream",
     "text": [
      "\n",
      " 62%|████████████████████▎            | 87/141 [10:42<11:16, 12.54s/it]"
     ]
    },
    {
     "name": "stdout",
     "output_type": "stream",
     "text": [
      "adding feature num_title_ep_max_21days\n",
      "performing CV with features: ['days_to_end', 'num_country_max_1days', 'num_city_max_1days', 'android_max_1days', 'smarttv_max_1days', 'iphone_max_1days', 'ipad_max_1days', 'apple_max_1days', 'pc_max_1days', 'time_spent_sum_3days', 'time_spent_max_3days', 'num_title_ep_sum_3days', 'num_title_ep_max_3days', 'num_title_ru_sum_3days', 'num_title_ru_max_3days', 'num_country_max_3days', 'num_city_max_3days', 'other_content_sum_3days', 'top_1_sum_3days', 'top_2_sum_3days', 'top_3_sum_3days', 'top_4_sum_3days', 'top_5_sum_3days', 'top_6_sum_3days', 'top_7_sum_3days', 'top_8_sum_3days', 'top_9_sum_3days', 'top_10_sum_3days', 'android_max_3days', 'smarttv_max_3days', 'iphone_max_3days', 'ipad_max_3days', 'apple_max_3days', 'pc_max_3days', 'time_spent_sum_7days', 'time_spent_max_7days', 'num_title_ep_sum_7days', 'num_title_ep_max_7days', 'num_title_ru_sum_7days', 'num_title_ru_max_7days', 'num_country_max_7days', 'num_city_max_7days', 'other_content_sum_7days', 'top_1_sum_7days', 'top_2_sum_7days', 'top_3_sum_7days', 'top_4_sum_7days', 'top_5_sum_7days', 'top_6_sum_7days', 'top_7_sum_7days', 'top_8_sum_7days', 'top_9_sum_7days', 'top_10_sum_7days', 'android_max_7days', 'smarttv_max_7days', 'iphone_max_7days', 'ipad_max_7days', 'apple_max_7days', 'pc_max_7days', 'time_spent_sum_14days', 'time_spent_max_14days', 'num_title_ep_sum_14days', 'num_title_ep_max_14days', 'num_title_ru_sum_14days', 'num_title_ru_max_14days', 'num_country_max_14days', 'num_city_max_14days', 'other_content_sum_14days', 'top_1_sum_14days', 'top_2_sum_14days', 'top_3_sum_14days', 'top_4_sum_14days', 'top_5_sum_14days', 'top_6_sum_14days', 'top_7_sum_14days', 'top_8_sum_14days', 'top_9_sum_14days', 'top_10_sum_14days', 'android_max_14days', 'smarttv_max_14days', 'iphone_max_14days', 'ipad_max_14days', 'apple_max_14days', 'pc_max_14days', 'time_spent_sum_21days', 'time_spent_max_21days', 'num_title_ep_sum_21days', 'num_title_ep_max_21days']\n",
      "5-fold CV is : 0.7462 +/- 0.002\n"
     ]
    },
    {
     "name": "stderr",
     "output_type": "stream",
     "text": [
      "\n",
      " 62%|████████████████████▌            | 88/141 [10:55<11:20, 12.84s/it]"
     ]
    },
    {
     "name": "stdout",
     "output_type": "stream",
     "text": [
      "adding feature num_title_ru_sum_21days\n",
      "performing CV with features: ['days_to_end', 'num_country_max_1days', 'num_city_max_1days', 'android_max_1days', 'smarttv_max_1days', 'iphone_max_1days', 'ipad_max_1days', 'apple_max_1days', 'pc_max_1days', 'time_spent_sum_3days', 'time_spent_max_3days', 'num_title_ep_sum_3days', 'num_title_ep_max_3days', 'num_title_ru_sum_3days', 'num_title_ru_max_3days', 'num_country_max_3days', 'num_city_max_3days', 'other_content_sum_3days', 'top_1_sum_3days', 'top_2_sum_3days', 'top_3_sum_3days', 'top_4_sum_3days', 'top_5_sum_3days', 'top_6_sum_3days', 'top_7_sum_3days', 'top_8_sum_3days', 'top_9_sum_3days', 'top_10_sum_3days', 'android_max_3days', 'smarttv_max_3days', 'iphone_max_3days', 'ipad_max_3days', 'apple_max_3days', 'pc_max_3days', 'time_spent_sum_7days', 'time_spent_max_7days', 'num_title_ep_sum_7days', 'num_title_ep_max_7days', 'num_title_ru_sum_7days', 'num_title_ru_max_7days', 'num_country_max_7days', 'num_city_max_7days', 'other_content_sum_7days', 'top_1_sum_7days', 'top_2_sum_7days', 'top_3_sum_7days', 'top_4_sum_7days', 'top_5_sum_7days', 'top_6_sum_7days', 'top_7_sum_7days', 'top_8_sum_7days', 'top_9_sum_7days', 'top_10_sum_7days', 'android_max_7days', 'smarttv_max_7days', 'iphone_max_7days', 'ipad_max_7days', 'apple_max_7days', 'pc_max_7days', 'time_spent_sum_14days', 'time_spent_max_14days', 'num_title_ep_sum_14days', 'num_title_ep_max_14days', 'num_title_ru_sum_14days', 'num_title_ru_max_14days', 'num_country_max_14days', 'num_city_max_14days', 'other_content_sum_14days', 'top_1_sum_14days', 'top_2_sum_14days', 'top_3_sum_14days', 'top_4_sum_14days', 'top_5_sum_14days', 'top_6_sum_14days', 'top_7_sum_14days', 'top_8_sum_14days', 'top_9_sum_14days', 'top_10_sum_14days', 'android_max_14days', 'smarttv_max_14days', 'iphone_max_14days', 'ipad_max_14days', 'apple_max_14days', 'pc_max_14days', 'time_spent_sum_21days', 'time_spent_max_21days', 'num_title_ep_sum_21days', 'num_title_ep_max_21days', 'num_title_ru_sum_21days']\n",
      "5-fold CV is : 0.7461 +/- 0.0017\n"
     ]
    },
    {
     "name": "stderr",
     "output_type": "stream",
     "text": [
      "\n",
      " 63%|████████████████████▊            | 89/141 [11:08<11:15, 12.99s/it]"
     ]
    },
    {
     "name": "stdout",
     "output_type": "stream",
     "text": [
      "adding feature num_title_ru_max_21days\n",
      "performing CV with features: ['days_to_end', 'num_country_max_1days', 'num_city_max_1days', 'android_max_1days', 'smarttv_max_1days', 'iphone_max_1days', 'ipad_max_1days', 'apple_max_1days', 'pc_max_1days', 'time_spent_sum_3days', 'time_spent_max_3days', 'num_title_ep_sum_3days', 'num_title_ep_max_3days', 'num_title_ru_sum_3days', 'num_title_ru_max_3days', 'num_country_max_3days', 'num_city_max_3days', 'other_content_sum_3days', 'top_1_sum_3days', 'top_2_sum_3days', 'top_3_sum_3days', 'top_4_sum_3days', 'top_5_sum_3days', 'top_6_sum_3days', 'top_7_sum_3days', 'top_8_sum_3days', 'top_9_sum_3days', 'top_10_sum_3days', 'android_max_3days', 'smarttv_max_3days', 'iphone_max_3days', 'ipad_max_3days', 'apple_max_3days', 'pc_max_3days', 'time_spent_sum_7days', 'time_spent_max_7days', 'num_title_ep_sum_7days', 'num_title_ep_max_7days', 'num_title_ru_sum_7days', 'num_title_ru_max_7days', 'num_country_max_7days', 'num_city_max_7days', 'other_content_sum_7days', 'top_1_sum_7days', 'top_2_sum_7days', 'top_3_sum_7days', 'top_4_sum_7days', 'top_5_sum_7days', 'top_6_sum_7days', 'top_7_sum_7days', 'top_8_sum_7days', 'top_9_sum_7days', 'top_10_sum_7days', 'android_max_7days', 'smarttv_max_7days', 'iphone_max_7days', 'ipad_max_7days', 'apple_max_7days', 'pc_max_7days', 'time_spent_sum_14days', 'time_spent_max_14days', 'num_title_ep_sum_14days', 'num_title_ep_max_14days', 'num_title_ru_sum_14days', 'num_title_ru_max_14days', 'num_country_max_14days', 'num_city_max_14days', 'other_content_sum_14days', 'top_1_sum_14days', 'top_2_sum_14days', 'top_3_sum_14days', 'top_4_sum_14days', 'top_5_sum_14days', 'top_6_sum_14days', 'top_7_sum_14days', 'top_8_sum_14days', 'top_9_sum_14days', 'top_10_sum_14days', 'android_max_14days', 'smarttv_max_14days', 'iphone_max_14days', 'ipad_max_14days', 'apple_max_14days', 'pc_max_14days', 'time_spent_sum_21days', 'time_spent_max_21days', 'num_title_ep_sum_21days', 'num_title_ep_max_21days', 'num_title_ru_sum_21days', 'num_title_ru_max_21days']\n",
      "5-fold CV is : 0.7454 +/- 0.0017\n"
     ]
    },
    {
     "name": "stderr",
     "output_type": "stream",
     "text": [
      "\n",
      " 64%|█████████████████████            | 90/141 [11:22<11:06, 13.07s/it]"
     ]
    },
    {
     "name": "stdout",
     "output_type": "stream",
     "text": [
      "adding feature num_country_max_21days\n",
      "performing CV with features: ['days_to_end', 'num_country_max_1days', 'num_city_max_1days', 'android_max_1days', 'smarttv_max_1days', 'iphone_max_1days', 'ipad_max_1days', 'apple_max_1days', 'pc_max_1days', 'time_spent_sum_3days', 'time_spent_max_3days', 'num_title_ep_sum_3days', 'num_title_ep_max_3days', 'num_title_ru_sum_3days', 'num_title_ru_max_3days', 'num_country_max_3days', 'num_city_max_3days', 'other_content_sum_3days', 'top_1_sum_3days', 'top_2_sum_3days', 'top_3_sum_3days', 'top_4_sum_3days', 'top_5_sum_3days', 'top_6_sum_3days', 'top_7_sum_3days', 'top_8_sum_3days', 'top_9_sum_3days', 'top_10_sum_3days', 'android_max_3days', 'smarttv_max_3days', 'iphone_max_3days', 'ipad_max_3days', 'apple_max_3days', 'pc_max_3days', 'time_spent_sum_7days', 'time_spent_max_7days', 'num_title_ep_sum_7days', 'num_title_ep_max_7days', 'num_title_ru_sum_7days', 'num_title_ru_max_7days', 'num_country_max_7days', 'num_city_max_7days', 'other_content_sum_7days', 'top_1_sum_7days', 'top_2_sum_7days', 'top_3_sum_7days', 'top_4_sum_7days', 'top_5_sum_7days', 'top_6_sum_7days', 'top_7_sum_7days', 'top_8_sum_7days', 'top_9_sum_7days', 'top_10_sum_7days', 'android_max_7days', 'smarttv_max_7days', 'iphone_max_7days', 'ipad_max_7days', 'apple_max_7days', 'pc_max_7days', 'time_spent_sum_14days', 'time_spent_max_14days', 'num_title_ep_sum_14days', 'num_title_ep_max_14days', 'num_title_ru_sum_14days', 'num_title_ru_max_14days', 'num_country_max_14days', 'num_city_max_14days', 'other_content_sum_14days', 'top_1_sum_14days', 'top_2_sum_14days', 'top_3_sum_14days', 'top_4_sum_14days', 'top_5_sum_14days', 'top_6_sum_14days', 'top_7_sum_14days', 'top_8_sum_14days', 'top_9_sum_14days', 'top_10_sum_14days', 'android_max_14days', 'smarttv_max_14days', 'iphone_max_14days', 'ipad_max_14days', 'apple_max_14days', 'pc_max_14days', 'time_spent_sum_21days', 'time_spent_max_21days', 'num_title_ep_sum_21days', 'num_title_ep_max_21days', 'num_title_ru_sum_21days', 'num_title_ru_max_21days', 'num_country_max_21days']\n",
      "5-fold CV is : 0.7469 +/- 0.0017\n"
     ]
    },
    {
     "name": "stderr",
     "output_type": "stream",
     "text": [
      "\n",
      " 65%|█████████████████████▎           | 91/141 [11:36<11:06, 13.33s/it]"
     ]
    },
    {
     "name": "stdout",
     "output_type": "stream",
     "text": [
      "adding feature num_city_max_21days\n",
      "performing CV with features: ['days_to_end', 'num_country_max_1days', 'num_city_max_1days', 'android_max_1days', 'smarttv_max_1days', 'iphone_max_1days', 'ipad_max_1days', 'apple_max_1days', 'pc_max_1days', 'time_spent_sum_3days', 'time_spent_max_3days', 'num_title_ep_sum_3days', 'num_title_ep_max_3days', 'num_title_ru_sum_3days', 'num_title_ru_max_3days', 'num_country_max_3days', 'num_city_max_3days', 'other_content_sum_3days', 'top_1_sum_3days', 'top_2_sum_3days', 'top_3_sum_3days', 'top_4_sum_3days', 'top_5_sum_3days', 'top_6_sum_3days', 'top_7_sum_3days', 'top_8_sum_3days', 'top_9_sum_3days', 'top_10_sum_3days', 'android_max_3days', 'smarttv_max_3days', 'iphone_max_3days', 'ipad_max_3days', 'apple_max_3days', 'pc_max_3days', 'time_spent_sum_7days', 'time_spent_max_7days', 'num_title_ep_sum_7days', 'num_title_ep_max_7days', 'num_title_ru_sum_7days', 'num_title_ru_max_7days', 'num_country_max_7days', 'num_city_max_7days', 'other_content_sum_7days', 'top_1_sum_7days', 'top_2_sum_7days', 'top_3_sum_7days', 'top_4_sum_7days', 'top_5_sum_7days', 'top_6_sum_7days', 'top_7_sum_7days', 'top_8_sum_7days', 'top_9_sum_7days', 'top_10_sum_7days', 'android_max_7days', 'smarttv_max_7days', 'iphone_max_7days', 'ipad_max_7days', 'apple_max_7days', 'pc_max_7days', 'time_spent_sum_14days', 'time_spent_max_14days', 'num_title_ep_sum_14days', 'num_title_ep_max_14days', 'num_title_ru_sum_14days', 'num_title_ru_max_14days', 'num_country_max_14days', 'num_city_max_14days', 'other_content_sum_14days', 'top_1_sum_14days', 'top_2_sum_14days', 'top_3_sum_14days', 'top_4_sum_14days', 'top_5_sum_14days', 'top_6_sum_14days', 'top_7_sum_14days', 'top_8_sum_14days', 'top_9_sum_14days', 'top_10_sum_14days', 'android_max_14days', 'smarttv_max_14days', 'iphone_max_14days', 'ipad_max_14days', 'apple_max_14days', 'pc_max_14days', 'time_spent_sum_21days', 'time_spent_max_21days', 'num_title_ep_sum_21days', 'num_title_ep_max_21days', 'num_title_ru_sum_21days', 'num_title_ru_max_21days', 'num_country_max_21days', 'num_city_max_21days']\n",
      "5-fold CV is : 0.7471 +/- 0.002\n"
     ]
    },
    {
     "name": "stderr",
     "output_type": "stream",
     "text": [
      "\n",
      " 65%|█████████████████████▌           | 92/141 [11:50<11:01, 13.50s/it]"
     ]
    },
    {
     "name": "stdout",
     "output_type": "stream",
     "text": [
      "adding feature other_content_sum_21days\n",
      "performing CV with features: ['days_to_end', 'num_country_max_1days', 'num_city_max_1days', 'android_max_1days', 'smarttv_max_1days', 'iphone_max_1days', 'ipad_max_1days', 'apple_max_1days', 'pc_max_1days', 'time_spent_sum_3days', 'time_spent_max_3days', 'num_title_ep_sum_3days', 'num_title_ep_max_3days', 'num_title_ru_sum_3days', 'num_title_ru_max_3days', 'num_country_max_3days', 'num_city_max_3days', 'other_content_sum_3days', 'top_1_sum_3days', 'top_2_sum_3days', 'top_3_sum_3days', 'top_4_sum_3days', 'top_5_sum_3days', 'top_6_sum_3days', 'top_7_sum_3days', 'top_8_sum_3days', 'top_9_sum_3days', 'top_10_sum_3days', 'android_max_3days', 'smarttv_max_3days', 'iphone_max_3days', 'ipad_max_3days', 'apple_max_3days', 'pc_max_3days', 'time_spent_sum_7days', 'time_spent_max_7days', 'num_title_ep_sum_7days', 'num_title_ep_max_7days', 'num_title_ru_sum_7days', 'num_title_ru_max_7days', 'num_country_max_7days', 'num_city_max_7days', 'other_content_sum_7days', 'top_1_sum_7days', 'top_2_sum_7days', 'top_3_sum_7days', 'top_4_sum_7days', 'top_5_sum_7days', 'top_6_sum_7days', 'top_7_sum_7days', 'top_8_sum_7days', 'top_9_sum_7days', 'top_10_sum_7days', 'android_max_7days', 'smarttv_max_7days', 'iphone_max_7days', 'ipad_max_7days', 'apple_max_7days', 'pc_max_7days', 'time_spent_sum_14days', 'time_spent_max_14days', 'num_title_ep_sum_14days', 'num_title_ep_max_14days', 'num_title_ru_sum_14days', 'num_title_ru_max_14days', 'num_country_max_14days', 'num_city_max_14days', 'other_content_sum_14days', 'top_1_sum_14days', 'top_2_sum_14days', 'top_3_sum_14days', 'top_4_sum_14days', 'top_5_sum_14days', 'top_6_sum_14days', 'top_7_sum_14days', 'top_8_sum_14days', 'top_9_sum_14days', 'top_10_sum_14days', 'android_max_14days', 'smarttv_max_14days', 'iphone_max_14days', 'ipad_max_14days', 'apple_max_14days', 'pc_max_14days', 'time_spent_sum_21days', 'time_spent_max_21days', 'num_title_ep_sum_21days', 'num_title_ep_max_21days', 'num_title_ru_sum_21days', 'num_title_ru_max_21days', 'num_country_max_21days', 'num_city_max_21days', 'other_content_sum_21days']\n",
      "5-fold CV is : 0.7484 +/- 0.0025\n"
     ]
    },
    {
     "name": "stderr",
     "output_type": "stream",
     "text": [
      "\n",
      " 66%|█████████████████████▊           | 93/141 [12:04<10:58, 13.71s/it]"
     ]
    },
    {
     "name": "stdout",
     "output_type": "stream",
     "text": [
      "adding feature top_1_sum_21days\n",
      "performing CV with features: ['days_to_end', 'num_country_max_1days', 'num_city_max_1days', 'android_max_1days', 'smarttv_max_1days', 'iphone_max_1days', 'ipad_max_1days', 'apple_max_1days', 'pc_max_1days', 'time_spent_sum_3days', 'time_spent_max_3days', 'num_title_ep_sum_3days', 'num_title_ep_max_3days', 'num_title_ru_sum_3days', 'num_title_ru_max_3days', 'num_country_max_3days', 'num_city_max_3days', 'other_content_sum_3days', 'top_1_sum_3days', 'top_2_sum_3days', 'top_3_sum_3days', 'top_4_sum_3days', 'top_5_sum_3days', 'top_6_sum_3days', 'top_7_sum_3days', 'top_8_sum_3days', 'top_9_sum_3days', 'top_10_sum_3days', 'android_max_3days', 'smarttv_max_3days', 'iphone_max_3days', 'ipad_max_3days', 'apple_max_3days', 'pc_max_3days', 'time_spent_sum_7days', 'time_spent_max_7days', 'num_title_ep_sum_7days', 'num_title_ep_max_7days', 'num_title_ru_sum_7days', 'num_title_ru_max_7days', 'num_country_max_7days', 'num_city_max_7days', 'other_content_sum_7days', 'top_1_sum_7days', 'top_2_sum_7days', 'top_3_sum_7days', 'top_4_sum_7days', 'top_5_sum_7days', 'top_6_sum_7days', 'top_7_sum_7days', 'top_8_sum_7days', 'top_9_sum_7days', 'top_10_sum_7days', 'android_max_7days', 'smarttv_max_7days', 'iphone_max_7days', 'ipad_max_7days', 'apple_max_7days', 'pc_max_7days', 'time_spent_sum_14days', 'time_spent_max_14days', 'num_title_ep_sum_14days', 'num_title_ep_max_14days', 'num_title_ru_sum_14days', 'num_title_ru_max_14days', 'num_country_max_14days', 'num_city_max_14days', 'other_content_sum_14days', 'top_1_sum_14days', 'top_2_sum_14days', 'top_3_sum_14days', 'top_4_sum_14days', 'top_5_sum_14days', 'top_6_sum_14days', 'top_7_sum_14days', 'top_8_sum_14days', 'top_9_sum_14days', 'top_10_sum_14days', 'android_max_14days', 'smarttv_max_14days', 'iphone_max_14days', 'ipad_max_14days', 'apple_max_14days', 'pc_max_14days', 'time_spent_sum_21days', 'time_spent_max_21days', 'num_title_ep_sum_21days', 'num_title_ep_max_21days', 'num_title_ru_sum_21days', 'num_title_ru_max_21days', 'num_country_max_21days', 'num_city_max_21days', 'other_content_sum_21days', 'top_1_sum_21days']\n",
      "5-fold CV is : 0.7504 +/- 0.0023\n"
     ]
    },
    {
     "name": "stderr",
     "output_type": "stream",
     "text": [
      "\n",
      " 67%|██████████████████████           | 94/141 [12:18<10:49, 13.81s/it]"
     ]
    },
    {
     "name": "stdout",
     "output_type": "stream",
     "text": [
      "adding feature top_2_sum_21days\n",
      "performing CV with features: ['days_to_end', 'num_country_max_1days', 'num_city_max_1days', 'android_max_1days', 'smarttv_max_1days', 'iphone_max_1days', 'ipad_max_1days', 'apple_max_1days', 'pc_max_1days', 'time_spent_sum_3days', 'time_spent_max_3days', 'num_title_ep_sum_3days', 'num_title_ep_max_3days', 'num_title_ru_sum_3days', 'num_title_ru_max_3days', 'num_country_max_3days', 'num_city_max_3days', 'other_content_sum_3days', 'top_1_sum_3days', 'top_2_sum_3days', 'top_3_sum_3days', 'top_4_sum_3days', 'top_5_sum_3days', 'top_6_sum_3days', 'top_7_sum_3days', 'top_8_sum_3days', 'top_9_sum_3days', 'top_10_sum_3days', 'android_max_3days', 'smarttv_max_3days', 'iphone_max_3days', 'ipad_max_3days', 'apple_max_3days', 'pc_max_3days', 'time_spent_sum_7days', 'time_spent_max_7days', 'num_title_ep_sum_7days', 'num_title_ep_max_7days', 'num_title_ru_sum_7days', 'num_title_ru_max_7days', 'num_country_max_7days', 'num_city_max_7days', 'other_content_sum_7days', 'top_1_sum_7days', 'top_2_sum_7days', 'top_3_sum_7days', 'top_4_sum_7days', 'top_5_sum_7days', 'top_6_sum_7days', 'top_7_sum_7days', 'top_8_sum_7days', 'top_9_sum_7days', 'top_10_sum_7days', 'android_max_7days', 'smarttv_max_7days', 'iphone_max_7days', 'ipad_max_7days', 'apple_max_7days', 'pc_max_7days', 'time_spent_sum_14days', 'time_spent_max_14days', 'num_title_ep_sum_14days', 'num_title_ep_max_14days', 'num_title_ru_sum_14days', 'num_title_ru_max_14days', 'num_country_max_14days', 'num_city_max_14days', 'other_content_sum_14days', 'top_1_sum_14days', 'top_2_sum_14days', 'top_3_sum_14days', 'top_4_sum_14days', 'top_5_sum_14days', 'top_6_sum_14days', 'top_7_sum_14days', 'top_8_sum_14days', 'top_9_sum_14days', 'top_10_sum_14days', 'android_max_14days', 'smarttv_max_14days', 'iphone_max_14days', 'ipad_max_14days', 'apple_max_14days', 'pc_max_14days', 'time_spent_sum_21days', 'time_spent_max_21days', 'num_title_ep_sum_21days', 'num_title_ep_max_21days', 'num_title_ru_sum_21days', 'num_title_ru_max_21days', 'num_country_max_21days', 'num_city_max_21days', 'other_content_sum_21days', 'top_1_sum_21days', 'top_2_sum_21days']\n",
      "5-fold CV is : 0.7524 +/- 0.0019\n"
     ]
    },
    {
     "name": "stderr",
     "output_type": "stream",
     "text": [
      "\n",
      " 67%|██████████████████████▏          | 95/141 [12:32<10:43, 14.00s/it]"
     ]
    },
    {
     "name": "stdout",
     "output_type": "stream",
     "text": [
      "adding feature top_3_sum_21days\n",
      "performing CV with features: ['days_to_end', 'num_country_max_1days', 'num_city_max_1days', 'android_max_1days', 'smarttv_max_1days', 'iphone_max_1days', 'ipad_max_1days', 'apple_max_1days', 'pc_max_1days', 'time_spent_sum_3days', 'time_spent_max_3days', 'num_title_ep_sum_3days', 'num_title_ep_max_3days', 'num_title_ru_sum_3days', 'num_title_ru_max_3days', 'num_country_max_3days', 'num_city_max_3days', 'other_content_sum_3days', 'top_1_sum_3days', 'top_2_sum_3days', 'top_3_sum_3days', 'top_4_sum_3days', 'top_5_sum_3days', 'top_6_sum_3days', 'top_7_sum_3days', 'top_8_sum_3days', 'top_9_sum_3days', 'top_10_sum_3days', 'android_max_3days', 'smarttv_max_3days', 'iphone_max_3days', 'ipad_max_3days', 'apple_max_3days', 'pc_max_3days', 'time_spent_sum_7days', 'time_spent_max_7days', 'num_title_ep_sum_7days', 'num_title_ep_max_7days', 'num_title_ru_sum_7days', 'num_title_ru_max_7days', 'num_country_max_7days', 'num_city_max_7days', 'other_content_sum_7days', 'top_1_sum_7days', 'top_2_sum_7days', 'top_3_sum_7days', 'top_4_sum_7days', 'top_5_sum_7days', 'top_6_sum_7days', 'top_7_sum_7days', 'top_8_sum_7days', 'top_9_sum_7days', 'top_10_sum_7days', 'android_max_7days', 'smarttv_max_7days', 'iphone_max_7days', 'ipad_max_7days', 'apple_max_7days', 'pc_max_7days', 'time_spent_sum_14days', 'time_spent_max_14days', 'num_title_ep_sum_14days', 'num_title_ep_max_14days', 'num_title_ru_sum_14days', 'num_title_ru_max_14days', 'num_country_max_14days', 'num_city_max_14days', 'other_content_sum_14days', 'top_1_sum_14days', 'top_2_sum_14days', 'top_3_sum_14days', 'top_4_sum_14days', 'top_5_sum_14days', 'top_6_sum_14days', 'top_7_sum_14days', 'top_8_sum_14days', 'top_9_sum_14days', 'top_10_sum_14days', 'android_max_14days', 'smarttv_max_14days', 'iphone_max_14days', 'ipad_max_14days', 'apple_max_14days', 'pc_max_14days', 'time_spent_sum_21days', 'time_spent_max_21days', 'num_title_ep_sum_21days', 'num_title_ep_max_21days', 'num_title_ru_sum_21days', 'num_title_ru_max_21days', 'num_country_max_21days', 'num_city_max_21days', 'other_content_sum_21days', 'top_1_sum_21days', 'top_2_sum_21days', 'top_3_sum_21days']\n",
      "5-fold CV is : 0.7532 +/- 0.0013\n"
     ]
    },
    {
     "name": "stderr",
     "output_type": "stream",
     "text": [
      "\n",
      " 68%|██████████████████████▍          | 96/141 [12:47<10:42, 14.27s/it]"
     ]
    },
    {
     "name": "stdout",
     "output_type": "stream",
     "text": [
      "adding feature top_4_sum_21days\n",
      "performing CV with features: ['days_to_end', 'num_country_max_1days', 'num_city_max_1days', 'android_max_1days', 'smarttv_max_1days', 'iphone_max_1days', 'ipad_max_1days', 'apple_max_1days', 'pc_max_1days', 'time_spent_sum_3days', 'time_spent_max_3days', 'num_title_ep_sum_3days', 'num_title_ep_max_3days', 'num_title_ru_sum_3days', 'num_title_ru_max_3days', 'num_country_max_3days', 'num_city_max_3days', 'other_content_sum_3days', 'top_1_sum_3days', 'top_2_sum_3days', 'top_3_sum_3days', 'top_4_sum_3days', 'top_5_sum_3days', 'top_6_sum_3days', 'top_7_sum_3days', 'top_8_sum_3days', 'top_9_sum_3days', 'top_10_sum_3days', 'android_max_3days', 'smarttv_max_3days', 'iphone_max_3days', 'ipad_max_3days', 'apple_max_3days', 'pc_max_3days', 'time_spent_sum_7days', 'time_spent_max_7days', 'num_title_ep_sum_7days', 'num_title_ep_max_7days', 'num_title_ru_sum_7days', 'num_title_ru_max_7days', 'num_country_max_7days', 'num_city_max_7days', 'other_content_sum_7days', 'top_1_sum_7days', 'top_2_sum_7days', 'top_3_sum_7days', 'top_4_sum_7days', 'top_5_sum_7days', 'top_6_sum_7days', 'top_7_sum_7days', 'top_8_sum_7days', 'top_9_sum_7days', 'top_10_sum_7days', 'android_max_7days', 'smarttv_max_7days', 'iphone_max_7days', 'ipad_max_7days', 'apple_max_7days', 'pc_max_7days', 'time_spent_sum_14days', 'time_spent_max_14days', 'num_title_ep_sum_14days', 'num_title_ep_max_14days', 'num_title_ru_sum_14days', 'num_title_ru_max_14days', 'num_country_max_14days', 'num_city_max_14days', 'other_content_sum_14days', 'top_1_sum_14days', 'top_2_sum_14days', 'top_3_sum_14days', 'top_4_sum_14days', 'top_5_sum_14days', 'top_6_sum_14days', 'top_7_sum_14days', 'top_8_sum_14days', 'top_9_sum_14days', 'top_10_sum_14days', 'android_max_14days', 'smarttv_max_14days', 'iphone_max_14days', 'ipad_max_14days', 'apple_max_14days', 'pc_max_14days', 'time_spent_sum_21days', 'time_spent_max_21days', 'num_title_ep_sum_21days', 'num_title_ep_max_21days', 'num_title_ru_sum_21days', 'num_title_ru_max_21days', 'num_country_max_21days', 'num_city_max_21days', 'other_content_sum_21days', 'top_1_sum_21days', 'top_2_sum_21days', 'top_3_sum_21days', 'top_4_sum_21days']\n",
      "5-fold CV is : 0.7535 +/- 0.0017\n"
     ]
    },
    {
     "name": "stderr",
     "output_type": "stream",
     "text": [
      "\n",
      " 69%|██████████████████████▋          | 97/141 [13:02<10:38, 14.51s/it]"
     ]
    },
    {
     "name": "stdout",
     "output_type": "stream",
     "text": [
      "adding feature top_5_sum_21days\n",
      "performing CV with features: ['days_to_end', 'num_country_max_1days', 'num_city_max_1days', 'android_max_1days', 'smarttv_max_1days', 'iphone_max_1days', 'ipad_max_1days', 'apple_max_1days', 'pc_max_1days', 'time_spent_sum_3days', 'time_spent_max_3days', 'num_title_ep_sum_3days', 'num_title_ep_max_3days', 'num_title_ru_sum_3days', 'num_title_ru_max_3days', 'num_country_max_3days', 'num_city_max_3days', 'other_content_sum_3days', 'top_1_sum_3days', 'top_2_sum_3days', 'top_3_sum_3days', 'top_4_sum_3days', 'top_5_sum_3days', 'top_6_sum_3days', 'top_7_sum_3days', 'top_8_sum_3days', 'top_9_sum_3days', 'top_10_sum_3days', 'android_max_3days', 'smarttv_max_3days', 'iphone_max_3days', 'ipad_max_3days', 'apple_max_3days', 'pc_max_3days', 'time_spent_sum_7days', 'time_spent_max_7days', 'num_title_ep_sum_7days', 'num_title_ep_max_7days', 'num_title_ru_sum_7days', 'num_title_ru_max_7days', 'num_country_max_7days', 'num_city_max_7days', 'other_content_sum_7days', 'top_1_sum_7days', 'top_2_sum_7days', 'top_3_sum_7days', 'top_4_sum_7days', 'top_5_sum_7days', 'top_6_sum_7days', 'top_7_sum_7days', 'top_8_sum_7days', 'top_9_sum_7days', 'top_10_sum_7days', 'android_max_7days', 'smarttv_max_7days', 'iphone_max_7days', 'ipad_max_7days', 'apple_max_7days', 'pc_max_7days', 'time_spent_sum_14days', 'time_spent_max_14days', 'num_title_ep_sum_14days', 'num_title_ep_max_14days', 'num_title_ru_sum_14days', 'num_title_ru_max_14days', 'num_country_max_14days', 'num_city_max_14days', 'other_content_sum_14days', 'top_1_sum_14days', 'top_2_sum_14days', 'top_3_sum_14days', 'top_4_sum_14days', 'top_5_sum_14days', 'top_6_sum_14days', 'top_7_sum_14days', 'top_8_sum_14days', 'top_9_sum_14days', 'top_10_sum_14days', 'android_max_14days', 'smarttv_max_14days', 'iphone_max_14days', 'ipad_max_14days', 'apple_max_14days', 'pc_max_14days', 'time_spent_sum_21days', 'time_spent_max_21days', 'num_title_ep_sum_21days', 'num_title_ep_max_21days', 'num_title_ru_sum_21days', 'num_title_ru_max_21days', 'num_country_max_21days', 'num_city_max_21days', 'other_content_sum_21days', 'top_1_sum_21days', 'top_2_sum_21days', 'top_3_sum_21days', 'top_4_sum_21days', 'top_5_sum_21days']\n",
      "5-fold CV is : 0.7524 +/- 0.0027\n"
     ]
    },
    {
     "name": "stderr",
     "output_type": "stream",
     "text": [
      "\n",
      " 70%|██████████████████████▉          | 98/141 [13:17<10:30, 14.65s/it]"
     ]
    },
    {
     "name": "stdout",
     "output_type": "stream",
     "text": [
      "adding feature top_6_sum_21days\n",
      "performing CV with features: ['days_to_end', 'num_country_max_1days', 'num_city_max_1days', 'android_max_1days', 'smarttv_max_1days', 'iphone_max_1days', 'ipad_max_1days', 'apple_max_1days', 'pc_max_1days', 'time_spent_sum_3days', 'time_spent_max_3days', 'num_title_ep_sum_3days', 'num_title_ep_max_3days', 'num_title_ru_sum_3days', 'num_title_ru_max_3days', 'num_country_max_3days', 'num_city_max_3days', 'other_content_sum_3days', 'top_1_sum_3days', 'top_2_sum_3days', 'top_3_sum_3days', 'top_4_sum_3days', 'top_5_sum_3days', 'top_6_sum_3days', 'top_7_sum_3days', 'top_8_sum_3days', 'top_9_sum_3days', 'top_10_sum_3days', 'android_max_3days', 'smarttv_max_3days', 'iphone_max_3days', 'ipad_max_3days', 'apple_max_3days', 'pc_max_3days', 'time_spent_sum_7days', 'time_spent_max_7days', 'num_title_ep_sum_7days', 'num_title_ep_max_7days', 'num_title_ru_sum_7days', 'num_title_ru_max_7days', 'num_country_max_7days', 'num_city_max_7days', 'other_content_sum_7days', 'top_1_sum_7days', 'top_2_sum_7days', 'top_3_sum_7days', 'top_4_sum_7days', 'top_5_sum_7days', 'top_6_sum_7days', 'top_7_sum_7days', 'top_8_sum_7days', 'top_9_sum_7days', 'top_10_sum_7days', 'android_max_7days', 'smarttv_max_7days', 'iphone_max_7days', 'ipad_max_7days', 'apple_max_7days', 'pc_max_7days', 'time_spent_sum_14days', 'time_spent_max_14days', 'num_title_ep_sum_14days', 'num_title_ep_max_14days', 'num_title_ru_sum_14days', 'num_title_ru_max_14days', 'num_country_max_14days', 'num_city_max_14days', 'other_content_sum_14days', 'top_1_sum_14days', 'top_2_sum_14days', 'top_3_sum_14days', 'top_4_sum_14days', 'top_5_sum_14days', 'top_6_sum_14days', 'top_7_sum_14days', 'top_8_sum_14days', 'top_9_sum_14days', 'top_10_sum_14days', 'android_max_14days', 'smarttv_max_14days', 'iphone_max_14days', 'ipad_max_14days', 'apple_max_14days', 'pc_max_14days', 'time_spent_sum_21days', 'time_spent_max_21days', 'num_title_ep_sum_21days', 'num_title_ep_max_21days', 'num_title_ru_sum_21days', 'num_title_ru_max_21days', 'num_country_max_21days', 'num_city_max_21days', 'other_content_sum_21days', 'top_1_sum_21days', 'top_2_sum_21days', 'top_3_sum_21days', 'top_4_sum_21days', 'top_5_sum_21days', 'top_6_sum_21days']\n",
      "5-fold CV is : 0.7541 +/- 0.001\n"
     ]
    },
    {
     "name": "stderr",
     "output_type": "stream",
     "text": [
      "\n",
      " 70%|███████████████████████▏         | 99/141 [13:33<10:27, 14.94s/it]"
     ]
    },
    {
     "name": "stdout",
     "output_type": "stream",
     "text": [
      "adding feature top_7_sum_21days\n",
      "performing CV with features: ['days_to_end', 'num_country_max_1days', 'num_city_max_1days', 'android_max_1days', 'smarttv_max_1days', 'iphone_max_1days', 'ipad_max_1days', 'apple_max_1days', 'pc_max_1days', 'time_spent_sum_3days', 'time_spent_max_3days', 'num_title_ep_sum_3days', 'num_title_ep_max_3days', 'num_title_ru_sum_3days', 'num_title_ru_max_3days', 'num_country_max_3days', 'num_city_max_3days', 'other_content_sum_3days', 'top_1_sum_3days', 'top_2_sum_3days', 'top_3_sum_3days', 'top_4_sum_3days', 'top_5_sum_3days', 'top_6_sum_3days', 'top_7_sum_3days', 'top_8_sum_3days', 'top_9_sum_3days', 'top_10_sum_3days', 'android_max_3days', 'smarttv_max_3days', 'iphone_max_3days', 'ipad_max_3days', 'apple_max_3days', 'pc_max_3days', 'time_spent_sum_7days', 'time_spent_max_7days', 'num_title_ep_sum_7days', 'num_title_ep_max_7days', 'num_title_ru_sum_7days', 'num_title_ru_max_7days', 'num_country_max_7days', 'num_city_max_7days', 'other_content_sum_7days', 'top_1_sum_7days', 'top_2_sum_7days', 'top_3_sum_7days', 'top_4_sum_7days', 'top_5_sum_7days', 'top_6_sum_7days', 'top_7_sum_7days', 'top_8_sum_7days', 'top_9_sum_7days', 'top_10_sum_7days', 'android_max_7days', 'smarttv_max_7days', 'iphone_max_7days', 'ipad_max_7days', 'apple_max_7days', 'pc_max_7days', 'time_spent_sum_14days', 'time_spent_max_14days', 'num_title_ep_sum_14days', 'num_title_ep_max_14days', 'num_title_ru_sum_14days', 'num_title_ru_max_14days', 'num_country_max_14days', 'num_city_max_14days', 'other_content_sum_14days', 'top_1_sum_14days', 'top_2_sum_14days', 'top_3_sum_14days', 'top_4_sum_14days', 'top_5_sum_14days', 'top_6_sum_14days', 'top_7_sum_14days', 'top_8_sum_14days', 'top_9_sum_14days', 'top_10_sum_14days', 'android_max_14days', 'smarttv_max_14days', 'iphone_max_14days', 'ipad_max_14days', 'apple_max_14days', 'pc_max_14days', 'time_spent_sum_21days', 'time_spent_max_21days', 'num_title_ep_sum_21days', 'num_title_ep_max_21days', 'num_title_ru_sum_21days', 'num_title_ru_max_21days', 'num_country_max_21days', 'num_city_max_21days', 'other_content_sum_21days', 'top_1_sum_21days', 'top_2_sum_21days', 'top_3_sum_21days', 'top_4_sum_21days', 'top_5_sum_21days', 'top_6_sum_21days', 'top_7_sum_21days']\n",
      "5-fold CV is : 0.7552 +/- 0.0012\n"
     ]
    },
    {
     "name": "stderr",
     "output_type": "stream",
     "text": [
      "\n",
      " 71%|██████████████████████▋         | 100/141 [13:48<10:20, 15.14s/it]"
     ]
    },
    {
     "name": "stdout",
     "output_type": "stream",
     "text": [
      "adding feature top_8_sum_21days\n",
      "performing CV with features: ['days_to_end', 'num_country_max_1days', 'num_city_max_1days', 'android_max_1days', 'smarttv_max_1days', 'iphone_max_1days', 'ipad_max_1days', 'apple_max_1days', 'pc_max_1days', 'time_spent_sum_3days', 'time_spent_max_3days', 'num_title_ep_sum_3days', 'num_title_ep_max_3days', 'num_title_ru_sum_3days', 'num_title_ru_max_3days', 'num_country_max_3days', 'num_city_max_3days', 'other_content_sum_3days', 'top_1_sum_3days', 'top_2_sum_3days', 'top_3_sum_3days', 'top_4_sum_3days', 'top_5_sum_3days', 'top_6_sum_3days', 'top_7_sum_3days', 'top_8_sum_3days', 'top_9_sum_3days', 'top_10_sum_3days', 'android_max_3days', 'smarttv_max_3days', 'iphone_max_3days', 'ipad_max_3days', 'apple_max_3days', 'pc_max_3days', 'time_spent_sum_7days', 'time_spent_max_7days', 'num_title_ep_sum_7days', 'num_title_ep_max_7days', 'num_title_ru_sum_7days', 'num_title_ru_max_7days', 'num_country_max_7days', 'num_city_max_7days', 'other_content_sum_7days', 'top_1_sum_7days', 'top_2_sum_7days', 'top_3_sum_7days', 'top_4_sum_7days', 'top_5_sum_7days', 'top_6_sum_7days', 'top_7_sum_7days', 'top_8_sum_7days', 'top_9_sum_7days', 'top_10_sum_7days', 'android_max_7days', 'smarttv_max_7days', 'iphone_max_7days', 'ipad_max_7days', 'apple_max_7days', 'pc_max_7days', 'time_spent_sum_14days', 'time_spent_max_14days', 'num_title_ep_sum_14days', 'num_title_ep_max_14days', 'num_title_ru_sum_14days', 'num_title_ru_max_14days', 'num_country_max_14days', 'num_city_max_14days', 'other_content_sum_14days', 'top_1_sum_14days', 'top_2_sum_14days', 'top_3_sum_14days', 'top_4_sum_14days', 'top_5_sum_14days', 'top_6_sum_14days', 'top_7_sum_14days', 'top_8_sum_14days', 'top_9_sum_14days', 'top_10_sum_14days', 'android_max_14days', 'smarttv_max_14days', 'iphone_max_14days', 'ipad_max_14days', 'apple_max_14days', 'pc_max_14days', 'time_spent_sum_21days', 'time_spent_max_21days', 'num_title_ep_sum_21days', 'num_title_ep_max_21days', 'num_title_ru_sum_21days', 'num_title_ru_max_21days', 'num_country_max_21days', 'num_city_max_21days', 'other_content_sum_21days', 'top_1_sum_21days', 'top_2_sum_21days', 'top_3_sum_21days', 'top_4_sum_21days', 'top_5_sum_21days', 'top_6_sum_21days', 'top_7_sum_21days', 'top_8_sum_21days']\n",
      "5-fold CV is : 0.7551 +/- 0.002\n"
     ]
    },
    {
     "name": "stderr",
     "output_type": "stream",
     "text": [
      "\n",
      " 72%|██████████████████████▉         | 101/141 [14:04<10:12, 15.30s/it]"
     ]
    },
    {
     "name": "stdout",
     "output_type": "stream",
     "text": [
      "adding feature top_9_sum_21days\n",
      "performing CV with features: ['days_to_end', 'num_country_max_1days', 'num_city_max_1days', 'android_max_1days', 'smarttv_max_1days', 'iphone_max_1days', 'ipad_max_1days', 'apple_max_1days', 'pc_max_1days', 'time_spent_sum_3days', 'time_spent_max_3days', 'num_title_ep_sum_3days', 'num_title_ep_max_3days', 'num_title_ru_sum_3days', 'num_title_ru_max_3days', 'num_country_max_3days', 'num_city_max_3days', 'other_content_sum_3days', 'top_1_sum_3days', 'top_2_sum_3days', 'top_3_sum_3days', 'top_4_sum_3days', 'top_5_sum_3days', 'top_6_sum_3days', 'top_7_sum_3days', 'top_8_sum_3days', 'top_9_sum_3days', 'top_10_sum_3days', 'android_max_3days', 'smarttv_max_3days', 'iphone_max_3days', 'ipad_max_3days', 'apple_max_3days', 'pc_max_3days', 'time_spent_sum_7days', 'time_spent_max_7days', 'num_title_ep_sum_7days', 'num_title_ep_max_7days', 'num_title_ru_sum_7days', 'num_title_ru_max_7days', 'num_country_max_7days', 'num_city_max_7days', 'other_content_sum_7days', 'top_1_sum_7days', 'top_2_sum_7days', 'top_3_sum_7days', 'top_4_sum_7days', 'top_5_sum_7days', 'top_6_sum_7days', 'top_7_sum_7days', 'top_8_sum_7days', 'top_9_sum_7days', 'top_10_sum_7days', 'android_max_7days', 'smarttv_max_7days', 'iphone_max_7days', 'ipad_max_7days', 'apple_max_7days', 'pc_max_7days', 'time_spent_sum_14days', 'time_spent_max_14days', 'num_title_ep_sum_14days', 'num_title_ep_max_14days', 'num_title_ru_sum_14days', 'num_title_ru_max_14days', 'num_country_max_14days', 'num_city_max_14days', 'other_content_sum_14days', 'top_1_sum_14days', 'top_2_sum_14days', 'top_3_sum_14days', 'top_4_sum_14days', 'top_5_sum_14days', 'top_6_sum_14days', 'top_7_sum_14days', 'top_8_sum_14days', 'top_9_sum_14days', 'top_10_sum_14days', 'android_max_14days', 'smarttv_max_14days', 'iphone_max_14days', 'ipad_max_14days', 'apple_max_14days', 'pc_max_14days', 'time_spent_sum_21days', 'time_spent_max_21days', 'num_title_ep_sum_21days', 'num_title_ep_max_21days', 'num_title_ru_sum_21days', 'num_title_ru_max_21days', 'num_country_max_21days', 'num_city_max_21days', 'other_content_sum_21days', 'top_1_sum_21days', 'top_2_sum_21days', 'top_3_sum_21days', 'top_4_sum_21days', 'top_5_sum_21days', 'top_6_sum_21days', 'top_7_sum_21days', 'top_8_sum_21days', 'top_9_sum_21days']\n",
      "5-fold CV is : 0.7561 +/- 0.0032\n"
     ]
    },
    {
     "name": "stderr",
     "output_type": "stream",
     "text": [
      "\n",
      " 72%|███████████████████████▏        | 102/141 [14:20<09:59, 15.38s/it]"
     ]
    },
    {
     "name": "stdout",
     "output_type": "stream",
     "text": [
      "adding feature top_10_sum_21days\n",
      "performing CV with features: ['days_to_end', 'num_country_max_1days', 'num_city_max_1days', 'android_max_1days', 'smarttv_max_1days', 'iphone_max_1days', 'ipad_max_1days', 'apple_max_1days', 'pc_max_1days', 'time_spent_sum_3days', 'time_spent_max_3days', 'num_title_ep_sum_3days', 'num_title_ep_max_3days', 'num_title_ru_sum_3days', 'num_title_ru_max_3days', 'num_country_max_3days', 'num_city_max_3days', 'other_content_sum_3days', 'top_1_sum_3days', 'top_2_sum_3days', 'top_3_sum_3days', 'top_4_sum_3days', 'top_5_sum_3days', 'top_6_sum_3days', 'top_7_sum_3days', 'top_8_sum_3days', 'top_9_sum_3days', 'top_10_sum_3days', 'android_max_3days', 'smarttv_max_3days', 'iphone_max_3days', 'ipad_max_3days', 'apple_max_3days', 'pc_max_3days', 'time_spent_sum_7days', 'time_spent_max_7days', 'num_title_ep_sum_7days', 'num_title_ep_max_7days', 'num_title_ru_sum_7days', 'num_title_ru_max_7days', 'num_country_max_7days', 'num_city_max_7days', 'other_content_sum_7days', 'top_1_sum_7days', 'top_2_sum_7days', 'top_3_sum_7days', 'top_4_sum_7days', 'top_5_sum_7days', 'top_6_sum_7days', 'top_7_sum_7days', 'top_8_sum_7days', 'top_9_sum_7days', 'top_10_sum_7days', 'android_max_7days', 'smarttv_max_7days', 'iphone_max_7days', 'ipad_max_7days', 'apple_max_7days', 'pc_max_7days', 'time_spent_sum_14days', 'time_spent_max_14days', 'num_title_ep_sum_14days', 'num_title_ep_max_14days', 'num_title_ru_sum_14days', 'num_title_ru_max_14days', 'num_country_max_14days', 'num_city_max_14days', 'other_content_sum_14days', 'top_1_sum_14days', 'top_2_sum_14days', 'top_3_sum_14days', 'top_4_sum_14days', 'top_5_sum_14days', 'top_6_sum_14days', 'top_7_sum_14days', 'top_8_sum_14days', 'top_9_sum_14days', 'top_10_sum_14days', 'android_max_14days', 'smarttv_max_14days', 'iphone_max_14days', 'ipad_max_14days', 'apple_max_14days', 'pc_max_14days', 'time_spent_sum_21days', 'time_spent_max_21days', 'num_title_ep_sum_21days', 'num_title_ep_max_21days', 'num_title_ru_sum_21days', 'num_title_ru_max_21days', 'num_country_max_21days', 'num_city_max_21days', 'other_content_sum_21days', 'top_1_sum_21days', 'top_2_sum_21days', 'top_3_sum_21days', 'top_4_sum_21days', 'top_5_sum_21days', 'top_6_sum_21days', 'top_7_sum_21days', 'top_8_sum_21days', 'top_9_sum_21days', 'top_10_sum_21days']\n",
      "5-fold CV is : 0.7562 +/- 0.0016\n"
     ]
    },
    {
     "name": "stderr",
     "output_type": "stream",
     "text": [
      "\n",
      " 73%|███████████████████████▍        | 103/141 [14:35<09:49, 15.50s/it]"
     ]
    },
    {
     "name": "stdout",
     "output_type": "stream",
     "text": [
      "adding feature android_max_21days\n",
      "performing CV with features: ['days_to_end', 'num_country_max_1days', 'num_city_max_1days', 'android_max_1days', 'smarttv_max_1days', 'iphone_max_1days', 'ipad_max_1days', 'apple_max_1days', 'pc_max_1days', 'time_spent_sum_3days', 'time_spent_max_3days', 'num_title_ep_sum_3days', 'num_title_ep_max_3days', 'num_title_ru_sum_3days', 'num_title_ru_max_3days', 'num_country_max_3days', 'num_city_max_3days', 'other_content_sum_3days', 'top_1_sum_3days', 'top_2_sum_3days', 'top_3_sum_3days', 'top_4_sum_3days', 'top_5_sum_3days', 'top_6_sum_3days', 'top_7_sum_3days', 'top_8_sum_3days', 'top_9_sum_3days', 'top_10_sum_3days', 'android_max_3days', 'smarttv_max_3days', 'iphone_max_3days', 'ipad_max_3days', 'apple_max_3days', 'pc_max_3days', 'time_spent_sum_7days', 'time_spent_max_7days', 'num_title_ep_sum_7days', 'num_title_ep_max_7days', 'num_title_ru_sum_7days', 'num_title_ru_max_7days', 'num_country_max_7days', 'num_city_max_7days', 'other_content_sum_7days', 'top_1_sum_7days', 'top_2_sum_7days', 'top_3_sum_7days', 'top_4_sum_7days', 'top_5_sum_7days', 'top_6_sum_7days', 'top_7_sum_7days', 'top_8_sum_7days', 'top_9_sum_7days', 'top_10_sum_7days', 'android_max_7days', 'smarttv_max_7days', 'iphone_max_7days', 'ipad_max_7days', 'apple_max_7days', 'pc_max_7days', 'time_spent_sum_14days', 'time_spent_max_14days', 'num_title_ep_sum_14days', 'num_title_ep_max_14days', 'num_title_ru_sum_14days', 'num_title_ru_max_14days', 'num_country_max_14days', 'num_city_max_14days', 'other_content_sum_14days', 'top_1_sum_14days', 'top_2_sum_14days', 'top_3_sum_14days', 'top_4_sum_14days', 'top_5_sum_14days', 'top_6_sum_14days', 'top_7_sum_14days', 'top_8_sum_14days', 'top_9_sum_14days', 'top_10_sum_14days', 'android_max_14days', 'smarttv_max_14days', 'iphone_max_14days', 'ipad_max_14days', 'apple_max_14days', 'pc_max_14days', 'time_spent_sum_21days', 'time_spent_max_21days', 'num_title_ep_sum_21days', 'num_title_ep_max_21days', 'num_title_ru_sum_21days', 'num_title_ru_max_21days', 'num_country_max_21days', 'num_city_max_21days', 'other_content_sum_21days', 'top_1_sum_21days', 'top_2_sum_21days', 'top_3_sum_21days', 'top_4_sum_21days', 'top_5_sum_21days', 'top_6_sum_21days', 'top_7_sum_21days', 'top_8_sum_21days', 'top_9_sum_21days', 'top_10_sum_21days', 'android_max_21days']\n",
      "5-fold CV is : 0.7582 +/- 0.0016\n"
     ]
    },
    {
     "name": "stderr",
     "output_type": "stream",
     "text": [
      "\n",
      " 74%|███████████████████████▌        | 104/141 [14:51<09:36, 15.58s/it]"
     ]
    },
    {
     "name": "stdout",
     "output_type": "stream",
     "text": [
      "adding feature smarttv_max_21days\n",
      "performing CV with features: ['days_to_end', 'num_country_max_1days', 'num_city_max_1days', 'android_max_1days', 'smarttv_max_1days', 'iphone_max_1days', 'ipad_max_1days', 'apple_max_1days', 'pc_max_1days', 'time_spent_sum_3days', 'time_spent_max_3days', 'num_title_ep_sum_3days', 'num_title_ep_max_3days', 'num_title_ru_sum_3days', 'num_title_ru_max_3days', 'num_country_max_3days', 'num_city_max_3days', 'other_content_sum_3days', 'top_1_sum_3days', 'top_2_sum_3days', 'top_3_sum_3days', 'top_4_sum_3days', 'top_5_sum_3days', 'top_6_sum_3days', 'top_7_sum_3days', 'top_8_sum_3days', 'top_9_sum_3days', 'top_10_sum_3days', 'android_max_3days', 'smarttv_max_3days', 'iphone_max_3days', 'ipad_max_3days', 'apple_max_3days', 'pc_max_3days', 'time_spent_sum_7days', 'time_spent_max_7days', 'num_title_ep_sum_7days', 'num_title_ep_max_7days', 'num_title_ru_sum_7days', 'num_title_ru_max_7days', 'num_country_max_7days', 'num_city_max_7days', 'other_content_sum_7days', 'top_1_sum_7days', 'top_2_sum_7days', 'top_3_sum_7days', 'top_4_sum_7days', 'top_5_sum_7days', 'top_6_sum_7days', 'top_7_sum_7days', 'top_8_sum_7days', 'top_9_sum_7days', 'top_10_sum_7days', 'android_max_7days', 'smarttv_max_7days', 'iphone_max_7days', 'ipad_max_7days', 'apple_max_7days', 'pc_max_7days', 'time_spent_sum_14days', 'time_spent_max_14days', 'num_title_ep_sum_14days', 'num_title_ep_max_14days', 'num_title_ru_sum_14days', 'num_title_ru_max_14days', 'num_country_max_14days', 'num_city_max_14days', 'other_content_sum_14days', 'top_1_sum_14days', 'top_2_sum_14days', 'top_3_sum_14days', 'top_4_sum_14days', 'top_5_sum_14days', 'top_6_sum_14days', 'top_7_sum_14days', 'top_8_sum_14days', 'top_9_sum_14days', 'top_10_sum_14days', 'android_max_14days', 'smarttv_max_14days', 'iphone_max_14days', 'ipad_max_14days', 'apple_max_14days', 'pc_max_14days', 'time_spent_sum_21days', 'time_spent_max_21days', 'num_title_ep_sum_21days', 'num_title_ep_max_21days', 'num_title_ru_sum_21days', 'num_title_ru_max_21days', 'num_country_max_21days', 'num_city_max_21days', 'other_content_sum_21days', 'top_1_sum_21days', 'top_2_sum_21days', 'top_3_sum_21days', 'top_4_sum_21days', 'top_5_sum_21days', 'top_6_sum_21days', 'top_7_sum_21days', 'top_8_sum_21days', 'top_9_sum_21days', 'top_10_sum_21days', 'android_max_21days', 'smarttv_max_21days']\n",
      "5-fold CV is : 0.7585 +/- 0.0022\n"
     ]
    },
    {
     "name": "stderr",
     "output_type": "stream",
     "text": [
      "\n",
      " 74%|███████████████████████▊        | 105/141 [15:08<09:30, 15.84s/it]"
     ]
    },
    {
     "name": "stdout",
     "output_type": "stream",
     "text": [
      "adding feature iphone_max_21days\n",
      "performing CV with features: ['days_to_end', 'num_country_max_1days', 'num_city_max_1days', 'android_max_1days', 'smarttv_max_1days', 'iphone_max_1days', 'ipad_max_1days', 'apple_max_1days', 'pc_max_1days', 'time_spent_sum_3days', 'time_spent_max_3days', 'num_title_ep_sum_3days', 'num_title_ep_max_3days', 'num_title_ru_sum_3days', 'num_title_ru_max_3days', 'num_country_max_3days', 'num_city_max_3days', 'other_content_sum_3days', 'top_1_sum_3days', 'top_2_sum_3days', 'top_3_sum_3days', 'top_4_sum_3days', 'top_5_sum_3days', 'top_6_sum_3days', 'top_7_sum_3days', 'top_8_sum_3days', 'top_9_sum_3days', 'top_10_sum_3days', 'android_max_3days', 'smarttv_max_3days', 'iphone_max_3days', 'ipad_max_3days', 'apple_max_3days', 'pc_max_3days', 'time_spent_sum_7days', 'time_spent_max_7days', 'num_title_ep_sum_7days', 'num_title_ep_max_7days', 'num_title_ru_sum_7days', 'num_title_ru_max_7days', 'num_country_max_7days', 'num_city_max_7days', 'other_content_sum_7days', 'top_1_sum_7days', 'top_2_sum_7days', 'top_3_sum_7days', 'top_4_sum_7days', 'top_5_sum_7days', 'top_6_sum_7days', 'top_7_sum_7days', 'top_8_sum_7days', 'top_9_sum_7days', 'top_10_sum_7days', 'android_max_7days', 'smarttv_max_7days', 'iphone_max_7days', 'ipad_max_7days', 'apple_max_7days', 'pc_max_7days', 'time_spent_sum_14days', 'time_spent_max_14days', 'num_title_ep_sum_14days', 'num_title_ep_max_14days', 'num_title_ru_sum_14days', 'num_title_ru_max_14days', 'num_country_max_14days', 'num_city_max_14days', 'other_content_sum_14days', 'top_1_sum_14days', 'top_2_sum_14days', 'top_3_sum_14days', 'top_4_sum_14days', 'top_5_sum_14days', 'top_6_sum_14days', 'top_7_sum_14days', 'top_8_sum_14days', 'top_9_sum_14days', 'top_10_sum_14days', 'android_max_14days', 'smarttv_max_14days', 'iphone_max_14days', 'ipad_max_14days', 'apple_max_14days', 'pc_max_14days', 'time_spent_sum_21days', 'time_spent_max_21days', 'num_title_ep_sum_21days', 'num_title_ep_max_21days', 'num_title_ru_sum_21days', 'num_title_ru_max_21days', 'num_country_max_21days', 'num_city_max_21days', 'other_content_sum_21days', 'top_1_sum_21days', 'top_2_sum_21days', 'top_3_sum_21days', 'top_4_sum_21days', 'top_5_sum_21days', 'top_6_sum_21days', 'top_7_sum_21days', 'top_8_sum_21days', 'top_9_sum_21days', 'top_10_sum_21days', 'android_max_21days', 'smarttv_max_21days', 'iphone_max_21days']\n",
      "5-fold CV is : 0.7583 +/- 0.0016\n"
     ]
    },
    {
     "name": "stderr",
     "output_type": "stream",
     "text": [
      "\n",
      " 75%|████████████████████████        | 106/141 [15:24<09:21, 16.03s/it]"
     ]
    },
    {
     "name": "stdout",
     "output_type": "stream",
     "text": [
      "adding feature ipad_max_21days\n",
      "performing CV with features: ['days_to_end', 'num_country_max_1days', 'num_city_max_1days', 'android_max_1days', 'smarttv_max_1days', 'iphone_max_1days', 'ipad_max_1days', 'apple_max_1days', 'pc_max_1days', 'time_spent_sum_3days', 'time_spent_max_3days', 'num_title_ep_sum_3days', 'num_title_ep_max_3days', 'num_title_ru_sum_3days', 'num_title_ru_max_3days', 'num_country_max_3days', 'num_city_max_3days', 'other_content_sum_3days', 'top_1_sum_3days', 'top_2_sum_3days', 'top_3_sum_3days', 'top_4_sum_3days', 'top_5_sum_3days', 'top_6_sum_3days', 'top_7_sum_3days', 'top_8_sum_3days', 'top_9_sum_3days', 'top_10_sum_3days', 'android_max_3days', 'smarttv_max_3days', 'iphone_max_3days', 'ipad_max_3days', 'apple_max_3days', 'pc_max_3days', 'time_spent_sum_7days', 'time_spent_max_7days', 'num_title_ep_sum_7days', 'num_title_ep_max_7days', 'num_title_ru_sum_7days', 'num_title_ru_max_7days', 'num_country_max_7days', 'num_city_max_7days', 'other_content_sum_7days', 'top_1_sum_7days', 'top_2_sum_7days', 'top_3_sum_7days', 'top_4_sum_7days', 'top_5_sum_7days', 'top_6_sum_7days', 'top_7_sum_7days', 'top_8_sum_7days', 'top_9_sum_7days', 'top_10_sum_7days', 'android_max_7days', 'smarttv_max_7days', 'iphone_max_7days', 'ipad_max_7days', 'apple_max_7days', 'pc_max_7days', 'time_spent_sum_14days', 'time_spent_max_14days', 'num_title_ep_sum_14days', 'num_title_ep_max_14days', 'num_title_ru_sum_14days', 'num_title_ru_max_14days', 'num_country_max_14days', 'num_city_max_14days', 'other_content_sum_14days', 'top_1_sum_14days', 'top_2_sum_14days', 'top_3_sum_14days', 'top_4_sum_14days', 'top_5_sum_14days', 'top_6_sum_14days', 'top_7_sum_14days', 'top_8_sum_14days', 'top_9_sum_14days', 'top_10_sum_14days', 'android_max_14days', 'smarttv_max_14days', 'iphone_max_14days', 'ipad_max_14days', 'apple_max_14days', 'pc_max_14days', 'time_spent_sum_21days', 'time_spent_max_21days', 'num_title_ep_sum_21days', 'num_title_ep_max_21days', 'num_title_ru_sum_21days', 'num_title_ru_max_21days', 'num_country_max_21days', 'num_city_max_21days', 'other_content_sum_21days', 'top_1_sum_21days', 'top_2_sum_21days', 'top_3_sum_21days', 'top_4_sum_21days', 'top_5_sum_21days', 'top_6_sum_21days', 'top_7_sum_21days', 'top_8_sum_21days', 'top_9_sum_21days', 'top_10_sum_21days', 'android_max_21days', 'smarttv_max_21days', 'iphone_max_21days', 'ipad_max_21days']\n",
      "5-fold CV is : 0.7586 +/- 0.0029\n"
     ]
    },
    {
     "name": "stderr",
     "output_type": "stream",
     "text": [
      "\n",
      " 76%|████████████████████████▎       | 107/141 [15:40<09:07, 16.10s/it]"
     ]
    },
    {
     "name": "stdout",
     "output_type": "stream",
     "text": [
      "adding feature apple_max_21days\n",
      "performing CV with features: ['days_to_end', 'num_country_max_1days', 'num_city_max_1days', 'android_max_1days', 'smarttv_max_1days', 'iphone_max_1days', 'ipad_max_1days', 'apple_max_1days', 'pc_max_1days', 'time_spent_sum_3days', 'time_spent_max_3days', 'num_title_ep_sum_3days', 'num_title_ep_max_3days', 'num_title_ru_sum_3days', 'num_title_ru_max_3days', 'num_country_max_3days', 'num_city_max_3days', 'other_content_sum_3days', 'top_1_sum_3days', 'top_2_sum_3days', 'top_3_sum_3days', 'top_4_sum_3days', 'top_5_sum_3days', 'top_6_sum_3days', 'top_7_sum_3days', 'top_8_sum_3days', 'top_9_sum_3days', 'top_10_sum_3days', 'android_max_3days', 'smarttv_max_3days', 'iphone_max_3days', 'ipad_max_3days', 'apple_max_3days', 'pc_max_3days', 'time_spent_sum_7days', 'time_spent_max_7days', 'num_title_ep_sum_7days', 'num_title_ep_max_7days', 'num_title_ru_sum_7days', 'num_title_ru_max_7days', 'num_country_max_7days', 'num_city_max_7days', 'other_content_sum_7days', 'top_1_sum_7days', 'top_2_sum_7days', 'top_3_sum_7days', 'top_4_sum_7days', 'top_5_sum_7days', 'top_6_sum_7days', 'top_7_sum_7days', 'top_8_sum_7days', 'top_9_sum_7days', 'top_10_sum_7days', 'android_max_7days', 'smarttv_max_7days', 'iphone_max_7days', 'ipad_max_7days', 'apple_max_7days', 'pc_max_7days', 'time_spent_sum_14days', 'time_spent_max_14days', 'num_title_ep_sum_14days', 'num_title_ep_max_14days', 'num_title_ru_sum_14days', 'num_title_ru_max_14days', 'num_country_max_14days', 'num_city_max_14days', 'other_content_sum_14days', 'top_1_sum_14days', 'top_2_sum_14days', 'top_3_sum_14days', 'top_4_sum_14days', 'top_5_sum_14days', 'top_6_sum_14days', 'top_7_sum_14days', 'top_8_sum_14days', 'top_9_sum_14days', 'top_10_sum_14days', 'android_max_14days', 'smarttv_max_14days', 'iphone_max_14days', 'ipad_max_14days', 'apple_max_14days', 'pc_max_14days', 'time_spent_sum_21days', 'time_spent_max_21days', 'num_title_ep_sum_21days', 'num_title_ep_max_21days', 'num_title_ru_sum_21days', 'num_title_ru_max_21days', 'num_country_max_21days', 'num_city_max_21days', 'other_content_sum_21days', 'top_1_sum_21days', 'top_2_sum_21days', 'top_3_sum_21days', 'top_4_sum_21days', 'top_5_sum_21days', 'top_6_sum_21days', 'top_7_sum_21days', 'top_8_sum_21days', 'top_9_sum_21days', 'top_10_sum_21days', 'android_max_21days', 'smarttv_max_21days', 'iphone_max_21days', 'ipad_max_21days', 'apple_max_21days']\n",
      "5-fold CV is : 0.7594 +/- 0.0023\n"
     ]
    },
    {
     "name": "stderr",
     "output_type": "stream",
     "text": [
      "\n",
      " 77%|████████████████████████▌       | 108/141 [15:57<08:54, 16.20s/it]"
     ]
    },
    {
     "name": "stdout",
     "output_type": "stream",
     "text": [
      "adding feature pc_max_21days\n",
      "performing CV with features: ['days_to_end', 'num_country_max_1days', 'num_city_max_1days', 'android_max_1days', 'smarttv_max_1days', 'iphone_max_1days', 'ipad_max_1days', 'apple_max_1days', 'pc_max_1days', 'time_spent_sum_3days', 'time_spent_max_3days', 'num_title_ep_sum_3days', 'num_title_ep_max_3days', 'num_title_ru_sum_3days', 'num_title_ru_max_3days', 'num_country_max_3days', 'num_city_max_3days', 'other_content_sum_3days', 'top_1_sum_3days', 'top_2_sum_3days', 'top_3_sum_3days', 'top_4_sum_3days', 'top_5_sum_3days', 'top_6_sum_3days', 'top_7_sum_3days', 'top_8_sum_3days', 'top_9_sum_3days', 'top_10_sum_3days', 'android_max_3days', 'smarttv_max_3days', 'iphone_max_3days', 'ipad_max_3days', 'apple_max_3days', 'pc_max_3days', 'time_spent_sum_7days', 'time_spent_max_7days', 'num_title_ep_sum_7days', 'num_title_ep_max_7days', 'num_title_ru_sum_7days', 'num_title_ru_max_7days', 'num_country_max_7days', 'num_city_max_7days', 'other_content_sum_7days', 'top_1_sum_7days', 'top_2_sum_7days', 'top_3_sum_7days', 'top_4_sum_7days', 'top_5_sum_7days', 'top_6_sum_7days', 'top_7_sum_7days', 'top_8_sum_7days', 'top_9_sum_7days', 'top_10_sum_7days', 'android_max_7days', 'smarttv_max_7days', 'iphone_max_7days', 'ipad_max_7days', 'apple_max_7days', 'pc_max_7days', 'time_spent_sum_14days', 'time_spent_max_14days', 'num_title_ep_sum_14days', 'num_title_ep_max_14days', 'num_title_ru_sum_14days', 'num_title_ru_max_14days', 'num_country_max_14days', 'num_city_max_14days', 'other_content_sum_14days', 'top_1_sum_14days', 'top_2_sum_14days', 'top_3_sum_14days', 'top_4_sum_14days', 'top_5_sum_14days', 'top_6_sum_14days', 'top_7_sum_14days', 'top_8_sum_14days', 'top_9_sum_14days', 'top_10_sum_14days', 'android_max_14days', 'smarttv_max_14days', 'iphone_max_14days', 'ipad_max_14days', 'apple_max_14days', 'pc_max_14days', 'time_spent_sum_21days', 'time_spent_max_21days', 'num_title_ep_sum_21days', 'num_title_ep_max_21days', 'num_title_ru_sum_21days', 'num_title_ru_max_21days', 'num_country_max_21days', 'num_city_max_21days', 'other_content_sum_21days', 'top_1_sum_21days', 'top_2_sum_21days', 'top_3_sum_21days', 'top_4_sum_21days', 'top_5_sum_21days', 'top_6_sum_21days', 'top_7_sum_21days', 'top_8_sum_21days', 'top_9_sum_21days', 'top_10_sum_21days', 'android_max_21days', 'smarttv_max_21days', 'iphone_max_21days', 'ipad_max_21days', 'apple_max_21days', 'pc_max_21days']\n",
      "5-fold CV is : 0.762 +/- 0.0024\n"
     ]
    },
    {
     "name": "stderr",
     "output_type": "stream",
     "text": [
      "\n",
      " 77%|████████████████████████▋       | 109/141 [16:14<08:43, 16.35s/it]"
     ]
    },
    {
     "name": "stdout",
     "output_type": "stream",
     "text": [
      "adding feature time_spent_sum_30days\n",
      "performing CV with features: ['days_to_end', 'num_country_max_1days', 'num_city_max_1days', 'android_max_1days', 'smarttv_max_1days', 'iphone_max_1days', 'ipad_max_1days', 'apple_max_1days', 'pc_max_1days', 'time_spent_sum_3days', 'time_spent_max_3days', 'num_title_ep_sum_3days', 'num_title_ep_max_3days', 'num_title_ru_sum_3days', 'num_title_ru_max_3days', 'num_country_max_3days', 'num_city_max_3days', 'other_content_sum_3days', 'top_1_sum_3days', 'top_2_sum_3days', 'top_3_sum_3days', 'top_4_sum_3days', 'top_5_sum_3days', 'top_6_sum_3days', 'top_7_sum_3days', 'top_8_sum_3days', 'top_9_sum_3days', 'top_10_sum_3days', 'android_max_3days', 'smarttv_max_3days', 'iphone_max_3days', 'ipad_max_3days', 'apple_max_3days', 'pc_max_3days', 'time_spent_sum_7days', 'time_spent_max_7days', 'num_title_ep_sum_7days', 'num_title_ep_max_7days', 'num_title_ru_sum_7days', 'num_title_ru_max_7days', 'num_country_max_7days', 'num_city_max_7days', 'other_content_sum_7days', 'top_1_sum_7days', 'top_2_sum_7days', 'top_3_sum_7days', 'top_4_sum_7days', 'top_5_sum_7days', 'top_6_sum_7days', 'top_7_sum_7days', 'top_8_sum_7days', 'top_9_sum_7days', 'top_10_sum_7days', 'android_max_7days', 'smarttv_max_7days', 'iphone_max_7days', 'ipad_max_7days', 'apple_max_7days', 'pc_max_7days', 'time_spent_sum_14days', 'time_spent_max_14days', 'num_title_ep_sum_14days', 'num_title_ep_max_14days', 'num_title_ru_sum_14days', 'num_title_ru_max_14days', 'num_country_max_14days', 'num_city_max_14days', 'other_content_sum_14days', 'top_1_sum_14days', 'top_2_sum_14days', 'top_3_sum_14days', 'top_4_sum_14days', 'top_5_sum_14days', 'top_6_sum_14days', 'top_7_sum_14days', 'top_8_sum_14days', 'top_9_sum_14days', 'top_10_sum_14days', 'android_max_14days', 'smarttv_max_14days', 'iphone_max_14days', 'ipad_max_14days', 'apple_max_14days', 'pc_max_14days', 'time_spent_sum_21days', 'time_spent_max_21days', 'num_title_ep_sum_21days', 'num_title_ep_max_21days', 'num_title_ru_sum_21days', 'num_title_ru_max_21days', 'num_country_max_21days', 'num_city_max_21days', 'other_content_sum_21days', 'top_1_sum_21days', 'top_2_sum_21days', 'top_3_sum_21days', 'top_4_sum_21days', 'top_5_sum_21days', 'top_6_sum_21days', 'top_7_sum_21days', 'top_8_sum_21days', 'top_9_sum_21days', 'top_10_sum_21days', 'android_max_21days', 'smarttv_max_21days', 'iphone_max_21days', 'ipad_max_21days', 'apple_max_21days', 'pc_max_21days', 'time_spent_sum_30days']\n",
      "5-fold CV is : 0.765 +/- 0.0023\n"
     ]
    },
    {
     "name": "stderr",
     "output_type": "stream",
     "text": [
      "\n",
      " 78%|████████████████████████▉       | 110/141 [16:31<08:35, 16.62s/it]"
     ]
    },
    {
     "name": "stdout",
     "output_type": "stream",
     "text": [
      "adding feature time_spent_max_30days\n",
      "performing CV with features: ['days_to_end', 'num_country_max_1days', 'num_city_max_1days', 'android_max_1days', 'smarttv_max_1days', 'iphone_max_1days', 'ipad_max_1days', 'apple_max_1days', 'pc_max_1days', 'time_spent_sum_3days', 'time_spent_max_3days', 'num_title_ep_sum_3days', 'num_title_ep_max_3days', 'num_title_ru_sum_3days', 'num_title_ru_max_3days', 'num_country_max_3days', 'num_city_max_3days', 'other_content_sum_3days', 'top_1_sum_3days', 'top_2_sum_3days', 'top_3_sum_3days', 'top_4_sum_3days', 'top_5_sum_3days', 'top_6_sum_3days', 'top_7_sum_3days', 'top_8_sum_3days', 'top_9_sum_3days', 'top_10_sum_3days', 'android_max_3days', 'smarttv_max_3days', 'iphone_max_3days', 'ipad_max_3days', 'apple_max_3days', 'pc_max_3days', 'time_spent_sum_7days', 'time_spent_max_7days', 'num_title_ep_sum_7days', 'num_title_ep_max_7days', 'num_title_ru_sum_7days', 'num_title_ru_max_7days', 'num_country_max_7days', 'num_city_max_7days', 'other_content_sum_7days', 'top_1_sum_7days', 'top_2_sum_7days', 'top_3_sum_7days', 'top_4_sum_7days', 'top_5_sum_7days', 'top_6_sum_7days', 'top_7_sum_7days', 'top_8_sum_7days', 'top_9_sum_7days', 'top_10_sum_7days', 'android_max_7days', 'smarttv_max_7days', 'iphone_max_7days', 'ipad_max_7days', 'apple_max_7days', 'pc_max_7days', 'time_spent_sum_14days', 'time_spent_max_14days', 'num_title_ep_sum_14days', 'num_title_ep_max_14days', 'num_title_ru_sum_14days', 'num_title_ru_max_14days', 'num_country_max_14days', 'num_city_max_14days', 'other_content_sum_14days', 'top_1_sum_14days', 'top_2_sum_14days', 'top_3_sum_14days', 'top_4_sum_14days', 'top_5_sum_14days', 'top_6_sum_14days', 'top_7_sum_14days', 'top_8_sum_14days', 'top_9_sum_14days', 'top_10_sum_14days', 'android_max_14days', 'smarttv_max_14days', 'iphone_max_14days', 'ipad_max_14days', 'apple_max_14days', 'pc_max_14days', 'time_spent_sum_21days', 'time_spent_max_21days', 'num_title_ep_sum_21days', 'num_title_ep_max_21days', 'num_title_ru_sum_21days', 'num_title_ru_max_21days', 'num_country_max_21days', 'num_city_max_21days', 'other_content_sum_21days', 'top_1_sum_21days', 'top_2_sum_21days', 'top_3_sum_21days', 'top_4_sum_21days', 'top_5_sum_21days', 'top_6_sum_21days', 'top_7_sum_21days', 'top_8_sum_21days', 'top_9_sum_21days', 'top_10_sum_21days', 'android_max_21days', 'smarttv_max_21days', 'iphone_max_21days', 'ipad_max_21days', 'apple_max_21days', 'pc_max_21days', 'time_spent_sum_30days', 'time_spent_max_30days']\n",
      "5-fold CV is : 0.7693 +/- 0.0024\n"
     ]
    },
    {
     "name": "stderr",
     "output_type": "stream",
     "text": [
      "\n",
      " 79%|█████████████████████████▏      | 111/141 [16:48<08:27, 16.92s/it]"
     ]
    },
    {
     "name": "stdout",
     "output_type": "stream",
     "text": [
      "adding feature num_title_ep_sum_30days\n",
      "performing CV with features: ['days_to_end', 'num_country_max_1days', 'num_city_max_1days', 'android_max_1days', 'smarttv_max_1days', 'iphone_max_1days', 'ipad_max_1days', 'apple_max_1days', 'pc_max_1days', 'time_spent_sum_3days', 'time_spent_max_3days', 'num_title_ep_sum_3days', 'num_title_ep_max_3days', 'num_title_ru_sum_3days', 'num_title_ru_max_3days', 'num_country_max_3days', 'num_city_max_3days', 'other_content_sum_3days', 'top_1_sum_3days', 'top_2_sum_3days', 'top_3_sum_3days', 'top_4_sum_3days', 'top_5_sum_3days', 'top_6_sum_3days', 'top_7_sum_3days', 'top_8_sum_3days', 'top_9_sum_3days', 'top_10_sum_3days', 'android_max_3days', 'smarttv_max_3days', 'iphone_max_3days', 'ipad_max_3days', 'apple_max_3days', 'pc_max_3days', 'time_spent_sum_7days', 'time_spent_max_7days', 'num_title_ep_sum_7days', 'num_title_ep_max_7days', 'num_title_ru_sum_7days', 'num_title_ru_max_7days', 'num_country_max_7days', 'num_city_max_7days', 'other_content_sum_7days', 'top_1_sum_7days', 'top_2_sum_7days', 'top_3_sum_7days', 'top_4_sum_7days', 'top_5_sum_7days', 'top_6_sum_7days', 'top_7_sum_7days', 'top_8_sum_7days', 'top_9_sum_7days', 'top_10_sum_7days', 'android_max_7days', 'smarttv_max_7days', 'iphone_max_7days', 'ipad_max_7days', 'apple_max_7days', 'pc_max_7days', 'time_spent_sum_14days', 'time_spent_max_14days', 'num_title_ep_sum_14days', 'num_title_ep_max_14days', 'num_title_ru_sum_14days', 'num_title_ru_max_14days', 'num_country_max_14days', 'num_city_max_14days', 'other_content_sum_14days', 'top_1_sum_14days', 'top_2_sum_14days', 'top_3_sum_14days', 'top_4_sum_14days', 'top_5_sum_14days', 'top_6_sum_14days', 'top_7_sum_14days', 'top_8_sum_14days', 'top_9_sum_14days', 'top_10_sum_14days', 'android_max_14days', 'smarttv_max_14days', 'iphone_max_14days', 'ipad_max_14days', 'apple_max_14days', 'pc_max_14days', 'time_spent_sum_21days', 'time_spent_max_21days', 'num_title_ep_sum_21days', 'num_title_ep_max_21days', 'num_title_ru_sum_21days', 'num_title_ru_max_21days', 'num_country_max_21days', 'num_city_max_21days', 'other_content_sum_21days', 'top_1_sum_21days', 'top_2_sum_21days', 'top_3_sum_21days', 'top_4_sum_21days', 'top_5_sum_21days', 'top_6_sum_21days', 'top_7_sum_21days', 'top_8_sum_21days', 'top_9_sum_21days', 'top_10_sum_21days', 'android_max_21days', 'smarttv_max_21days', 'iphone_max_21days', 'ipad_max_21days', 'apple_max_21days', 'pc_max_21days', 'time_spent_sum_30days', 'time_spent_max_30days', 'num_title_ep_sum_30days']\n",
      "5-fold CV is : 0.7709 +/- 0.0026\n"
     ]
    },
    {
     "name": "stderr",
     "output_type": "stream",
     "text": [
      "\n",
      " 79%|█████████████████████████▍      | 112/141 [17:05<08:09, 16.89s/it]"
     ]
    },
    {
     "name": "stdout",
     "output_type": "stream",
     "text": [
      "adding feature num_title_ep_max_30days\n",
      "performing CV with features: ['days_to_end', 'num_country_max_1days', 'num_city_max_1days', 'android_max_1days', 'smarttv_max_1days', 'iphone_max_1days', 'ipad_max_1days', 'apple_max_1days', 'pc_max_1days', 'time_spent_sum_3days', 'time_spent_max_3days', 'num_title_ep_sum_3days', 'num_title_ep_max_3days', 'num_title_ru_sum_3days', 'num_title_ru_max_3days', 'num_country_max_3days', 'num_city_max_3days', 'other_content_sum_3days', 'top_1_sum_3days', 'top_2_sum_3days', 'top_3_sum_3days', 'top_4_sum_3days', 'top_5_sum_3days', 'top_6_sum_3days', 'top_7_sum_3days', 'top_8_sum_3days', 'top_9_sum_3days', 'top_10_sum_3days', 'android_max_3days', 'smarttv_max_3days', 'iphone_max_3days', 'ipad_max_3days', 'apple_max_3days', 'pc_max_3days', 'time_spent_sum_7days', 'time_spent_max_7days', 'num_title_ep_sum_7days', 'num_title_ep_max_7days', 'num_title_ru_sum_7days', 'num_title_ru_max_7days', 'num_country_max_7days', 'num_city_max_7days', 'other_content_sum_7days', 'top_1_sum_7days', 'top_2_sum_7days', 'top_3_sum_7days', 'top_4_sum_7days', 'top_5_sum_7days', 'top_6_sum_7days', 'top_7_sum_7days', 'top_8_sum_7days', 'top_9_sum_7days', 'top_10_sum_7days', 'android_max_7days', 'smarttv_max_7days', 'iphone_max_7days', 'ipad_max_7days', 'apple_max_7days', 'pc_max_7days', 'time_spent_sum_14days', 'time_spent_max_14days', 'num_title_ep_sum_14days', 'num_title_ep_max_14days', 'num_title_ru_sum_14days', 'num_title_ru_max_14days', 'num_country_max_14days', 'num_city_max_14days', 'other_content_sum_14days', 'top_1_sum_14days', 'top_2_sum_14days', 'top_3_sum_14days', 'top_4_sum_14days', 'top_5_sum_14days', 'top_6_sum_14days', 'top_7_sum_14days', 'top_8_sum_14days', 'top_9_sum_14days', 'top_10_sum_14days', 'android_max_14days', 'smarttv_max_14days', 'iphone_max_14days', 'ipad_max_14days', 'apple_max_14days', 'pc_max_14days', 'time_spent_sum_21days', 'time_spent_max_21days', 'num_title_ep_sum_21days', 'num_title_ep_max_21days', 'num_title_ru_sum_21days', 'num_title_ru_max_21days', 'num_country_max_21days', 'num_city_max_21days', 'other_content_sum_21days', 'top_1_sum_21days', 'top_2_sum_21days', 'top_3_sum_21days', 'top_4_sum_21days', 'top_5_sum_21days', 'top_6_sum_21days', 'top_7_sum_21days', 'top_8_sum_21days', 'top_9_sum_21days', 'top_10_sum_21days', 'android_max_21days', 'smarttv_max_21days', 'iphone_max_21days', 'ipad_max_21days', 'apple_max_21days', 'pc_max_21days', 'time_spent_sum_30days', 'time_spent_max_30days', 'num_title_ep_sum_30days', 'num_title_ep_max_30days']\n",
      "5-fold CV is : 0.7741 +/- 0.0032\n"
     ]
    },
    {
     "name": "stderr",
     "output_type": "stream",
     "text": [
      "\n",
      " 80%|█████████████████████████▋      | 113/141 [17:23<07:57, 17.06s/it]"
     ]
    },
    {
     "name": "stdout",
     "output_type": "stream",
     "text": [
      "adding feature num_title_ru_sum_30days\n",
      "performing CV with features: ['days_to_end', 'num_country_max_1days', 'num_city_max_1days', 'android_max_1days', 'smarttv_max_1days', 'iphone_max_1days', 'ipad_max_1days', 'apple_max_1days', 'pc_max_1days', 'time_spent_sum_3days', 'time_spent_max_3days', 'num_title_ep_sum_3days', 'num_title_ep_max_3days', 'num_title_ru_sum_3days', 'num_title_ru_max_3days', 'num_country_max_3days', 'num_city_max_3days', 'other_content_sum_3days', 'top_1_sum_3days', 'top_2_sum_3days', 'top_3_sum_3days', 'top_4_sum_3days', 'top_5_sum_3days', 'top_6_sum_3days', 'top_7_sum_3days', 'top_8_sum_3days', 'top_9_sum_3days', 'top_10_sum_3days', 'android_max_3days', 'smarttv_max_3days', 'iphone_max_3days', 'ipad_max_3days', 'apple_max_3days', 'pc_max_3days', 'time_spent_sum_7days', 'time_spent_max_7days', 'num_title_ep_sum_7days', 'num_title_ep_max_7days', 'num_title_ru_sum_7days', 'num_title_ru_max_7days', 'num_country_max_7days', 'num_city_max_7days', 'other_content_sum_7days', 'top_1_sum_7days', 'top_2_sum_7days', 'top_3_sum_7days', 'top_4_sum_7days', 'top_5_sum_7days', 'top_6_sum_7days', 'top_7_sum_7days', 'top_8_sum_7days', 'top_9_sum_7days', 'top_10_sum_7days', 'android_max_7days', 'smarttv_max_7days', 'iphone_max_7days', 'ipad_max_7days', 'apple_max_7days', 'pc_max_7days', 'time_spent_sum_14days', 'time_spent_max_14days', 'num_title_ep_sum_14days', 'num_title_ep_max_14days', 'num_title_ru_sum_14days', 'num_title_ru_max_14days', 'num_country_max_14days', 'num_city_max_14days', 'other_content_sum_14days', 'top_1_sum_14days', 'top_2_sum_14days', 'top_3_sum_14days', 'top_4_sum_14days', 'top_5_sum_14days', 'top_6_sum_14days', 'top_7_sum_14days', 'top_8_sum_14days', 'top_9_sum_14days', 'top_10_sum_14days', 'android_max_14days', 'smarttv_max_14days', 'iphone_max_14days', 'ipad_max_14days', 'apple_max_14days', 'pc_max_14days', 'time_spent_sum_21days', 'time_spent_max_21days', 'num_title_ep_sum_21days', 'num_title_ep_max_21days', 'num_title_ru_sum_21days', 'num_title_ru_max_21days', 'num_country_max_21days', 'num_city_max_21days', 'other_content_sum_21days', 'top_1_sum_21days', 'top_2_sum_21days', 'top_3_sum_21days', 'top_4_sum_21days', 'top_5_sum_21days', 'top_6_sum_21days', 'top_7_sum_21days', 'top_8_sum_21days', 'top_9_sum_21days', 'top_10_sum_21days', 'android_max_21days', 'smarttv_max_21days', 'iphone_max_21days', 'ipad_max_21days', 'apple_max_21days', 'pc_max_21days', 'time_spent_sum_30days', 'time_spent_max_30days', 'num_title_ep_sum_30days', 'num_title_ep_max_30days', 'num_title_ru_sum_30days']\n",
      "5-fold CV is : 0.7754 +/- 0.0004\n"
     ]
    },
    {
     "name": "stderr",
     "output_type": "stream",
     "text": [
      "\n",
      " 81%|█████████████████████████▊      | 114/141 [17:41<07:47, 17.32s/it]"
     ]
    },
    {
     "name": "stdout",
     "output_type": "stream",
     "text": [
      "adding feature num_title_ru_max_30days\n",
      "performing CV with features: ['days_to_end', 'num_country_max_1days', 'num_city_max_1days', 'android_max_1days', 'smarttv_max_1days', 'iphone_max_1days', 'ipad_max_1days', 'apple_max_1days', 'pc_max_1days', 'time_spent_sum_3days', 'time_spent_max_3days', 'num_title_ep_sum_3days', 'num_title_ep_max_3days', 'num_title_ru_sum_3days', 'num_title_ru_max_3days', 'num_country_max_3days', 'num_city_max_3days', 'other_content_sum_3days', 'top_1_sum_3days', 'top_2_sum_3days', 'top_3_sum_3days', 'top_4_sum_3days', 'top_5_sum_3days', 'top_6_sum_3days', 'top_7_sum_3days', 'top_8_sum_3days', 'top_9_sum_3days', 'top_10_sum_3days', 'android_max_3days', 'smarttv_max_3days', 'iphone_max_3days', 'ipad_max_3days', 'apple_max_3days', 'pc_max_3days', 'time_spent_sum_7days', 'time_spent_max_7days', 'num_title_ep_sum_7days', 'num_title_ep_max_7days', 'num_title_ru_sum_7days', 'num_title_ru_max_7days', 'num_country_max_7days', 'num_city_max_7days', 'other_content_sum_7days', 'top_1_sum_7days', 'top_2_sum_7days', 'top_3_sum_7days', 'top_4_sum_7days', 'top_5_sum_7days', 'top_6_sum_7days', 'top_7_sum_7days', 'top_8_sum_7days', 'top_9_sum_7days', 'top_10_sum_7days', 'android_max_7days', 'smarttv_max_7days', 'iphone_max_7days', 'ipad_max_7days', 'apple_max_7days', 'pc_max_7days', 'time_spent_sum_14days', 'time_spent_max_14days', 'num_title_ep_sum_14days', 'num_title_ep_max_14days', 'num_title_ru_sum_14days', 'num_title_ru_max_14days', 'num_country_max_14days', 'num_city_max_14days', 'other_content_sum_14days', 'top_1_sum_14days', 'top_2_sum_14days', 'top_3_sum_14days', 'top_4_sum_14days', 'top_5_sum_14days', 'top_6_sum_14days', 'top_7_sum_14days', 'top_8_sum_14days', 'top_9_sum_14days', 'top_10_sum_14days', 'android_max_14days', 'smarttv_max_14days', 'iphone_max_14days', 'ipad_max_14days', 'apple_max_14days', 'pc_max_14days', 'time_spent_sum_21days', 'time_spent_max_21days', 'num_title_ep_sum_21days', 'num_title_ep_max_21days', 'num_title_ru_sum_21days', 'num_title_ru_max_21days', 'num_country_max_21days', 'num_city_max_21days', 'other_content_sum_21days', 'top_1_sum_21days', 'top_2_sum_21days', 'top_3_sum_21days', 'top_4_sum_21days', 'top_5_sum_21days', 'top_6_sum_21days', 'top_7_sum_21days', 'top_8_sum_21days', 'top_9_sum_21days', 'top_10_sum_21days', 'android_max_21days', 'smarttv_max_21days', 'iphone_max_21days', 'ipad_max_21days', 'apple_max_21days', 'pc_max_21days', 'time_spent_sum_30days', 'time_spent_max_30days', 'num_title_ep_sum_30days', 'num_title_ep_max_30days', 'num_title_ru_sum_30days', 'num_title_ru_max_30days']\n",
      "5-fold CV is : 0.7761 +/- 0.0025\n"
     ]
    },
    {
     "name": "stderr",
     "output_type": "stream",
     "text": [
      "\n",
      " 82%|██████████████████████████      | 115/141 [17:58<07:33, 17.45s/it]"
     ]
    },
    {
     "name": "stdout",
     "output_type": "stream",
     "text": [
      "adding feature num_country_max_30days\n",
      "performing CV with features: ['days_to_end', 'num_country_max_1days', 'num_city_max_1days', 'android_max_1days', 'smarttv_max_1days', 'iphone_max_1days', 'ipad_max_1days', 'apple_max_1days', 'pc_max_1days', 'time_spent_sum_3days', 'time_spent_max_3days', 'num_title_ep_sum_3days', 'num_title_ep_max_3days', 'num_title_ru_sum_3days', 'num_title_ru_max_3days', 'num_country_max_3days', 'num_city_max_3days', 'other_content_sum_3days', 'top_1_sum_3days', 'top_2_sum_3days', 'top_3_sum_3days', 'top_4_sum_3days', 'top_5_sum_3days', 'top_6_sum_3days', 'top_7_sum_3days', 'top_8_sum_3days', 'top_9_sum_3days', 'top_10_sum_3days', 'android_max_3days', 'smarttv_max_3days', 'iphone_max_3days', 'ipad_max_3days', 'apple_max_3days', 'pc_max_3days', 'time_spent_sum_7days', 'time_spent_max_7days', 'num_title_ep_sum_7days', 'num_title_ep_max_7days', 'num_title_ru_sum_7days', 'num_title_ru_max_7days', 'num_country_max_7days', 'num_city_max_7days', 'other_content_sum_7days', 'top_1_sum_7days', 'top_2_sum_7days', 'top_3_sum_7days', 'top_4_sum_7days', 'top_5_sum_7days', 'top_6_sum_7days', 'top_7_sum_7days', 'top_8_sum_7days', 'top_9_sum_7days', 'top_10_sum_7days', 'android_max_7days', 'smarttv_max_7days', 'iphone_max_7days', 'ipad_max_7days', 'apple_max_7days', 'pc_max_7days', 'time_spent_sum_14days', 'time_spent_max_14days', 'num_title_ep_sum_14days', 'num_title_ep_max_14days', 'num_title_ru_sum_14days', 'num_title_ru_max_14days', 'num_country_max_14days', 'num_city_max_14days', 'other_content_sum_14days', 'top_1_sum_14days', 'top_2_sum_14days', 'top_3_sum_14days', 'top_4_sum_14days', 'top_5_sum_14days', 'top_6_sum_14days', 'top_7_sum_14days', 'top_8_sum_14days', 'top_9_sum_14days', 'top_10_sum_14days', 'android_max_14days', 'smarttv_max_14days', 'iphone_max_14days', 'ipad_max_14days', 'apple_max_14days', 'pc_max_14days', 'time_spent_sum_21days', 'time_spent_max_21days', 'num_title_ep_sum_21days', 'num_title_ep_max_21days', 'num_title_ru_sum_21days', 'num_title_ru_max_21days', 'num_country_max_21days', 'num_city_max_21days', 'other_content_sum_21days', 'top_1_sum_21days', 'top_2_sum_21days', 'top_3_sum_21days', 'top_4_sum_21days', 'top_5_sum_21days', 'top_6_sum_21days', 'top_7_sum_21days', 'top_8_sum_21days', 'top_9_sum_21days', 'top_10_sum_21days', 'android_max_21days', 'smarttv_max_21days', 'iphone_max_21days', 'ipad_max_21days', 'apple_max_21days', 'pc_max_21days', 'time_spent_sum_30days', 'time_spent_max_30days', 'num_title_ep_sum_30days', 'num_title_ep_max_30days', 'num_title_ru_sum_30days', 'num_title_ru_max_30days', 'num_country_max_30days']\n",
      "5-fold CV is : 0.7765 +/- 0.0028\n"
     ]
    },
    {
     "name": "stderr",
     "output_type": "stream",
     "text": [
      "\n",
      " 82%|██████████████████████████▎     | 116/141 [18:16<07:21, 17.66s/it]"
     ]
    },
    {
     "name": "stdout",
     "output_type": "stream",
     "text": [
      "adding feature num_city_max_30days\n",
      "performing CV with features: ['days_to_end', 'num_country_max_1days', 'num_city_max_1days', 'android_max_1days', 'smarttv_max_1days', 'iphone_max_1days', 'ipad_max_1days', 'apple_max_1days', 'pc_max_1days', 'time_spent_sum_3days', 'time_spent_max_3days', 'num_title_ep_sum_3days', 'num_title_ep_max_3days', 'num_title_ru_sum_3days', 'num_title_ru_max_3days', 'num_country_max_3days', 'num_city_max_3days', 'other_content_sum_3days', 'top_1_sum_3days', 'top_2_sum_3days', 'top_3_sum_3days', 'top_4_sum_3days', 'top_5_sum_3days', 'top_6_sum_3days', 'top_7_sum_3days', 'top_8_sum_3days', 'top_9_sum_3days', 'top_10_sum_3days', 'android_max_3days', 'smarttv_max_3days', 'iphone_max_3days', 'ipad_max_3days', 'apple_max_3days', 'pc_max_3days', 'time_spent_sum_7days', 'time_spent_max_7days', 'num_title_ep_sum_7days', 'num_title_ep_max_7days', 'num_title_ru_sum_7days', 'num_title_ru_max_7days', 'num_country_max_7days', 'num_city_max_7days', 'other_content_sum_7days', 'top_1_sum_7days', 'top_2_sum_7days', 'top_3_sum_7days', 'top_4_sum_7days', 'top_5_sum_7days', 'top_6_sum_7days', 'top_7_sum_7days', 'top_8_sum_7days', 'top_9_sum_7days', 'top_10_sum_7days', 'android_max_7days', 'smarttv_max_7days', 'iphone_max_7days', 'ipad_max_7days', 'apple_max_7days', 'pc_max_7days', 'time_spent_sum_14days', 'time_spent_max_14days', 'num_title_ep_sum_14days', 'num_title_ep_max_14days', 'num_title_ru_sum_14days', 'num_title_ru_max_14days', 'num_country_max_14days', 'num_city_max_14days', 'other_content_sum_14days', 'top_1_sum_14days', 'top_2_sum_14days', 'top_3_sum_14days', 'top_4_sum_14days', 'top_5_sum_14days', 'top_6_sum_14days', 'top_7_sum_14days', 'top_8_sum_14days', 'top_9_sum_14days', 'top_10_sum_14days', 'android_max_14days', 'smarttv_max_14days', 'iphone_max_14days', 'ipad_max_14days', 'apple_max_14days', 'pc_max_14days', 'time_spent_sum_21days', 'time_spent_max_21days', 'num_title_ep_sum_21days', 'num_title_ep_max_21days', 'num_title_ru_sum_21days', 'num_title_ru_max_21days', 'num_country_max_21days', 'num_city_max_21days', 'other_content_sum_21days', 'top_1_sum_21days', 'top_2_sum_21days', 'top_3_sum_21days', 'top_4_sum_21days', 'top_5_sum_21days', 'top_6_sum_21days', 'top_7_sum_21days', 'top_8_sum_21days', 'top_9_sum_21days', 'top_10_sum_21days', 'android_max_21days', 'smarttv_max_21days', 'iphone_max_21days', 'ipad_max_21days', 'apple_max_21days', 'pc_max_21days', 'time_spent_sum_30days', 'time_spent_max_30days', 'num_title_ep_sum_30days', 'num_title_ep_max_30days', 'num_title_ru_sum_30days', 'num_title_ru_max_30days', 'num_country_max_30days', 'num_city_max_30days']\n",
      "5-fold CV is : 0.7765 +/- 0.0031\n"
     ]
    },
    {
     "name": "stderr",
     "output_type": "stream",
     "text": [
      "\n",
      " 83%|██████████████████████████▌     | 117/141 [18:35<07:11, 17.96s/it]"
     ]
    },
    {
     "name": "stdout",
     "output_type": "stream",
     "text": [
      "adding feature other_content_sum_30days\n",
      "performing CV with features: ['days_to_end', 'num_country_max_1days', 'num_city_max_1days', 'android_max_1days', 'smarttv_max_1days', 'iphone_max_1days', 'ipad_max_1days', 'apple_max_1days', 'pc_max_1days', 'time_spent_sum_3days', 'time_spent_max_3days', 'num_title_ep_sum_3days', 'num_title_ep_max_3days', 'num_title_ru_sum_3days', 'num_title_ru_max_3days', 'num_country_max_3days', 'num_city_max_3days', 'other_content_sum_3days', 'top_1_sum_3days', 'top_2_sum_3days', 'top_3_sum_3days', 'top_4_sum_3days', 'top_5_sum_3days', 'top_6_sum_3days', 'top_7_sum_3days', 'top_8_sum_3days', 'top_9_sum_3days', 'top_10_sum_3days', 'android_max_3days', 'smarttv_max_3days', 'iphone_max_3days', 'ipad_max_3days', 'apple_max_3days', 'pc_max_3days', 'time_spent_sum_7days', 'time_spent_max_7days', 'num_title_ep_sum_7days', 'num_title_ep_max_7days', 'num_title_ru_sum_7days', 'num_title_ru_max_7days', 'num_country_max_7days', 'num_city_max_7days', 'other_content_sum_7days', 'top_1_sum_7days', 'top_2_sum_7days', 'top_3_sum_7days', 'top_4_sum_7days', 'top_5_sum_7days', 'top_6_sum_7days', 'top_7_sum_7days', 'top_8_sum_7days', 'top_9_sum_7days', 'top_10_sum_7days', 'android_max_7days', 'smarttv_max_7days', 'iphone_max_7days', 'ipad_max_7days', 'apple_max_7days', 'pc_max_7days', 'time_spent_sum_14days', 'time_spent_max_14days', 'num_title_ep_sum_14days', 'num_title_ep_max_14days', 'num_title_ru_sum_14days', 'num_title_ru_max_14days', 'num_country_max_14days', 'num_city_max_14days', 'other_content_sum_14days', 'top_1_sum_14days', 'top_2_sum_14days', 'top_3_sum_14days', 'top_4_sum_14days', 'top_5_sum_14days', 'top_6_sum_14days', 'top_7_sum_14days', 'top_8_sum_14days', 'top_9_sum_14days', 'top_10_sum_14days', 'android_max_14days', 'smarttv_max_14days', 'iphone_max_14days', 'ipad_max_14days', 'apple_max_14days', 'pc_max_14days', 'time_spent_sum_21days', 'time_spent_max_21days', 'num_title_ep_sum_21days', 'num_title_ep_max_21days', 'num_title_ru_sum_21days', 'num_title_ru_max_21days', 'num_country_max_21days', 'num_city_max_21days', 'other_content_sum_21days', 'top_1_sum_21days', 'top_2_sum_21days', 'top_3_sum_21days', 'top_4_sum_21days', 'top_5_sum_21days', 'top_6_sum_21days', 'top_7_sum_21days', 'top_8_sum_21days', 'top_9_sum_21days', 'top_10_sum_21days', 'android_max_21days', 'smarttv_max_21days', 'iphone_max_21days', 'ipad_max_21days', 'apple_max_21days', 'pc_max_21days', 'time_spent_sum_30days', 'time_spent_max_30days', 'num_title_ep_sum_30days', 'num_title_ep_max_30days', 'num_title_ru_sum_30days', 'num_title_ru_max_30days', 'num_country_max_30days', 'num_city_max_30days', 'other_content_sum_30days']\n",
      "5-fold CV is : 0.7795 +/- 0.0019\n"
     ]
    },
    {
     "name": "stderr",
     "output_type": "stream",
     "text": [
      "\n",
      " 84%|██████████████████████████▊     | 118/141 [18:53<06:55, 18.07s/it]"
     ]
    },
    {
     "name": "stdout",
     "output_type": "stream",
     "text": [
      "adding feature top_1_sum_30days\n",
      "performing CV with features: ['days_to_end', 'num_country_max_1days', 'num_city_max_1days', 'android_max_1days', 'smarttv_max_1days', 'iphone_max_1days', 'ipad_max_1days', 'apple_max_1days', 'pc_max_1days', 'time_spent_sum_3days', 'time_spent_max_3days', 'num_title_ep_sum_3days', 'num_title_ep_max_3days', 'num_title_ru_sum_3days', 'num_title_ru_max_3days', 'num_country_max_3days', 'num_city_max_3days', 'other_content_sum_3days', 'top_1_sum_3days', 'top_2_sum_3days', 'top_3_sum_3days', 'top_4_sum_3days', 'top_5_sum_3days', 'top_6_sum_3days', 'top_7_sum_3days', 'top_8_sum_3days', 'top_9_sum_3days', 'top_10_sum_3days', 'android_max_3days', 'smarttv_max_3days', 'iphone_max_3days', 'ipad_max_3days', 'apple_max_3days', 'pc_max_3days', 'time_spent_sum_7days', 'time_spent_max_7days', 'num_title_ep_sum_7days', 'num_title_ep_max_7days', 'num_title_ru_sum_7days', 'num_title_ru_max_7days', 'num_country_max_7days', 'num_city_max_7days', 'other_content_sum_7days', 'top_1_sum_7days', 'top_2_sum_7days', 'top_3_sum_7days', 'top_4_sum_7days', 'top_5_sum_7days', 'top_6_sum_7days', 'top_7_sum_7days', 'top_8_sum_7days', 'top_9_sum_7days', 'top_10_sum_7days', 'android_max_7days', 'smarttv_max_7days', 'iphone_max_7days', 'ipad_max_7days', 'apple_max_7days', 'pc_max_7days', 'time_spent_sum_14days', 'time_spent_max_14days', 'num_title_ep_sum_14days', 'num_title_ep_max_14days', 'num_title_ru_sum_14days', 'num_title_ru_max_14days', 'num_country_max_14days', 'num_city_max_14days', 'other_content_sum_14days', 'top_1_sum_14days', 'top_2_sum_14days', 'top_3_sum_14days', 'top_4_sum_14days', 'top_5_sum_14days', 'top_6_sum_14days', 'top_7_sum_14days', 'top_8_sum_14days', 'top_9_sum_14days', 'top_10_sum_14days', 'android_max_14days', 'smarttv_max_14days', 'iphone_max_14days', 'ipad_max_14days', 'apple_max_14days', 'pc_max_14days', 'time_spent_sum_21days', 'time_spent_max_21days', 'num_title_ep_sum_21days', 'num_title_ep_max_21days', 'num_title_ru_sum_21days', 'num_title_ru_max_21days', 'num_country_max_21days', 'num_city_max_21days', 'other_content_sum_21days', 'top_1_sum_21days', 'top_2_sum_21days', 'top_3_sum_21days', 'top_4_sum_21days', 'top_5_sum_21days', 'top_6_sum_21days', 'top_7_sum_21days', 'top_8_sum_21days', 'top_9_sum_21days', 'top_10_sum_21days', 'android_max_21days', 'smarttv_max_21days', 'iphone_max_21days', 'ipad_max_21days', 'apple_max_21days', 'pc_max_21days', 'time_spent_sum_30days', 'time_spent_max_30days', 'num_title_ep_sum_30days', 'num_title_ep_max_30days', 'num_title_ru_sum_30days', 'num_title_ru_max_30days', 'num_country_max_30days', 'num_city_max_30days', 'other_content_sum_30days', 'top_1_sum_30days']\n",
      "5-fold CV is : 0.7804 +/- 0.0011\n"
     ]
    },
    {
     "name": "stderr",
     "output_type": "stream",
     "text": [
      "\n",
      " 84%|███████████████████████████     | 119/141 [19:12<06:42, 18.31s/it]"
     ]
    },
    {
     "name": "stdout",
     "output_type": "stream",
     "text": [
      "adding feature top_2_sum_30days\n",
      "performing CV with features: ['days_to_end', 'num_country_max_1days', 'num_city_max_1days', 'android_max_1days', 'smarttv_max_1days', 'iphone_max_1days', 'ipad_max_1days', 'apple_max_1days', 'pc_max_1days', 'time_spent_sum_3days', 'time_spent_max_3days', 'num_title_ep_sum_3days', 'num_title_ep_max_3days', 'num_title_ru_sum_3days', 'num_title_ru_max_3days', 'num_country_max_3days', 'num_city_max_3days', 'other_content_sum_3days', 'top_1_sum_3days', 'top_2_sum_3days', 'top_3_sum_3days', 'top_4_sum_3days', 'top_5_sum_3days', 'top_6_sum_3days', 'top_7_sum_3days', 'top_8_sum_3days', 'top_9_sum_3days', 'top_10_sum_3days', 'android_max_3days', 'smarttv_max_3days', 'iphone_max_3days', 'ipad_max_3days', 'apple_max_3days', 'pc_max_3days', 'time_spent_sum_7days', 'time_spent_max_7days', 'num_title_ep_sum_7days', 'num_title_ep_max_7days', 'num_title_ru_sum_7days', 'num_title_ru_max_7days', 'num_country_max_7days', 'num_city_max_7days', 'other_content_sum_7days', 'top_1_sum_7days', 'top_2_sum_7days', 'top_3_sum_7days', 'top_4_sum_7days', 'top_5_sum_7days', 'top_6_sum_7days', 'top_7_sum_7days', 'top_8_sum_7days', 'top_9_sum_7days', 'top_10_sum_7days', 'android_max_7days', 'smarttv_max_7days', 'iphone_max_7days', 'ipad_max_7days', 'apple_max_7days', 'pc_max_7days', 'time_spent_sum_14days', 'time_spent_max_14days', 'num_title_ep_sum_14days', 'num_title_ep_max_14days', 'num_title_ru_sum_14days', 'num_title_ru_max_14days', 'num_country_max_14days', 'num_city_max_14days', 'other_content_sum_14days', 'top_1_sum_14days', 'top_2_sum_14days', 'top_3_sum_14days', 'top_4_sum_14days', 'top_5_sum_14days', 'top_6_sum_14days', 'top_7_sum_14days', 'top_8_sum_14days', 'top_9_sum_14days', 'top_10_sum_14days', 'android_max_14days', 'smarttv_max_14days', 'iphone_max_14days', 'ipad_max_14days', 'apple_max_14days', 'pc_max_14days', 'time_spent_sum_21days', 'time_spent_max_21days', 'num_title_ep_sum_21days', 'num_title_ep_max_21days', 'num_title_ru_sum_21days', 'num_title_ru_max_21days', 'num_country_max_21days', 'num_city_max_21days', 'other_content_sum_21days', 'top_1_sum_21days', 'top_2_sum_21days', 'top_3_sum_21days', 'top_4_sum_21days', 'top_5_sum_21days', 'top_6_sum_21days', 'top_7_sum_21days', 'top_8_sum_21days', 'top_9_sum_21days', 'top_10_sum_21days', 'android_max_21days', 'smarttv_max_21days', 'iphone_max_21days', 'ipad_max_21days', 'apple_max_21days', 'pc_max_21days', 'time_spent_sum_30days', 'time_spent_max_30days', 'num_title_ep_sum_30days', 'num_title_ep_max_30days', 'num_title_ru_sum_30days', 'num_title_ru_max_30days', 'num_country_max_30days', 'num_city_max_30days', 'other_content_sum_30days', 'top_1_sum_30days', 'top_2_sum_30days']\n",
      "5-fold CV is : 0.7819 +/- 0.0026\n"
     ]
    },
    {
     "name": "stderr",
     "output_type": "stream",
     "text": [
      "\n",
      " 85%|███████████████████████████▏    | 120/141 [19:33<06:39, 19.05s/it]"
     ]
    },
    {
     "name": "stdout",
     "output_type": "stream",
     "text": [
      "adding feature top_3_sum_30days\n",
      "performing CV with features: ['days_to_end', 'num_country_max_1days', 'num_city_max_1days', 'android_max_1days', 'smarttv_max_1days', 'iphone_max_1days', 'ipad_max_1days', 'apple_max_1days', 'pc_max_1days', 'time_spent_sum_3days', 'time_spent_max_3days', 'num_title_ep_sum_3days', 'num_title_ep_max_3days', 'num_title_ru_sum_3days', 'num_title_ru_max_3days', 'num_country_max_3days', 'num_city_max_3days', 'other_content_sum_3days', 'top_1_sum_3days', 'top_2_sum_3days', 'top_3_sum_3days', 'top_4_sum_3days', 'top_5_sum_3days', 'top_6_sum_3days', 'top_7_sum_3days', 'top_8_sum_3days', 'top_9_sum_3days', 'top_10_sum_3days', 'android_max_3days', 'smarttv_max_3days', 'iphone_max_3days', 'ipad_max_3days', 'apple_max_3days', 'pc_max_3days', 'time_spent_sum_7days', 'time_spent_max_7days', 'num_title_ep_sum_7days', 'num_title_ep_max_7days', 'num_title_ru_sum_7days', 'num_title_ru_max_7days', 'num_country_max_7days', 'num_city_max_7days', 'other_content_sum_7days', 'top_1_sum_7days', 'top_2_sum_7days', 'top_3_sum_7days', 'top_4_sum_7days', 'top_5_sum_7days', 'top_6_sum_7days', 'top_7_sum_7days', 'top_8_sum_7days', 'top_9_sum_7days', 'top_10_sum_7days', 'android_max_7days', 'smarttv_max_7days', 'iphone_max_7days', 'ipad_max_7days', 'apple_max_7days', 'pc_max_7days', 'time_spent_sum_14days', 'time_spent_max_14days', 'num_title_ep_sum_14days', 'num_title_ep_max_14days', 'num_title_ru_sum_14days', 'num_title_ru_max_14days', 'num_country_max_14days', 'num_city_max_14days', 'other_content_sum_14days', 'top_1_sum_14days', 'top_2_sum_14days', 'top_3_sum_14days', 'top_4_sum_14days', 'top_5_sum_14days', 'top_6_sum_14days', 'top_7_sum_14days', 'top_8_sum_14days', 'top_9_sum_14days', 'top_10_sum_14days', 'android_max_14days', 'smarttv_max_14days', 'iphone_max_14days', 'ipad_max_14days', 'apple_max_14days', 'pc_max_14days', 'time_spent_sum_21days', 'time_spent_max_21days', 'num_title_ep_sum_21days', 'num_title_ep_max_21days', 'num_title_ru_sum_21days', 'num_title_ru_max_21days', 'num_country_max_21days', 'num_city_max_21days', 'other_content_sum_21days', 'top_1_sum_21days', 'top_2_sum_21days', 'top_3_sum_21days', 'top_4_sum_21days', 'top_5_sum_21days', 'top_6_sum_21days', 'top_7_sum_21days', 'top_8_sum_21days', 'top_9_sum_21days', 'top_10_sum_21days', 'android_max_21days', 'smarttv_max_21days', 'iphone_max_21days', 'ipad_max_21days', 'apple_max_21days', 'pc_max_21days', 'time_spent_sum_30days', 'time_spent_max_30days', 'num_title_ep_sum_30days', 'num_title_ep_max_30days', 'num_title_ru_sum_30days', 'num_title_ru_max_30days', 'num_country_max_30days', 'num_city_max_30days', 'other_content_sum_30days', 'top_1_sum_30days', 'top_2_sum_30days', 'top_3_sum_30days']\n",
      "5-fold CV is : 0.7837 +/- 0.002\n"
     ]
    },
    {
     "name": "stderr",
     "output_type": "stream",
     "text": [
      "\n",
      " 86%|███████████████████████████▍    | 121/141 [19:54<06:30, 19.50s/it]"
     ]
    },
    {
     "name": "stdout",
     "output_type": "stream",
     "text": [
      "adding feature top_4_sum_30days\n",
      "performing CV with features: ['days_to_end', 'num_country_max_1days', 'num_city_max_1days', 'android_max_1days', 'smarttv_max_1days', 'iphone_max_1days', 'ipad_max_1days', 'apple_max_1days', 'pc_max_1days', 'time_spent_sum_3days', 'time_spent_max_3days', 'num_title_ep_sum_3days', 'num_title_ep_max_3days', 'num_title_ru_sum_3days', 'num_title_ru_max_3days', 'num_country_max_3days', 'num_city_max_3days', 'other_content_sum_3days', 'top_1_sum_3days', 'top_2_sum_3days', 'top_3_sum_3days', 'top_4_sum_3days', 'top_5_sum_3days', 'top_6_sum_3days', 'top_7_sum_3days', 'top_8_sum_3days', 'top_9_sum_3days', 'top_10_sum_3days', 'android_max_3days', 'smarttv_max_3days', 'iphone_max_3days', 'ipad_max_3days', 'apple_max_3days', 'pc_max_3days', 'time_spent_sum_7days', 'time_spent_max_7days', 'num_title_ep_sum_7days', 'num_title_ep_max_7days', 'num_title_ru_sum_7days', 'num_title_ru_max_7days', 'num_country_max_7days', 'num_city_max_7days', 'other_content_sum_7days', 'top_1_sum_7days', 'top_2_sum_7days', 'top_3_sum_7days', 'top_4_sum_7days', 'top_5_sum_7days', 'top_6_sum_7days', 'top_7_sum_7days', 'top_8_sum_7days', 'top_9_sum_7days', 'top_10_sum_7days', 'android_max_7days', 'smarttv_max_7days', 'iphone_max_7days', 'ipad_max_7days', 'apple_max_7days', 'pc_max_7days', 'time_spent_sum_14days', 'time_spent_max_14days', 'num_title_ep_sum_14days', 'num_title_ep_max_14days', 'num_title_ru_sum_14days', 'num_title_ru_max_14days', 'num_country_max_14days', 'num_city_max_14days', 'other_content_sum_14days', 'top_1_sum_14days', 'top_2_sum_14days', 'top_3_sum_14days', 'top_4_sum_14days', 'top_5_sum_14days', 'top_6_sum_14days', 'top_7_sum_14days', 'top_8_sum_14days', 'top_9_sum_14days', 'top_10_sum_14days', 'android_max_14days', 'smarttv_max_14days', 'iphone_max_14days', 'ipad_max_14days', 'apple_max_14days', 'pc_max_14days', 'time_spent_sum_21days', 'time_spent_max_21days', 'num_title_ep_sum_21days', 'num_title_ep_max_21days', 'num_title_ru_sum_21days', 'num_title_ru_max_21days', 'num_country_max_21days', 'num_city_max_21days', 'other_content_sum_21days', 'top_1_sum_21days', 'top_2_sum_21days', 'top_3_sum_21days', 'top_4_sum_21days', 'top_5_sum_21days', 'top_6_sum_21days', 'top_7_sum_21days', 'top_8_sum_21days', 'top_9_sum_21days', 'top_10_sum_21days', 'android_max_21days', 'smarttv_max_21days', 'iphone_max_21days', 'ipad_max_21days', 'apple_max_21days', 'pc_max_21days', 'time_spent_sum_30days', 'time_spent_max_30days', 'num_title_ep_sum_30days', 'num_title_ep_max_30days', 'num_title_ru_sum_30days', 'num_title_ru_max_30days', 'num_country_max_30days', 'num_city_max_30days', 'other_content_sum_30days', 'top_1_sum_30days', 'top_2_sum_30days', 'top_3_sum_30days', 'top_4_sum_30days']\n",
      "5-fold CV is : 0.7853 +/- 0.0033\n"
     ]
    },
    {
     "name": "stderr",
     "output_type": "stream",
     "text": [
      "\n",
      " 87%|███████████████████████████▋    | 122/141 [20:15<06:18, 19.92s/it]"
     ]
    },
    {
     "name": "stdout",
     "output_type": "stream",
     "text": [
      "adding feature top_5_sum_30days\n",
      "performing CV with features: ['days_to_end', 'num_country_max_1days', 'num_city_max_1days', 'android_max_1days', 'smarttv_max_1days', 'iphone_max_1days', 'ipad_max_1days', 'apple_max_1days', 'pc_max_1days', 'time_spent_sum_3days', 'time_spent_max_3days', 'num_title_ep_sum_3days', 'num_title_ep_max_3days', 'num_title_ru_sum_3days', 'num_title_ru_max_3days', 'num_country_max_3days', 'num_city_max_3days', 'other_content_sum_3days', 'top_1_sum_3days', 'top_2_sum_3days', 'top_3_sum_3days', 'top_4_sum_3days', 'top_5_sum_3days', 'top_6_sum_3days', 'top_7_sum_3days', 'top_8_sum_3days', 'top_9_sum_3days', 'top_10_sum_3days', 'android_max_3days', 'smarttv_max_3days', 'iphone_max_3days', 'ipad_max_3days', 'apple_max_3days', 'pc_max_3days', 'time_spent_sum_7days', 'time_spent_max_7days', 'num_title_ep_sum_7days', 'num_title_ep_max_7days', 'num_title_ru_sum_7days', 'num_title_ru_max_7days', 'num_country_max_7days', 'num_city_max_7days', 'other_content_sum_7days', 'top_1_sum_7days', 'top_2_sum_7days', 'top_3_sum_7days', 'top_4_sum_7days', 'top_5_sum_7days', 'top_6_sum_7days', 'top_7_sum_7days', 'top_8_sum_7days', 'top_9_sum_7days', 'top_10_sum_7days', 'android_max_7days', 'smarttv_max_7days', 'iphone_max_7days', 'ipad_max_7days', 'apple_max_7days', 'pc_max_7days', 'time_spent_sum_14days', 'time_spent_max_14days', 'num_title_ep_sum_14days', 'num_title_ep_max_14days', 'num_title_ru_sum_14days', 'num_title_ru_max_14days', 'num_country_max_14days', 'num_city_max_14days', 'other_content_sum_14days', 'top_1_sum_14days', 'top_2_sum_14days', 'top_3_sum_14days', 'top_4_sum_14days', 'top_5_sum_14days', 'top_6_sum_14days', 'top_7_sum_14days', 'top_8_sum_14days', 'top_9_sum_14days', 'top_10_sum_14days', 'android_max_14days', 'smarttv_max_14days', 'iphone_max_14days', 'ipad_max_14days', 'apple_max_14days', 'pc_max_14days', 'time_spent_sum_21days', 'time_spent_max_21days', 'num_title_ep_sum_21days', 'num_title_ep_max_21days', 'num_title_ru_sum_21days', 'num_title_ru_max_21days', 'num_country_max_21days', 'num_city_max_21days', 'other_content_sum_21days', 'top_1_sum_21days', 'top_2_sum_21days', 'top_3_sum_21days', 'top_4_sum_21days', 'top_5_sum_21days', 'top_6_sum_21days', 'top_7_sum_21days', 'top_8_sum_21days', 'top_9_sum_21days', 'top_10_sum_21days', 'android_max_21days', 'smarttv_max_21days', 'iphone_max_21days', 'ipad_max_21days', 'apple_max_21days', 'pc_max_21days', 'time_spent_sum_30days', 'time_spent_max_30days', 'num_title_ep_sum_30days', 'num_title_ep_max_30days', 'num_title_ru_sum_30days', 'num_title_ru_max_30days', 'num_country_max_30days', 'num_city_max_30days', 'other_content_sum_30days', 'top_1_sum_30days', 'top_2_sum_30days', 'top_3_sum_30days', 'top_4_sum_30days', 'top_5_sum_30days']\n",
      "5-fold CV is : 0.786 +/- 0.003\n"
     ]
    },
    {
     "name": "stderr",
     "output_type": "stream",
     "text": [
      "\n",
      " 87%|███████████████████████████▉    | 123/141 [20:36<06:05, 20.32s/it]"
     ]
    },
    {
     "name": "stdout",
     "output_type": "stream",
     "text": [
      "adding feature top_6_sum_30days\n",
      "performing CV with features: ['days_to_end', 'num_country_max_1days', 'num_city_max_1days', 'android_max_1days', 'smarttv_max_1days', 'iphone_max_1days', 'ipad_max_1days', 'apple_max_1days', 'pc_max_1days', 'time_spent_sum_3days', 'time_spent_max_3days', 'num_title_ep_sum_3days', 'num_title_ep_max_3days', 'num_title_ru_sum_3days', 'num_title_ru_max_3days', 'num_country_max_3days', 'num_city_max_3days', 'other_content_sum_3days', 'top_1_sum_3days', 'top_2_sum_3days', 'top_3_sum_3days', 'top_4_sum_3days', 'top_5_sum_3days', 'top_6_sum_3days', 'top_7_sum_3days', 'top_8_sum_3days', 'top_9_sum_3days', 'top_10_sum_3days', 'android_max_3days', 'smarttv_max_3days', 'iphone_max_3days', 'ipad_max_3days', 'apple_max_3days', 'pc_max_3days', 'time_spent_sum_7days', 'time_spent_max_7days', 'num_title_ep_sum_7days', 'num_title_ep_max_7days', 'num_title_ru_sum_7days', 'num_title_ru_max_7days', 'num_country_max_7days', 'num_city_max_7days', 'other_content_sum_7days', 'top_1_sum_7days', 'top_2_sum_7days', 'top_3_sum_7days', 'top_4_sum_7days', 'top_5_sum_7days', 'top_6_sum_7days', 'top_7_sum_7days', 'top_8_sum_7days', 'top_9_sum_7days', 'top_10_sum_7days', 'android_max_7days', 'smarttv_max_7days', 'iphone_max_7days', 'ipad_max_7days', 'apple_max_7days', 'pc_max_7days', 'time_spent_sum_14days', 'time_spent_max_14days', 'num_title_ep_sum_14days', 'num_title_ep_max_14days', 'num_title_ru_sum_14days', 'num_title_ru_max_14days', 'num_country_max_14days', 'num_city_max_14days', 'other_content_sum_14days', 'top_1_sum_14days', 'top_2_sum_14days', 'top_3_sum_14days', 'top_4_sum_14days', 'top_5_sum_14days', 'top_6_sum_14days', 'top_7_sum_14days', 'top_8_sum_14days', 'top_9_sum_14days', 'top_10_sum_14days', 'android_max_14days', 'smarttv_max_14days', 'iphone_max_14days', 'ipad_max_14days', 'apple_max_14days', 'pc_max_14days', 'time_spent_sum_21days', 'time_spent_max_21days', 'num_title_ep_sum_21days', 'num_title_ep_max_21days', 'num_title_ru_sum_21days', 'num_title_ru_max_21days', 'num_country_max_21days', 'num_city_max_21days', 'other_content_sum_21days', 'top_1_sum_21days', 'top_2_sum_21days', 'top_3_sum_21days', 'top_4_sum_21days', 'top_5_sum_21days', 'top_6_sum_21days', 'top_7_sum_21days', 'top_8_sum_21days', 'top_9_sum_21days', 'top_10_sum_21days', 'android_max_21days', 'smarttv_max_21days', 'iphone_max_21days', 'ipad_max_21days', 'apple_max_21days', 'pc_max_21days', 'time_spent_sum_30days', 'time_spent_max_30days', 'num_title_ep_sum_30days', 'num_title_ep_max_30days', 'num_title_ru_sum_30days', 'num_title_ru_max_30days', 'num_country_max_30days', 'num_city_max_30days', 'other_content_sum_30days', 'top_1_sum_30days', 'top_2_sum_30days', 'top_3_sum_30days', 'top_4_sum_30days', 'top_5_sum_30days', 'top_6_sum_30days']\n",
      "5-fold CV is : 0.7863 +/- 0.0016\n"
     ]
    },
    {
     "name": "stderr",
     "output_type": "stream",
     "text": [
      "\n",
      " 88%|████████████████████████████▏   | 124/141 [20:57<05:51, 20.69s/it]"
     ]
    },
    {
     "name": "stdout",
     "output_type": "stream",
     "text": [
      "adding feature top_7_sum_30days\n",
      "performing CV with features: ['days_to_end', 'num_country_max_1days', 'num_city_max_1days', 'android_max_1days', 'smarttv_max_1days', 'iphone_max_1days', 'ipad_max_1days', 'apple_max_1days', 'pc_max_1days', 'time_spent_sum_3days', 'time_spent_max_3days', 'num_title_ep_sum_3days', 'num_title_ep_max_3days', 'num_title_ru_sum_3days', 'num_title_ru_max_3days', 'num_country_max_3days', 'num_city_max_3days', 'other_content_sum_3days', 'top_1_sum_3days', 'top_2_sum_3days', 'top_3_sum_3days', 'top_4_sum_3days', 'top_5_sum_3days', 'top_6_sum_3days', 'top_7_sum_3days', 'top_8_sum_3days', 'top_9_sum_3days', 'top_10_sum_3days', 'android_max_3days', 'smarttv_max_3days', 'iphone_max_3days', 'ipad_max_3days', 'apple_max_3days', 'pc_max_3days', 'time_spent_sum_7days', 'time_spent_max_7days', 'num_title_ep_sum_7days', 'num_title_ep_max_7days', 'num_title_ru_sum_7days', 'num_title_ru_max_7days', 'num_country_max_7days', 'num_city_max_7days', 'other_content_sum_7days', 'top_1_sum_7days', 'top_2_sum_7days', 'top_3_sum_7days', 'top_4_sum_7days', 'top_5_sum_7days', 'top_6_sum_7days', 'top_7_sum_7days', 'top_8_sum_7days', 'top_9_sum_7days', 'top_10_sum_7days', 'android_max_7days', 'smarttv_max_7days', 'iphone_max_7days', 'ipad_max_7days', 'apple_max_7days', 'pc_max_7days', 'time_spent_sum_14days', 'time_spent_max_14days', 'num_title_ep_sum_14days', 'num_title_ep_max_14days', 'num_title_ru_sum_14days', 'num_title_ru_max_14days', 'num_country_max_14days', 'num_city_max_14days', 'other_content_sum_14days', 'top_1_sum_14days', 'top_2_sum_14days', 'top_3_sum_14days', 'top_4_sum_14days', 'top_5_sum_14days', 'top_6_sum_14days', 'top_7_sum_14days', 'top_8_sum_14days', 'top_9_sum_14days', 'top_10_sum_14days', 'android_max_14days', 'smarttv_max_14days', 'iphone_max_14days', 'ipad_max_14days', 'apple_max_14days', 'pc_max_14days', 'time_spent_sum_21days', 'time_spent_max_21days', 'num_title_ep_sum_21days', 'num_title_ep_max_21days', 'num_title_ru_sum_21days', 'num_title_ru_max_21days', 'num_country_max_21days', 'num_city_max_21days', 'other_content_sum_21days', 'top_1_sum_21days', 'top_2_sum_21days', 'top_3_sum_21days', 'top_4_sum_21days', 'top_5_sum_21days', 'top_6_sum_21days', 'top_7_sum_21days', 'top_8_sum_21days', 'top_9_sum_21days', 'top_10_sum_21days', 'android_max_21days', 'smarttv_max_21days', 'iphone_max_21days', 'ipad_max_21days', 'apple_max_21days', 'pc_max_21days', 'time_spent_sum_30days', 'time_spent_max_30days', 'num_title_ep_sum_30days', 'num_title_ep_max_30days', 'num_title_ru_sum_30days', 'num_title_ru_max_30days', 'num_country_max_30days', 'num_city_max_30days', 'other_content_sum_30days', 'top_1_sum_30days', 'top_2_sum_30days', 'top_3_sum_30days', 'top_4_sum_30days', 'top_5_sum_30days', 'top_6_sum_30days', 'top_7_sum_30days']\n",
      "5-fold CV is : 0.7867 +/- 0.0014\n"
     ]
    },
    {
     "name": "stderr",
     "output_type": "stream",
     "text": [
      "\n",
      " 89%|████████████████████████████▎   | 125/141 [21:19<05:33, 20.86s/it]"
     ]
    },
    {
     "name": "stdout",
     "output_type": "stream",
     "text": [
      "adding feature top_8_sum_30days\n",
      "performing CV with features: ['days_to_end', 'num_country_max_1days', 'num_city_max_1days', 'android_max_1days', 'smarttv_max_1days', 'iphone_max_1days', 'ipad_max_1days', 'apple_max_1days', 'pc_max_1days', 'time_spent_sum_3days', 'time_spent_max_3days', 'num_title_ep_sum_3days', 'num_title_ep_max_3days', 'num_title_ru_sum_3days', 'num_title_ru_max_3days', 'num_country_max_3days', 'num_city_max_3days', 'other_content_sum_3days', 'top_1_sum_3days', 'top_2_sum_3days', 'top_3_sum_3days', 'top_4_sum_3days', 'top_5_sum_3days', 'top_6_sum_3days', 'top_7_sum_3days', 'top_8_sum_3days', 'top_9_sum_3days', 'top_10_sum_3days', 'android_max_3days', 'smarttv_max_3days', 'iphone_max_3days', 'ipad_max_3days', 'apple_max_3days', 'pc_max_3days', 'time_spent_sum_7days', 'time_spent_max_7days', 'num_title_ep_sum_7days', 'num_title_ep_max_7days', 'num_title_ru_sum_7days', 'num_title_ru_max_7days', 'num_country_max_7days', 'num_city_max_7days', 'other_content_sum_7days', 'top_1_sum_7days', 'top_2_sum_7days', 'top_3_sum_7days', 'top_4_sum_7days', 'top_5_sum_7days', 'top_6_sum_7days', 'top_7_sum_7days', 'top_8_sum_7days', 'top_9_sum_7days', 'top_10_sum_7days', 'android_max_7days', 'smarttv_max_7days', 'iphone_max_7days', 'ipad_max_7days', 'apple_max_7days', 'pc_max_7days', 'time_spent_sum_14days', 'time_spent_max_14days', 'num_title_ep_sum_14days', 'num_title_ep_max_14days', 'num_title_ru_sum_14days', 'num_title_ru_max_14days', 'num_country_max_14days', 'num_city_max_14days', 'other_content_sum_14days', 'top_1_sum_14days', 'top_2_sum_14days', 'top_3_sum_14days', 'top_4_sum_14days', 'top_5_sum_14days', 'top_6_sum_14days', 'top_7_sum_14days', 'top_8_sum_14days', 'top_9_sum_14days', 'top_10_sum_14days', 'android_max_14days', 'smarttv_max_14days', 'iphone_max_14days', 'ipad_max_14days', 'apple_max_14days', 'pc_max_14days', 'time_spent_sum_21days', 'time_spent_max_21days', 'num_title_ep_sum_21days', 'num_title_ep_max_21days', 'num_title_ru_sum_21days', 'num_title_ru_max_21days', 'num_country_max_21days', 'num_city_max_21days', 'other_content_sum_21days', 'top_1_sum_21days', 'top_2_sum_21days', 'top_3_sum_21days', 'top_4_sum_21days', 'top_5_sum_21days', 'top_6_sum_21days', 'top_7_sum_21days', 'top_8_sum_21days', 'top_9_sum_21days', 'top_10_sum_21days', 'android_max_21days', 'smarttv_max_21days', 'iphone_max_21days', 'ipad_max_21days', 'apple_max_21days', 'pc_max_21days', 'time_spent_sum_30days', 'time_spent_max_30days', 'num_title_ep_sum_30days', 'num_title_ep_max_30days', 'num_title_ru_sum_30days', 'num_title_ru_max_30days', 'num_country_max_30days', 'num_city_max_30days', 'other_content_sum_30days', 'top_1_sum_30days', 'top_2_sum_30days', 'top_3_sum_30days', 'top_4_sum_30days', 'top_5_sum_30days', 'top_6_sum_30days', 'top_7_sum_30days', 'top_8_sum_30days']\n",
      "5-fold CV is : 0.7882 +/- 0.003\n"
     ]
    },
    {
     "name": "stderr",
     "output_type": "stream",
     "text": [
      "\n",
      " 89%|████████████████████████████▌   | 126/141 [21:41<05:18, 21.24s/it]"
     ]
    },
    {
     "name": "stdout",
     "output_type": "stream",
     "text": [
      "adding feature top_9_sum_30days\n",
      "performing CV with features: ['days_to_end', 'num_country_max_1days', 'num_city_max_1days', 'android_max_1days', 'smarttv_max_1days', 'iphone_max_1days', 'ipad_max_1days', 'apple_max_1days', 'pc_max_1days', 'time_spent_sum_3days', 'time_spent_max_3days', 'num_title_ep_sum_3days', 'num_title_ep_max_3days', 'num_title_ru_sum_3days', 'num_title_ru_max_3days', 'num_country_max_3days', 'num_city_max_3days', 'other_content_sum_3days', 'top_1_sum_3days', 'top_2_sum_3days', 'top_3_sum_3days', 'top_4_sum_3days', 'top_5_sum_3days', 'top_6_sum_3days', 'top_7_sum_3days', 'top_8_sum_3days', 'top_9_sum_3days', 'top_10_sum_3days', 'android_max_3days', 'smarttv_max_3days', 'iphone_max_3days', 'ipad_max_3days', 'apple_max_3days', 'pc_max_3days', 'time_spent_sum_7days', 'time_spent_max_7days', 'num_title_ep_sum_7days', 'num_title_ep_max_7days', 'num_title_ru_sum_7days', 'num_title_ru_max_7days', 'num_country_max_7days', 'num_city_max_7days', 'other_content_sum_7days', 'top_1_sum_7days', 'top_2_sum_7days', 'top_3_sum_7days', 'top_4_sum_7days', 'top_5_sum_7days', 'top_6_sum_7days', 'top_7_sum_7days', 'top_8_sum_7days', 'top_9_sum_7days', 'top_10_sum_7days', 'android_max_7days', 'smarttv_max_7days', 'iphone_max_7days', 'ipad_max_7days', 'apple_max_7days', 'pc_max_7days', 'time_spent_sum_14days', 'time_spent_max_14days', 'num_title_ep_sum_14days', 'num_title_ep_max_14days', 'num_title_ru_sum_14days', 'num_title_ru_max_14days', 'num_country_max_14days', 'num_city_max_14days', 'other_content_sum_14days', 'top_1_sum_14days', 'top_2_sum_14days', 'top_3_sum_14days', 'top_4_sum_14days', 'top_5_sum_14days', 'top_6_sum_14days', 'top_7_sum_14days', 'top_8_sum_14days', 'top_9_sum_14days', 'top_10_sum_14days', 'android_max_14days', 'smarttv_max_14days', 'iphone_max_14days', 'ipad_max_14days', 'apple_max_14days', 'pc_max_14days', 'time_spent_sum_21days', 'time_spent_max_21days', 'num_title_ep_sum_21days', 'num_title_ep_max_21days', 'num_title_ru_sum_21days', 'num_title_ru_max_21days', 'num_country_max_21days', 'num_city_max_21days', 'other_content_sum_21days', 'top_1_sum_21days', 'top_2_sum_21days', 'top_3_sum_21days', 'top_4_sum_21days', 'top_5_sum_21days', 'top_6_sum_21days', 'top_7_sum_21days', 'top_8_sum_21days', 'top_9_sum_21days', 'top_10_sum_21days', 'android_max_21days', 'smarttv_max_21days', 'iphone_max_21days', 'ipad_max_21days', 'apple_max_21days', 'pc_max_21days', 'time_spent_sum_30days', 'time_spent_max_30days', 'num_title_ep_sum_30days', 'num_title_ep_max_30days', 'num_title_ru_sum_30days', 'num_title_ru_max_30days', 'num_country_max_30days', 'num_city_max_30days', 'other_content_sum_30days', 'top_1_sum_30days', 'top_2_sum_30days', 'top_3_sum_30days', 'top_4_sum_30days', 'top_5_sum_30days', 'top_6_sum_30days', 'top_7_sum_30days', 'top_8_sum_30days', 'top_9_sum_30days']\n",
      "5-fold CV is : 0.7902 +/- 0.0017\n"
     ]
    },
    {
     "name": "stderr",
     "output_type": "stream",
     "text": [
      "\n",
      " 90%|████████████████████████████▊   | 127/141 [22:03<05:01, 21.51s/it]"
     ]
    },
    {
     "name": "stdout",
     "output_type": "stream",
     "text": [
      "adding feature top_10_sum_30days\n",
      "performing CV with features: ['days_to_end', 'num_country_max_1days', 'num_city_max_1days', 'android_max_1days', 'smarttv_max_1days', 'iphone_max_1days', 'ipad_max_1days', 'apple_max_1days', 'pc_max_1days', 'time_spent_sum_3days', 'time_spent_max_3days', 'num_title_ep_sum_3days', 'num_title_ep_max_3days', 'num_title_ru_sum_3days', 'num_title_ru_max_3days', 'num_country_max_3days', 'num_city_max_3days', 'other_content_sum_3days', 'top_1_sum_3days', 'top_2_sum_3days', 'top_3_sum_3days', 'top_4_sum_3days', 'top_5_sum_3days', 'top_6_sum_3days', 'top_7_sum_3days', 'top_8_sum_3days', 'top_9_sum_3days', 'top_10_sum_3days', 'android_max_3days', 'smarttv_max_3days', 'iphone_max_3days', 'ipad_max_3days', 'apple_max_3days', 'pc_max_3days', 'time_spent_sum_7days', 'time_spent_max_7days', 'num_title_ep_sum_7days', 'num_title_ep_max_7days', 'num_title_ru_sum_7days', 'num_title_ru_max_7days', 'num_country_max_7days', 'num_city_max_7days', 'other_content_sum_7days', 'top_1_sum_7days', 'top_2_sum_7days', 'top_3_sum_7days', 'top_4_sum_7days', 'top_5_sum_7days', 'top_6_sum_7days', 'top_7_sum_7days', 'top_8_sum_7days', 'top_9_sum_7days', 'top_10_sum_7days', 'android_max_7days', 'smarttv_max_7days', 'iphone_max_7days', 'ipad_max_7days', 'apple_max_7days', 'pc_max_7days', 'time_spent_sum_14days', 'time_spent_max_14days', 'num_title_ep_sum_14days', 'num_title_ep_max_14days', 'num_title_ru_sum_14days', 'num_title_ru_max_14days', 'num_country_max_14days', 'num_city_max_14days', 'other_content_sum_14days', 'top_1_sum_14days', 'top_2_sum_14days', 'top_3_sum_14days', 'top_4_sum_14days', 'top_5_sum_14days', 'top_6_sum_14days', 'top_7_sum_14days', 'top_8_sum_14days', 'top_9_sum_14days', 'top_10_sum_14days', 'android_max_14days', 'smarttv_max_14days', 'iphone_max_14days', 'ipad_max_14days', 'apple_max_14days', 'pc_max_14days', 'time_spent_sum_21days', 'time_spent_max_21days', 'num_title_ep_sum_21days', 'num_title_ep_max_21days', 'num_title_ru_sum_21days', 'num_title_ru_max_21days', 'num_country_max_21days', 'num_city_max_21days', 'other_content_sum_21days', 'top_1_sum_21days', 'top_2_sum_21days', 'top_3_sum_21days', 'top_4_sum_21days', 'top_5_sum_21days', 'top_6_sum_21days', 'top_7_sum_21days', 'top_8_sum_21days', 'top_9_sum_21days', 'top_10_sum_21days', 'android_max_21days', 'smarttv_max_21days', 'iphone_max_21days', 'ipad_max_21days', 'apple_max_21days', 'pc_max_21days', 'time_spent_sum_30days', 'time_spent_max_30days', 'num_title_ep_sum_30days', 'num_title_ep_max_30days', 'num_title_ru_sum_30days', 'num_title_ru_max_30days', 'num_country_max_30days', 'num_city_max_30days', 'other_content_sum_30days', 'top_1_sum_30days', 'top_2_sum_30days', 'top_3_sum_30days', 'top_4_sum_30days', 'top_5_sum_30days', 'top_6_sum_30days', 'top_7_sum_30days', 'top_8_sum_30days', 'top_9_sum_30days', 'top_10_sum_30days']\n",
      "5-fold CV is : 0.7892 +/- 0.003\n"
     ]
    },
    {
     "name": "stderr",
     "output_type": "stream",
     "text": [
      "\n",
      " 91%|█████████████████████████████   | 128/141 [22:25<04:40, 21.59s/it]"
     ]
    },
    {
     "name": "stdout",
     "output_type": "stream",
     "text": [
      "adding feature android_max_30days\n",
      "performing CV with features: ['days_to_end', 'num_country_max_1days', 'num_city_max_1days', 'android_max_1days', 'smarttv_max_1days', 'iphone_max_1days', 'ipad_max_1days', 'apple_max_1days', 'pc_max_1days', 'time_spent_sum_3days', 'time_spent_max_3days', 'num_title_ep_sum_3days', 'num_title_ep_max_3days', 'num_title_ru_sum_3days', 'num_title_ru_max_3days', 'num_country_max_3days', 'num_city_max_3days', 'other_content_sum_3days', 'top_1_sum_3days', 'top_2_sum_3days', 'top_3_sum_3days', 'top_4_sum_3days', 'top_5_sum_3days', 'top_6_sum_3days', 'top_7_sum_3days', 'top_8_sum_3days', 'top_9_sum_3days', 'top_10_sum_3days', 'android_max_3days', 'smarttv_max_3days', 'iphone_max_3days', 'ipad_max_3days', 'apple_max_3days', 'pc_max_3days', 'time_spent_sum_7days', 'time_spent_max_7days', 'num_title_ep_sum_7days', 'num_title_ep_max_7days', 'num_title_ru_sum_7days', 'num_title_ru_max_7days', 'num_country_max_7days', 'num_city_max_7days', 'other_content_sum_7days', 'top_1_sum_7days', 'top_2_sum_7days', 'top_3_sum_7days', 'top_4_sum_7days', 'top_5_sum_7days', 'top_6_sum_7days', 'top_7_sum_7days', 'top_8_sum_7days', 'top_9_sum_7days', 'top_10_sum_7days', 'android_max_7days', 'smarttv_max_7days', 'iphone_max_7days', 'ipad_max_7days', 'apple_max_7days', 'pc_max_7days', 'time_spent_sum_14days', 'time_spent_max_14days', 'num_title_ep_sum_14days', 'num_title_ep_max_14days', 'num_title_ru_sum_14days', 'num_title_ru_max_14days', 'num_country_max_14days', 'num_city_max_14days', 'other_content_sum_14days', 'top_1_sum_14days', 'top_2_sum_14days', 'top_3_sum_14days', 'top_4_sum_14days', 'top_5_sum_14days', 'top_6_sum_14days', 'top_7_sum_14days', 'top_8_sum_14days', 'top_9_sum_14days', 'top_10_sum_14days', 'android_max_14days', 'smarttv_max_14days', 'iphone_max_14days', 'ipad_max_14days', 'apple_max_14days', 'pc_max_14days', 'time_spent_sum_21days', 'time_spent_max_21days', 'num_title_ep_sum_21days', 'num_title_ep_max_21days', 'num_title_ru_sum_21days', 'num_title_ru_max_21days', 'num_country_max_21days', 'num_city_max_21days', 'other_content_sum_21days', 'top_1_sum_21days', 'top_2_sum_21days', 'top_3_sum_21days', 'top_4_sum_21days', 'top_5_sum_21days', 'top_6_sum_21days', 'top_7_sum_21days', 'top_8_sum_21days', 'top_9_sum_21days', 'top_10_sum_21days', 'android_max_21days', 'smarttv_max_21days', 'iphone_max_21days', 'ipad_max_21days', 'apple_max_21days', 'pc_max_21days', 'time_spent_sum_30days', 'time_spent_max_30days', 'num_title_ep_sum_30days', 'num_title_ep_max_30days', 'num_title_ru_sum_30days', 'num_title_ru_max_30days', 'num_country_max_30days', 'num_city_max_30days', 'other_content_sum_30days', 'top_1_sum_30days', 'top_2_sum_30days', 'top_3_sum_30days', 'top_4_sum_30days', 'top_5_sum_30days', 'top_6_sum_30days', 'top_7_sum_30days', 'top_8_sum_30days', 'top_9_sum_30days', 'top_10_sum_30days', 'android_max_30days']\n",
      "5-fold CV is : 0.7915 +/- 0.002\n"
     ]
    },
    {
     "name": "stderr",
     "output_type": "stream",
     "text": [
      "\n",
      " 91%|█████████████████████████████▎  | 129/141 [22:46<04:17, 21.45s/it]"
     ]
    },
    {
     "name": "stdout",
     "output_type": "stream",
     "text": [
      "adding feature smarttv_max_30days\n",
      "performing CV with features: ['days_to_end', 'num_country_max_1days', 'num_city_max_1days', 'android_max_1days', 'smarttv_max_1days', 'iphone_max_1days', 'ipad_max_1days', 'apple_max_1days', 'pc_max_1days', 'time_spent_sum_3days', 'time_spent_max_3days', 'num_title_ep_sum_3days', 'num_title_ep_max_3days', 'num_title_ru_sum_3days', 'num_title_ru_max_3days', 'num_country_max_3days', 'num_city_max_3days', 'other_content_sum_3days', 'top_1_sum_3days', 'top_2_sum_3days', 'top_3_sum_3days', 'top_4_sum_3days', 'top_5_sum_3days', 'top_6_sum_3days', 'top_7_sum_3days', 'top_8_sum_3days', 'top_9_sum_3days', 'top_10_sum_3days', 'android_max_3days', 'smarttv_max_3days', 'iphone_max_3days', 'ipad_max_3days', 'apple_max_3days', 'pc_max_3days', 'time_spent_sum_7days', 'time_spent_max_7days', 'num_title_ep_sum_7days', 'num_title_ep_max_7days', 'num_title_ru_sum_7days', 'num_title_ru_max_7days', 'num_country_max_7days', 'num_city_max_7days', 'other_content_sum_7days', 'top_1_sum_7days', 'top_2_sum_7days', 'top_3_sum_7days', 'top_4_sum_7days', 'top_5_sum_7days', 'top_6_sum_7days', 'top_7_sum_7days', 'top_8_sum_7days', 'top_9_sum_7days', 'top_10_sum_7days', 'android_max_7days', 'smarttv_max_7days', 'iphone_max_7days', 'ipad_max_7days', 'apple_max_7days', 'pc_max_7days', 'time_spent_sum_14days', 'time_spent_max_14days', 'num_title_ep_sum_14days', 'num_title_ep_max_14days', 'num_title_ru_sum_14days', 'num_title_ru_max_14days', 'num_country_max_14days', 'num_city_max_14days', 'other_content_sum_14days', 'top_1_sum_14days', 'top_2_sum_14days', 'top_3_sum_14days', 'top_4_sum_14days', 'top_5_sum_14days', 'top_6_sum_14days', 'top_7_sum_14days', 'top_8_sum_14days', 'top_9_sum_14days', 'top_10_sum_14days', 'android_max_14days', 'smarttv_max_14days', 'iphone_max_14days', 'ipad_max_14days', 'apple_max_14days', 'pc_max_14days', 'time_spent_sum_21days', 'time_spent_max_21days', 'num_title_ep_sum_21days', 'num_title_ep_max_21days', 'num_title_ru_sum_21days', 'num_title_ru_max_21days', 'num_country_max_21days', 'num_city_max_21days', 'other_content_sum_21days', 'top_1_sum_21days', 'top_2_sum_21days', 'top_3_sum_21days', 'top_4_sum_21days', 'top_5_sum_21days', 'top_6_sum_21days', 'top_7_sum_21days', 'top_8_sum_21days', 'top_9_sum_21days', 'top_10_sum_21days', 'android_max_21days', 'smarttv_max_21days', 'iphone_max_21days', 'ipad_max_21days', 'apple_max_21days', 'pc_max_21days', 'time_spent_sum_30days', 'time_spent_max_30days', 'num_title_ep_sum_30days', 'num_title_ep_max_30days', 'num_title_ru_sum_30days', 'num_title_ru_max_30days', 'num_country_max_30days', 'num_city_max_30days', 'other_content_sum_30days', 'top_1_sum_30days', 'top_2_sum_30days', 'top_3_sum_30days', 'top_4_sum_30days', 'top_5_sum_30days', 'top_6_sum_30days', 'top_7_sum_30days', 'top_8_sum_30days', 'top_9_sum_30days', 'top_10_sum_30days', 'android_max_30days', 'smarttv_max_30days']\n",
      "5-fold CV is : 0.7921 +/- 0.0037\n"
     ]
    },
    {
     "name": "stderr",
     "output_type": "stream",
     "text": [
      "\n",
      " 92%|█████████████████████████████▌  | 130/141 [23:07<03:54, 21.33s/it]"
     ]
    },
    {
     "name": "stdout",
     "output_type": "stream",
     "text": [
      "adding feature iphone_max_30days\n",
      "performing CV with features: ['days_to_end', 'num_country_max_1days', 'num_city_max_1days', 'android_max_1days', 'smarttv_max_1days', 'iphone_max_1days', 'ipad_max_1days', 'apple_max_1days', 'pc_max_1days', 'time_spent_sum_3days', 'time_spent_max_3days', 'num_title_ep_sum_3days', 'num_title_ep_max_3days', 'num_title_ru_sum_3days', 'num_title_ru_max_3days', 'num_country_max_3days', 'num_city_max_3days', 'other_content_sum_3days', 'top_1_sum_3days', 'top_2_sum_3days', 'top_3_sum_3days', 'top_4_sum_3days', 'top_5_sum_3days', 'top_6_sum_3days', 'top_7_sum_3days', 'top_8_sum_3days', 'top_9_sum_3days', 'top_10_sum_3days', 'android_max_3days', 'smarttv_max_3days', 'iphone_max_3days', 'ipad_max_3days', 'apple_max_3days', 'pc_max_3days', 'time_spent_sum_7days', 'time_spent_max_7days', 'num_title_ep_sum_7days', 'num_title_ep_max_7days', 'num_title_ru_sum_7days', 'num_title_ru_max_7days', 'num_country_max_7days', 'num_city_max_7days', 'other_content_sum_7days', 'top_1_sum_7days', 'top_2_sum_7days', 'top_3_sum_7days', 'top_4_sum_7days', 'top_5_sum_7days', 'top_6_sum_7days', 'top_7_sum_7days', 'top_8_sum_7days', 'top_9_sum_7days', 'top_10_sum_7days', 'android_max_7days', 'smarttv_max_7days', 'iphone_max_7days', 'ipad_max_7days', 'apple_max_7days', 'pc_max_7days', 'time_spent_sum_14days', 'time_spent_max_14days', 'num_title_ep_sum_14days', 'num_title_ep_max_14days', 'num_title_ru_sum_14days', 'num_title_ru_max_14days', 'num_country_max_14days', 'num_city_max_14days', 'other_content_sum_14days', 'top_1_sum_14days', 'top_2_sum_14days', 'top_3_sum_14days', 'top_4_sum_14days', 'top_5_sum_14days', 'top_6_sum_14days', 'top_7_sum_14days', 'top_8_sum_14days', 'top_9_sum_14days', 'top_10_sum_14days', 'android_max_14days', 'smarttv_max_14days', 'iphone_max_14days', 'ipad_max_14days', 'apple_max_14days', 'pc_max_14days', 'time_spent_sum_21days', 'time_spent_max_21days', 'num_title_ep_sum_21days', 'num_title_ep_max_21days', 'num_title_ru_sum_21days', 'num_title_ru_max_21days', 'num_country_max_21days', 'num_city_max_21days', 'other_content_sum_21days', 'top_1_sum_21days', 'top_2_sum_21days', 'top_3_sum_21days', 'top_4_sum_21days', 'top_5_sum_21days', 'top_6_sum_21days', 'top_7_sum_21days', 'top_8_sum_21days', 'top_9_sum_21days', 'top_10_sum_21days', 'android_max_21days', 'smarttv_max_21days', 'iphone_max_21days', 'ipad_max_21days', 'apple_max_21days', 'pc_max_21days', 'time_spent_sum_30days', 'time_spent_max_30days', 'num_title_ep_sum_30days', 'num_title_ep_max_30days', 'num_title_ru_sum_30days', 'num_title_ru_max_30days', 'num_country_max_30days', 'num_city_max_30days', 'other_content_sum_30days', 'top_1_sum_30days', 'top_2_sum_30days', 'top_3_sum_30days', 'top_4_sum_30days', 'top_5_sum_30days', 'top_6_sum_30days', 'top_7_sum_30days', 'top_8_sum_30days', 'top_9_sum_30days', 'top_10_sum_30days', 'android_max_30days', 'smarttv_max_30days', 'iphone_max_30days']\n",
      "5-fold CV is : 0.7927 +/- 0.0014\n"
     ]
    },
    {
     "name": "stderr",
     "output_type": "stream",
     "text": [
      "\n",
      " 93%|█████████████████████████████▋  | 131/141 [23:28<03:33, 21.38s/it]"
     ]
    },
    {
     "name": "stdout",
     "output_type": "stream",
     "text": [
      "adding feature ipad_max_30days\n",
      "performing CV with features: ['days_to_end', 'num_country_max_1days', 'num_city_max_1days', 'android_max_1days', 'smarttv_max_1days', 'iphone_max_1days', 'ipad_max_1days', 'apple_max_1days', 'pc_max_1days', 'time_spent_sum_3days', 'time_spent_max_3days', 'num_title_ep_sum_3days', 'num_title_ep_max_3days', 'num_title_ru_sum_3days', 'num_title_ru_max_3days', 'num_country_max_3days', 'num_city_max_3days', 'other_content_sum_3days', 'top_1_sum_3days', 'top_2_sum_3days', 'top_3_sum_3days', 'top_4_sum_3days', 'top_5_sum_3days', 'top_6_sum_3days', 'top_7_sum_3days', 'top_8_sum_3days', 'top_9_sum_3days', 'top_10_sum_3days', 'android_max_3days', 'smarttv_max_3days', 'iphone_max_3days', 'ipad_max_3days', 'apple_max_3days', 'pc_max_3days', 'time_spent_sum_7days', 'time_spent_max_7days', 'num_title_ep_sum_7days', 'num_title_ep_max_7days', 'num_title_ru_sum_7days', 'num_title_ru_max_7days', 'num_country_max_7days', 'num_city_max_7days', 'other_content_sum_7days', 'top_1_sum_7days', 'top_2_sum_7days', 'top_3_sum_7days', 'top_4_sum_7days', 'top_5_sum_7days', 'top_6_sum_7days', 'top_7_sum_7days', 'top_8_sum_7days', 'top_9_sum_7days', 'top_10_sum_7days', 'android_max_7days', 'smarttv_max_7days', 'iphone_max_7days', 'ipad_max_7days', 'apple_max_7days', 'pc_max_7days', 'time_spent_sum_14days', 'time_spent_max_14days', 'num_title_ep_sum_14days', 'num_title_ep_max_14days', 'num_title_ru_sum_14days', 'num_title_ru_max_14days', 'num_country_max_14days', 'num_city_max_14days', 'other_content_sum_14days', 'top_1_sum_14days', 'top_2_sum_14days', 'top_3_sum_14days', 'top_4_sum_14days', 'top_5_sum_14days', 'top_6_sum_14days', 'top_7_sum_14days', 'top_8_sum_14days', 'top_9_sum_14days', 'top_10_sum_14days', 'android_max_14days', 'smarttv_max_14days', 'iphone_max_14days', 'ipad_max_14days', 'apple_max_14days', 'pc_max_14days', 'time_spent_sum_21days', 'time_spent_max_21days', 'num_title_ep_sum_21days', 'num_title_ep_max_21days', 'num_title_ru_sum_21days', 'num_title_ru_max_21days', 'num_country_max_21days', 'num_city_max_21days', 'other_content_sum_21days', 'top_1_sum_21days', 'top_2_sum_21days', 'top_3_sum_21days', 'top_4_sum_21days', 'top_5_sum_21days', 'top_6_sum_21days', 'top_7_sum_21days', 'top_8_sum_21days', 'top_9_sum_21days', 'top_10_sum_21days', 'android_max_21days', 'smarttv_max_21days', 'iphone_max_21days', 'ipad_max_21days', 'apple_max_21days', 'pc_max_21days', 'time_spent_sum_30days', 'time_spent_max_30days', 'num_title_ep_sum_30days', 'num_title_ep_max_30days', 'num_title_ru_sum_30days', 'num_title_ru_max_30days', 'num_country_max_30days', 'num_city_max_30days', 'other_content_sum_30days', 'top_1_sum_30days', 'top_2_sum_30days', 'top_3_sum_30days', 'top_4_sum_30days', 'top_5_sum_30days', 'top_6_sum_30days', 'top_7_sum_30days', 'top_8_sum_30days', 'top_9_sum_30days', 'top_10_sum_30days', 'android_max_30days', 'smarttv_max_30days', 'iphone_max_30days', 'ipad_max_30days']\n",
      "5-fold CV is : 0.7931 +/- 0.0014\n"
     ]
    },
    {
     "name": "stderr",
     "output_type": "stream",
     "text": [
      "\n",
      " 94%|█████████████████████████████▉  | 132/141 [23:50<03:14, 21.58s/it]"
     ]
    },
    {
     "name": "stdout",
     "output_type": "stream",
     "text": [
      "adding feature apple_max_30days\n",
      "performing CV with features: ['days_to_end', 'num_country_max_1days', 'num_city_max_1days', 'android_max_1days', 'smarttv_max_1days', 'iphone_max_1days', 'ipad_max_1days', 'apple_max_1days', 'pc_max_1days', 'time_spent_sum_3days', 'time_spent_max_3days', 'num_title_ep_sum_3days', 'num_title_ep_max_3days', 'num_title_ru_sum_3days', 'num_title_ru_max_3days', 'num_country_max_3days', 'num_city_max_3days', 'other_content_sum_3days', 'top_1_sum_3days', 'top_2_sum_3days', 'top_3_sum_3days', 'top_4_sum_3days', 'top_5_sum_3days', 'top_6_sum_3days', 'top_7_sum_3days', 'top_8_sum_3days', 'top_9_sum_3days', 'top_10_sum_3days', 'android_max_3days', 'smarttv_max_3days', 'iphone_max_3days', 'ipad_max_3days', 'apple_max_3days', 'pc_max_3days', 'time_spent_sum_7days', 'time_spent_max_7days', 'num_title_ep_sum_7days', 'num_title_ep_max_7days', 'num_title_ru_sum_7days', 'num_title_ru_max_7days', 'num_country_max_7days', 'num_city_max_7days', 'other_content_sum_7days', 'top_1_sum_7days', 'top_2_sum_7days', 'top_3_sum_7days', 'top_4_sum_7days', 'top_5_sum_7days', 'top_6_sum_7days', 'top_7_sum_7days', 'top_8_sum_7days', 'top_9_sum_7days', 'top_10_sum_7days', 'android_max_7days', 'smarttv_max_7days', 'iphone_max_7days', 'ipad_max_7days', 'apple_max_7days', 'pc_max_7days', 'time_spent_sum_14days', 'time_spent_max_14days', 'num_title_ep_sum_14days', 'num_title_ep_max_14days', 'num_title_ru_sum_14days', 'num_title_ru_max_14days', 'num_country_max_14days', 'num_city_max_14days', 'other_content_sum_14days', 'top_1_sum_14days', 'top_2_sum_14days', 'top_3_sum_14days', 'top_4_sum_14days', 'top_5_sum_14days', 'top_6_sum_14days', 'top_7_sum_14days', 'top_8_sum_14days', 'top_9_sum_14days', 'top_10_sum_14days', 'android_max_14days', 'smarttv_max_14days', 'iphone_max_14days', 'ipad_max_14days', 'apple_max_14days', 'pc_max_14days', 'time_spent_sum_21days', 'time_spent_max_21days', 'num_title_ep_sum_21days', 'num_title_ep_max_21days', 'num_title_ru_sum_21days', 'num_title_ru_max_21days', 'num_country_max_21days', 'num_city_max_21days', 'other_content_sum_21days', 'top_1_sum_21days', 'top_2_sum_21days', 'top_3_sum_21days', 'top_4_sum_21days', 'top_5_sum_21days', 'top_6_sum_21days', 'top_7_sum_21days', 'top_8_sum_21days', 'top_9_sum_21days', 'top_10_sum_21days', 'android_max_21days', 'smarttv_max_21days', 'iphone_max_21days', 'ipad_max_21days', 'apple_max_21days', 'pc_max_21days', 'time_spent_sum_30days', 'time_spent_max_30days', 'num_title_ep_sum_30days', 'num_title_ep_max_30days', 'num_title_ru_sum_30days', 'num_title_ru_max_30days', 'num_country_max_30days', 'num_city_max_30days', 'other_content_sum_30days', 'top_1_sum_30days', 'top_2_sum_30days', 'top_3_sum_30days', 'top_4_sum_30days', 'top_5_sum_30days', 'top_6_sum_30days', 'top_7_sum_30days', 'top_8_sum_30days', 'top_9_sum_30days', 'top_10_sum_30days', 'android_max_30days', 'smarttv_max_30days', 'iphone_max_30days', 'ipad_max_30days', 'apple_max_30days']\n",
      "5-fold CV is : 0.7942 +/- 0.0021\n"
     ]
    },
    {
     "name": "stderr",
     "output_type": "stream",
     "text": [
      "\n",
      " 94%|██████████████████████████████▏ | 133/141 [24:12<02:52, 21.57s/it]"
     ]
    },
    {
     "name": "stdout",
     "output_type": "stream",
     "text": [
      "adding feature pc_max_30days\n",
      "performing CV with features: ['days_to_end', 'num_country_max_1days', 'num_city_max_1days', 'android_max_1days', 'smarttv_max_1days', 'iphone_max_1days', 'ipad_max_1days', 'apple_max_1days', 'pc_max_1days', 'time_spent_sum_3days', 'time_spent_max_3days', 'num_title_ep_sum_3days', 'num_title_ep_max_3days', 'num_title_ru_sum_3days', 'num_title_ru_max_3days', 'num_country_max_3days', 'num_city_max_3days', 'other_content_sum_3days', 'top_1_sum_3days', 'top_2_sum_3days', 'top_3_sum_3days', 'top_4_sum_3days', 'top_5_sum_3days', 'top_6_sum_3days', 'top_7_sum_3days', 'top_8_sum_3days', 'top_9_sum_3days', 'top_10_sum_3days', 'android_max_3days', 'smarttv_max_3days', 'iphone_max_3days', 'ipad_max_3days', 'apple_max_3days', 'pc_max_3days', 'time_spent_sum_7days', 'time_spent_max_7days', 'num_title_ep_sum_7days', 'num_title_ep_max_7days', 'num_title_ru_sum_7days', 'num_title_ru_max_7days', 'num_country_max_7days', 'num_city_max_7days', 'other_content_sum_7days', 'top_1_sum_7days', 'top_2_sum_7days', 'top_3_sum_7days', 'top_4_sum_7days', 'top_5_sum_7days', 'top_6_sum_7days', 'top_7_sum_7days', 'top_8_sum_7days', 'top_9_sum_7days', 'top_10_sum_7days', 'android_max_7days', 'smarttv_max_7days', 'iphone_max_7days', 'ipad_max_7days', 'apple_max_7days', 'pc_max_7days', 'time_spent_sum_14days', 'time_spent_max_14days', 'num_title_ep_sum_14days', 'num_title_ep_max_14days', 'num_title_ru_sum_14days', 'num_title_ru_max_14days', 'num_country_max_14days', 'num_city_max_14days', 'other_content_sum_14days', 'top_1_sum_14days', 'top_2_sum_14days', 'top_3_sum_14days', 'top_4_sum_14days', 'top_5_sum_14days', 'top_6_sum_14days', 'top_7_sum_14days', 'top_8_sum_14days', 'top_9_sum_14days', 'top_10_sum_14days', 'android_max_14days', 'smarttv_max_14days', 'iphone_max_14days', 'ipad_max_14days', 'apple_max_14days', 'pc_max_14days', 'time_spent_sum_21days', 'time_spent_max_21days', 'num_title_ep_sum_21days', 'num_title_ep_max_21days', 'num_title_ru_sum_21days', 'num_title_ru_max_21days', 'num_country_max_21days', 'num_city_max_21days', 'other_content_sum_21days', 'top_1_sum_21days', 'top_2_sum_21days', 'top_3_sum_21days', 'top_4_sum_21days', 'top_5_sum_21days', 'top_6_sum_21days', 'top_7_sum_21days', 'top_8_sum_21days', 'top_9_sum_21days', 'top_10_sum_21days', 'android_max_21days', 'smarttv_max_21days', 'iphone_max_21days', 'ipad_max_21days', 'apple_max_21days', 'pc_max_21days', 'time_spent_sum_30days', 'time_spent_max_30days', 'num_title_ep_sum_30days', 'num_title_ep_max_30days', 'num_title_ru_sum_30days', 'num_title_ru_max_30days', 'num_country_max_30days', 'num_city_max_30days', 'other_content_sum_30days', 'top_1_sum_30days', 'top_2_sum_30days', 'top_3_sum_30days', 'top_4_sum_30days', 'top_5_sum_30days', 'top_6_sum_30days', 'top_7_sum_30days', 'top_8_sum_30days', 'top_9_sum_30days', 'top_10_sum_30days', 'android_max_30days', 'smarttv_max_30days', 'iphone_max_30days', 'ipad_max_30days', 'apple_max_30days', 'pc_max_30days']\n",
      "5-fold CV is : 0.7945 +/- 0.0018\n"
     ]
    },
    {
     "name": "stderr",
     "output_type": "stream",
     "text": [
      "\n",
      " 95%|██████████████████████████████▍ | 134/141 [24:33<02:30, 21.48s/it]"
     ]
    },
    {
     "name": "stdout",
     "output_type": "stream",
     "text": [
      "adding feature activity_1to3\n",
      "performing CV with features: ['days_to_end', 'num_country_max_1days', 'num_city_max_1days', 'android_max_1days', 'smarttv_max_1days', 'iphone_max_1days', 'ipad_max_1days', 'apple_max_1days', 'pc_max_1days', 'time_spent_sum_3days', 'time_spent_max_3days', 'num_title_ep_sum_3days', 'num_title_ep_max_3days', 'num_title_ru_sum_3days', 'num_title_ru_max_3days', 'num_country_max_3days', 'num_city_max_3days', 'other_content_sum_3days', 'top_1_sum_3days', 'top_2_sum_3days', 'top_3_sum_3days', 'top_4_sum_3days', 'top_5_sum_3days', 'top_6_sum_3days', 'top_7_sum_3days', 'top_8_sum_3days', 'top_9_sum_3days', 'top_10_sum_3days', 'android_max_3days', 'smarttv_max_3days', 'iphone_max_3days', 'ipad_max_3days', 'apple_max_3days', 'pc_max_3days', 'time_spent_sum_7days', 'time_spent_max_7days', 'num_title_ep_sum_7days', 'num_title_ep_max_7days', 'num_title_ru_sum_7days', 'num_title_ru_max_7days', 'num_country_max_7days', 'num_city_max_7days', 'other_content_sum_7days', 'top_1_sum_7days', 'top_2_sum_7days', 'top_3_sum_7days', 'top_4_sum_7days', 'top_5_sum_7days', 'top_6_sum_7days', 'top_7_sum_7days', 'top_8_sum_7days', 'top_9_sum_7days', 'top_10_sum_7days', 'android_max_7days', 'smarttv_max_7days', 'iphone_max_7days', 'ipad_max_7days', 'apple_max_7days', 'pc_max_7days', 'time_spent_sum_14days', 'time_spent_max_14days', 'num_title_ep_sum_14days', 'num_title_ep_max_14days', 'num_title_ru_sum_14days', 'num_title_ru_max_14days', 'num_country_max_14days', 'num_city_max_14days', 'other_content_sum_14days', 'top_1_sum_14days', 'top_2_sum_14days', 'top_3_sum_14days', 'top_4_sum_14days', 'top_5_sum_14days', 'top_6_sum_14days', 'top_7_sum_14days', 'top_8_sum_14days', 'top_9_sum_14days', 'top_10_sum_14days', 'android_max_14days', 'smarttv_max_14days', 'iphone_max_14days', 'ipad_max_14days', 'apple_max_14days', 'pc_max_14days', 'time_spent_sum_21days', 'time_spent_max_21days', 'num_title_ep_sum_21days', 'num_title_ep_max_21days', 'num_title_ru_sum_21days', 'num_title_ru_max_21days', 'num_country_max_21days', 'num_city_max_21days', 'other_content_sum_21days', 'top_1_sum_21days', 'top_2_sum_21days', 'top_3_sum_21days', 'top_4_sum_21days', 'top_5_sum_21days', 'top_6_sum_21days', 'top_7_sum_21days', 'top_8_sum_21days', 'top_9_sum_21days', 'top_10_sum_21days', 'android_max_21days', 'smarttv_max_21days', 'iphone_max_21days', 'ipad_max_21days', 'apple_max_21days', 'pc_max_21days', 'time_spent_sum_30days', 'time_spent_max_30days', 'num_title_ep_sum_30days', 'num_title_ep_max_30days', 'num_title_ru_sum_30days', 'num_title_ru_max_30days', 'num_country_max_30days', 'num_city_max_30days', 'other_content_sum_30days', 'top_1_sum_30days', 'top_2_sum_30days', 'top_3_sum_30days', 'top_4_sum_30days', 'top_5_sum_30days', 'top_6_sum_30days', 'top_7_sum_30days', 'top_8_sum_30days', 'top_9_sum_30days', 'top_10_sum_30days', 'android_max_30days', 'smarttv_max_30days', 'iphone_max_30days', 'ipad_max_30days', 'apple_max_30days', 'pc_max_30days', 'activity_1to3']\n",
      "5-fold CV is : 0.7949 +/- 0.0026\n"
     ]
    },
    {
     "name": "stderr",
     "output_type": "stream",
     "text": [
      "\n",
      " 96%|██████████████████████████████▋ | 135/141 [24:55<02:08, 21.48s/it]"
     ]
    },
    {
     "name": "stdout",
     "output_type": "stream",
     "text": [
      "adding feature activity_1to7\n",
      "performing CV with features: ['days_to_end', 'num_country_max_1days', 'num_city_max_1days', 'android_max_1days', 'smarttv_max_1days', 'iphone_max_1days', 'ipad_max_1days', 'apple_max_1days', 'pc_max_1days', 'time_spent_sum_3days', 'time_spent_max_3days', 'num_title_ep_sum_3days', 'num_title_ep_max_3days', 'num_title_ru_sum_3days', 'num_title_ru_max_3days', 'num_country_max_3days', 'num_city_max_3days', 'other_content_sum_3days', 'top_1_sum_3days', 'top_2_sum_3days', 'top_3_sum_3days', 'top_4_sum_3days', 'top_5_sum_3days', 'top_6_sum_3days', 'top_7_sum_3days', 'top_8_sum_3days', 'top_9_sum_3days', 'top_10_sum_3days', 'android_max_3days', 'smarttv_max_3days', 'iphone_max_3days', 'ipad_max_3days', 'apple_max_3days', 'pc_max_3days', 'time_spent_sum_7days', 'time_spent_max_7days', 'num_title_ep_sum_7days', 'num_title_ep_max_7days', 'num_title_ru_sum_7days', 'num_title_ru_max_7days', 'num_country_max_7days', 'num_city_max_7days', 'other_content_sum_7days', 'top_1_sum_7days', 'top_2_sum_7days', 'top_3_sum_7days', 'top_4_sum_7days', 'top_5_sum_7days', 'top_6_sum_7days', 'top_7_sum_7days', 'top_8_sum_7days', 'top_9_sum_7days', 'top_10_sum_7days', 'android_max_7days', 'smarttv_max_7days', 'iphone_max_7days', 'ipad_max_7days', 'apple_max_7days', 'pc_max_7days', 'time_spent_sum_14days', 'time_spent_max_14days', 'num_title_ep_sum_14days', 'num_title_ep_max_14days', 'num_title_ru_sum_14days', 'num_title_ru_max_14days', 'num_country_max_14days', 'num_city_max_14days', 'other_content_sum_14days', 'top_1_sum_14days', 'top_2_sum_14days', 'top_3_sum_14days', 'top_4_sum_14days', 'top_5_sum_14days', 'top_6_sum_14days', 'top_7_sum_14days', 'top_8_sum_14days', 'top_9_sum_14days', 'top_10_sum_14days', 'android_max_14days', 'smarttv_max_14days', 'iphone_max_14days', 'ipad_max_14days', 'apple_max_14days', 'pc_max_14days', 'time_spent_sum_21days', 'time_spent_max_21days', 'num_title_ep_sum_21days', 'num_title_ep_max_21days', 'num_title_ru_sum_21days', 'num_title_ru_max_21days', 'num_country_max_21days', 'num_city_max_21days', 'other_content_sum_21days', 'top_1_sum_21days', 'top_2_sum_21days', 'top_3_sum_21days', 'top_4_sum_21days', 'top_5_sum_21days', 'top_6_sum_21days', 'top_7_sum_21days', 'top_8_sum_21days', 'top_9_sum_21days', 'top_10_sum_21days', 'android_max_21days', 'smarttv_max_21days', 'iphone_max_21days', 'ipad_max_21days', 'apple_max_21days', 'pc_max_21days', 'time_spent_sum_30days', 'time_spent_max_30days', 'num_title_ep_sum_30days', 'num_title_ep_max_30days', 'num_title_ru_sum_30days', 'num_title_ru_max_30days', 'num_country_max_30days', 'num_city_max_30days', 'other_content_sum_30days', 'top_1_sum_30days', 'top_2_sum_30days', 'top_3_sum_30days', 'top_4_sum_30days', 'top_5_sum_30days', 'top_6_sum_30days', 'top_7_sum_30days', 'top_8_sum_30days', 'top_9_sum_30days', 'top_10_sum_30days', 'android_max_30days', 'smarttv_max_30days', 'iphone_max_30days', 'ipad_max_30days', 'apple_max_30days', 'pc_max_30days', 'activity_1to3', 'activity_1to7']\n",
      "5-fold CV is : 0.7948 +/- 0.0024\n"
     ]
    },
    {
     "name": "stderr",
     "output_type": "stream",
     "text": [
      "\n",
      " 96%|██████████████████████████████▊ | 136/141 [25:16<01:47, 21.51s/it]"
     ]
    },
    {
     "name": "stdout",
     "output_type": "stream",
     "text": [
      "adding feature activity_1to14\n",
      "performing CV with features: ['days_to_end', 'num_country_max_1days', 'num_city_max_1days', 'android_max_1days', 'smarttv_max_1days', 'iphone_max_1days', 'ipad_max_1days', 'apple_max_1days', 'pc_max_1days', 'time_spent_sum_3days', 'time_spent_max_3days', 'num_title_ep_sum_3days', 'num_title_ep_max_3days', 'num_title_ru_sum_3days', 'num_title_ru_max_3days', 'num_country_max_3days', 'num_city_max_3days', 'other_content_sum_3days', 'top_1_sum_3days', 'top_2_sum_3days', 'top_3_sum_3days', 'top_4_sum_3days', 'top_5_sum_3days', 'top_6_sum_3days', 'top_7_sum_3days', 'top_8_sum_3days', 'top_9_sum_3days', 'top_10_sum_3days', 'android_max_3days', 'smarttv_max_3days', 'iphone_max_3days', 'ipad_max_3days', 'apple_max_3days', 'pc_max_3days', 'time_spent_sum_7days', 'time_spent_max_7days', 'num_title_ep_sum_7days', 'num_title_ep_max_7days', 'num_title_ru_sum_7days', 'num_title_ru_max_7days', 'num_country_max_7days', 'num_city_max_7days', 'other_content_sum_7days', 'top_1_sum_7days', 'top_2_sum_7days', 'top_3_sum_7days', 'top_4_sum_7days', 'top_5_sum_7days', 'top_6_sum_7days', 'top_7_sum_7days', 'top_8_sum_7days', 'top_9_sum_7days', 'top_10_sum_7days', 'android_max_7days', 'smarttv_max_7days', 'iphone_max_7days', 'ipad_max_7days', 'apple_max_7days', 'pc_max_7days', 'time_spent_sum_14days', 'time_spent_max_14days', 'num_title_ep_sum_14days', 'num_title_ep_max_14days', 'num_title_ru_sum_14days', 'num_title_ru_max_14days', 'num_country_max_14days', 'num_city_max_14days', 'other_content_sum_14days', 'top_1_sum_14days', 'top_2_sum_14days', 'top_3_sum_14days', 'top_4_sum_14days', 'top_5_sum_14days', 'top_6_sum_14days', 'top_7_sum_14days', 'top_8_sum_14days', 'top_9_sum_14days', 'top_10_sum_14days', 'android_max_14days', 'smarttv_max_14days', 'iphone_max_14days', 'ipad_max_14days', 'apple_max_14days', 'pc_max_14days', 'time_spent_sum_21days', 'time_spent_max_21days', 'num_title_ep_sum_21days', 'num_title_ep_max_21days', 'num_title_ru_sum_21days', 'num_title_ru_max_21days', 'num_country_max_21days', 'num_city_max_21days', 'other_content_sum_21days', 'top_1_sum_21days', 'top_2_sum_21days', 'top_3_sum_21days', 'top_4_sum_21days', 'top_5_sum_21days', 'top_6_sum_21days', 'top_7_sum_21days', 'top_8_sum_21days', 'top_9_sum_21days', 'top_10_sum_21days', 'android_max_21days', 'smarttv_max_21days', 'iphone_max_21days', 'ipad_max_21days', 'apple_max_21days', 'pc_max_21days', 'time_spent_sum_30days', 'time_spent_max_30days', 'num_title_ep_sum_30days', 'num_title_ep_max_30days', 'num_title_ru_sum_30days', 'num_title_ru_max_30days', 'num_country_max_30days', 'num_city_max_30days', 'other_content_sum_30days', 'top_1_sum_30days', 'top_2_sum_30days', 'top_3_sum_30days', 'top_4_sum_30days', 'top_5_sum_30days', 'top_6_sum_30days', 'top_7_sum_30days', 'top_8_sum_30days', 'top_9_sum_30days', 'top_10_sum_30days', 'android_max_30days', 'smarttv_max_30days', 'iphone_max_30days', 'ipad_max_30days', 'apple_max_30days', 'pc_max_30days', 'activity_1to3', 'activity_1to7', 'activity_1to14']\n",
      "5-fold CV is : 0.7949 +/- 0.0025\n"
     ]
    },
    {
     "name": "stderr",
     "output_type": "stream",
     "text": [
      "\n",
      " 97%|███████████████████████████████ | 137/141 [25:38<01:26, 21.56s/it]"
     ]
    },
    {
     "name": "stdout",
     "output_type": "stream",
     "text": [
      "adding feature activity_7to14\n",
      "performing CV with features: ['days_to_end', 'num_country_max_1days', 'num_city_max_1days', 'android_max_1days', 'smarttv_max_1days', 'iphone_max_1days', 'ipad_max_1days', 'apple_max_1days', 'pc_max_1days', 'time_spent_sum_3days', 'time_spent_max_3days', 'num_title_ep_sum_3days', 'num_title_ep_max_3days', 'num_title_ru_sum_3days', 'num_title_ru_max_3days', 'num_country_max_3days', 'num_city_max_3days', 'other_content_sum_3days', 'top_1_sum_3days', 'top_2_sum_3days', 'top_3_sum_3days', 'top_4_sum_3days', 'top_5_sum_3days', 'top_6_sum_3days', 'top_7_sum_3days', 'top_8_sum_3days', 'top_9_sum_3days', 'top_10_sum_3days', 'android_max_3days', 'smarttv_max_3days', 'iphone_max_3days', 'ipad_max_3days', 'apple_max_3days', 'pc_max_3days', 'time_spent_sum_7days', 'time_spent_max_7days', 'num_title_ep_sum_7days', 'num_title_ep_max_7days', 'num_title_ru_sum_7days', 'num_title_ru_max_7days', 'num_country_max_7days', 'num_city_max_7days', 'other_content_sum_7days', 'top_1_sum_7days', 'top_2_sum_7days', 'top_3_sum_7days', 'top_4_sum_7days', 'top_5_sum_7days', 'top_6_sum_7days', 'top_7_sum_7days', 'top_8_sum_7days', 'top_9_sum_7days', 'top_10_sum_7days', 'android_max_7days', 'smarttv_max_7days', 'iphone_max_7days', 'ipad_max_7days', 'apple_max_7days', 'pc_max_7days', 'time_spent_sum_14days', 'time_spent_max_14days', 'num_title_ep_sum_14days', 'num_title_ep_max_14days', 'num_title_ru_sum_14days', 'num_title_ru_max_14days', 'num_country_max_14days', 'num_city_max_14days', 'other_content_sum_14days', 'top_1_sum_14days', 'top_2_sum_14days', 'top_3_sum_14days', 'top_4_sum_14days', 'top_5_sum_14days', 'top_6_sum_14days', 'top_7_sum_14days', 'top_8_sum_14days', 'top_9_sum_14days', 'top_10_sum_14days', 'android_max_14days', 'smarttv_max_14days', 'iphone_max_14days', 'ipad_max_14days', 'apple_max_14days', 'pc_max_14days', 'time_spent_sum_21days', 'time_spent_max_21days', 'num_title_ep_sum_21days', 'num_title_ep_max_21days', 'num_title_ru_sum_21days', 'num_title_ru_max_21days', 'num_country_max_21days', 'num_city_max_21days', 'other_content_sum_21days', 'top_1_sum_21days', 'top_2_sum_21days', 'top_3_sum_21days', 'top_4_sum_21days', 'top_5_sum_21days', 'top_6_sum_21days', 'top_7_sum_21days', 'top_8_sum_21days', 'top_9_sum_21days', 'top_10_sum_21days', 'android_max_21days', 'smarttv_max_21days', 'iphone_max_21days', 'ipad_max_21days', 'apple_max_21days', 'pc_max_21days', 'time_spent_sum_30days', 'time_spent_max_30days', 'num_title_ep_sum_30days', 'num_title_ep_max_30days', 'num_title_ru_sum_30days', 'num_title_ru_max_30days', 'num_country_max_30days', 'num_city_max_30days', 'other_content_sum_30days', 'top_1_sum_30days', 'top_2_sum_30days', 'top_3_sum_30days', 'top_4_sum_30days', 'top_5_sum_30days', 'top_6_sum_30days', 'top_7_sum_30days', 'top_8_sum_30days', 'top_9_sum_30days', 'top_10_sum_30days', 'android_max_30days', 'smarttv_max_30days', 'iphone_max_30days', 'ipad_max_30days', 'apple_max_30days', 'pc_max_30days', 'activity_1to3', 'activity_1to7', 'activity_1to14', 'activity_7to14']\n",
      "5-fold CV is : 0.7948 +/- 0.0022\n"
     ]
    },
    {
     "name": "stderr",
     "output_type": "stream",
     "text": [
      "\n",
      " 98%|███████████████████████████████▎| 138/141 [25:59<01:04, 21.52s/it]"
     ]
    },
    {
     "name": "stdout",
     "output_type": "stream",
     "text": [
      "adding feature activity_7to21\n",
      "performing CV with features: ['days_to_end', 'num_country_max_1days', 'num_city_max_1days', 'android_max_1days', 'smarttv_max_1days', 'iphone_max_1days', 'ipad_max_1days', 'apple_max_1days', 'pc_max_1days', 'time_spent_sum_3days', 'time_spent_max_3days', 'num_title_ep_sum_3days', 'num_title_ep_max_3days', 'num_title_ru_sum_3days', 'num_title_ru_max_3days', 'num_country_max_3days', 'num_city_max_3days', 'other_content_sum_3days', 'top_1_sum_3days', 'top_2_sum_3days', 'top_3_sum_3days', 'top_4_sum_3days', 'top_5_sum_3days', 'top_6_sum_3days', 'top_7_sum_3days', 'top_8_sum_3days', 'top_9_sum_3days', 'top_10_sum_3days', 'android_max_3days', 'smarttv_max_3days', 'iphone_max_3days', 'ipad_max_3days', 'apple_max_3days', 'pc_max_3days', 'time_spent_sum_7days', 'time_spent_max_7days', 'num_title_ep_sum_7days', 'num_title_ep_max_7days', 'num_title_ru_sum_7days', 'num_title_ru_max_7days', 'num_country_max_7days', 'num_city_max_7days', 'other_content_sum_7days', 'top_1_sum_7days', 'top_2_sum_7days', 'top_3_sum_7days', 'top_4_sum_7days', 'top_5_sum_7days', 'top_6_sum_7days', 'top_7_sum_7days', 'top_8_sum_7days', 'top_9_sum_7days', 'top_10_sum_7days', 'android_max_7days', 'smarttv_max_7days', 'iphone_max_7days', 'ipad_max_7days', 'apple_max_7days', 'pc_max_7days', 'time_spent_sum_14days', 'time_spent_max_14days', 'num_title_ep_sum_14days', 'num_title_ep_max_14days', 'num_title_ru_sum_14days', 'num_title_ru_max_14days', 'num_country_max_14days', 'num_city_max_14days', 'other_content_sum_14days', 'top_1_sum_14days', 'top_2_sum_14days', 'top_3_sum_14days', 'top_4_sum_14days', 'top_5_sum_14days', 'top_6_sum_14days', 'top_7_sum_14days', 'top_8_sum_14days', 'top_9_sum_14days', 'top_10_sum_14days', 'android_max_14days', 'smarttv_max_14days', 'iphone_max_14days', 'ipad_max_14days', 'apple_max_14days', 'pc_max_14days', 'time_spent_sum_21days', 'time_spent_max_21days', 'num_title_ep_sum_21days', 'num_title_ep_max_21days', 'num_title_ru_sum_21days', 'num_title_ru_max_21days', 'num_country_max_21days', 'num_city_max_21days', 'other_content_sum_21days', 'top_1_sum_21days', 'top_2_sum_21days', 'top_3_sum_21days', 'top_4_sum_21days', 'top_5_sum_21days', 'top_6_sum_21days', 'top_7_sum_21days', 'top_8_sum_21days', 'top_9_sum_21days', 'top_10_sum_21days', 'android_max_21days', 'smarttv_max_21days', 'iphone_max_21days', 'ipad_max_21days', 'apple_max_21days', 'pc_max_21days', 'time_spent_sum_30days', 'time_spent_max_30days', 'num_title_ep_sum_30days', 'num_title_ep_max_30days', 'num_title_ru_sum_30days', 'num_title_ru_max_30days', 'num_country_max_30days', 'num_city_max_30days', 'other_content_sum_30days', 'top_1_sum_30days', 'top_2_sum_30days', 'top_3_sum_30days', 'top_4_sum_30days', 'top_5_sum_30days', 'top_6_sum_30days', 'top_7_sum_30days', 'top_8_sum_30days', 'top_9_sum_30days', 'top_10_sum_30days', 'android_max_30days', 'smarttv_max_30days', 'iphone_max_30days', 'ipad_max_30days', 'apple_max_30days', 'pc_max_30days', 'activity_1to3', 'activity_1to7', 'activity_1to14', 'activity_7to14', 'activity_7to21']\n",
      "5-fold CV is : 0.7939 +/- 0.0019\n"
     ]
    },
    {
     "name": "stderr",
     "output_type": "stream",
     "text": [
      "\n",
      " 99%|███████████████████████████████▌| 139/141 [26:21<00:43, 21.54s/it]"
     ]
    },
    {
     "name": "stdout",
     "output_type": "stream",
     "text": [
      "adding feature activity_7to30\n",
      "performing CV with features: ['days_to_end', 'num_country_max_1days', 'num_city_max_1days', 'android_max_1days', 'smarttv_max_1days', 'iphone_max_1days', 'ipad_max_1days', 'apple_max_1days', 'pc_max_1days', 'time_spent_sum_3days', 'time_spent_max_3days', 'num_title_ep_sum_3days', 'num_title_ep_max_3days', 'num_title_ru_sum_3days', 'num_title_ru_max_3days', 'num_country_max_3days', 'num_city_max_3days', 'other_content_sum_3days', 'top_1_sum_3days', 'top_2_sum_3days', 'top_3_sum_3days', 'top_4_sum_3days', 'top_5_sum_3days', 'top_6_sum_3days', 'top_7_sum_3days', 'top_8_sum_3days', 'top_9_sum_3days', 'top_10_sum_3days', 'android_max_3days', 'smarttv_max_3days', 'iphone_max_3days', 'ipad_max_3days', 'apple_max_3days', 'pc_max_3days', 'time_spent_sum_7days', 'time_spent_max_7days', 'num_title_ep_sum_7days', 'num_title_ep_max_7days', 'num_title_ru_sum_7days', 'num_title_ru_max_7days', 'num_country_max_7days', 'num_city_max_7days', 'other_content_sum_7days', 'top_1_sum_7days', 'top_2_sum_7days', 'top_3_sum_7days', 'top_4_sum_7days', 'top_5_sum_7days', 'top_6_sum_7days', 'top_7_sum_7days', 'top_8_sum_7days', 'top_9_sum_7days', 'top_10_sum_7days', 'android_max_7days', 'smarttv_max_7days', 'iphone_max_7days', 'ipad_max_7days', 'apple_max_7days', 'pc_max_7days', 'time_spent_sum_14days', 'time_spent_max_14days', 'num_title_ep_sum_14days', 'num_title_ep_max_14days', 'num_title_ru_sum_14days', 'num_title_ru_max_14days', 'num_country_max_14days', 'num_city_max_14days', 'other_content_sum_14days', 'top_1_sum_14days', 'top_2_sum_14days', 'top_3_sum_14days', 'top_4_sum_14days', 'top_5_sum_14days', 'top_6_sum_14days', 'top_7_sum_14days', 'top_8_sum_14days', 'top_9_sum_14days', 'top_10_sum_14days', 'android_max_14days', 'smarttv_max_14days', 'iphone_max_14days', 'ipad_max_14days', 'apple_max_14days', 'pc_max_14days', 'time_spent_sum_21days', 'time_spent_max_21days', 'num_title_ep_sum_21days', 'num_title_ep_max_21days', 'num_title_ru_sum_21days', 'num_title_ru_max_21days', 'num_country_max_21days', 'num_city_max_21days', 'other_content_sum_21days', 'top_1_sum_21days', 'top_2_sum_21days', 'top_3_sum_21days', 'top_4_sum_21days', 'top_5_sum_21days', 'top_6_sum_21days', 'top_7_sum_21days', 'top_8_sum_21days', 'top_9_sum_21days', 'top_10_sum_21days', 'android_max_21days', 'smarttv_max_21days', 'iphone_max_21days', 'ipad_max_21days', 'apple_max_21days', 'pc_max_21days', 'time_spent_sum_30days', 'time_spent_max_30days', 'num_title_ep_sum_30days', 'num_title_ep_max_30days', 'num_title_ru_sum_30days', 'num_title_ru_max_30days', 'num_country_max_30days', 'num_city_max_30days', 'other_content_sum_30days', 'top_1_sum_30days', 'top_2_sum_30days', 'top_3_sum_30days', 'top_4_sum_30days', 'top_5_sum_30days', 'top_6_sum_30days', 'top_7_sum_30days', 'top_8_sum_30days', 'top_9_sum_30days', 'top_10_sum_30days', 'android_max_30days', 'smarttv_max_30days', 'iphone_max_30days', 'ipad_max_30days', 'apple_max_30days', 'pc_max_30days', 'activity_1to3', 'activity_1to7', 'activity_1to14', 'activity_7to14', 'activity_7to21', 'activity_7to30']\n",
      "5-fold CV is : 0.7943 +/- 0.0013\n"
     ]
    },
    {
     "name": "stderr",
     "output_type": "stream",
     "text": [
      "\n",
      " 99%|███████████████████████████████▊| 140/141 [26:44<00:21, 21.90s/it]"
     ]
    },
    {
     "name": "stdout",
     "output_type": "stream",
     "text": [
      "adding feature activity_14to30\n",
      "performing CV with features: ['days_to_end', 'num_country_max_1days', 'num_city_max_1days', 'android_max_1days', 'smarttv_max_1days', 'iphone_max_1days', 'ipad_max_1days', 'apple_max_1days', 'pc_max_1days', 'time_spent_sum_3days', 'time_spent_max_3days', 'num_title_ep_sum_3days', 'num_title_ep_max_3days', 'num_title_ru_sum_3days', 'num_title_ru_max_3days', 'num_country_max_3days', 'num_city_max_3days', 'other_content_sum_3days', 'top_1_sum_3days', 'top_2_sum_3days', 'top_3_sum_3days', 'top_4_sum_3days', 'top_5_sum_3days', 'top_6_sum_3days', 'top_7_sum_3days', 'top_8_sum_3days', 'top_9_sum_3days', 'top_10_sum_3days', 'android_max_3days', 'smarttv_max_3days', 'iphone_max_3days', 'ipad_max_3days', 'apple_max_3days', 'pc_max_3days', 'time_spent_sum_7days', 'time_spent_max_7days', 'num_title_ep_sum_7days', 'num_title_ep_max_7days', 'num_title_ru_sum_7days', 'num_title_ru_max_7days', 'num_country_max_7days', 'num_city_max_7days', 'other_content_sum_7days', 'top_1_sum_7days', 'top_2_sum_7days', 'top_3_sum_7days', 'top_4_sum_7days', 'top_5_sum_7days', 'top_6_sum_7days', 'top_7_sum_7days', 'top_8_sum_7days', 'top_9_sum_7days', 'top_10_sum_7days', 'android_max_7days', 'smarttv_max_7days', 'iphone_max_7days', 'ipad_max_7days', 'apple_max_7days', 'pc_max_7days', 'time_spent_sum_14days', 'time_spent_max_14days', 'num_title_ep_sum_14days', 'num_title_ep_max_14days', 'num_title_ru_sum_14days', 'num_title_ru_max_14days', 'num_country_max_14days', 'num_city_max_14days', 'other_content_sum_14days', 'top_1_sum_14days', 'top_2_sum_14days', 'top_3_sum_14days', 'top_4_sum_14days', 'top_5_sum_14days', 'top_6_sum_14days', 'top_7_sum_14days', 'top_8_sum_14days', 'top_9_sum_14days', 'top_10_sum_14days', 'android_max_14days', 'smarttv_max_14days', 'iphone_max_14days', 'ipad_max_14days', 'apple_max_14days', 'pc_max_14days', 'time_spent_sum_21days', 'time_spent_max_21days', 'num_title_ep_sum_21days', 'num_title_ep_max_21days', 'num_title_ru_sum_21days', 'num_title_ru_max_21days', 'num_country_max_21days', 'num_city_max_21days', 'other_content_sum_21days', 'top_1_sum_21days', 'top_2_sum_21days', 'top_3_sum_21days', 'top_4_sum_21days', 'top_5_sum_21days', 'top_6_sum_21days', 'top_7_sum_21days', 'top_8_sum_21days', 'top_9_sum_21days', 'top_10_sum_21days', 'android_max_21days', 'smarttv_max_21days', 'iphone_max_21days', 'ipad_max_21days', 'apple_max_21days', 'pc_max_21days', 'time_spent_sum_30days', 'time_spent_max_30days', 'num_title_ep_sum_30days', 'num_title_ep_max_30days', 'num_title_ru_sum_30days', 'num_title_ru_max_30days', 'num_country_max_30days', 'num_city_max_30days', 'other_content_sum_30days', 'top_1_sum_30days', 'top_2_sum_30days', 'top_3_sum_30days', 'top_4_sum_30days', 'top_5_sum_30days', 'top_6_sum_30days', 'top_7_sum_30days', 'top_8_sum_30days', 'top_9_sum_30days', 'top_10_sum_30days', 'android_max_30days', 'smarttv_max_30days', 'iphone_max_30days', 'ipad_max_30days', 'apple_max_30days', 'pc_max_30days', 'activity_1to3', 'activity_1to7', 'activity_1to14', 'activity_7to14', 'activity_7to21', 'activity_7to30', 'activity_14to30']\n",
      "5-fold CV is : 0.7941 +/- 0.0022\n"
     ]
    },
    {
     "name": "stderr",
     "output_type": "stream",
     "text": [
      "\n",
      "100%|████████████████████████████████| 141/141 [27:07<00:00, 11.54s/it]\n"
     ]
    },
    {
     "name": "stdout",
     "output_type": "stream",
     "text": [
      "Wall time: 27min 7s\n"
     ]
    }
   ],
   "source": [
    "%%time\n",
    "cv_scores = []\n",
    "features_to_use = former_feats[:]\n",
    "\n",
    "for new_feat in tqdm(new_feats):\n",
    "    print(f'adding feature {new_feat}')\n",
    "    features_to_use += [new_feat]\n",
    "    print(f'performing CV with features: {features_to_use}')\n",
    "\n",
    "    current_cv_scores = cross_val_score(clf, X[features_to_use].values, y, cv=skf, scoring='roc_auc')\n",
    "    print('5-fold CV is : {} +/- {}'.format(current_cv_scores.mean().round(4), \n",
    "                                            current_cv_scores.std().round(4)))\n",
    "    cv_scores.append(current_cv_scores)"
   ]
  },
  {
   "cell_type": "code",
   "execution_count": 156,
   "metadata": {},
   "outputs": [],
   "source": [
    "#save results\n",
    "f = open('cvs_xgb.txt','w')\n",
    "for i, cv in enumerate(cv_scores):\n",
    "    f.write(str(cv.mean())+ '\\n')\n",
    "f.close()"
   ]
  },
  {
   "cell_type": "code",
   "execution_count": 16,
   "metadata": {},
   "outputs": [],
   "source": [
    "#load results\n",
    "cv_mean_loaded = []\n",
    "f = open('cvs_xgb.txt','r')\n",
    "for line in f.readlines():\n",
    "    cv_mean_loaded.append(float(line[:-2:]))\n",
    "f.close()"
   ]
  },
  {
   "cell_type": "code",
   "execution_count": 58,
   "metadata": {
    "scrolled": true
   },
   "outputs": [],
   "source": [
    "best_index = []\n",
    "increase = []\n",
    "for i in range(1,len(cv_mean_loaded)):\n",
    "    diff = cv_mean_loaded[i] - cv_mean_loaded[i-1]\n",
    "    increase.append(diff)\n",
    "    if diff > 0.002:\n",
    "        #print(cv_scores[i].mean().round(4))\n",
    "        best_index.append(i)"
   ]
  },
  {
   "cell_type": "code",
   "execution_count": 50,
   "metadata": {},
   "outputs": [
    {
     "data": {
      "text/plain": [
       "(-0.0010741712912829549, 0.0020419990816434213, 0.07014040218771)"
      ]
     },
     "execution_count": 50,
     "metadata": {},
     "output_type": "execute_result"
    }
   ],
   "source": [
    "min(increase), np.mean(increase), max(increase)"
   ]
  },
  {
   "cell_type": "code",
   "execution_count": 59,
   "metadata": {
    "scrolled": true
   },
   "outputs": [
    {
     "data": {
      "text/plain": [
       "Index(['num_country_max_1days', 'time_spent_sum_3days', 'time_spent_max_3days',\n",
       "       'num_city_max_3days', 'android_max_3days', 'time_spent_sum_7days',\n",
       "       'time_spent_max_7days', 'num_title_ep_max_7days', 'num_city_max_7days',\n",
       "       'ipad_max_7days', 'time_spent_sum_14days', 'time_spent_max_14days',\n",
       "       'num_city_max_14days', 'top_1_sum_14days', 'top_3_sum_14days',\n",
       "       'smarttv_max_14days', 'pc_max_14days', 'time_spent_sum_21days',\n",
       "       'time_spent_max_21days', 'num_title_ep_max_21days', 'top_2_sum_21days',\n",
       "       'pc_max_21days', 'time_spent_sum_30days', 'time_spent_max_30days',\n",
       "       'num_title_ep_max_30days', 'other_content_sum_30days',\n",
       "       'android_max_30days'],\n",
       "      dtype='object')"
      ]
     },
     "execution_count": 59,
     "metadata": {},
     "output_type": "execute_result"
    }
   ],
   "source": [
    "new_feats[best_index]"
   ]
  },
  {
   "cell_type": "code",
   "execution_count": 52,
   "metadata": {},
   "outputs": [],
   "source": [
    "features_to_use = new_feats[best_index]"
   ]
  },
  {
   "cell_type": "code",
   "execution_count": 60,
   "metadata": {},
   "outputs": [
    {
     "name": "stdout",
     "output_type": "stream",
     "text": [
      "Wall time: 8.13 s\n"
     ]
    },
    {
     "data": {
      "text/plain": [
       "(array([0.77843231, 0.7790818 , 0.78334149, 0.78117063, 0.77842398]),\n",
       " 0.7800900398112114)"
      ]
     },
     "execution_count": 60,
     "metadata": {},
     "output_type": "execute_result"
    }
   ],
   "source": [
    "%%time\n",
    "# cv на выбранных фичах\n",
    "initial_cv_scores = cross_val_score(clf, X[features_to_use].values, y, cv=skf, scoring='roc_auc')\n",
    "initial_cv_scores, initial_cv_scores.mean()"
   ]
  },
  {
   "cell_type": "code",
   "execution_count": 47,
   "metadata": {},
   "outputs": [
    {
     "data": {
      "text/plain": [
       "0.6526932068295261"
      ]
     },
     "execution_count": 47,
     "metadata": {},
     "output_type": "execute_result"
    }
   ],
   "source": [
    "# roc-auc на холдауте при всех фичах\n",
    "clf.fit(X,y)\n",
    "roc_auc_score(y_holdout, clf.predict_proba(X_holdout)[:,1])"
   ]
  },
  {
   "cell_type": "code",
   "execution_count": 61,
   "metadata": {},
   "outputs": [
    {
     "data": {
      "text/plain": [
       "0.6479780416766847"
      ]
     },
     "execution_count": 61,
     "metadata": {},
     "output_type": "execute_result"
    }
   ],
   "source": [
    "# roc-auc на холдауте при ВЫБРАННЫХ фичах\n",
    "clf1 = LGBMClassifier(n_estimators=100)\n",
    "clf1.fit(X[features_to_use],y)\n",
    "roc_auc_score(y_holdout, clf1.predict_proba(X_holdout[features_to_use])[:,1])"
   ]
  },
  {
   "cell_type": "code",
   "execution_count": 62,
   "metadata": {},
   "outputs": [
    {
     "data": {
      "text/plain": [
       "0.6324097473848018"
      ]
     },
     "execution_count": 62,
     "metadata": {},
     "output_type": "execute_result"
    }
   ],
   "source": [
    "# roc-auc на холдауте при ВЫБРАННЫХ фичах. n_estimators=1000\n",
    "clf2 = LGBMClassifier(n_estimators=1000)\n",
    "clf2.fit(X[features_to_use],y)\n",
    "roc_auc_score(y_holdout, clf2.predict_proba(X_holdout[features_to_use])[:,1])"
   ]
  },
  {
   "cell_type": "markdown",
   "metadata": {},
   "source": [
    "### вывод\n",
    "При удалении некоторых фич, мы не получили улучшения метрики на holdout.\n",
    "Оставляем все фичи"
   ]
  }
 ],
 "metadata": {
  "kernelspec": {
   "display_name": "Python 3",
   "language": "python",
   "name": "python3"
  },
  "language_info": {
   "codemirror_mode": {
    "name": "ipython",
    "version": 3
   },
   "file_extension": ".py",
   "mimetype": "text/x-python",
   "name": "python",
   "nbconvert_exporter": "python",
   "pygments_lexer": "ipython3",
   "version": "3.7.4"
  }
 },
 "nbformat": 4,
 "nbformat_minor": 2
}
