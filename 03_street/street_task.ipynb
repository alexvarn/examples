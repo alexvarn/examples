{
 "cells": [
  {
   "cell_type": "code",
   "execution_count": 1,
   "metadata": {},
   "outputs": [],
   "source": [
    "import pandas as pd\n",
    "from random import normalvariate, sample, seed\n",
    "import simpy\n",
    "from tqdm import tqdm_notebook\n",
    "\n",
    "from matplotlib import pyplot as plt\n",
    "import seaborn as sns\n",
    "%matplotlib inline"
   ]
  },
  {
   "cell_type": "code",
   "execution_count": 2,
   "metadata": {},
   "outputs": [],
   "source": [
    "class Shop(object):\n",
    "    ''' Заведение. У заведения есть несколько касс (num_cashdesks). \n",
    "        Время обслуживания (servicetime) с дисперсией (std)\n",
    "    '''\n",
    "    def __init__(self, env, name_id, num_cashdesks, servicetime, std):\n",
    "        self.env = env\n",
    "        self.id = name_id\n",
    "        self.cashdesk = simpy.Resource(env, num_cashdesks)\n",
    "        self.servicetime = servicetime\n",
    "        self.std = std\n",
    "\n",
    "    def service(self, visitor):\n",
    "        yield self.env.timeout(abs(normalvariate(self.servicetime,self.std)))\n",
    "        visitor.shop.append(self.id)"
   ]
  },
  {
   "cell_type": "code",
   "execution_count": 3,
   "metadata": {},
   "outputs": [],
   "source": [
    "class Visitor(object):\n",
    "    ''' Посетитель. \n",
    "        Время появление и ухода на улицу (arrives, leaves_street)\n",
    "        Списки посещенных магазинов, с временем прихода и ухода (shop, enters, leaves)\n",
    "        История выбора, мест, от посещения которых отказался (нет свободных касс) (choices, deny)\n",
    "    '''\n",
    "    def __init__(self, env, i):\n",
    "        self.env = env\n",
    "        self.id = i\n",
    "        self.arrives = 0\n",
    "        self.enters = []\n",
    "        self.leaves = []\n",
    "        self.shop = []\n",
    "        self.prob = '0001112345'\n",
    "        self.choices = []\n",
    "        self.deny = []\n",
    "        self.leaves_street = 0\n",
    "        \n",
    "    def make_choice(self):\n",
    "        ''' Процесс выбора. 0-4 индексы магазинов, 5 - выход'''\n",
    "        choice = sample(self.prob,1)\n",
    "        self.prob = self.prob.replace(choice[0],'5')\n",
    "        self.choices.append(choice[0])\n",
    "        return int(choice[0])\n",
    "    "
   ]
  },
  {
   "cell_type": "code",
   "execution_count": 4,
   "metadata": {},
   "outputs": [],
   "source": [
    "def visitor_way(env, i, shops):\n",
    "    ''' Процесс прихода посетителя на улицу, обхода магазинов, и ухода с улицы.'''\n",
    "    new_visitor = Visitor(env,i)\n",
    "    new_visitor.arrives = round(env.now,2)\n",
    "    choice = new_visitor.make_choice()\n",
    "    \n",
    "    while choice != 5:\n",
    "        with shops[choice].cashdesk.request() as request:\n",
    "            patience = 0\n",
    "            results = yield request | env.timeout(patience)\n",
    "            \n",
    "            if request in results:\n",
    "                new_visitor.enters.append(round(env.now,2))\n",
    "                yield env.process(shops[choice].service(new_visitor))\n",
    "                new_visitor.leaves.append(round(env.now,2))\n",
    "            else:\n",
    "                new_visitor.deny.append(shops[choice].id)\n",
    "        choice = new_visitor.make_choice()\n",
    "        \n",
    "    new_visitor.leaves_street = round(env.now,2)\n",
    "    visitors_list.append(new_visitor)"
   ]
  },
  {
   "cell_type": "code",
   "execution_count": 5,
   "metadata": {},
   "outputs": [],
   "source": [
    "def setup(env, visitor_interval, visitor_interval_std):\n",
    "    \"\"\" Инициализация магазинов, создание новых посетителей с интервалом\n",
    "        visitor_interval и дисперсией visitor_interval_std\n",
    "    \"\"\"\n",
    "    shops = []\n",
    "    shops.append(Shop(env, 'shop1', 3, 5, 2))\n",
    "    shops.append(Shop(env, 'shop2', 3, 5, 2))\n",
    "    shops.append(Shop(env, 'kiosk', 1, 3, 2))\n",
    "    shops.append(Shop(env, 'pharmacy', 2, 5, 2))\n",
    "    shops.append(Shop(env, 'barbershop', 2, 20, 2))\n",
    "    i = 0\n",
    "    \n",
    "    while True:\n",
    "        env.process(visitor_way(env, i, shops))\n",
    "        i += 1\n",
    "        yield env.timeout(abs(normalvariate(visitor_interval,\n",
    "                                            visitor_interval_std)))"
   ]
  },
  {
   "cell_type": "code",
   "execution_count": 6,
   "metadata": {},
   "outputs": [],
   "source": [
    "RANDOM_SEED = 42\n",
    "DAYS = 30\n",
    "SIM_TIME = DAYS * 24 * 60\n",
    "VISITORS_INTERVAL = 5\n",
    "VISITORS_INTERVAL_STD = 2"
   ]
  },
  {
   "cell_type": "code",
   "execution_count": 7,
   "metadata": {},
   "outputs": [],
   "source": [
    "# запускаем симуляцию\n",
    "visitors_list = list()\n",
    "seed(RANDOM_SEED)\n",
    "env = simpy.Environment()\n",
    "env.process(setup(env, VISITORS_INTERVAL, VISITORS_INTERVAL_STD))\n",
    "env.run(SIM_TIME)"
   ]
  },
  {
   "cell_type": "code",
   "execution_count": 8,
   "metadata": {},
   "outputs": [
    {
     "data": {
      "text/plain": [
       "['arrives',\n",
       " 'choices',\n",
       " 'deny',\n",
       " 'enters',\n",
       " 'env',\n",
       " 'id',\n",
       " 'leaves',\n",
       " 'leaves_street',\n",
       " 'make_choice',\n",
       " 'prob',\n",
       " 'shop']"
      ]
     },
     "execution_count": 8,
     "metadata": {},
     "output_type": "execute_result"
    }
   ],
   "source": [
    "visitors_attrs = [arg for arg in dir(visitors_list[0]) if not arg.startswith('_')]\n",
    "visitors_attrs"
   ]
  },
  {
   "cell_type": "code",
   "execution_count": 9,
   "metadata": {},
   "outputs": [],
   "source": [
    "# параметры для df\n",
    "attrs_for_df = [ 'arrives',\n",
    "                 'choices',\n",
    "                 'deny',\n",
    "                 'enters',\n",
    "                 'id',\n",
    "                 'leaves',\n",
    "                 'leaves_street',\n",
    "                 'shop']\n",
    "data_for_df = [list() for _ in range(len(attrs_for_df))]"
   ]
  },
  {
   "cell_type": "code",
   "execution_count": 10,
   "metadata": {
    "scrolled": true
   },
   "outputs": [
    {
     "data": {
      "text/html": [
       "<div>\n",
       "<style scoped>\n",
       "    .dataframe tbody tr th:only-of-type {\n",
       "        vertical-align: middle;\n",
       "    }\n",
       "\n",
       "    .dataframe tbody tr th {\n",
       "        vertical-align: top;\n",
       "    }\n",
       "\n",
       "    .dataframe thead th {\n",
       "        text-align: right;\n",
       "    }\n",
       "</style>\n",
       "<table border=\"1\" class=\"dataframe\">\n",
       "  <thead>\n",
       "    <tr style=\"text-align: right;\">\n",
       "      <th></th>\n",
       "      <th>arrives</th>\n",
       "      <th>choices</th>\n",
       "      <th>deny</th>\n",
       "      <th>enters</th>\n",
       "      <th>id</th>\n",
       "      <th>leaves</th>\n",
       "      <th>leaves_street</th>\n",
       "      <th>shop</th>\n",
       "    </tr>\n",
       "  </thead>\n",
       "  <tbody>\n",
       "    <tr>\n",
       "      <td>0</td>\n",
       "      <td>0.00</td>\n",
       "      <td>[1, 0, 5]</td>\n",
       "      <td>[]</td>\n",
       "      <td>[0, 3.98]</td>\n",
       "      <td>0</td>\n",
       "      <td>[3.98, 14.61]</td>\n",
       "      <td>14.61</td>\n",
       "      <td>[shop2, shop1]</td>\n",
       "    </tr>\n",
       "    <tr>\n",
       "      <td>1</td>\n",
       "      <td>13.84</td>\n",
       "      <td>[1, 5]</td>\n",
       "      <td>[]</td>\n",
       "      <td>[13.84]</td>\n",
       "      <td>3</td>\n",
       "      <td>[16.64]</td>\n",
       "      <td>16.64</td>\n",
       "      <td>[shop2]</td>\n",
       "    </tr>\n",
       "    <tr>\n",
       "      <td>2</td>\n",
       "      <td>5.49</td>\n",
       "      <td>[0, 1, 5]</td>\n",
       "      <td>[]</td>\n",
       "      <td>[5.49, 8.67]</td>\n",
       "      <td>1</td>\n",
       "      <td>[8.67, 17.15]</td>\n",
       "      <td>17.15</td>\n",
       "      <td>[shop1, shop2]</td>\n",
       "    </tr>\n",
       "    <tr>\n",
       "      <td>3</td>\n",
       "      <td>18.19</td>\n",
       "      <td>[2, 5]</td>\n",
       "      <td>[]</td>\n",
       "      <td>[18.19]</td>\n",
       "      <td>4</td>\n",
       "      <td>[19.14]</td>\n",
       "      <td>19.14</td>\n",
       "      <td>[kiosk]</td>\n",
       "    </tr>\n",
       "    <tr>\n",
       "      <td>4</td>\n",
       "      <td>23.03</td>\n",
       "      <td>[1, 5]</td>\n",
       "      <td>[]</td>\n",
       "      <td>[23.03]</td>\n",
       "      <td>5</td>\n",
       "      <td>[28.76]</td>\n",
       "      <td>28.76</td>\n",
       "      <td>[shop2]</td>\n",
       "    </tr>\n",
       "  </tbody>\n",
       "</table>\n",
       "</div>"
      ],
      "text/plain": [
       "   arrives    choices deny        enters  id         leaves  leaves_street  \\\n",
       "0     0.00  [1, 0, 5]   []     [0, 3.98]   0  [3.98, 14.61]          14.61   \n",
       "1    13.84     [1, 5]   []       [13.84]   3        [16.64]          16.64   \n",
       "2     5.49  [0, 1, 5]   []  [5.49, 8.67]   1  [8.67, 17.15]          17.15   \n",
       "3    18.19     [2, 5]   []       [18.19]   4        [19.14]          19.14   \n",
       "4    23.03     [1, 5]   []       [23.03]   5        [28.76]          28.76   \n",
       "\n",
       "             shop  \n",
       "0  [shop2, shop1]  \n",
       "1         [shop2]  \n",
       "2  [shop1, shop2]  \n",
       "3         [kiosk]  \n",
       "4         [shop2]  "
      ]
     },
     "execution_count": 10,
     "metadata": {},
     "output_type": "execute_result"
    }
   ],
   "source": [
    "# готовим df\n",
    "for visitor in visitors_list:\n",
    "    for i, attr in enumerate(attrs_for_df):\n",
    "        data_for_df[i].append(getattr(visitor,attr))\n",
    "\n",
    "df = pd.DataFrame(dict(zip(attrs_for_df, data_for_df)))\n",
    "df.head()"
   ]
  },
  {
   "cell_type": "code",
   "execution_count": 11,
   "metadata": {},
   "outputs": [
    {
     "data": {
      "text/plain": [
       "count    8592.000000\n",
       "mean       11.639960\n",
       "std         9.956784\n",
       "min         0.000000\n",
       "25%         4.690000\n",
       "50%         8.510000\n",
       "75%        16.040000\n",
       "max        47.450000\n",
       "Name: duration, dtype: float64"
      ]
     },
     "execution_count": 11,
     "metadata": {},
     "output_type": "execute_result"
    }
   ],
   "source": [
    "# смотрим на длительность пребывания на улице\n",
    "df['duration'] = df['leaves_street'] - df['arrives']\n",
    "df['duration'].describe()"
   ]
  },
  {
   "cell_type": "code",
   "execution_count": 12,
   "metadata": {},
   "outputs": [],
   "source": [
    "TIME_FOR_VIZ = 5"
   ]
  },
  {
   "cell_type": "code",
   "execution_count": 13,
   "metadata": {},
   "outputs": [],
   "source": [
    "#df.to_csv('data.csv')"
   ]
  },
  {
   "cell_type": "code",
   "execution_count": 14,
   "metadata": {},
   "outputs": [],
   "source": [
    "attrs_for_dfvis = ['id', 'enters', 'leaves', 'shop']\n",
    "data_for_dfvis = [list() for _ in range(len(attrs_for_dfvis))]"
   ]
  },
  {
   "cell_type": "code",
   "execution_count": 15,
   "metadata": {},
   "outputs": [
    {
     "data": {
      "application/vnd.jupyter.widget-view+json": {
       "model_id": "e853fdd67f204fcc866e70780c531a0d",
       "version_major": 2,
       "version_minor": 0
      },
      "text/plain": [
       "HBox(children=(IntProgress(value=0, max=8592), HTML(value='')))"
      ]
     },
     "metadata": {},
     "output_type": "display_data"
    },
    {
     "name": "stdout",
     "output_type": "stream",
     "text": [
      "\n"
     ]
    }
   ],
   "source": [
    "for i in tqdm_notebook(df.index):\n",
    "    for j in range(len(df['enters'][i])):\n",
    "        data_for_dfvis[0].append(df.id[i])\n",
    "        data_for_dfvis[1].append(df['enters'][i][j])\n",
    "        data_for_dfvis[2].append(df['leaves'][i][j])\n",
    "        data_for_dfvis[3].append(df['shop'][i][j])"
   ]
  },
  {
   "cell_type": "code",
   "execution_count": 16,
   "metadata": {},
   "outputs": [
    {
     "data": {
      "text/plain": [
       "(15465, 15465, 15465, 15465)"
      ]
     },
     "execution_count": 16,
     "metadata": {},
     "output_type": "execute_result"
    }
   ],
   "source": [
    "len(data_for_dfvis[0]), len(data_for_dfvis[1]), len(data_for_dfvis[2]), len(data_for_dfvis[3])"
   ]
  },
  {
   "cell_type": "code",
   "execution_count": 17,
   "metadata": {},
   "outputs": [
    {
     "data": {
      "text/html": [
       "<div>\n",
       "<style scoped>\n",
       "    .dataframe tbody tr th:only-of-type {\n",
       "        vertical-align: middle;\n",
       "    }\n",
       "\n",
       "    .dataframe tbody tr th {\n",
       "        vertical-align: top;\n",
       "    }\n",
       "\n",
       "    .dataframe thead th {\n",
       "        text-align: right;\n",
       "    }\n",
       "</style>\n",
       "<table border=\"1\" class=\"dataframe\">\n",
       "  <thead>\n",
       "    <tr style=\"text-align: right;\">\n",
       "      <th></th>\n",
       "      <th>id</th>\n",
       "      <th>enters</th>\n",
       "      <th>leaves</th>\n",
       "      <th>shop</th>\n",
       "    </tr>\n",
       "  </thead>\n",
       "  <tbody>\n",
       "    <tr>\n",
       "      <td>0</td>\n",
       "      <td>0</td>\n",
       "      <td>0.00</td>\n",
       "      <td>3.98</td>\n",
       "      <td>shop2</td>\n",
       "    </tr>\n",
       "    <tr>\n",
       "      <td>1</td>\n",
       "      <td>0</td>\n",
       "      <td>3.98</td>\n",
       "      <td>14.61</td>\n",
       "      <td>shop1</td>\n",
       "    </tr>\n",
       "    <tr>\n",
       "      <td>2</td>\n",
       "      <td>3</td>\n",
       "      <td>13.84</td>\n",
       "      <td>16.64</td>\n",
       "      <td>shop2</td>\n",
       "    </tr>\n",
       "    <tr>\n",
       "      <td>3</td>\n",
       "      <td>1</td>\n",
       "      <td>5.49</td>\n",
       "      <td>8.67</td>\n",
       "      <td>shop1</td>\n",
       "    </tr>\n",
       "    <tr>\n",
       "      <td>4</td>\n",
       "      <td>1</td>\n",
       "      <td>8.67</td>\n",
       "      <td>17.15</td>\n",
       "      <td>shop2</td>\n",
       "    </tr>\n",
       "  </tbody>\n",
       "</table>\n",
       "</div>"
      ],
      "text/plain": [
       "   id  enters  leaves   shop\n",
       "0   0    0.00    3.98  shop2\n",
       "1   0    3.98   14.61  shop1\n",
       "2   3   13.84   16.64  shop2\n",
       "3   1    5.49    8.67  shop1\n",
       "4   1    8.67   17.15  shop2"
      ]
     },
     "execution_count": 17,
     "metadata": {},
     "output_type": "execute_result"
    }
   ],
   "source": [
    "dfviz = pd.DataFrame(dict(zip(attrs_for_dfvis, data_for_dfvis)))\n",
    "dfviz.head()"
   ]
  },
  {
   "cell_type": "code",
   "execution_count": 18,
   "metadata": {},
   "outputs": [],
   "source": [
    "shop_names = ['shop1','shop2','kiosk','pharmacy','barbershop']\n",
    "dfviz['before'] = dfviz['enters'] - TIME_FOR_VIZ\n",
    "dfviz['after'] = dfviz['leaves'] + TIME_FOR_VIZ"
   ]
  },
  {
   "cell_type": "code",
   "execution_count": 19,
   "metadata": {},
   "outputs": [
    {
     "data": {
      "application/vnd.jupyter.widget-view+json": {
       "model_id": "e07565c2ee1d4efc9cbbeff50f163349",
       "version_major": 2,
       "version_minor": 0
      },
      "text/plain": [
       "HBox(children=(IntProgress(value=0, max=15465), HTML(value='')))"
      ]
     },
     "metadata": {},
     "output_type": "display_data"
    },
    {
     "name": "stdout",
     "output_type": "stream",
     "text": [
      "\n"
     ]
    }
   ],
   "source": [
    "for idv in tqdm_notebook(range(dfviz.shape[0])):\n",
    "    cond = (dfviz['id'] == idv)\n",
    "    for i in range(dfviz[cond].shape[0]):\n",
    "        for j in range(dfviz[cond].shape[0]):\n",
    "            if (dfviz['enters'][cond].iloc[i] <= dfviz['before'][cond].iloc[j]) & (dfviz['leaves'][cond].iloc[i] >= dfviz['before'][cond].iloc[j]):\n",
    "                dfviz.loc[dfviz[cond].index.values[j], 'before_hist'] = dfviz['shop'][cond].iloc[i]\n",
    "            if (dfviz['enters'][cond].iloc[i] <= dfviz['after'][cond].iloc[j]) & (dfviz['leaves'][cond].iloc[i] >= dfviz['after'][cond].iloc[j]):\n",
    "                dfviz.loc[dfviz[cond].index.values[j], 'after_hist'] = dfviz['shop'][cond].iloc[i]          "
   ]
  },
  {
   "cell_type": "code",
   "execution_count": null,
   "metadata": {},
   "outputs": [],
   "source": [
    "for idv in tqdm_notebook(range(dfviz.shape[0])):\n",
    "    cond = (dfviz['id'] == idv)"
   ]
  },
  {
   "cell_type": "code",
   "execution_count": 20,
   "metadata": {},
   "outputs": [
    {
     "data": {
      "image/png": "[encoded data removed]",
      "text/plain": [
       "<Figure size 1080x1440 with 10 Axes>"
      ]
     },
     "metadata": {
      "needs_background": "light"
     },
     "output_type": "display_data"
    }
   ],
   "source": [
    "plt.subplots(5, 2,figsize = (15, 20))\n",
    "for i in range(5):\n",
    "    plt.subplot(5,2, (2*i+1))\n",
    "    plt.title (shop_names[i] + \"_before \" + str(TIME_FOR_VIZ) + ' minutes', fontsize=16)\n",
    "    sns.countplot(dfviz[dfviz['shop'] == shop_names[i]]['before_hist'], order=shop_names)  \n",
    "    \n",
    "    plt.subplot(5,2, (2*i+2))\n",
    "    plt.title (shop_names[i] + \"_after \" + str(TIME_FOR_VIZ) + ' minutes', fontsize=16)\n",
    "    sns.countplot(dfviz[dfviz['shop'] == shop_names[i]]['after_hist'], order=shop_names)\n",
    "plt.tight_layout()"
   ]
  },
  {
   "cell_type": "code",
   "execution_count": 21,
   "metadata": {},
   "outputs": [
    {
     "data": {
      "image/png": "[encoded data removed]",
      "text/plain": [
       "<Figure size 864x720 with 2 Axes>"
      ]
     },
     "metadata": {
      "needs_background": "light"
     },
     "output_type": "display_data"
    }
   ],
   "source": [
    "plt.subplots(1, 2,figsize = (12, 10))\n",
    "\n",
    "plt.subplot(1,2,1)\n",
    "plt.title (\"Где были посетители за \" + str(TIME_FOR_VIZ) + ' минут до нас')\n",
    "sns.countplot(data=dfviz,hue=\"shop\", y='before_hist', order=shop_names, hue_order=shop_names)\n",
    "\n",
    "plt.subplot(1,2,2)\n",
    "plt.title (\"Где были посетители через \" + str(TIME_FOR_VIZ) + ' минут нас')\n",
    "sns.countplot(data=dfviz,hue=\"shop\", y='after_hist', order=shop_names, hue_order=shop_names)\n",
    "\n",
    "plt.tight_layout()"
   ]
  }
 ],
 "metadata": {
  "kernelspec": {
   "display_name": "Python 3",
   "language": "python",
   "name": "python3"
  },
  "language_info": {
   "codemirror_mode": {
    "name": "ipython",
    "version": 3
   },
   "file_extension": ".py",
   "mimetype": "text/x-python",
   "name": "python",
   "nbconvert_exporter": "python",
   "pygments_lexer": "ipython3",
   "version": "3.7.4"
  }
 },
 "nbformat": 4,
 "nbformat_minor": 2
}
