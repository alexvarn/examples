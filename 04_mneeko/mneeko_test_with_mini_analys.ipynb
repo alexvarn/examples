{
 "cells": [
  {
   "cell_type": "code",
   "execution_count": 1,
   "metadata": {},
   "outputs": [],
   "source": [
    "#составить list необходимых параметров\n",
    "list_param = ['account_id','client_id', 'time_local', 'time_utc3', 'referrer', 'useragent', 'channel', 'ph_country', 'amount', \n",
    "              'deviceid', 'zip_billing', 'country_code_billing', 'version', 'tenor', 'is_js', 'phone', 'mail', 'application_id', \n",
    "              'plugins', 'response_content_type', 'cookie']"
   ]
  },
  {
   "cell_type": "code",
   "execution_count": 2,
   "metadata": {},
   "outputs": [],
   "source": [
    "# извлечение необходимых пара\n",
    "def get_parameter(line, parameter):\n",
    "    string = parameter + '='\n",
    "    len_param = len(string)\n",
    "    try:\n",
    "        p_start = line.index(string)+len_param #point_start\n",
    "        answer = line[p_start:line.find('&', p_start)]\n",
    "        if 'time' in parameter:\n",
    "            answer = answer.replace('+',' ').replace('%3A',':')     \n",
    "    except ValueError:\n",
    "        answer = 0\n",
    "    return answer"
   ]
  },
  {
   "cell_type": "code",
   "execution_count": 3,
   "metadata": {},
   "outputs": [],
   "source": [
    "# хранение данных [время, параметры, ошибки]\n",
    "dict_param = dict(zip(range(len(list_param)),list_param))\n",
    "params = [list() for _ in range(len(dict_param))]\n",
    "list_data = list()\n",
    "list_error = list()"
   ]
  },
  {
   "cell_type": "code",
   "execution_count": 4,
   "metadata": {},
   "outputs": [],
   "source": [
    "# чтение из файла\n",
    "f = open('test.txt', 'r')\n",
    "for line in f:\n",
    "    if line[0:2] == '[2':\n",
    "        list_data.append(line[1:-2])\n",
    "    if line[0:6] == 'Params':\n",
    "        for i in range(len(dict_param)):\n",
    "            params[i].append(get_parameter(line, dict_param.get(i)))\n",
    "    if line[0:5] == 'Error':\n",
    "        list_error.append(line[7:-1])\n",
    "f.close()"
   ]
  },
  {
   "cell_type": "code",
   "execution_count": 5,
   "metadata": {},
   "outputs": [],
   "source": [
    "#подготовка данных для DataFrame\n",
    "list_link = (params[x] for x in range(len(list_param)))\n",
    "dict_df = dict({'datetime': list_data})\n",
    "dict_df.update(zip(list_param, list_link))\n",
    "dict_df.update({'error':list_error})"
   ]
  },
  {
   "cell_type": "code",
   "execution_count": 6,
   "metadata": {},
   "outputs": [
    {
     "data": {
      "text/html": [
       "<div>\n",
       "<style scoped>\n",
       "    .dataframe tbody tr th:only-of-type {\n",
       "        vertical-align: middle;\n",
       "    }\n",
       "\n",
       "    .dataframe tbody tr th {\n",
       "        vertical-align: top;\n",
       "    }\n",
       "\n",
       "    .dataframe thead th {\n",
       "        text-align: right;\n",
       "    }\n",
       "</style>\n",
       "<table border=\"1\" class=\"dataframe\">\n",
       "  <thead>\n",
       "    <tr style=\"text-align: right;\">\n",
       "      <th></th>\n",
       "      <th>datetime</th>\n",
       "      <th>account_id</th>\n",
       "      <th>client_id</th>\n",
       "      <th>time_local</th>\n",
       "      <th>time_utc3</th>\n",
       "      <th>referrer</th>\n",
       "      <th>useragent</th>\n",
       "      <th>channel</th>\n",
       "      <th>ph_country</th>\n",
       "      <th>amount</th>\n",
       "      <th>...</th>\n",
       "      <th>version</th>\n",
       "      <th>tenor</th>\n",
       "      <th>is_js</th>\n",
       "      <th>phone</th>\n",
       "      <th>mail</th>\n",
       "      <th>application_id</th>\n",
       "      <th>plugins</th>\n",
       "      <th>response_content_type</th>\n",
       "      <th>cookie</th>\n",
       "      <th>error</th>\n",
       "    </tr>\n",
       "  </thead>\n",
       "  <tbody>\n",
       "    <tr>\n",
       "      <th>0</th>\n",
       "      <td>2019-09-25 04:00:25.451360</td>\n",
       "      <td>0d7f144d5f63b8b6d12aa8730ebdcd38</td>\n",
       "      <td>e2dcd5ca173fd47895fdad914992abb1</td>\n",
       "      <td>25.09.2019 08:00:25</td>\n",
       "      <td>25.09.2019 04:00:25</td>\n",
       "      <td>x</td>\n",
       "      <td>Mozilla%2F5.0+%28Linux%3B+Android+6.0.1%3B+Red...</td>\n",
       "      <td>SITE</td>\n",
       "      <td>62</td>\n",
       "      <td>500000</td>\n",
       "      <td>...</td>\n",
       "      <td>10</td>\n",
       "      <td>28</td>\n",
       "      <td>1</td>\n",
       "      <td>a0c206bbd3d9e1bbcb0e8d7de45c2af8</td>\n",
       "      <td>f6b5aad0293a1956464d78db677677d8</td>\n",
       "      <td>0</td>\n",
       "      <td>0</td>\n",
       "      <td>0</td>\n",
       "      <td>0</td>\n",
       "      <td>Error, online session is not available. Please...</td>\n",
       "    </tr>\n",
       "    <tr>\n",
       "      <th>1</th>\n",
       "      <td>2019-09-25 04:00:46.710930</td>\n",
       "      <td>0d7f144d5f63b8b6d12aa8730ebdcd38</td>\n",
       "      <td>1ecd7abf6508c4973c9f1cd808545534</td>\n",
       "      <td>25.09.2019 08:00:47</td>\n",
       "      <td>25.09.2019 04:00:47</td>\n",
       "      <td>x</td>\n",
       "      <td>Mozilla%2F5.0+%28Linux%3B+Android+8.1.0%3B+ASU...</td>\n",
       "      <td>SITE</td>\n",
       "      <td>62</td>\n",
       "      <td>2000000</td>\n",
       "      <td>...</td>\n",
       "      <td>10</td>\n",
       "      <td>28</td>\n",
       "      <td>1</td>\n",
       "      <td>ae86f504a3f6219e625f01c118df3146</td>\n",
       "      <td>6ca9922c5e7cd7d092af069d9f06d9e1</td>\n",
       "      <td>0</td>\n",
       "      <td>0</td>\n",
       "      <td>0</td>\n",
       "      <td>0</td>\n",
       "      <td>Error, online session is not available. Please...</td>\n",
       "    </tr>\n",
       "    <tr>\n",
       "      <th>2</th>\n",
       "      <td>2019-09-25 04:01:34.980043</td>\n",
       "      <td>82eb330fd6ea654a92aefd63284d8ece</td>\n",
       "      <td>887efc10da697c53c83e512e2191ee3b</td>\n",
       "      <td>25.09.2019 09:36:02</td>\n",
       "      <td>25.09.2019 03:36:02</td>\n",
       "      <td>direct</td>\n",
       "      <td>Mozilla%2F5.0+%28Linux%3B+Android+5.1.1%3B+SM-...</td>\n",
       "      <td>SITE</td>\n",
       "      <td>7</td>\n",
       "      <td>5000</td>\n",
       "      <td>...</td>\n",
       "      <td>10</td>\n",
       "      <td>30</td>\n",
       "      <td>1</td>\n",
       "      <td>87902c485854f53d83381bce033c58f4</td>\n",
       "      <td>fdd2c11dd161872cfb9b097a88b095f1</td>\n",
       "      <td>1025091900000020</td>\n",
       "      <td></td>\n",
       "      <td>json</td>\n",
       "      <td>10ada66fdb6da8232c515fa4d7af3e3b</td>\n",
       "      <td>Error, online session is not available. Please...</td>\n",
       "    </tr>\n",
       "    <tr>\n",
       "      <th>3</th>\n",
       "      <td>2019-09-25 04:02:25.045196</td>\n",
       "      <td>981593d026c670a0d4af35b811119137</td>\n",
       "      <td>41d47720c6bc246c82f602f359b65cf2</td>\n",
       "      <td>25.09.2019 03:02:25</td>\n",
       "      <td>25.09.2019 04:02:25</td>\n",
       "      <td>url.com%2Fsecure%2Fregistration%2Fstep5</td>\n",
       "      <td>Mozilla%2F5.0+%28Windows+NT+5.1%29+AppleWebKit...</td>\n",
       "      <td>SITE</td>\n",
       "      <td>34</td>\n",
       "      <td>200</td>\n",
       "      <td>...</td>\n",
       "      <td>10</td>\n",
       "      <td>13</td>\n",
       "      <td>1</td>\n",
       "      <td>47c70c7ff14bbd0392c12f6f8d930e6d</td>\n",
       "      <td>8e4d5a01c570162738577fe9ed6480a8</td>\n",
       "      <td>2131983</td>\n",
       "      <td>Chrome+PDF+Viewer+%7C+Shockwave+Flash+%7C+Nati...</td>\n",
       "      <td>json</td>\n",
       "      <td>f1c9ea1bf3f59e447cd1d7429ce73f94</td>\n",
       "      <td>Error, online session is not available. Please...</td>\n",
       "    </tr>\n",
       "    <tr>\n",
       "      <th>4</th>\n",
       "      <td>2019-09-25 04:02:37.805390</td>\n",
       "      <td>0d7f144d5f63b8b6d12aa8730ebdcd38</td>\n",
       "      <td>8229c51a1933a9ee8e9d6a299df76851</td>\n",
       "      <td>25.09.2019 08:02:38</td>\n",
       "      <td>25.09.2019 04:02:38</td>\n",
       "      <td>x</td>\n",
       "      <td>Mozilla%2F5.0+%28Linux%3B+Android+8.1.0%3B+CPH...</td>\n",
       "      <td>SITE</td>\n",
       "      <td>62</td>\n",
       "      <td>500000</td>\n",
       "      <td>...</td>\n",
       "      <td>10</td>\n",
       "      <td>28</td>\n",
       "      <td>1</td>\n",
       "      <td>75eea68c21a3b1709c254a9dacf49ff0</td>\n",
       "      <td>0195e272da463f98387212c1def7fb45</td>\n",
       "      <td>0</td>\n",
       "      <td>0</td>\n",
       "      <td>0</td>\n",
       "      <td>0</td>\n",
       "      <td>Error, online session is not available. Please...</td>\n",
       "    </tr>\n",
       "  </tbody>\n",
       "</table>\n",
       "<p>5 rows × 23 columns</p>\n",
       "</div>"
      ],
      "text/plain": [
       "                     datetime                        account_id  \\\n",
       "0  2019-09-25 04:00:25.451360  0d7f144d5f63b8b6d12aa8730ebdcd38   \n",
       "1  2019-09-25 04:00:46.710930  0d7f144d5f63b8b6d12aa8730ebdcd38   \n",
       "2  2019-09-25 04:01:34.980043  82eb330fd6ea654a92aefd63284d8ece   \n",
       "3  2019-09-25 04:02:25.045196  981593d026c670a0d4af35b811119137   \n",
       "4  2019-09-25 04:02:37.805390  0d7f144d5f63b8b6d12aa8730ebdcd38   \n",
       "\n",
       "                          client_id           time_local            time_utc3  \\\n",
       "0  e2dcd5ca173fd47895fdad914992abb1  25.09.2019 08:00:25  25.09.2019 04:00:25   \n",
       "1  1ecd7abf6508c4973c9f1cd808545534  25.09.2019 08:00:47  25.09.2019 04:00:47   \n",
       "2  887efc10da697c53c83e512e2191ee3b  25.09.2019 09:36:02  25.09.2019 03:36:02   \n",
       "3  41d47720c6bc246c82f602f359b65cf2  25.09.2019 03:02:25  25.09.2019 04:02:25   \n",
       "4  8229c51a1933a9ee8e9d6a299df76851  25.09.2019 08:02:38  25.09.2019 04:02:38   \n",
       "\n",
       "                                  referrer  \\\n",
       "0                                        x   \n",
       "1                                        x   \n",
       "2                                   direct   \n",
       "3  url.com%2Fsecure%2Fregistration%2Fstep5   \n",
       "4                                        x   \n",
       "\n",
       "                                           useragent channel ph_country  \\\n",
       "0  Mozilla%2F5.0+%28Linux%3B+Android+6.0.1%3B+Red...    SITE         62   \n",
       "1  Mozilla%2F5.0+%28Linux%3B+Android+8.1.0%3B+ASU...    SITE         62   \n",
       "2  Mozilla%2F5.0+%28Linux%3B+Android+5.1.1%3B+SM-...    SITE          7   \n",
       "3  Mozilla%2F5.0+%28Windows+NT+5.1%29+AppleWebKit...    SITE         34   \n",
       "4  Mozilla%2F5.0+%28Linux%3B+Android+8.1.0%3B+CPH...    SITE         62   \n",
       "\n",
       "    amount  ... version tenor is_js                             phone  \\\n",
       "0   500000  ...      10    28     1  a0c206bbd3d9e1bbcb0e8d7de45c2af8   \n",
       "1  2000000  ...      10    28     1  ae86f504a3f6219e625f01c118df3146   \n",
       "2     5000  ...      10    30     1  87902c485854f53d83381bce033c58f4   \n",
       "3      200  ...      10    13     1  47c70c7ff14bbd0392c12f6f8d930e6d   \n",
       "4   500000  ...      10    28     1  75eea68c21a3b1709c254a9dacf49ff0   \n",
       "\n",
       "                               mail    application_id  \\\n",
       "0  f6b5aad0293a1956464d78db677677d8                 0   \n",
       "1  6ca9922c5e7cd7d092af069d9f06d9e1                 0   \n",
       "2  fdd2c11dd161872cfb9b097a88b095f1  1025091900000020   \n",
       "3  8e4d5a01c570162738577fe9ed6480a8           2131983   \n",
       "4  0195e272da463f98387212c1def7fb45                 0   \n",
       "\n",
       "                                             plugins response_content_type  \\\n",
       "0                                                  0                     0   \n",
       "1                                                  0                     0   \n",
       "2                                                                     json   \n",
       "3  Chrome+PDF+Viewer+%7C+Shockwave+Flash+%7C+Nati...                  json   \n",
       "4                                                  0                     0   \n",
       "\n",
       "                             cookie  \\\n",
       "0                                 0   \n",
       "1                                 0   \n",
       "2  10ada66fdb6da8232c515fa4d7af3e3b   \n",
       "3  f1c9ea1bf3f59e447cd1d7429ce73f94   \n",
       "4                                 0   \n",
       "\n",
       "                                               error  \n",
       "0  Error, online session is not available. Please...  \n",
       "1  Error, online session is not available. Please...  \n",
       "2  Error, online session is not available. Please...  \n",
       "3  Error, online session is not available. Please...  \n",
       "4  Error, online session is not available. Please...  \n",
       "\n",
       "[5 rows x 23 columns]"
      ]
     },
     "execution_count": 6,
     "metadata": {},
     "output_type": "execute_result"
    }
   ],
   "source": [
    "import pandas as pd\n",
    "df = pd.DataFrame(dict_df)\n",
    "df.head()"
   ]
  },
  {
   "cell_type": "code",
   "execution_count": 7,
   "metadata": {},
   "outputs": [],
   "source": [
    "df.to_csv('test.csv')"
   ]
  },
  {
   "cell_type": "code",
   "execution_count": 8,
   "metadata": {},
   "outputs": [
    {
     "data": {
      "text/html": [
       "<div>\n",
       "<style scoped>\n",
       "    .dataframe tbody tr th:only-of-type {\n",
       "        vertical-align: middle;\n",
       "    }\n",
       "\n",
       "    .dataframe tbody tr th {\n",
       "        vertical-align: top;\n",
       "    }\n",
       "\n",
       "    .dataframe thead th {\n",
       "        text-align: right;\n",
       "    }\n",
       "</style>\n",
       "<table border=\"1\" class=\"dataframe\">\n",
       "  <thead>\n",
       "    <tr style=\"text-align: right;\">\n",
       "      <th></th>\n",
       "      <th>datetime</th>\n",
       "      <th>account_id</th>\n",
       "      <th>client_id</th>\n",
       "      <th>time_local</th>\n",
       "      <th>time_utc3</th>\n",
       "      <th>referrer</th>\n",
       "      <th>useragent</th>\n",
       "      <th>channel</th>\n",
       "      <th>ph_country</th>\n",
       "      <th>amount</th>\n",
       "      <th>...</th>\n",
       "      <th>version</th>\n",
       "      <th>tenor</th>\n",
       "      <th>is_js</th>\n",
       "      <th>phone</th>\n",
       "      <th>mail</th>\n",
       "      <th>application_id</th>\n",
       "      <th>plugins</th>\n",
       "      <th>response_content_type</th>\n",
       "      <th>cookie</th>\n",
       "      <th>error</th>\n",
       "    </tr>\n",
       "  </thead>\n",
       "  <tbody>\n",
       "    <tr>\n",
       "      <th>count</th>\n",
       "      <td>3609</td>\n",
       "      <td>3609</td>\n",
       "      <td>3609</td>\n",
       "      <td>3609</td>\n",
       "      <td>3609</td>\n",
       "      <td>3609</td>\n",
       "      <td>3609</td>\n",
       "      <td>3609</td>\n",
       "      <td>3609</td>\n",
       "      <td>3609</td>\n",
       "      <td>...</td>\n",
       "      <td>3609</td>\n",
       "      <td>3609</td>\n",
       "      <td>3609</td>\n",
       "      <td>3609</td>\n",
       "      <td>3609</td>\n",
       "      <td>3609</td>\n",
       "      <td>3609</td>\n",
       "      <td>3609</td>\n",
       "      <td>3609</td>\n",
       "      <td>3609</td>\n",
       "    </tr>\n",
       "    <tr>\n",
       "      <th>unique</th>\n",
       "      <td>3609</td>\n",
       "      <td>31</td>\n",
       "      <td>2943</td>\n",
       "      <td>2741</td>\n",
       "      <td>3004</td>\n",
       "      <td>46</td>\n",
       "      <td>1669</td>\n",
       "      <td>3</td>\n",
       "      <td>9</td>\n",
       "      <td>148</td>\n",
       "      <td>...</td>\n",
       "      <td>3</td>\n",
       "      <td>54</td>\n",
       "      <td>3</td>\n",
       "      <td>2634</td>\n",
       "      <td>2427</td>\n",
       "      <td>948</td>\n",
       "      <td>19</td>\n",
       "      <td>2</td>\n",
       "      <td>1791</td>\n",
       "      <td>5</td>\n",
       "    </tr>\n",
       "    <tr>\n",
       "      <th>top</th>\n",
       "      <td>2019-09-25 21:38:55.187227</td>\n",
       "      <td>6aa2d1c23beef78ac3c3aaab479e3dee</td>\n",
       "      <td>9986fbbf948017411a215472a453beed</td>\n",
       "      <td>0</td>\n",
       "      <td>25.09.2019%2008:56:30</td>\n",
       "      <td></td>\n",
       "      <td>0</td>\n",
       "      <td>SITE</td>\n",
       "      <td>7</td>\n",
       "      <td>1000000</td>\n",
       "      <td>...</td>\n",
       "      <td>10</td>\n",
       "      <td>28</td>\n",
       "      <td>1</td>\n",
       "      <td>173bc561c01294279d74b9d665589924</td>\n",
       "      <td>0</td>\n",
       "      <td>0</td>\n",
       "      <td>0</td>\n",
       "      <td>json</td>\n",
       "      <td>0</td>\n",
       "      <td>Error, online session is not available. Please...</td>\n",
       "    </tr>\n",
       "    <tr>\n",
       "      <th>freq</th>\n",
       "      <td>1</td>\n",
       "      <td>802</td>\n",
       "      <td>8</td>\n",
       "      <td>201</td>\n",
       "      <td>57</td>\n",
       "      <td>1420</td>\n",
       "      <td>444</td>\n",
       "      <td>3547</td>\n",
       "      <td>2047</td>\n",
       "      <td>351</td>\n",
       "      <td>...</td>\n",
       "      <td>3179</td>\n",
       "      <td>784</td>\n",
       "      <td>3349</td>\n",
       "      <td>175</td>\n",
       "      <td>237</td>\n",
       "      <td>2653</td>\n",
       "      <td>2991</td>\n",
       "      <td>1989</td>\n",
       "      <td>1037</td>\n",
       "      <td>3308</td>\n",
       "    </tr>\n",
       "  </tbody>\n",
       "</table>\n",
       "<p>4 rows × 23 columns</p>\n",
       "</div>"
      ],
      "text/plain": [
       "                          datetime                        account_id  \\\n",
       "count                         3609                              3609   \n",
       "unique                        3609                                31   \n",
       "top     2019-09-25 21:38:55.187227  6aa2d1c23beef78ac3c3aaab479e3dee   \n",
       "freq                             1                               802   \n",
       "\n",
       "                               client_id  time_local              time_utc3  \\\n",
       "count                               3609        3609                   3609   \n",
       "unique                              2943        2741                   3004   \n",
       "top     9986fbbf948017411a215472a453beed           0  25.09.2019%2008:56:30   \n",
       "freq                                   8         201                     57   \n",
       "\n",
       "       referrer  useragent channel ph_country   amount  ...  version  tenor  \\\n",
       "count      3609       3609    3609       3609     3609  ...     3609   3609   \n",
       "unique       46       1669       3          9      148  ...        3     54   \n",
       "top                      0    SITE          7  1000000  ...       10     28   \n",
       "freq       1420        444    3547       2047      351  ...     3179    784   \n",
       "\n",
       "        is_js                             phone  mail application_id plugins  \\\n",
       "count    3609                              3609  3609           3609    3609   \n",
       "unique      3                              2634  2427            948      19   \n",
       "top         1  173bc561c01294279d74b9d665589924     0              0       0   \n",
       "freq     3349                               175   237           2653    2991   \n",
       "\n",
       "        response_content_type  cookie  \\\n",
       "count                    3609    3609   \n",
       "unique                      2    1791   \n",
       "top                      json       0   \n",
       "freq                     1989    1037   \n",
       "\n",
       "                                                    error  \n",
       "count                                                3609  \n",
       "unique                                                  5  \n",
       "top     Error, online session is not available. Please...  \n",
       "freq                                                 3308  \n",
       "\n",
       "[4 rows x 23 columns]"
      ]
     },
     "execution_count": 8,
     "metadata": {},
     "output_type": "execute_result"
    }
   ],
   "source": [
    "df.describe()"
   ]
  },
  {
   "cell_type": "code",
   "execution_count": 9,
   "metadata": {},
   "outputs": [
    {
     "data": {
      "text/plain": [
       "(3609, 23)"
      ]
     },
     "execution_count": 9,
     "metadata": {},
     "output_type": "execute_result"
    }
   ],
   "source": [
    "df.shape"
   ]
  },
  {
   "cell_type": "markdown",
   "metadata": {},
   "source": [
    "### Анализ данных"
   ]
  },
  {
   "cell_type": "code",
   "execution_count": 10,
   "metadata": {},
   "outputs": [],
   "source": [
    "import matplotlib.pyplot as plt\n",
    "import seaborn as sns\n",
    "%matplotlib inline"
   ]
  },
  {
   "cell_type": "markdown",
   "metadata": {},
   "source": [
    "<b>98,2% запросов через сайт, 1,6% через приложение"
   ]
  },
  {
   "cell_type": "code",
   "execution_count": 11,
   "metadata": {},
   "outputs": [],
   "source": [
    "df = pd.read_csv('test.csv', index_col='datetime', parse_dates=True)"
   ]
  },
  {
   "cell_type": "code",
   "execution_count": 12,
   "metadata": {
    "scrolled": true
   },
   "outputs": [
    {
     "data": {
      "text/plain": [
       "SITE         0.982821\n",
       "PHONE_APP    0.016625\n",
       "0            0.000554\n",
       "Name: channel, dtype: float64"
      ]
     },
     "execution_count": 12,
     "metadata": {},
     "output_type": "execute_result"
    }
   ],
   "source": [
    "df.channel.value_counts(normalize=True)"
   ]
  },
  {
   "cell_type": "markdown",
   "metadata": {},
   "source": [
    "<b>График количества запросов от времени"
   ]
  },
  {
   "cell_type": "code",
   "execution_count": 13,
   "metadata": {},
   "outputs": [
    {
     "data": {
      "image/png": "[encoded data removed]",
      "text/plain": [
       "<Figure size 432x288 with 1 Axes>"
      ]
     },
     "metadata": {
      "needs_background": "light"
     },
     "output_type": "display_data"
    }
   ],
   "source": [
    "plt.title('График количества запросов от времени дня', fontsize=16)\n",
    "plt.ylabel('количество', fontsize=14)\n",
    "df.resample('1h')['account_id'].count().plot();"
   ]
  },
  {
   "cell_type": "code",
   "execution_count": 14,
   "metadata": {},
   "outputs": [
    {
     "data": {
      "text/plain": [
       "array(['Error, online session is not available. Please, verify js/mobile library installation',\n",
       "       'Mandatory parameter time_utc3 is empty',\n",
       "       'Parameter time_utc3 is more then local server time > 65 min',\n",
       "       'Authentication failed',\n",
       "       \"5:'ascii' codec can't decode byte 0xd0 in position 0: ordinal not in range(128)\"],\n",
       "      dtype=object)"
      ]
     },
     "execution_count": 14,
     "metadata": {},
     "output_type": "execute_result"
    }
   ],
   "source": [
    "df.error.unique()"
   ]
  },
  {
   "cell_type": "code",
   "execution_count": 15,
   "metadata": {
    "scrolled": true
   },
   "outputs": [
    {
     "data": {
      "text/plain": [
       "Error, online session is not available. Please, verify js/mobile library installation    3308\n",
       "Authentication failed                                                                     295\n",
       "Parameter time_utc3 is more then local server time > 65 min                                 4\n",
       "5:'ascii' codec can't decode byte 0xd0 in position 0: ordinal not in range(128)             1\n",
       "Mandatory parameter time_utc3 is empty                                                      1\n",
       "Name: error, dtype: int64"
      ]
     },
     "execution_count": 15,
     "metadata": {},
     "output_type": "execute_result"
    }
   ],
   "source": [
    "df.error.value_counts()"
   ]
  },
  {
   "cell_type": "markdown",
   "metadata": {},
   "source": [
    "<b>У одного аккаунта 289 Authentication failed - фрод?"
   ]
  },
  {
   "cell_type": "code",
   "execution_count": 16,
   "metadata": {},
   "outputs": [
    {
     "data": {
      "text/plain": [
       "22d039994e86d6468bb8dbd4467c0b98    289\n",
       "123641d47167dcc5792126d813b5530f      4\n",
       "0                                     2\n",
       "Name: account_id, dtype: int64"
      ]
     },
     "execution_count": 16,
     "metadata": {},
     "output_type": "execute_result"
    }
   ],
   "source": [
    "df[df['error'] == 'Authentication failed']['account_id'].value_counts()"
   ]
  },
  {
   "cell_type": "code",
   "execution_count": 17,
   "metadata": {},
   "outputs": [
    {
     "data": {
      "image/png": "[encoded data removed]",
      "text/plain": [
       "<Figure size 432x288 with 1 Axes>"
      ]
     },
     "metadata": {
      "needs_background": "light"
     },
     "output_type": "display_data"
    }
   ],
   "source": [
    "plt.title('График количества Authentication failed', fontsize=16)\n",
    "plt.ylabel('количество', fontsize=14)\n",
    "df[df['error'] == 'Authentication failed'].resample('1h')['account_id'].count().plot();"
   ]
  },
  {
   "cell_type": "markdown",
   "metadata": {},
   "source": [
    "<b>Тип устройства пользователя"
   ]
  },
  {
   "cell_type": "code",
   "execution_count": 18,
   "metadata": {},
   "outputs": [],
   "source": [
    "def type_useragent(x):\n",
    "    if 'ANDROID' in x.upper():\n",
    "        return 'android'\n",
    "    if 'iPhone' in x:\n",
    "        return 'iPhone'\n",
    "    if 'Windows' in x:\n",
    "        return 'Windows'\n",
    "    if x == '0':\n",
    "        return '0'\n",
    "    return 'Other'   "
   ]
  },
  {
   "cell_type": "code",
   "execution_count": 19,
   "metadata": {},
   "outputs": [],
   "source": [
    "df['type_useragent'] = df.useragent.apply(type_useragent)"
   ]
  },
  {
   "cell_type": "code",
   "execution_count": 20,
   "metadata": {},
   "outputs": [
    {
     "data": {
      "text/plain": [
       "android    2197\n",
       "0           446\n",
       "Windows     360\n",
       "Other       306\n",
       "iPhone      300\n",
       "Name: type_useragent, dtype: int64"
      ]
     },
     "execution_count": 20,
     "metadata": {},
     "output_type": "execute_result"
    }
   ],
   "source": [
    "df.type_useragent.value_counts()"
   ]
  },
  {
   "cell_type": "code",
   "execution_count": 21,
   "metadata": {},
   "outputs": [
    {
     "data": {
      "image/png": "[encoded data removed]",
      "text/plain": [
       "<Figure size 432x288 with 1 Axes>"
      ]
     },
     "metadata": {
      "needs_background": "light"
     },
     "output_type": "display_data"
    }
   ],
   "source": [
    "plt.title('Тип устройства пользователя', fontsize=14)\n",
    "sns.countplot(df.type_useragent);"
   ]
  },
  {
   "cell_type": "markdown",
   "metadata": {},
   "source": [
    "<b> Распределение amount"
   ]
  },
  {
   "cell_type": "code",
   "execution_count": 22,
   "metadata": {},
   "outputs": [
    {
     "data": {
      "text/plain": [
       "<matplotlib.axes._subplots.AxesSubplot at 0x1a3567eebe0>"
      ]
     },
     "execution_count": 22,
     "metadata": {},
     "output_type": "execute_result"
    },
    {
     "data": {
      "image/png": "[encoded data removed]",
      "text/plain": [
       "<Figure size 432x288 with 1 Axes>"
      ]
     },
     "metadata": {
      "needs_background": "light"
     },
     "output_type": "display_data"
    }
   ],
   "source": [
    "df.amount.hist()"
   ]
  },
  {
   "cell_type": "code",
   "execution_count": 23,
   "metadata": {},
   "outputs": [
    {
     "data": {
      "image/png": "[encoded data removed]",
      "text/plain": [
       "<Figure size 432x288 with 2 Axes>"
      ]
     },
     "metadata": {
      "needs_background": "light"
     },
     "output_type": "display_data"
    }
   ],
   "source": [
    "sns.heatmap(df.corr(), cmap=\"YlGnBu\");"
   ]
  },
  {
   "cell_type": "code",
   "execution_count": 24,
   "metadata": {},
   "outputs": [
    {
     "data": {
      "image/png": "[encoded data removed]",
      "text/plain": [
       "<Figure size 432x288 with 1 Axes>"
      ]
     },
     "metadata": {
      "needs_background": "light"
     },
     "output_type": "display_data"
    }
   ],
   "source": [
    "sns.boxplot(x='type_useragent', y='amount', data=df);"
   ]
  },
  {
   "cell_type": "code",
   "execution_count": 25,
   "metadata": {},
   "outputs": [
    {
     "data": {
      "image/png": "[encoded data removed]",
      "text/plain": [
       "<Figure size 432x288 with 1 Axes>"
      ]
     },
     "metadata": {
      "needs_background": "light"
     },
     "output_type": "display_data"
    }
   ],
   "source": [
    "sns.boxplot(df['amount']);"
   ]
  }
 ],
 "metadata": {
  "kernelspec": {
   "display_name": "Python 3",
   "language": "python",
   "name": "python3"
  },
  "language_info": {
   "codemirror_mode": {
    "name": "ipython",
    "version": 3
   },
   "file_extension": ".py",
   "mimetype": "text/x-python",
   "name": "python",
   "nbconvert_exporter": "python",
   "pygments_lexer": "ipython3",
   "version": "3.7.6"
  }
 },
 "nbformat": 4,
 "nbformat_minor": 2
}
